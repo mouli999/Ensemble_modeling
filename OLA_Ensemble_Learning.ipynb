{
  "nbformat": 4,
  "nbformat_minor": 0,
  "metadata": {
    "colab": {
      "provenance": [],
      "collapsed_sections": [
        "cmOqX5msgeuz",
        "i34n0PiRgh3v",
        "hkYuKqkr9JdF"
      ],
      "toc_visible": true
    },
    "kernelspec": {
      "name": "python3",
      "display_name": "Python 3"
    },
    "language_info": {
      "name": "python"
    }
  },
  "cells": [
    {
      "cell_type": "code",
      "execution_count": null,
      "metadata": {
        "id": "LyPkIBpWKRY6"
      },
      "outputs": [],
      "source": [
        "import numpy as np\n",
        "import pandas as pd\n",
        "import matplotlib.pyplot as plt\n",
        "import seaborn as sns\n",
        "\n",
        "import warnings\n",
        "warnings.filterwarnings(\"ignore\")"
      ]
    },
    {
      "cell_type": "code",
      "source": [
        "pip install category_encoders"
      ],
      "metadata": {
        "colab": {
          "base_uri": "https://localhost:8080/"
        },
        "id": "h2EWAzmUNMFW",
        "outputId": "66f7434c-f9d4-4521-e8a8-41d71fb0e8a5"
      },
      "execution_count": null,
      "outputs": [
        {
          "output_type": "stream",
          "name": "stdout",
          "text": [
            "Looking in indexes: https://pypi.org/simple, https://us-python.pkg.dev/colab-wheels/public/simple/\n",
            "Collecting category_encoders\n",
            "  Downloading category_encoders-2.5.1.post0-py2.py3-none-any.whl (72 kB)\n",
            "\u001b[K     |████████████████████████████████| 72 kB 375 kB/s \n",
            "\u001b[?25hRequirement already satisfied: pandas>=1.0.5 in /usr/local/lib/python3.8/dist-packages (from category_encoders) (1.3.5)\n",
            "Requirement already satisfied: scikit-learn>=0.20.0 in /usr/local/lib/python3.8/dist-packages (from category_encoders) (1.0.2)\n",
            "Requirement already satisfied: scipy>=1.0.0 in /usr/local/lib/python3.8/dist-packages (from category_encoders) (1.7.3)\n",
            "Requirement already satisfied: numpy>=1.14.0 in /usr/local/lib/python3.8/dist-packages (from category_encoders) (1.21.6)\n",
            "Requirement already satisfied: patsy>=0.5.1 in /usr/local/lib/python3.8/dist-packages (from category_encoders) (0.5.3)\n",
            "Requirement already satisfied: statsmodels>=0.9.0 in /usr/local/lib/python3.8/dist-packages (from category_encoders) (0.12.2)\n",
            "Requirement already satisfied: pytz>=2017.3 in /usr/local/lib/python3.8/dist-packages (from pandas>=1.0.5->category_encoders) (2022.6)\n",
            "Requirement already satisfied: python-dateutil>=2.7.3 in /usr/local/lib/python3.8/dist-packages (from pandas>=1.0.5->category_encoders) (2.8.2)\n",
            "Requirement already satisfied: six in /usr/local/lib/python3.8/dist-packages (from patsy>=0.5.1->category_encoders) (1.15.0)\n",
            "Requirement already satisfied: joblib>=0.11 in /usr/local/lib/python3.8/dist-packages (from scikit-learn>=0.20.0->category_encoders) (1.2.0)\n",
            "Requirement already satisfied: threadpoolctl>=2.0.0 in /usr/local/lib/python3.8/dist-packages (from scikit-learn>=0.20.0->category_encoders) (3.1.0)\n",
            "Installing collected packages: category-encoders\n",
            "Successfully installed category-encoders-2.5.1.post0\n"
          ]
        }
      ]
    },
    {
      "cell_type": "code",
      "source": [
        "df1=pd.read_csv('https://d2beiqkhq929f0.cloudfront.net/public_assets/assets/000/002/492/original/ola_driver_scaler.csv')"
      ],
      "metadata": {
        "id": "2YCjFjAdN9uk"
      },
      "execution_count": null,
      "outputs": []
    },
    {
      "cell_type": "code",
      "source": [
        "df1"
      ],
      "metadata": {
        "colab": {
          "base_uri": "https://localhost:8080/",
          "height": 522
        },
        "id": "WDmnowrCOF4_",
        "outputId": "cc86f548-9c2b-4d5d-e215-3705bd38641d"
      },
      "execution_count": null,
      "outputs": [
        {
          "output_type": "execute_result",
          "data": {
            "text/plain": [
              "       Unnamed: 0    MMM-YY  Driver_ID   Age  Gender City  Education_Level  \\\n",
              "0               0  01/01/19          1  28.0     0.0  C23                2   \n",
              "1               1  02/01/19          1  28.0     0.0  C23                2   \n",
              "2               2  03/01/19          1  28.0     0.0  C23                2   \n",
              "3               3  11/01/20          2  31.0     0.0   C7                2   \n",
              "4               4  12/01/20          2  31.0     0.0   C7                2   \n",
              "...           ...       ...        ...   ...     ...  ...              ...   \n",
              "19099       19099  08/01/20       2788  30.0     0.0  C27                2   \n",
              "19100       19100  09/01/20       2788  30.0     0.0  C27                2   \n",
              "19101       19101  10/01/20       2788  30.0     0.0  C27                2   \n",
              "19102       19102  11/01/20       2788  30.0     0.0  C27                2   \n",
              "19103       19103  12/01/20       2788  30.0     0.0  C27                2   \n",
              "\n",
              "       Income Dateofjoining LastWorkingDate  Joining Designation  Grade  \\\n",
              "0       57387      24/12/18             NaN                    1      1   \n",
              "1       57387      24/12/18             NaN                    1      1   \n",
              "2       57387      24/12/18        03/11/19                    1      1   \n",
              "3       67016      11/06/20             NaN                    2      2   \n",
              "4       67016      11/06/20             NaN                    2      2   \n",
              "...       ...           ...             ...                  ...    ...   \n",
              "19099   70254      06/08/20             NaN                    2      2   \n",
              "19100   70254      06/08/20             NaN                    2      2   \n",
              "19101   70254      06/08/20             NaN                    2      2   \n",
              "19102   70254      06/08/20             NaN                    2      2   \n",
              "19103   70254      06/08/20             NaN                    2      2   \n",
              "\n",
              "       Total Business Value  Quarterly Rating  \n",
              "0                   2381060                 2  \n",
              "1                   -665480                 2  \n",
              "2                         0                 2  \n",
              "3                         0                 1  \n",
              "4                         0                 1  \n",
              "...                     ...               ...  \n",
              "19099                740280                 3  \n",
              "19100                448370                 3  \n",
              "19101                     0                 2  \n",
              "19102                200420                 2  \n",
              "19103                411480                 2  \n",
              "\n",
              "[19104 rows x 14 columns]"
            ],
            "text/html": [
              "\n",
              "  <div id=\"df-7dc52b6f-6714-4c9b-a7b1-72a29b8ad8ba\">\n",
              "    <div class=\"colab-df-container\">\n",
              "      <div>\n",
              "<style scoped>\n",
              "    .dataframe tbody tr th:only-of-type {\n",
              "        vertical-align: middle;\n",
              "    }\n",
              "\n",
              "    .dataframe tbody tr th {\n",
              "        vertical-align: top;\n",
              "    }\n",
              "\n",
              "    .dataframe thead th {\n",
              "        text-align: right;\n",
              "    }\n",
              "</style>\n",
              "<table border=\"1\" class=\"dataframe\">\n",
              "  <thead>\n",
              "    <tr style=\"text-align: right;\">\n",
              "      <th></th>\n",
              "      <th>Unnamed: 0</th>\n",
              "      <th>MMM-YY</th>\n",
              "      <th>Driver_ID</th>\n",
              "      <th>Age</th>\n",
              "      <th>Gender</th>\n",
              "      <th>City</th>\n",
              "      <th>Education_Level</th>\n",
              "      <th>Income</th>\n",
              "      <th>Dateofjoining</th>\n",
              "      <th>LastWorkingDate</th>\n",
              "      <th>Joining Designation</th>\n",
              "      <th>Grade</th>\n",
              "      <th>Total Business Value</th>\n",
              "      <th>Quarterly Rating</th>\n",
              "    </tr>\n",
              "  </thead>\n",
              "  <tbody>\n",
              "    <tr>\n",
              "      <th>0</th>\n",
              "      <td>0</td>\n",
              "      <td>01/01/19</td>\n",
              "      <td>1</td>\n",
              "      <td>28.0</td>\n",
              "      <td>0.0</td>\n",
              "      <td>C23</td>\n",
              "      <td>2</td>\n",
              "      <td>57387</td>\n",
              "      <td>24/12/18</td>\n",
              "      <td>NaN</td>\n",
              "      <td>1</td>\n",
              "      <td>1</td>\n",
              "      <td>2381060</td>\n",
              "      <td>2</td>\n",
              "    </tr>\n",
              "    <tr>\n",
              "      <th>1</th>\n",
              "      <td>1</td>\n",
              "      <td>02/01/19</td>\n",
              "      <td>1</td>\n",
              "      <td>28.0</td>\n",
              "      <td>0.0</td>\n",
              "      <td>C23</td>\n",
              "      <td>2</td>\n",
              "      <td>57387</td>\n",
              "      <td>24/12/18</td>\n",
              "      <td>NaN</td>\n",
              "      <td>1</td>\n",
              "      <td>1</td>\n",
              "      <td>-665480</td>\n",
              "      <td>2</td>\n",
              "    </tr>\n",
              "    <tr>\n",
              "      <th>2</th>\n",
              "      <td>2</td>\n",
              "      <td>03/01/19</td>\n",
              "      <td>1</td>\n",
              "      <td>28.0</td>\n",
              "      <td>0.0</td>\n",
              "      <td>C23</td>\n",
              "      <td>2</td>\n",
              "      <td>57387</td>\n",
              "      <td>24/12/18</td>\n",
              "      <td>03/11/19</td>\n",
              "      <td>1</td>\n",
              "      <td>1</td>\n",
              "      <td>0</td>\n",
              "      <td>2</td>\n",
              "    </tr>\n",
              "    <tr>\n",
              "      <th>3</th>\n",
              "      <td>3</td>\n",
              "      <td>11/01/20</td>\n",
              "      <td>2</td>\n",
              "      <td>31.0</td>\n",
              "      <td>0.0</td>\n",
              "      <td>C7</td>\n",
              "      <td>2</td>\n",
              "      <td>67016</td>\n",
              "      <td>11/06/20</td>\n",
              "      <td>NaN</td>\n",
              "      <td>2</td>\n",
              "      <td>2</td>\n",
              "      <td>0</td>\n",
              "      <td>1</td>\n",
              "    </tr>\n",
              "    <tr>\n",
              "      <th>4</th>\n",
              "      <td>4</td>\n",
              "      <td>12/01/20</td>\n",
              "      <td>2</td>\n",
              "      <td>31.0</td>\n",
              "      <td>0.0</td>\n",
              "      <td>C7</td>\n",
              "      <td>2</td>\n",
              "      <td>67016</td>\n",
              "      <td>11/06/20</td>\n",
              "      <td>NaN</td>\n",
              "      <td>2</td>\n",
              "      <td>2</td>\n",
              "      <td>0</td>\n",
              "      <td>1</td>\n",
              "    </tr>\n",
              "    <tr>\n",
              "      <th>...</th>\n",
              "      <td>...</td>\n",
              "      <td>...</td>\n",
              "      <td>...</td>\n",
              "      <td>...</td>\n",
              "      <td>...</td>\n",
              "      <td>...</td>\n",
              "      <td>...</td>\n",
              "      <td>...</td>\n",
              "      <td>...</td>\n",
              "      <td>...</td>\n",
              "      <td>...</td>\n",
              "      <td>...</td>\n",
              "      <td>...</td>\n",
              "      <td>...</td>\n",
              "    </tr>\n",
              "    <tr>\n",
              "      <th>19099</th>\n",
              "      <td>19099</td>\n",
              "      <td>08/01/20</td>\n",
              "      <td>2788</td>\n",
              "      <td>30.0</td>\n",
              "      <td>0.0</td>\n",
              "      <td>C27</td>\n",
              "      <td>2</td>\n",
              "      <td>70254</td>\n",
              "      <td>06/08/20</td>\n",
              "      <td>NaN</td>\n",
              "      <td>2</td>\n",
              "      <td>2</td>\n",
              "      <td>740280</td>\n",
              "      <td>3</td>\n",
              "    </tr>\n",
              "    <tr>\n",
              "      <th>19100</th>\n",
              "      <td>19100</td>\n",
              "      <td>09/01/20</td>\n",
              "      <td>2788</td>\n",
              "      <td>30.0</td>\n",
              "      <td>0.0</td>\n",
              "      <td>C27</td>\n",
              "      <td>2</td>\n",
              "      <td>70254</td>\n",
              "      <td>06/08/20</td>\n",
              "      <td>NaN</td>\n",
              "      <td>2</td>\n",
              "      <td>2</td>\n",
              "      <td>448370</td>\n",
              "      <td>3</td>\n",
              "    </tr>\n",
              "    <tr>\n",
              "      <th>19101</th>\n",
              "      <td>19101</td>\n",
              "      <td>10/01/20</td>\n",
              "      <td>2788</td>\n",
              "      <td>30.0</td>\n",
              "      <td>0.0</td>\n",
              "      <td>C27</td>\n",
              "      <td>2</td>\n",
              "      <td>70254</td>\n",
              "      <td>06/08/20</td>\n",
              "      <td>NaN</td>\n",
              "      <td>2</td>\n",
              "      <td>2</td>\n",
              "      <td>0</td>\n",
              "      <td>2</td>\n",
              "    </tr>\n",
              "    <tr>\n",
              "      <th>19102</th>\n",
              "      <td>19102</td>\n",
              "      <td>11/01/20</td>\n",
              "      <td>2788</td>\n",
              "      <td>30.0</td>\n",
              "      <td>0.0</td>\n",
              "      <td>C27</td>\n",
              "      <td>2</td>\n",
              "      <td>70254</td>\n",
              "      <td>06/08/20</td>\n",
              "      <td>NaN</td>\n",
              "      <td>2</td>\n",
              "      <td>2</td>\n",
              "      <td>200420</td>\n",
              "      <td>2</td>\n",
              "    </tr>\n",
              "    <tr>\n",
              "      <th>19103</th>\n",
              "      <td>19103</td>\n",
              "      <td>12/01/20</td>\n",
              "      <td>2788</td>\n",
              "      <td>30.0</td>\n",
              "      <td>0.0</td>\n",
              "      <td>C27</td>\n",
              "      <td>2</td>\n",
              "      <td>70254</td>\n",
              "      <td>06/08/20</td>\n",
              "      <td>NaN</td>\n",
              "      <td>2</td>\n",
              "      <td>2</td>\n",
              "      <td>411480</td>\n",
              "      <td>2</td>\n",
              "    </tr>\n",
              "  </tbody>\n",
              "</table>\n",
              "<p>19104 rows × 14 columns</p>\n",
              "</div>\n",
              "      <button class=\"colab-df-convert\" onclick=\"convertToInteractive('df-7dc52b6f-6714-4c9b-a7b1-72a29b8ad8ba')\"\n",
              "              title=\"Convert this dataframe to an interactive table.\"\n",
              "              style=\"display:none;\">\n",
              "        \n",
              "  <svg xmlns=\"http://www.w3.org/2000/svg\" height=\"24px\"viewBox=\"0 0 24 24\"\n",
              "       width=\"24px\">\n",
              "    <path d=\"M0 0h24v24H0V0z\" fill=\"none\"/>\n",
              "    <path d=\"M18.56 5.44l.94 2.06.94-2.06 2.06-.94-2.06-.94-.94-2.06-.94 2.06-2.06.94zm-11 1L8.5 8.5l.94-2.06 2.06-.94-2.06-.94L8.5 2.5l-.94 2.06-2.06.94zm10 10l.94 2.06.94-2.06 2.06-.94-2.06-.94-.94-2.06-.94 2.06-2.06.94z\"/><path d=\"M17.41 7.96l-1.37-1.37c-.4-.4-.92-.59-1.43-.59-.52 0-1.04.2-1.43.59L10.3 9.45l-7.72 7.72c-.78.78-.78 2.05 0 2.83L4 21.41c.39.39.9.59 1.41.59.51 0 1.02-.2 1.41-.59l7.78-7.78 2.81-2.81c.8-.78.8-2.07 0-2.86zM5.41 20L4 18.59l7.72-7.72 1.47 1.35L5.41 20z\"/>\n",
              "  </svg>\n",
              "      </button>\n",
              "      \n",
              "  <style>\n",
              "    .colab-df-container {\n",
              "      display:flex;\n",
              "      flex-wrap:wrap;\n",
              "      gap: 12px;\n",
              "    }\n",
              "\n",
              "    .colab-df-convert {\n",
              "      background-color: #E8F0FE;\n",
              "      border: none;\n",
              "      border-radius: 50%;\n",
              "      cursor: pointer;\n",
              "      display: none;\n",
              "      fill: #1967D2;\n",
              "      height: 32px;\n",
              "      padding: 0 0 0 0;\n",
              "      width: 32px;\n",
              "    }\n",
              "\n",
              "    .colab-df-convert:hover {\n",
              "      background-color: #E2EBFA;\n",
              "      box-shadow: 0px 1px 2px rgba(60, 64, 67, 0.3), 0px 1px 3px 1px rgba(60, 64, 67, 0.15);\n",
              "      fill: #174EA6;\n",
              "    }\n",
              "\n",
              "    [theme=dark] .colab-df-convert {\n",
              "      background-color: #3B4455;\n",
              "      fill: #D2E3FC;\n",
              "    }\n",
              "\n",
              "    [theme=dark] .colab-df-convert:hover {\n",
              "      background-color: #434B5C;\n",
              "      box-shadow: 0px 1px 3px 1px rgba(0, 0, 0, 0.15);\n",
              "      filter: drop-shadow(0px 1px 2px rgba(0, 0, 0, 0.3));\n",
              "      fill: #FFFFFF;\n",
              "    }\n",
              "  </style>\n",
              "\n",
              "      <script>\n",
              "        const buttonEl =\n",
              "          document.querySelector('#df-7dc52b6f-6714-4c9b-a7b1-72a29b8ad8ba button.colab-df-convert');\n",
              "        buttonEl.style.display =\n",
              "          google.colab.kernel.accessAllowed ? 'block' : 'none';\n",
              "\n",
              "        async function convertToInteractive(key) {\n",
              "          const element = document.querySelector('#df-7dc52b6f-6714-4c9b-a7b1-72a29b8ad8ba');\n",
              "          const dataTable =\n",
              "            await google.colab.kernel.invokeFunction('convertToInteractive',\n",
              "                                                     [key], {});\n",
              "          if (!dataTable) return;\n",
              "\n",
              "          const docLinkHtml = 'Like what you see? Visit the ' +\n",
              "            '<a target=\"_blank\" href=https://colab.research.google.com/notebooks/data_table.ipynb>data table notebook</a>'\n",
              "            + ' to learn more about interactive tables.';\n",
              "          element.innerHTML = '';\n",
              "          dataTable['output_type'] = 'display_data';\n",
              "          await google.colab.output.renderOutput(dataTable, element);\n",
              "          const docLink = document.createElement('div');\n",
              "          docLink.innerHTML = docLinkHtml;\n",
              "          element.appendChild(docLink);\n",
              "        }\n",
              "      </script>\n",
              "    </div>\n",
              "  </div>\n",
              "  "
            ]
          },
          "metadata": {},
          "execution_count": 4
        }
      ]
    },
    {
      "cell_type": "code",
      "source": [
        "df2=df1.drop(df1.columns[[0]],axis=1)      #To drop the column"
      ],
      "metadata": {
        "id": "JGCKlkgRReFh"
      },
      "execution_count": null,
      "outputs": []
    },
    {
      "cell_type": "code",
      "source": [
        "df2"
      ],
      "metadata": {
        "colab": {
          "base_uri": "https://localhost:8080/",
          "height": 522
        },
        "id": "V8xnWJ6iQp_T",
        "outputId": "4345f073-2156-401c-c4e2-ae75ef7151fe"
      },
      "execution_count": null,
      "outputs": [
        {
          "output_type": "execute_result",
          "data": {
            "text/plain": [
              "         MMM-YY  Driver_ID   Age  Gender City  Education_Level  Income  \\\n",
              "0      01/01/19          1  28.0     0.0  C23                2   57387   \n",
              "1      02/01/19          1  28.0     0.0  C23                2   57387   \n",
              "2      03/01/19          1  28.0     0.0  C23                2   57387   \n",
              "3      11/01/20          2  31.0     0.0   C7                2   67016   \n",
              "4      12/01/20          2  31.0     0.0   C7                2   67016   \n",
              "...         ...        ...   ...     ...  ...              ...     ...   \n",
              "19099  08/01/20       2788  30.0     0.0  C27                2   70254   \n",
              "19100  09/01/20       2788  30.0     0.0  C27                2   70254   \n",
              "19101  10/01/20       2788  30.0     0.0  C27                2   70254   \n",
              "19102  11/01/20       2788  30.0     0.0  C27                2   70254   \n",
              "19103  12/01/20       2788  30.0     0.0  C27                2   70254   \n",
              "\n",
              "      Dateofjoining LastWorkingDate  Joining Designation  Grade  \\\n",
              "0          24/12/18             NaN                    1      1   \n",
              "1          24/12/18             NaN                    1      1   \n",
              "2          24/12/18        03/11/19                    1      1   \n",
              "3          11/06/20             NaN                    2      2   \n",
              "4          11/06/20             NaN                    2      2   \n",
              "...             ...             ...                  ...    ...   \n",
              "19099      06/08/20             NaN                    2      2   \n",
              "19100      06/08/20             NaN                    2      2   \n",
              "19101      06/08/20             NaN                    2      2   \n",
              "19102      06/08/20             NaN                    2      2   \n",
              "19103      06/08/20             NaN                    2      2   \n",
              "\n",
              "       Total Business Value  Quarterly Rating  \n",
              "0                   2381060                 2  \n",
              "1                   -665480                 2  \n",
              "2                         0                 2  \n",
              "3                         0                 1  \n",
              "4                         0                 1  \n",
              "...                     ...               ...  \n",
              "19099                740280                 3  \n",
              "19100                448370                 3  \n",
              "19101                     0                 2  \n",
              "19102                200420                 2  \n",
              "19103                411480                 2  \n",
              "\n",
              "[19104 rows x 13 columns]"
            ],
            "text/html": [
              "\n",
              "  <div id=\"df-7735c177-a010-4392-b992-58a5f55270a3\">\n",
              "    <div class=\"colab-df-container\">\n",
              "      <div>\n",
              "<style scoped>\n",
              "    .dataframe tbody tr th:only-of-type {\n",
              "        vertical-align: middle;\n",
              "    }\n",
              "\n",
              "    .dataframe tbody tr th {\n",
              "        vertical-align: top;\n",
              "    }\n",
              "\n",
              "    .dataframe thead th {\n",
              "        text-align: right;\n",
              "    }\n",
              "</style>\n",
              "<table border=\"1\" class=\"dataframe\">\n",
              "  <thead>\n",
              "    <tr style=\"text-align: right;\">\n",
              "      <th></th>\n",
              "      <th>MMM-YY</th>\n",
              "      <th>Driver_ID</th>\n",
              "      <th>Age</th>\n",
              "      <th>Gender</th>\n",
              "      <th>City</th>\n",
              "      <th>Education_Level</th>\n",
              "      <th>Income</th>\n",
              "      <th>Dateofjoining</th>\n",
              "      <th>LastWorkingDate</th>\n",
              "      <th>Joining Designation</th>\n",
              "      <th>Grade</th>\n",
              "      <th>Total Business Value</th>\n",
              "      <th>Quarterly Rating</th>\n",
              "    </tr>\n",
              "  </thead>\n",
              "  <tbody>\n",
              "    <tr>\n",
              "      <th>0</th>\n",
              "      <td>01/01/19</td>\n",
              "      <td>1</td>\n",
              "      <td>28.0</td>\n",
              "      <td>0.0</td>\n",
              "      <td>C23</td>\n",
              "      <td>2</td>\n",
              "      <td>57387</td>\n",
              "      <td>24/12/18</td>\n",
              "      <td>NaN</td>\n",
              "      <td>1</td>\n",
              "      <td>1</td>\n",
              "      <td>2381060</td>\n",
              "      <td>2</td>\n",
              "    </tr>\n",
              "    <tr>\n",
              "      <th>1</th>\n",
              "      <td>02/01/19</td>\n",
              "      <td>1</td>\n",
              "      <td>28.0</td>\n",
              "      <td>0.0</td>\n",
              "      <td>C23</td>\n",
              "      <td>2</td>\n",
              "      <td>57387</td>\n",
              "      <td>24/12/18</td>\n",
              "      <td>NaN</td>\n",
              "      <td>1</td>\n",
              "      <td>1</td>\n",
              "      <td>-665480</td>\n",
              "      <td>2</td>\n",
              "    </tr>\n",
              "    <tr>\n",
              "      <th>2</th>\n",
              "      <td>03/01/19</td>\n",
              "      <td>1</td>\n",
              "      <td>28.0</td>\n",
              "      <td>0.0</td>\n",
              "      <td>C23</td>\n",
              "      <td>2</td>\n",
              "      <td>57387</td>\n",
              "      <td>24/12/18</td>\n",
              "      <td>03/11/19</td>\n",
              "      <td>1</td>\n",
              "      <td>1</td>\n",
              "      <td>0</td>\n",
              "      <td>2</td>\n",
              "    </tr>\n",
              "    <tr>\n",
              "      <th>3</th>\n",
              "      <td>11/01/20</td>\n",
              "      <td>2</td>\n",
              "      <td>31.0</td>\n",
              "      <td>0.0</td>\n",
              "      <td>C7</td>\n",
              "      <td>2</td>\n",
              "      <td>67016</td>\n",
              "      <td>11/06/20</td>\n",
              "      <td>NaN</td>\n",
              "      <td>2</td>\n",
              "      <td>2</td>\n",
              "      <td>0</td>\n",
              "      <td>1</td>\n",
              "    </tr>\n",
              "    <tr>\n",
              "      <th>4</th>\n",
              "      <td>12/01/20</td>\n",
              "      <td>2</td>\n",
              "      <td>31.0</td>\n",
              "      <td>0.0</td>\n",
              "      <td>C7</td>\n",
              "      <td>2</td>\n",
              "      <td>67016</td>\n",
              "      <td>11/06/20</td>\n",
              "      <td>NaN</td>\n",
              "      <td>2</td>\n",
              "      <td>2</td>\n",
              "      <td>0</td>\n",
              "      <td>1</td>\n",
              "    </tr>\n",
              "    <tr>\n",
              "      <th>...</th>\n",
              "      <td>...</td>\n",
              "      <td>...</td>\n",
              "      <td>...</td>\n",
              "      <td>...</td>\n",
              "      <td>...</td>\n",
              "      <td>...</td>\n",
              "      <td>...</td>\n",
              "      <td>...</td>\n",
              "      <td>...</td>\n",
              "      <td>...</td>\n",
              "      <td>...</td>\n",
              "      <td>...</td>\n",
              "      <td>...</td>\n",
              "    </tr>\n",
              "    <tr>\n",
              "      <th>19099</th>\n",
              "      <td>08/01/20</td>\n",
              "      <td>2788</td>\n",
              "      <td>30.0</td>\n",
              "      <td>0.0</td>\n",
              "      <td>C27</td>\n",
              "      <td>2</td>\n",
              "      <td>70254</td>\n",
              "      <td>06/08/20</td>\n",
              "      <td>NaN</td>\n",
              "      <td>2</td>\n",
              "      <td>2</td>\n",
              "      <td>740280</td>\n",
              "      <td>3</td>\n",
              "    </tr>\n",
              "    <tr>\n",
              "      <th>19100</th>\n",
              "      <td>09/01/20</td>\n",
              "      <td>2788</td>\n",
              "      <td>30.0</td>\n",
              "      <td>0.0</td>\n",
              "      <td>C27</td>\n",
              "      <td>2</td>\n",
              "      <td>70254</td>\n",
              "      <td>06/08/20</td>\n",
              "      <td>NaN</td>\n",
              "      <td>2</td>\n",
              "      <td>2</td>\n",
              "      <td>448370</td>\n",
              "      <td>3</td>\n",
              "    </tr>\n",
              "    <tr>\n",
              "      <th>19101</th>\n",
              "      <td>10/01/20</td>\n",
              "      <td>2788</td>\n",
              "      <td>30.0</td>\n",
              "      <td>0.0</td>\n",
              "      <td>C27</td>\n",
              "      <td>2</td>\n",
              "      <td>70254</td>\n",
              "      <td>06/08/20</td>\n",
              "      <td>NaN</td>\n",
              "      <td>2</td>\n",
              "      <td>2</td>\n",
              "      <td>0</td>\n",
              "      <td>2</td>\n",
              "    </tr>\n",
              "    <tr>\n",
              "      <th>19102</th>\n",
              "      <td>11/01/20</td>\n",
              "      <td>2788</td>\n",
              "      <td>30.0</td>\n",
              "      <td>0.0</td>\n",
              "      <td>C27</td>\n",
              "      <td>2</td>\n",
              "      <td>70254</td>\n",
              "      <td>06/08/20</td>\n",
              "      <td>NaN</td>\n",
              "      <td>2</td>\n",
              "      <td>2</td>\n",
              "      <td>200420</td>\n",
              "      <td>2</td>\n",
              "    </tr>\n",
              "    <tr>\n",
              "      <th>19103</th>\n",
              "      <td>12/01/20</td>\n",
              "      <td>2788</td>\n",
              "      <td>30.0</td>\n",
              "      <td>0.0</td>\n",
              "      <td>C27</td>\n",
              "      <td>2</td>\n",
              "      <td>70254</td>\n",
              "      <td>06/08/20</td>\n",
              "      <td>NaN</td>\n",
              "      <td>2</td>\n",
              "      <td>2</td>\n",
              "      <td>411480</td>\n",
              "      <td>2</td>\n",
              "    </tr>\n",
              "  </tbody>\n",
              "</table>\n",
              "<p>19104 rows × 13 columns</p>\n",
              "</div>\n",
              "      <button class=\"colab-df-convert\" onclick=\"convertToInteractive('df-7735c177-a010-4392-b992-58a5f55270a3')\"\n",
              "              title=\"Convert this dataframe to an interactive table.\"\n",
              "              style=\"display:none;\">\n",
              "        \n",
              "  <svg xmlns=\"http://www.w3.org/2000/svg\" height=\"24px\"viewBox=\"0 0 24 24\"\n",
              "       width=\"24px\">\n",
              "    <path d=\"M0 0h24v24H0V0z\" fill=\"none\"/>\n",
              "    <path d=\"M18.56 5.44l.94 2.06.94-2.06 2.06-.94-2.06-.94-.94-2.06-.94 2.06-2.06.94zm-11 1L8.5 8.5l.94-2.06 2.06-.94-2.06-.94L8.5 2.5l-.94 2.06-2.06.94zm10 10l.94 2.06.94-2.06 2.06-.94-2.06-.94-.94-2.06-.94 2.06-2.06.94z\"/><path d=\"M17.41 7.96l-1.37-1.37c-.4-.4-.92-.59-1.43-.59-.52 0-1.04.2-1.43.59L10.3 9.45l-7.72 7.72c-.78.78-.78 2.05 0 2.83L4 21.41c.39.39.9.59 1.41.59.51 0 1.02-.2 1.41-.59l7.78-7.78 2.81-2.81c.8-.78.8-2.07 0-2.86zM5.41 20L4 18.59l7.72-7.72 1.47 1.35L5.41 20z\"/>\n",
              "  </svg>\n",
              "      </button>\n",
              "      \n",
              "  <style>\n",
              "    .colab-df-container {\n",
              "      display:flex;\n",
              "      flex-wrap:wrap;\n",
              "      gap: 12px;\n",
              "    }\n",
              "\n",
              "    .colab-df-convert {\n",
              "      background-color: #E8F0FE;\n",
              "      border: none;\n",
              "      border-radius: 50%;\n",
              "      cursor: pointer;\n",
              "      display: none;\n",
              "      fill: #1967D2;\n",
              "      height: 32px;\n",
              "      padding: 0 0 0 0;\n",
              "      width: 32px;\n",
              "    }\n",
              "\n",
              "    .colab-df-convert:hover {\n",
              "      background-color: #E2EBFA;\n",
              "      box-shadow: 0px 1px 2px rgba(60, 64, 67, 0.3), 0px 1px 3px 1px rgba(60, 64, 67, 0.15);\n",
              "      fill: #174EA6;\n",
              "    }\n",
              "\n",
              "    [theme=dark] .colab-df-convert {\n",
              "      background-color: #3B4455;\n",
              "      fill: #D2E3FC;\n",
              "    }\n",
              "\n",
              "    [theme=dark] .colab-df-convert:hover {\n",
              "      background-color: #434B5C;\n",
              "      box-shadow: 0px 1px 3px 1px rgba(0, 0, 0, 0.15);\n",
              "      filter: drop-shadow(0px 1px 2px rgba(0, 0, 0, 0.3));\n",
              "      fill: #FFFFFF;\n",
              "    }\n",
              "  </style>\n",
              "\n",
              "      <script>\n",
              "        const buttonEl =\n",
              "          document.querySelector('#df-7735c177-a010-4392-b992-58a5f55270a3 button.colab-df-convert');\n",
              "        buttonEl.style.display =\n",
              "          google.colab.kernel.accessAllowed ? 'block' : 'none';\n",
              "\n",
              "        async function convertToInteractive(key) {\n",
              "          const element = document.querySelector('#df-7735c177-a010-4392-b992-58a5f55270a3');\n",
              "          const dataTable =\n",
              "            await google.colab.kernel.invokeFunction('convertToInteractive',\n",
              "                                                     [key], {});\n",
              "          if (!dataTable) return;\n",
              "\n",
              "          const docLinkHtml = 'Like what you see? Visit the ' +\n",
              "            '<a target=\"_blank\" href=https://colab.research.google.com/notebooks/data_table.ipynb>data table notebook</a>'\n",
              "            + ' to learn more about interactive tables.';\n",
              "          element.innerHTML = '';\n",
              "          dataTable['output_type'] = 'display_data';\n",
              "          await google.colab.output.renderOutput(dataTable, element);\n",
              "          const docLink = document.createElement('div');\n",
              "          docLink.innerHTML = docLinkHtml;\n",
              "          element.appendChild(docLink);\n",
              "        }\n",
              "      </script>\n",
              "    </div>\n",
              "  </div>\n",
              "  "
            ]
          },
          "metadata": {},
          "execution_count": 6
        }
      ]
    },
    {
      "cell_type": "code",
      "source": [
        "df2['MMM-YY'].unique()"
      ],
      "metadata": {
        "colab": {
          "base_uri": "https://localhost:8080/"
        },
        "id": "7vE_POoXe20c",
        "outputId": "b2b74ec9-9685-4712-c67a-eefcd70b2116"
      },
      "execution_count": null,
      "outputs": [
        {
          "output_type": "execute_result",
          "data": {
            "text/plain": [
              "array(['01/01/19', '02/01/19', '03/01/19', '11/01/20', '12/01/20',\n",
              "       '12/01/19', '01/01/20', '02/01/20', '03/01/20', '04/01/20',\n",
              "       '08/01/20', '09/01/20', '10/01/20', '07/01/19', '08/01/19',\n",
              "       '09/01/19', '10/01/19', '11/01/19', '04/01/19', '05/01/19',\n",
              "       '06/01/19', '05/01/20', '06/01/20', '07/01/20'], dtype=object)"
            ]
          },
          "metadata": {},
          "execution_count": 7
        }
      ]
    },
    {
      "cell_type": "markdown",
      "source": [
        "#Problem statement and EDA"
      ],
      "metadata": {
        "id": "niW1pRkzS71e"
      }
    },
    {
      "cell_type": "markdown",
      "source": [
        "## Problem statement"
      ],
      "metadata": {
        "id": "aGVasA9DS18q"
      }
    },
    {
      "cell_type": "markdown",
      "source": [
        "The drivers are leaving the company or stopping their services will lead to sudden decrement in the company revenue and company is also unable to serve their customers properly. This leads to lose of customer trust which actually impacts the company activities and growth.\n",
        "So, it is important to find out the employees churn rate or predicting who will stay and leave will actually help the company to look for new resources and to plan accordingly for their sustainability."
      ],
      "metadata": {
        "id": "I3d1lZVHUDKg"
      }
    },
    {
      "cell_type": "markdown",
      "source": [
        "##Observations and shape of Data"
      ],
      "metadata": {
        "id": "zG18rzbDgK2R"
      }
    },
    {
      "cell_type": "code",
      "source": [
        "df2.shape"
      ],
      "metadata": {
        "colab": {
          "base_uri": "https://localhost:8080/"
        },
        "id": "wNoGcoZ-Q4fV",
        "outputId": "c03ab8bf-8420-4544-c793-6e411f696680"
      },
      "execution_count": null,
      "outputs": [
        {
          "output_type": "execute_result",
          "data": {
            "text/plain": [
              "(19104, 13)"
            ]
          },
          "metadata": {},
          "execution_count": 8
        }
      ]
    },
    {
      "cell_type": "code",
      "source": [
        "df2.info()"
      ],
      "metadata": {
        "colab": {
          "base_uri": "https://localhost:8080/"
        },
        "id": "l2WtAm3HcBRp",
        "outputId": "6885b181-f0d6-4ed0-f255-e0ec5f20c6b6"
      },
      "execution_count": null,
      "outputs": [
        {
          "output_type": "stream",
          "name": "stdout",
          "text": [
            "<class 'pandas.core.frame.DataFrame'>\n",
            "RangeIndex: 19104 entries, 0 to 19103\n",
            "Data columns (total 13 columns):\n",
            " #   Column                Non-Null Count  Dtype  \n",
            "---  ------                --------------  -----  \n",
            " 0   MMM-YY                19104 non-null  object \n",
            " 1   Driver_ID             19104 non-null  int64  \n",
            " 2   Age                   19043 non-null  float64\n",
            " 3   Gender                19052 non-null  float64\n",
            " 4   City                  19104 non-null  object \n",
            " 5   Education_Level       19104 non-null  int64  \n",
            " 6   Income                19104 non-null  int64  \n",
            " 7   Dateofjoining         19104 non-null  object \n",
            " 8   LastWorkingDate       1616 non-null   object \n",
            " 9   Joining Designation   19104 non-null  int64  \n",
            " 10  Grade                 19104 non-null  int64  \n",
            " 11  Total Business Value  19104 non-null  int64  \n",
            " 12  Quarterly Rating      19104 non-null  int64  \n",
            "dtypes: float64(2), int64(7), object(4)\n",
            "memory usage: 1.9+ MB\n"
          ]
        }
      ]
    },
    {
      "cell_type": "markdown",
      "source": [
        "The shape of df2 is 19,104 rows and 12 columns"
      ],
      "metadata": {
        "id": "WlQFvWvwdMGY"
      }
    },
    {
      "cell_type": "markdown",
      "source": [
        "##EDA"
      ],
      "metadata": {
        "id": "kesPqnY1gXMi"
      }
    },
    {
      "cell_type": "code",
      "source": [
        "df2.columns"
      ],
      "metadata": {
        "colab": {
          "base_uri": "https://localhost:8080/"
        },
        "id": "OSwN_UvAfjbL",
        "outputId": "c19cc562-0d61-419b-8e97-5cbcbf38c740"
      },
      "execution_count": null,
      "outputs": [
        {
          "output_type": "execute_result",
          "data": {
            "text/plain": [
              "Index(['MMM-YY', 'Driver_ID', 'Age', 'Gender', 'City', 'Education_Level',\n",
              "       'Income', 'Dateofjoining', 'LastWorkingDate', 'Joining Designation',\n",
              "       'Grade', 'Total Business Value', 'Quarterly Rating'],\n",
              "      dtype='object')"
            ]
          },
          "metadata": {},
          "execution_count": 10
        }
      ]
    },
    {
      "cell_type": "code",
      "source": [
        "df2.columns=['MMM_YY', 'Driver_ID', 'Age', 'Gender', 'City', 'Education_Level',\n",
        "       'Income_Sum', 'Date_Of_Joining', 'Last_Working_Date', 'Joining_Designation',\n",
        "       'Grade', 'Total_Business_Value', 'Quarterly_Rating']"
      ],
      "metadata": {
        "id": "BBTWhEspkJOc"
      },
      "execution_count": null,
      "outputs": []
    },
    {
      "cell_type": "code",
      "source": [
        "df2.describe(include='all')"
      ],
      "metadata": {
        "colab": {
          "base_uri": "https://localhost:8080/",
          "height": 458
        },
        "id": "BLt_iGW8cEiF",
        "outputId": "404a5d90-dacf-4a93-e66a-1b65a0fc979d"
      },
      "execution_count": null,
      "outputs": [
        {
          "output_type": "execute_result",
          "data": {
            "text/plain": [
              "          MMM_YY     Driver_ID           Age        Gender   City  \\\n",
              "count      19104  19104.000000  19043.000000  19052.000000  19104   \n",
              "unique        24           NaN           NaN           NaN     29   \n",
              "top     01/01/19           NaN           NaN           NaN    C20   \n",
              "freq        1022           NaN           NaN           NaN   1008   \n",
              "mean         NaN   1415.591133     34.668435      0.418749    NaN   \n",
              "std          NaN    810.705321      6.257912      0.493367    NaN   \n",
              "min          NaN      1.000000     21.000000      0.000000    NaN   \n",
              "25%          NaN    710.000000     30.000000      0.000000    NaN   \n",
              "50%          NaN   1417.000000     34.000000      0.000000    NaN   \n",
              "75%          NaN   2137.000000     39.000000      1.000000    NaN   \n",
              "max          NaN   2788.000000     58.000000      1.000000    NaN   \n",
              "\n",
              "        Education_Level     Income_Sum Date_Of_Joining Last_Working_Date  \\\n",
              "count      19104.000000   19104.000000           19104              1616   \n",
              "unique              NaN            NaN             869               493   \n",
              "top                 NaN            NaN        23/07/15          29/07/20   \n",
              "freq                NaN            NaN             192                70   \n",
              "mean           1.021671   65652.025126             NaN               NaN   \n",
              "std            0.800167   30914.515344             NaN               NaN   \n",
              "min            0.000000   10747.000000             NaN               NaN   \n",
              "25%            0.000000   42383.000000             NaN               NaN   \n",
              "50%            1.000000   60087.000000             NaN               NaN   \n",
              "75%            2.000000   83969.000000             NaN               NaN   \n",
              "max            2.000000  188418.000000             NaN               NaN   \n",
              "\n",
              "        Joining_Designation         Grade  Total_Business_Value  \\\n",
              "count          19104.000000  19104.000000          1.910400e+04   \n",
              "unique                  NaN           NaN                   NaN   \n",
              "top                     NaN           NaN                   NaN   \n",
              "freq                    NaN           NaN                   NaN   \n",
              "mean               1.690536      2.252670          5.716621e+05   \n",
              "std                0.836984      1.026512          1.128312e+06   \n",
              "min                1.000000      1.000000         -6.000000e+06   \n",
              "25%                1.000000      1.000000          0.000000e+00   \n",
              "50%                1.000000      2.000000          2.500000e+05   \n",
              "75%                2.000000      3.000000          6.997000e+05   \n",
              "max                5.000000      5.000000          3.374772e+07   \n",
              "\n",
              "        Quarterly_Rating  \n",
              "count       19104.000000  \n",
              "unique               NaN  \n",
              "top                  NaN  \n",
              "freq                 NaN  \n",
              "mean            2.008899  \n",
              "std             1.009832  \n",
              "min             1.000000  \n",
              "25%             1.000000  \n",
              "50%             2.000000  \n",
              "75%             3.000000  \n",
              "max             4.000000  "
            ],
            "text/html": [
              "\n",
              "  <div id=\"df-4ace4dae-32aa-4e86-a65b-b9840eb1853d\">\n",
              "    <div class=\"colab-df-container\">\n",
              "      <div>\n",
              "<style scoped>\n",
              "    .dataframe tbody tr th:only-of-type {\n",
              "        vertical-align: middle;\n",
              "    }\n",
              "\n",
              "    .dataframe tbody tr th {\n",
              "        vertical-align: top;\n",
              "    }\n",
              "\n",
              "    .dataframe thead th {\n",
              "        text-align: right;\n",
              "    }\n",
              "</style>\n",
              "<table border=\"1\" class=\"dataframe\">\n",
              "  <thead>\n",
              "    <tr style=\"text-align: right;\">\n",
              "      <th></th>\n",
              "      <th>MMM_YY</th>\n",
              "      <th>Driver_ID</th>\n",
              "      <th>Age</th>\n",
              "      <th>Gender</th>\n",
              "      <th>City</th>\n",
              "      <th>Education_Level</th>\n",
              "      <th>Income_Sum</th>\n",
              "      <th>Date_Of_Joining</th>\n",
              "      <th>Last_Working_Date</th>\n",
              "      <th>Joining_Designation</th>\n",
              "      <th>Grade</th>\n",
              "      <th>Total_Business_Value</th>\n",
              "      <th>Quarterly_Rating</th>\n",
              "    </tr>\n",
              "  </thead>\n",
              "  <tbody>\n",
              "    <tr>\n",
              "      <th>count</th>\n",
              "      <td>19104</td>\n",
              "      <td>19104.000000</td>\n",
              "      <td>19043.000000</td>\n",
              "      <td>19052.000000</td>\n",
              "      <td>19104</td>\n",
              "      <td>19104.000000</td>\n",
              "      <td>19104.000000</td>\n",
              "      <td>19104</td>\n",
              "      <td>1616</td>\n",
              "      <td>19104.000000</td>\n",
              "      <td>19104.000000</td>\n",
              "      <td>1.910400e+04</td>\n",
              "      <td>19104.000000</td>\n",
              "    </tr>\n",
              "    <tr>\n",
              "      <th>unique</th>\n",
              "      <td>24</td>\n",
              "      <td>NaN</td>\n",
              "      <td>NaN</td>\n",
              "      <td>NaN</td>\n",
              "      <td>29</td>\n",
              "      <td>NaN</td>\n",
              "      <td>NaN</td>\n",
              "      <td>869</td>\n",
              "      <td>493</td>\n",
              "      <td>NaN</td>\n",
              "      <td>NaN</td>\n",
              "      <td>NaN</td>\n",
              "      <td>NaN</td>\n",
              "    </tr>\n",
              "    <tr>\n",
              "      <th>top</th>\n",
              "      <td>01/01/19</td>\n",
              "      <td>NaN</td>\n",
              "      <td>NaN</td>\n",
              "      <td>NaN</td>\n",
              "      <td>C20</td>\n",
              "      <td>NaN</td>\n",
              "      <td>NaN</td>\n",
              "      <td>23/07/15</td>\n",
              "      <td>29/07/20</td>\n",
              "      <td>NaN</td>\n",
              "      <td>NaN</td>\n",
              "      <td>NaN</td>\n",
              "      <td>NaN</td>\n",
              "    </tr>\n",
              "    <tr>\n",
              "      <th>freq</th>\n",
              "      <td>1022</td>\n",
              "      <td>NaN</td>\n",
              "      <td>NaN</td>\n",
              "      <td>NaN</td>\n",
              "      <td>1008</td>\n",
              "      <td>NaN</td>\n",
              "      <td>NaN</td>\n",
              "      <td>192</td>\n",
              "      <td>70</td>\n",
              "      <td>NaN</td>\n",
              "      <td>NaN</td>\n",
              "      <td>NaN</td>\n",
              "      <td>NaN</td>\n",
              "    </tr>\n",
              "    <tr>\n",
              "      <th>mean</th>\n",
              "      <td>NaN</td>\n",
              "      <td>1415.591133</td>\n",
              "      <td>34.668435</td>\n",
              "      <td>0.418749</td>\n",
              "      <td>NaN</td>\n",
              "      <td>1.021671</td>\n",
              "      <td>65652.025126</td>\n",
              "      <td>NaN</td>\n",
              "      <td>NaN</td>\n",
              "      <td>1.690536</td>\n",
              "      <td>2.252670</td>\n",
              "      <td>5.716621e+05</td>\n",
              "      <td>2.008899</td>\n",
              "    </tr>\n",
              "    <tr>\n",
              "      <th>std</th>\n",
              "      <td>NaN</td>\n",
              "      <td>810.705321</td>\n",
              "      <td>6.257912</td>\n",
              "      <td>0.493367</td>\n",
              "      <td>NaN</td>\n",
              "      <td>0.800167</td>\n",
              "      <td>30914.515344</td>\n",
              "      <td>NaN</td>\n",
              "      <td>NaN</td>\n",
              "      <td>0.836984</td>\n",
              "      <td>1.026512</td>\n",
              "      <td>1.128312e+06</td>\n",
              "      <td>1.009832</td>\n",
              "    </tr>\n",
              "    <tr>\n",
              "      <th>min</th>\n",
              "      <td>NaN</td>\n",
              "      <td>1.000000</td>\n",
              "      <td>21.000000</td>\n",
              "      <td>0.000000</td>\n",
              "      <td>NaN</td>\n",
              "      <td>0.000000</td>\n",
              "      <td>10747.000000</td>\n",
              "      <td>NaN</td>\n",
              "      <td>NaN</td>\n",
              "      <td>1.000000</td>\n",
              "      <td>1.000000</td>\n",
              "      <td>-6.000000e+06</td>\n",
              "      <td>1.000000</td>\n",
              "    </tr>\n",
              "    <tr>\n",
              "      <th>25%</th>\n",
              "      <td>NaN</td>\n",
              "      <td>710.000000</td>\n",
              "      <td>30.000000</td>\n",
              "      <td>0.000000</td>\n",
              "      <td>NaN</td>\n",
              "      <td>0.000000</td>\n",
              "      <td>42383.000000</td>\n",
              "      <td>NaN</td>\n",
              "      <td>NaN</td>\n",
              "      <td>1.000000</td>\n",
              "      <td>1.000000</td>\n",
              "      <td>0.000000e+00</td>\n",
              "      <td>1.000000</td>\n",
              "    </tr>\n",
              "    <tr>\n",
              "      <th>50%</th>\n",
              "      <td>NaN</td>\n",
              "      <td>1417.000000</td>\n",
              "      <td>34.000000</td>\n",
              "      <td>0.000000</td>\n",
              "      <td>NaN</td>\n",
              "      <td>1.000000</td>\n",
              "      <td>60087.000000</td>\n",
              "      <td>NaN</td>\n",
              "      <td>NaN</td>\n",
              "      <td>1.000000</td>\n",
              "      <td>2.000000</td>\n",
              "      <td>2.500000e+05</td>\n",
              "      <td>2.000000</td>\n",
              "    </tr>\n",
              "    <tr>\n",
              "      <th>75%</th>\n",
              "      <td>NaN</td>\n",
              "      <td>2137.000000</td>\n",
              "      <td>39.000000</td>\n",
              "      <td>1.000000</td>\n",
              "      <td>NaN</td>\n",
              "      <td>2.000000</td>\n",
              "      <td>83969.000000</td>\n",
              "      <td>NaN</td>\n",
              "      <td>NaN</td>\n",
              "      <td>2.000000</td>\n",
              "      <td>3.000000</td>\n",
              "      <td>6.997000e+05</td>\n",
              "      <td>3.000000</td>\n",
              "    </tr>\n",
              "    <tr>\n",
              "      <th>max</th>\n",
              "      <td>NaN</td>\n",
              "      <td>2788.000000</td>\n",
              "      <td>58.000000</td>\n",
              "      <td>1.000000</td>\n",
              "      <td>NaN</td>\n",
              "      <td>2.000000</td>\n",
              "      <td>188418.000000</td>\n",
              "      <td>NaN</td>\n",
              "      <td>NaN</td>\n",
              "      <td>5.000000</td>\n",
              "      <td>5.000000</td>\n",
              "      <td>3.374772e+07</td>\n",
              "      <td>4.000000</td>\n",
              "    </tr>\n",
              "  </tbody>\n",
              "</table>\n",
              "</div>\n",
              "      <button class=\"colab-df-convert\" onclick=\"convertToInteractive('df-4ace4dae-32aa-4e86-a65b-b9840eb1853d')\"\n",
              "              title=\"Convert this dataframe to an interactive table.\"\n",
              "              style=\"display:none;\">\n",
              "        \n",
              "  <svg xmlns=\"http://www.w3.org/2000/svg\" height=\"24px\"viewBox=\"0 0 24 24\"\n",
              "       width=\"24px\">\n",
              "    <path d=\"M0 0h24v24H0V0z\" fill=\"none\"/>\n",
              "    <path d=\"M18.56 5.44l.94 2.06.94-2.06 2.06-.94-2.06-.94-.94-2.06-.94 2.06-2.06.94zm-11 1L8.5 8.5l.94-2.06 2.06-.94-2.06-.94L8.5 2.5l-.94 2.06-2.06.94zm10 10l.94 2.06.94-2.06 2.06-.94-2.06-.94-.94-2.06-.94 2.06-2.06.94z\"/><path d=\"M17.41 7.96l-1.37-1.37c-.4-.4-.92-.59-1.43-.59-.52 0-1.04.2-1.43.59L10.3 9.45l-7.72 7.72c-.78.78-.78 2.05 0 2.83L4 21.41c.39.39.9.59 1.41.59.51 0 1.02-.2 1.41-.59l7.78-7.78 2.81-2.81c.8-.78.8-2.07 0-2.86zM5.41 20L4 18.59l7.72-7.72 1.47 1.35L5.41 20z\"/>\n",
              "  </svg>\n",
              "      </button>\n",
              "      \n",
              "  <style>\n",
              "    .colab-df-container {\n",
              "      display:flex;\n",
              "      flex-wrap:wrap;\n",
              "      gap: 12px;\n",
              "    }\n",
              "\n",
              "    .colab-df-convert {\n",
              "      background-color: #E8F0FE;\n",
              "      border: none;\n",
              "      border-radius: 50%;\n",
              "      cursor: pointer;\n",
              "      display: none;\n",
              "      fill: #1967D2;\n",
              "      height: 32px;\n",
              "      padding: 0 0 0 0;\n",
              "      width: 32px;\n",
              "    }\n",
              "\n",
              "    .colab-df-convert:hover {\n",
              "      background-color: #E2EBFA;\n",
              "      box-shadow: 0px 1px 2px rgba(60, 64, 67, 0.3), 0px 1px 3px 1px rgba(60, 64, 67, 0.15);\n",
              "      fill: #174EA6;\n",
              "    }\n",
              "\n",
              "    [theme=dark] .colab-df-convert {\n",
              "      background-color: #3B4455;\n",
              "      fill: #D2E3FC;\n",
              "    }\n",
              "\n",
              "    [theme=dark] .colab-df-convert:hover {\n",
              "      background-color: #434B5C;\n",
              "      box-shadow: 0px 1px 3px 1px rgba(0, 0, 0, 0.15);\n",
              "      filter: drop-shadow(0px 1px 2px rgba(0, 0, 0, 0.3));\n",
              "      fill: #FFFFFF;\n",
              "    }\n",
              "  </style>\n",
              "\n",
              "      <script>\n",
              "        const buttonEl =\n",
              "          document.querySelector('#df-4ace4dae-32aa-4e86-a65b-b9840eb1853d button.colab-df-convert');\n",
              "        buttonEl.style.display =\n",
              "          google.colab.kernel.accessAllowed ? 'block' : 'none';\n",
              "\n",
              "        async function convertToInteractive(key) {\n",
              "          const element = document.querySelector('#df-4ace4dae-32aa-4e86-a65b-b9840eb1853d');\n",
              "          const dataTable =\n",
              "            await google.colab.kernel.invokeFunction('convertToInteractive',\n",
              "                                                     [key], {});\n",
              "          if (!dataTable) return;\n",
              "\n",
              "          const docLinkHtml = 'Like what you see? Visit the ' +\n",
              "            '<a target=\"_blank\" href=https://colab.research.google.com/notebooks/data_table.ipynb>data table notebook</a>'\n",
              "            + ' to learn more about interactive tables.';\n",
              "          element.innerHTML = '';\n",
              "          dataTable['output_type'] = 'display_data';\n",
              "          await google.colab.output.renderOutput(dataTable, element);\n",
              "          const docLink = document.createElement('div');\n",
              "          docLink.innerHTML = docLinkHtml;\n",
              "          element.appendChild(docLink);\n",
              "        }\n",
              "      </script>\n",
              "    </div>\n",
              "  </div>\n",
              "  "
            ]
          },
          "metadata": {},
          "execution_count": 12
        }
      ]
    },
    {
      "cell_type": "markdown",
      "source": [
        "Everything looks appropriate but the total business value is seems have some outliers as there is business of 3 crore (+ve) and 60 lakhs (-ve).\n",
        "So, eliminate the outliers and do the analysis."
      ],
      "metadata": {
        "id": "6QP6XwoHr6nU"
      }
    },
    {
      "cell_type": "code",
      "source": [
        "Q1=df2['Total_Business_Value'].quantile(0.25)\n",
        "Q3=df2['Total_Business_Value'].quantile(0.75)\n",
        "Q1,Q3\n",
        "IQR=Q3-Q1"
      ],
      "metadata": {
        "id": "Rgh2yFjttB5K"
      },
      "execution_count": null,
      "outputs": []
    },
    {
      "cell_type": "code",
      "source": [
        "df3=df2.loc[(df2['Total_Business_Value']>(Q1-1.5*IQR)) & (df2['Total_Business_Value']<(Q3+1.5*IQR))]"
      ],
      "metadata": {
        "id": "2HOzsHk3tvSU"
      },
      "execution_count": null,
      "outputs": []
    },
    {
      "cell_type": "code",
      "source": [
        "df3.shape"
      ],
      "metadata": {
        "colab": {
          "base_uri": "https://localhost:8080/"
        },
        "id": "7C5fzWQVubBY",
        "outputId": "0c644bd2-9822-4bb1-dbcb-1ccee56ec8e0"
      },
      "execution_count": null,
      "outputs": [
        {
          "output_type": "execute_result",
          "data": {
            "text/plain": [
              "(17733, 13)"
            ]
          },
          "metadata": {},
          "execution_count": 15
        }
      ]
    },
    {
      "cell_type": "markdown",
      "source": [
        "So around 1300 rows were dropped"
      ],
      "metadata": {
        "id": "UoJFtYiAudZc"
      }
    },
    {
      "cell_type": "code",
      "source": [
        "df3.isna().sum()/df3.shape[0]"
      ],
      "metadata": {
        "colab": {
          "base_uri": "https://localhost:8080/"
        },
        "id": "0MZtWGEydYIJ",
        "outputId": "d634cff8-d18a-4ccd-f703-9da7db7bfbcb"
      },
      "execution_count": null,
      "outputs": [
        {
          "output_type": "execute_result",
          "data": {
            "text/plain": [
              "MMM_YY                  0.000000\n",
              "Driver_ID               0.000000\n",
              "Age                     0.003327\n",
              "Gender                  0.002876\n",
              "City                    0.000000\n",
              "Education_Level         0.000000\n",
              "Income_Sum              0.000000\n",
              "Date_Of_Joining         0.000000\n",
              "Last_Working_Date       0.909096\n",
              "Joining_Designation     0.000000\n",
              "Grade                   0.000000\n",
              "Total_Business_Value    0.000000\n",
              "Quarterly_Rating        0.000000\n",
              "dtype: float64"
            ]
          },
          "metadata": {},
          "execution_count": 16
        }
      ]
    },
    {
      "cell_type": "markdown",
      "source": [
        "Here we have to condense the results and can be drone through aggregation w.r.t driver _id"
      ],
      "metadata": {
        "id": "YuQJuCsufWtn"
      }
    },
    {
      "cell_type": "code",
      "source": [
        "df3.reset_index(inplace=True)"
      ],
      "metadata": {
        "id": "GVaNtUzze4qk"
      },
      "execution_count": null,
      "outputs": []
    },
    {
      "cell_type": "code",
      "source": [
        "df3[(df3['Date_Of_Joining'])>(df3['MMM_YY'])]"
      ],
      "metadata": {
        "colab": {
          "base_uri": "https://localhost:8080/",
          "height": 488
        },
        "id": "K87P0tcSm26Q",
        "outputId": "cbb2905a-277c-4567-d524-3942c023c354"
      },
      "execution_count": null,
      "outputs": [
        {
          "output_type": "execute_result",
          "data": {
            "text/plain": [
              "       index    MMM_YY  Driver_ID   Age  Gender City  Education_Level  \\\n",
              "0          1  02/01/19          1  28.0     0.0  C23                2   \n",
              "1          2  03/01/19          1  28.0     0.0  C23                2   \n",
              "2          3  11/01/20          2  31.0     0.0   C7                2   \n",
              "4          5  12/01/19          4  43.0     0.0  C13                2   \n",
              "5          6  01/01/20          4  43.0     0.0  C13                2   \n",
              "...      ...       ...        ...   ...     ...  ...              ...   \n",
              "17722  19093  03/01/19       2787  28.0     1.0  C20                2   \n",
              "17723  19094  04/01/19       2787  28.0     1.0  C20                2   \n",
              "17724  19095  05/01/19       2787  28.0     1.0  C20                2   \n",
              "17725  19096  06/01/19       2787  28.0     1.0  C20                2   \n",
              "17726  19097  06/01/20       2788  29.0     0.0  C27                2   \n",
              "\n",
              "       Income_Sum Date_Of_Joining Last_Working_Date  Joining_Designation  \\\n",
              "0           57387        24/12/18               NaN                    1   \n",
              "1           57387        24/12/18          03/11/19                    1   \n",
              "2           67016        11/06/20               NaN                    2   \n",
              "4           65603        12/07/19               NaN                    2   \n",
              "5           65603        12/07/19               NaN                    2   \n",
              "...           ...             ...               ...                  ...   \n",
              "17722       69498        21/07/18               NaN                    1   \n",
              "17723       69498        21/07/18               NaN                    1   \n",
              "17724       69498        21/07/18               NaN                    1   \n",
              "17725       69498        21/07/18          20/06/19                    1   \n",
              "17726       70254        06/08/20               NaN                    2   \n",
              "\n",
              "       Grade  Total_Business_Value  Quarterly_Rating  \n",
              "0          1               -665480                 2  \n",
              "1          1                     0                 2  \n",
              "2          2                     0                 1  \n",
              "4          2                     0                 1  \n",
              "5          2                     0                 1  \n",
              "...      ...                   ...               ...  \n",
              "17722      1                319740                 2  \n",
              "17723      1                     0                 1  \n",
              "17724      1                     0                 1  \n",
              "17725      1                     0                 1  \n",
              "17726      2                     0                 1  \n",
              "\n",
              "[14445 rows x 14 columns]"
            ],
            "text/html": [
              "\n",
              "  <div id=\"df-6994dbf6-9bd1-4e7f-8bbc-7aa76d0afbe6\">\n",
              "    <div class=\"colab-df-container\">\n",
              "      <div>\n",
              "<style scoped>\n",
              "    .dataframe tbody tr th:only-of-type {\n",
              "        vertical-align: middle;\n",
              "    }\n",
              "\n",
              "    .dataframe tbody tr th {\n",
              "        vertical-align: top;\n",
              "    }\n",
              "\n",
              "    .dataframe thead th {\n",
              "        text-align: right;\n",
              "    }\n",
              "</style>\n",
              "<table border=\"1\" class=\"dataframe\">\n",
              "  <thead>\n",
              "    <tr style=\"text-align: right;\">\n",
              "      <th></th>\n",
              "      <th>index</th>\n",
              "      <th>MMM_YY</th>\n",
              "      <th>Driver_ID</th>\n",
              "      <th>Age</th>\n",
              "      <th>Gender</th>\n",
              "      <th>City</th>\n",
              "      <th>Education_Level</th>\n",
              "      <th>Income_Sum</th>\n",
              "      <th>Date_Of_Joining</th>\n",
              "      <th>Last_Working_Date</th>\n",
              "      <th>Joining_Designation</th>\n",
              "      <th>Grade</th>\n",
              "      <th>Total_Business_Value</th>\n",
              "      <th>Quarterly_Rating</th>\n",
              "    </tr>\n",
              "  </thead>\n",
              "  <tbody>\n",
              "    <tr>\n",
              "      <th>0</th>\n",
              "      <td>1</td>\n",
              "      <td>02/01/19</td>\n",
              "      <td>1</td>\n",
              "      <td>28.0</td>\n",
              "      <td>0.0</td>\n",
              "      <td>C23</td>\n",
              "      <td>2</td>\n",
              "      <td>57387</td>\n",
              "      <td>24/12/18</td>\n",
              "      <td>NaN</td>\n",
              "      <td>1</td>\n",
              "      <td>1</td>\n",
              "      <td>-665480</td>\n",
              "      <td>2</td>\n",
              "    </tr>\n",
              "    <tr>\n",
              "      <th>1</th>\n",
              "      <td>2</td>\n",
              "      <td>03/01/19</td>\n",
              "      <td>1</td>\n",
              "      <td>28.0</td>\n",
              "      <td>0.0</td>\n",
              "      <td>C23</td>\n",
              "      <td>2</td>\n",
              "      <td>57387</td>\n",
              "      <td>24/12/18</td>\n",
              "      <td>03/11/19</td>\n",
              "      <td>1</td>\n",
              "      <td>1</td>\n",
              "      <td>0</td>\n",
              "      <td>2</td>\n",
              "    </tr>\n",
              "    <tr>\n",
              "      <th>2</th>\n",
              "      <td>3</td>\n",
              "      <td>11/01/20</td>\n",
              "      <td>2</td>\n",
              "      <td>31.0</td>\n",
              "      <td>0.0</td>\n",
              "      <td>C7</td>\n",
              "      <td>2</td>\n",
              "      <td>67016</td>\n",
              "      <td>11/06/20</td>\n",
              "      <td>NaN</td>\n",
              "      <td>2</td>\n",
              "      <td>2</td>\n",
              "      <td>0</td>\n",
              "      <td>1</td>\n",
              "    </tr>\n",
              "    <tr>\n",
              "      <th>4</th>\n",
              "      <td>5</td>\n",
              "      <td>12/01/19</td>\n",
              "      <td>4</td>\n",
              "      <td>43.0</td>\n",
              "      <td>0.0</td>\n",
              "      <td>C13</td>\n",
              "      <td>2</td>\n",
              "      <td>65603</td>\n",
              "      <td>12/07/19</td>\n",
              "      <td>NaN</td>\n",
              "      <td>2</td>\n",
              "      <td>2</td>\n",
              "      <td>0</td>\n",
              "      <td>1</td>\n",
              "    </tr>\n",
              "    <tr>\n",
              "      <th>5</th>\n",
              "      <td>6</td>\n",
              "      <td>01/01/20</td>\n",
              "      <td>4</td>\n",
              "      <td>43.0</td>\n",
              "      <td>0.0</td>\n",
              "      <td>C13</td>\n",
              "      <td>2</td>\n",
              "      <td>65603</td>\n",
              "      <td>12/07/19</td>\n",
              "      <td>NaN</td>\n",
              "      <td>2</td>\n",
              "      <td>2</td>\n",
              "      <td>0</td>\n",
              "      <td>1</td>\n",
              "    </tr>\n",
              "    <tr>\n",
              "      <th>...</th>\n",
              "      <td>...</td>\n",
              "      <td>...</td>\n",
              "      <td>...</td>\n",
              "      <td>...</td>\n",
              "      <td>...</td>\n",
              "      <td>...</td>\n",
              "      <td>...</td>\n",
              "      <td>...</td>\n",
              "      <td>...</td>\n",
              "      <td>...</td>\n",
              "      <td>...</td>\n",
              "      <td>...</td>\n",
              "      <td>...</td>\n",
              "      <td>...</td>\n",
              "    </tr>\n",
              "    <tr>\n",
              "      <th>17722</th>\n",
              "      <td>19093</td>\n",
              "      <td>03/01/19</td>\n",
              "      <td>2787</td>\n",
              "      <td>28.0</td>\n",
              "      <td>1.0</td>\n",
              "      <td>C20</td>\n",
              "      <td>2</td>\n",
              "      <td>69498</td>\n",
              "      <td>21/07/18</td>\n",
              "      <td>NaN</td>\n",
              "      <td>1</td>\n",
              "      <td>1</td>\n",
              "      <td>319740</td>\n",
              "      <td>2</td>\n",
              "    </tr>\n",
              "    <tr>\n",
              "      <th>17723</th>\n",
              "      <td>19094</td>\n",
              "      <td>04/01/19</td>\n",
              "      <td>2787</td>\n",
              "      <td>28.0</td>\n",
              "      <td>1.0</td>\n",
              "      <td>C20</td>\n",
              "      <td>2</td>\n",
              "      <td>69498</td>\n",
              "      <td>21/07/18</td>\n",
              "      <td>NaN</td>\n",
              "      <td>1</td>\n",
              "      <td>1</td>\n",
              "      <td>0</td>\n",
              "      <td>1</td>\n",
              "    </tr>\n",
              "    <tr>\n",
              "      <th>17724</th>\n",
              "      <td>19095</td>\n",
              "      <td>05/01/19</td>\n",
              "      <td>2787</td>\n",
              "      <td>28.0</td>\n",
              "      <td>1.0</td>\n",
              "      <td>C20</td>\n",
              "      <td>2</td>\n",
              "      <td>69498</td>\n",
              "      <td>21/07/18</td>\n",
              "      <td>NaN</td>\n",
              "      <td>1</td>\n",
              "      <td>1</td>\n",
              "      <td>0</td>\n",
              "      <td>1</td>\n",
              "    </tr>\n",
              "    <tr>\n",
              "      <th>17725</th>\n",
              "      <td>19096</td>\n",
              "      <td>06/01/19</td>\n",
              "      <td>2787</td>\n",
              "      <td>28.0</td>\n",
              "      <td>1.0</td>\n",
              "      <td>C20</td>\n",
              "      <td>2</td>\n",
              "      <td>69498</td>\n",
              "      <td>21/07/18</td>\n",
              "      <td>20/06/19</td>\n",
              "      <td>1</td>\n",
              "      <td>1</td>\n",
              "      <td>0</td>\n",
              "      <td>1</td>\n",
              "    </tr>\n",
              "    <tr>\n",
              "      <th>17726</th>\n",
              "      <td>19097</td>\n",
              "      <td>06/01/20</td>\n",
              "      <td>2788</td>\n",
              "      <td>29.0</td>\n",
              "      <td>0.0</td>\n",
              "      <td>C27</td>\n",
              "      <td>2</td>\n",
              "      <td>70254</td>\n",
              "      <td>06/08/20</td>\n",
              "      <td>NaN</td>\n",
              "      <td>2</td>\n",
              "      <td>2</td>\n",
              "      <td>0</td>\n",
              "      <td>1</td>\n",
              "    </tr>\n",
              "  </tbody>\n",
              "</table>\n",
              "<p>14445 rows × 14 columns</p>\n",
              "</div>\n",
              "      <button class=\"colab-df-convert\" onclick=\"convertToInteractive('df-6994dbf6-9bd1-4e7f-8bbc-7aa76d0afbe6')\"\n",
              "              title=\"Convert this dataframe to an interactive table.\"\n",
              "              style=\"display:none;\">\n",
              "        \n",
              "  <svg xmlns=\"http://www.w3.org/2000/svg\" height=\"24px\"viewBox=\"0 0 24 24\"\n",
              "       width=\"24px\">\n",
              "    <path d=\"M0 0h24v24H0V0z\" fill=\"none\"/>\n",
              "    <path d=\"M18.56 5.44l.94 2.06.94-2.06 2.06-.94-2.06-.94-.94-2.06-.94 2.06-2.06.94zm-11 1L8.5 8.5l.94-2.06 2.06-.94-2.06-.94L8.5 2.5l-.94 2.06-2.06.94zm10 10l.94 2.06.94-2.06 2.06-.94-2.06-.94-.94-2.06-.94 2.06-2.06.94z\"/><path d=\"M17.41 7.96l-1.37-1.37c-.4-.4-.92-.59-1.43-.59-.52 0-1.04.2-1.43.59L10.3 9.45l-7.72 7.72c-.78.78-.78 2.05 0 2.83L4 21.41c.39.39.9.59 1.41.59.51 0 1.02-.2 1.41-.59l7.78-7.78 2.81-2.81c.8-.78.8-2.07 0-2.86zM5.41 20L4 18.59l7.72-7.72 1.47 1.35L5.41 20z\"/>\n",
              "  </svg>\n",
              "      </button>\n",
              "      \n",
              "  <style>\n",
              "    .colab-df-container {\n",
              "      display:flex;\n",
              "      flex-wrap:wrap;\n",
              "      gap: 12px;\n",
              "    }\n",
              "\n",
              "    .colab-df-convert {\n",
              "      background-color: #E8F0FE;\n",
              "      border: none;\n",
              "      border-radius: 50%;\n",
              "      cursor: pointer;\n",
              "      display: none;\n",
              "      fill: #1967D2;\n",
              "      height: 32px;\n",
              "      padding: 0 0 0 0;\n",
              "      width: 32px;\n",
              "    }\n",
              "\n",
              "    .colab-df-convert:hover {\n",
              "      background-color: #E2EBFA;\n",
              "      box-shadow: 0px 1px 2px rgba(60, 64, 67, 0.3), 0px 1px 3px 1px rgba(60, 64, 67, 0.15);\n",
              "      fill: #174EA6;\n",
              "    }\n",
              "\n",
              "    [theme=dark] .colab-df-convert {\n",
              "      background-color: #3B4455;\n",
              "      fill: #D2E3FC;\n",
              "    }\n",
              "\n",
              "    [theme=dark] .colab-df-convert:hover {\n",
              "      background-color: #434B5C;\n",
              "      box-shadow: 0px 1px 3px 1px rgba(0, 0, 0, 0.15);\n",
              "      filter: drop-shadow(0px 1px 2px rgba(0, 0, 0, 0.3));\n",
              "      fill: #FFFFFF;\n",
              "    }\n",
              "  </style>\n",
              "\n",
              "      <script>\n",
              "        const buttonEl =\n",
              "          document.querySelector('#df-6994dbf6-9bd1-4e7f-8bbc-7aa76d0afbe6 button.colab-df-convert');\n",
              "        buttonEl.style.display =\n",
              "          google.colab.kernel.accessAllowed ? 'block' : 'none';\n",
              "\n",
              "        async function convertToInteractive(key) {\n",
              "          const element = document.querySelector('#df-6994dbf6-9bd1-4e7f-8bbc-7aa76d0afbe6');\n",
              "          const dataTable =\n",
              "            await google.colab.kernel.invokeFunction('convertToInteractive',\n",
              "                                                     [key], {});\n",
              "          if (!dataTable) return;\n",
              "\n",
              "          const docLinkHtml = 'Like what you see? Visit the ' +\n",
              "            '<a target=\"_blank\" href=https://colab.research.google.com/notebooks/data_table.ipynb>data table notebook</a>'\n",
              "            + ' to learn more about interactive tables.';\n",
              "          element.innerHTML = '';\n",
              "          dataTable['output_type'] = 'display_data';\n",
              "          await google.colab.output.renderOutput(dataTable, element);\n",
              "          const docLink = document.createElement('div');\n",
              "          docLink.innerHTML = docLinkHtml;\n",
              "          element.appendChild(docLink);\n",
              "        }\n",
              "      </script>\n",
              "    </div>\n",
              "  </div>\n",
              "  "
            ]
          },
          "metadata": {},
          "execution_count": 18
        }
      ]
    },
    {
      "cell_type": "markdown",
      "source": [
        "There are some rows where actually the reporting date is previous to joining date so better compare month wise and year intsead of day."
      ],
      "metadata": {
        "id": "mHC2BYHgm8t1"
      }
    },
    {
      "cell_type": "code",
      "source": [
        "df3.drop(df3.columns[0],axis=1,inplace=True)"
      ],
      "metadata": {
        "id": "linwQ_J2v1yp"
      },
      "execution_count": null,
      "outputs": []
    },
    {
      "cell_type": "markdown",
      "source": [
        "##Converting to date time period"
      ],
      "metadata": {
        "id": "cmOqX5msgeuz"
      }
    },
    {
      "cell_type": "code",
      "source": [
        "df3.loc[:,'MMM_YY']=pd.to_datetime(df3.loc[:,'MMM_YY']).dt.to_period('M')\n",
        "df3.loc[:,'Date_Of_Joining']=pd.to_datetime(df3.loc[:,'Date_Of_Joining']).dt.to_period('M')\n",
        "df3.loc[:,'Last_Working_Date']=pd.to_datetime(df3.loc[:,'Last_Working_Date']).dt.to_period('M')"
      ],
      "metadata": {
        "id": "SgBBEckdfrAo"
      },
      "execution_count": null,
      "outputs": []
    },
    {
      "cell_type": "markdown",
      "source": [
        "The categorical features here are Gender, City, Education level, Joining designation, Grade, Quarterly rating.\n",
        "But consider only Gender, City as the rest actually has order and its better to consider in that numerical order only."
      ],
      "metadata": {
        "id": "DT2Uqd9Nh5gS"
      }
    },
    {
      "cell_type": "markdown",
      "source": [
        "##Conversion to categorical variables"
      ],
      "metadata": {
        "id": "i34n0PiRgh3v"
      }
    },
    {
      "cell_type": "code",
      "source": [
        "# df3.loc[:,'Age']=df3.loc[:,'Age'].astype('category')\n",
        "df3.loc[:,'City']=df3.loc[:,'City'].astype('category')"
      ],
      "metadata": {
        "id": "FfhMM9aPgj7G"
      },
      "execution_count": null,
      "outputs": []
    },
    {
      "cell_type": "code",
      "source": [
        "df3[(df3['Date_Of_Joining'])>(df3['MMM_YY'])]"
      ],
      "metadata": {
        "colab": {
          "base_uri": "https://localhost:8080/"
        },
        "id": "IXypkClwjXEN",
        "outputId": "824f5a49-a6e9-44dc-8cbe-3c1c23300952"
      },
      "execution_count": null,
      "outputs": [
        {
          "output_type": "execute_result",
          "data": {
            "text/plain": [
              "Empty DataFrame\n",
              "Columns: [MMM_YY, Driver_ID, Age, Gender, City, Education_Level, Income_Sum, Date_Of_Joining, Last_Working_Date, Joining_Designation, Grade, Total_Business_Value, Quarterly_Rating]\n",
              "Index: []"
            ],
            "text/html": [
              "\n",
              "  <div id=\"df-5920df68-1971-415d-a155-4df402d633ac\">\n",
              "    <div class=\"colab-df-container\">\n",
              "      <div>\n",
              "<style scoped>\n",
              "    .dataframe tbody tr th:only-of-type {\n",
              "        vertical-align: middle;\n",
              "    }\n",
              "\n",
              "    .dataframe tbody tr th {\n",
              "        vertical-align: top;\n",
              "    }\n",
              "\n",
              "    .dataframe thead th {\n",
              "        text-align: right;\n",
              "    }\n",
              "</style>\n",
              "<table border=\"1\" class=\"dataframe\">\n",
              "  <thead>\n",
              "    <tr style=\"text-align: right;\">\n",
              "      <th></th>\n",
              "      <th>MMM_YY</th>\n",
              "      <th>Driver_ID</th>\n",
              "      <th>Age</th>\n",
              "      <th>Gender</th>\n",
              "      <th>City</th>\n",
              "      <th>Education_Level</th>\n",
              "      <th>Income_Sum</th>\n",
              "      <th>Date_Of_Joining</th>\n",
              "      <th>Last_Working_Date</th>\n",
              "      <th>Joining_Designation</th>\n",
              "      <th>Grade</th>\n",
              "      <th>Total_Business_Value</th>\n",
              "      <th>Quarterly_Rating</th>\n",
              "    </tr>\n",
              "  </thead>\n",
              "  <tbody>\n",
              "  </tbody>\n",
              "</table>\n",
              "</div>\n",
              "      <button class=\"colab-df-convert\" onclick=\"convertToInteractive('df-5920df68-1971-415d-a155-4df402d633ac')\"\n",
              "              title=\"Convert this dataframe to an interactive table.\"\n",
              "              style=\"display:none;\">\n",
              "        \n",
              "  <svg xmlns=\"http://www.w3.org/2000/svg\" height=\"24px\"viewBox=\"0 0 24 24\"\n",
              "       width=\"24px\">\n",
              "    <path d=\"M0 0h24v24H0V0z\" fill=\"none\"/>\n",
              "    <path d=\"M18.56 5.44l.94 2.06.94-2.06 2.06-.94-2.06-.94-.94-2.06-.94 2.06-2.06.94zm-11 1L8.5 8.5l.94-2.06 2.06-.94-2.06-.94L8.5 2.5l-.94 2.06-2.06.94zm10 10l.94 2.06.94-2.06 2.06-.94-2.06-.94-.94-2.06-.94 2.06-2.06.94z\"/><path d=\"M17.41 7.96l-1.37-1.37c-.4-.4-.92-.59-1.43-.59-.52 0-1.04.2-1.43.59L10.3 9.45l-7.72 7.72c-.78.78-.78 2.05 0 2.83L4 21.41c.39.39.9.59 1.41.59.51 0 1.02-.2 1.41-.59l7.78-7.78 2.81-2.81c.8-.78.8-2.07 0-2.86zM5.41 20L4 18.59l7.72-7.72 1.47 1.35L5.41 20z\"/>\n",
              "  </svg>\n",
              "      </button>\n",
              "      \n",
              "  <style>\n",
              "    .colab-df-container {\n",
              "      display:flex;\n",
              "      flex-wrap:wrap;\n",
              "      gap: 12px;\n",
              "    }\n",
              "\n",
              "    .colab-df-convert {\n",
              "      background-color: #E8F0FE;\n",
              "      border: none;\n",
              "      border-radius: 50%;\n",
              "      cursor: pointer;\n",
              "      display: none;\n",
              "      fill: #1967D2;\n",
              "      height: 32px;\n",
              "      padding: 0 0 0 0;\n",
              "      width: 32px;\n",
              "    }\n",
              "\n",
              "    .colab-df-convert:hover {\n",
              "      background-color: #E2EBFA;\n",
              "      box-shadow: 0px 1px 2px rgba(60, 64, 67, 0.3), 0px 1px 3px 1px rgba(60, 64, 67, 0.15);\n",
              "      fill: #174EA6;\n",
              "    }\n",
              "\n",
              "    [theme=dark] .colab-df-convert {\n",
              "      background-color: #3B4455;\n",
              "      fill: #D2E3FC;\n",
              "    }\n",
              "\n",
              "    [theme=dark] .colab-df-convert:hover {\n",
              "      background-color: #434B5C;\n",
              "      box-shadow: 0px 1px 3px 1px rgba(0, 0, 0, 0.15);\n",
              "      filter: drop-shadow(0px 1px 2px rgba(0, 0, 0, 0.3));\n",
              "      fill: #FFFFFF;\n",
              "    }\n",
              "  </style>\n",
              "\n",
              "      <script>\n",
              "        const buttonEl =\n",
              "          document.querySelector('#df-5920df68-1971-415d-a155-4df402d633ac button.colab-df-convert');\n",
              "        buttonEl.style.display =\n",
              "          google.colab.kernel.accessAllowed ? 'block' : 'none';\n",
              "\n",
              "        async function convertToInteractive(key) {\n",
              "          const element = document.querySelector('#df-5920df68-1971-415d-a155-4df402d633ac');\n",
              "          const dataTable =\n",
              "            await google.colab.kernel.invokeFunction('convertToInteractive',\n",
              "                                                     [key], {});\n",
              "          if (!dataTable) return;\n",
              "\n",
              "          const docLinkHtml = 'Like what you see? Visit the ' +\n",
              "            '<a target=\"_blank\" href=https://colab.research.google.com/notebooks/data_table.ipynb>data table notebook</a>'\n",
              "            + ' to learn more about interactive tables.';\n",
              "          element.innerHTML = '';\n",
              "          dataTable['output_type'] = 'display_data';\n",
              "          await google.colab.output.renderOutput(dataTable, element);\n",
              "          const docLink = document.createElement('div');\n",
              "          docLink.innerHTML = docLinkHtml;\n",
              "          element.appendChild(docLink);\n",
              "        }\n",
              "      </script>\n",
              "    </div>\n",
              "  </div>\n",
              "  "
            ]
          },
          "metadata": {},
          "execution_count": 22
        }
      ]
    },
    {
      "cell_type": "code",
      "source": [
        "df3.sort_values(by=['Driver_ID','Date_Of_Joining','MMM_YY'],ascending=True)"
      ],
      "metadata": {
        "colab": {
          "base_uri": "https://localhost:8080/"
        },
        "id": "eHNrF7Tc0fiU",
        "outputId": "24d518bb-7373-4153-8419-36e7a2cca886"
      },
      "execution_count": null,
      "outputs": [
        {
          "output_type": "execute_result",
          "data": {
            "text/plain": [
              "        MMM_YY  Driver_ID   Age  Gender City  Education_Level  Income_Sum  \\\n",
              "0      2019-02          1  28.0     0.0  C23                2       57387   \n",
              "1      2019-03          1  28.0     0.0  C23                2       57387   \n",
              "2      2020-11          2  31.0     0.0   C7                2       67016   \n",
              "3      2020-12          2  31.0     0.0   C7                2       67016   \n",
              "4      2019-12          4  43.0     0.0  C13                2       65603   \n",
              "...        ...        ...   ...     ...  ...              ...         ...   \n",
              "17728  2020-08       2788  30.0     0.0  C27                2       70254   \n",
              "17729  2020-09       2788  30.0     0.0  C27                2       70254   \n",
              "17730  2020-10       2788  30.0     0.0  C27                2       70254   \n",
              "17731  2020-11       2788  30.0     0.0  C27                2       70254   \n",
              "17732  2020-12       2788  30.0     0.0  C27                2       70254   \n",
              "\n",
              "      Date_Of_Joining Last_Working_Date  Joining_Designation  Grade  \\\n",
              "0             2018-12               NaT                    1      1   \n",
              "1             2018-12           2019-03                    1      1   \n",
              "2             2020-11               NaT                    2      2   \n",
              "3             2020-11               NaT                    2      2   \n",
              "4             2019-12               NaT                    2      2   \n",
              "...               ...               ...                  ...    ...   \n",
              "17728         2020-06               NaT                    2      2   \n",
              "17729         2020-06               NaT                    2      2   \n",
              "17730         2020-06               NaT                    2      2   \n",
              "17731         2020-06               NaT                    2      2   \n",
              "17732         2020-06               NaT                    2      2   \n",
              "\n",
              "       Total_Business_Value  Quarterly_Rating  \n",
              "0                   -665480                 2  \n",
              "1                         0                 2  \n",
              "2                         0                 1  \n",
              "3                         0                 1  \n",
              "4                         0                 1  \n",
              "...                     ...               ...  \n",
              "17728                740280                 3  \n",
              "17729                448370                 3  \n",
              "17730                     0                 2  \n",
              "17731                200420                 2  \n",
              "17732                411480                 2  \n",
              "\n",
              "[17733 rows x 13 columns]"
            ],
            "text/html": [
              "\n",
              "  <div id=\"df-7f4a99e7-b528-43f3-b8c8-daae5935c883\">\n",
              "    <div class=\"colab-df-container\">\n",
              "      <div>\n",
              "<style scoped>\n",
              "    .dataframe tbody tr th:only-of-type {\n",
              "        vertical-align: middle;\n",
              "    }\n",
              "\n",
              "    .dataframe tbody tr th {\n",
              "        vertical-align: top;\n",
              "    }\n",
              "\n",
              "    .dataframe thead th {\n",
              "        text-align: right;\n",
              "    }\n",
              "</style>\n",
              "<table border=\"1\" class=\"dataframe\">\n",
              "  <thead>\n",
              "    <tr style=\"text-align: right;\">\n",
              "      <th></th>\n",
              "      <th>MMM_YY</th>\n",
              "      <th>Driver_ID</th>\n",
              "      <th>Age</th>\n",
              "      <th>Gender</th>\n",
              "      <th>City</th>\n",
              "      <th>Education_Level</th>\n",
              "      <th>Income_Sum</th>\n",
              "      <th>Date_Of_Joining</th>\n",
              "      <th>Last_Working_Date</th>\n",
              "      <th>Joining_Designation</th>\n",
              "      <th>Grade</th>\n",
              "      <th>Total_Business_Value</th>\n",
              "      <th>Quarterly_Rating</th>\n",
              "    </tr>\n",
              "  </thead>\n",
              "  <tbody>\n",
              "    <tr>\n",
              "      <th>0</th>\n",
              "      <td>2019-02</td>\n",
              "      <td>1</td>\n",
              "      <td>28.0</td>\n",
              "      <td>0.0</td>\n",
              "      <td>C23</td>\n",
              "      <td>2</td>\n",
              "      <td>57387</td>\n",
              "      <td>2018-12</td>\n",
              "      <td>NaT</td>\n",
              "      <td>1</td>\n",
              "      <td>1</td>\n",
              "      <td>-665480</td>\n",
              "      <td>2</td>\n",
              "    </tr>\n",
              "    <tr>\n",
              "      <th>1</th>\n",
              "      <td>2019-03</td>\n",
              "      <td>1</td>\n",
              "      <td>28.0</td>\n",
              "      <td>0.0</td>\n",
              "      <td>C23</td>\n",
              "      <td>2</td>\n",
              "      <td>57387</td>\n",
              "      <td>2018-12</td>\n",
              "      <td>2019-03</td>\n",
              "      <td>1</td>\n",
              "      <td>1</td>\n",
              "      <td>0</td>\n",
              "      <td>2</td>\n",
              "    </tr>\n",
              "    <tr>\n",
              "      <th>2</th>\n",
              "      <td>2020-11</td>\n",
              "      <td>2</td>\n",
              "      <td>31.0</td>\n",
              "      <td>0.0</td>\n",
              "      <td>C7</td>\n",
              "      <td>2</td>\n",
              "      <td>67016</td>\n",
              "      <td>2020-11</td>\n",
              "      <td>NaT</td>\n",
              "      <td>2</td>\n",
              "      <td>2</td>\n",
              "      <td>0</td>\n",
              "      <td>1</td>\n",
              "    </tr>\n",
              "    <tr>\n",
              "      <th>3</th>\n",
              "      <td>2020-12</td>\n",
              "      <td>2</td>\n",
              "      <td>31.0</td>\n",
              "      <td>0.0</td>\n",
              "      <td>C7</td>\n",
              "      <td>2</td>\n",
              "      <td>67016</td>\n",
              "      <td>2020-11</td>\n",
              "      <td>NaT</td>\n",
              "      <td>2</td>\n",
              "      <td>2</td>\n",
              "      <td>0</td>\n",
              "      <td>1</td>\n",
              "    </tr>\n",
              "    <tr>\n",
              "      <th>4</th>\n",
              "      <td>2019-12</td>\n",
              "      <td>4</td>\n",
              "      <td>43.0</td>\n",
              "      <td>0.0</td>\n",
              "      <td>C13</td>\n",
              "      <td>2</td>\n",
              "      <td>65603</td>\n",
              "      <td>2019-12</td>\n",
              "      <td>NaT</td>\n",
              "      <td>2</td>\n",
              "      <td>2</td>\n",
              "      <td>0</td>\n",
              "      <td>1</td>\n",
              "    </tr>\n",
              "    <tr>\n",
              "      <th>...</th>\n",
              "      <td>...</td>\n",
              "      <td>...</td>\n",
              "      <td>...</td>\n",
              "      <td>...</td>\n",
              "      <td>...</td>\n",
              "      <td>...</td>\n",
              "      <td>...</td>\n",
              "      <td>...</td>\n",
              "      <td>...</td>\n",
              "      <td>...</td>\n",
              "      <td>...</td>\n",
              "      <td>...</td>\n",
              "      <td>...</td>\n",
              "    </tr>\n",
              "    <tr>\n",
              "      <th>17728</th>\n",
              "      <td>2020-08</td>\n",
              "      <td>2788</td>\n",
              "      <td>30.0</td>\n",
              "      <td>0.0</td>\n",
              "      <td>C27</td>\n",
              "      <td>2</td>\n",
              "      <td>70254</td>\n",
              "      <td>2020-06</td>\n",
              "      <td>NaT</td>\n",
              "      <td>2</td>\n",
              "      <td>2</td>\n",
              "      <td>740280</td>\n",
              "      <td>3</td>\n",
              "    </tr>\n",
              "    <tr>\n",
              "      <th>17729</th>\n",
              "      <td>2020-09</td>\n",
              "      <td>2788</td>\n",
              "      <td>30.0</td>\n",
              "      <td>0.0</td>\n",
              "      <td>C27</td>\n",
              "      <td>2</td>\n",
              "      <td>70254</td>\n",
              "      <td>2020-06</td>\n",
              "      <td>NaT</td>\n",
              "      <td>2</td>\n",
              "      <td>2</td>\n",
              "      <td>448370</td>\n",
              "      <td>3</td>\n",
              "    </tr>\n",
              "    <tr>\n",
              "      <th>17730</th>\n",
              "      <td>2020-10</td>\n",
              "      <td>2788</td>\n",
              "      <td>30.0</td>\n",
              "      <td>0.0</td>\n",
              "      <td>C27</td>\n",
              "      <td>2</td>\n",
              "      <td>70254</td>\n",
              "      <td>2020-06</td>\n",
              "      <td>NaT</td>\n",
              "      <td>2</td>\n",
              "      <td>2</td>\n",
              "      <td>0</td>\n",
              "      <td>2</td>\n",
              "    </tr>\n",
              "    <tr>\n",
              "      <th>17731</th>\n",
              "      <td>2020-11</td>\n",
              "      <td>2788</td>\n",
              "      <td>30.0</td>\n",
              "      <td>0.0</td>\n",
              "      <td>C27</td>\n",
              "      <td>2</td>\n",
              "      <td>70254</td>\n",
              "      <td>2020-06</td>\n",
              "      <td>NaT</td>\n",
              "      <td>2</td>\n",
              "      <td>2</td>\n",
              "      <td>200420</td>\n",
              "      <td>2</td>\n",
              "    </tr>\n",
              "    <tr>\n",
              "      <th>17732</th>\n",
              "      <td>2020-12</td>\n",
              "      <td>2788</td>\n",
              "      <td>30.0</td>\n",
              "      <td>0.0</td>\n",
              "      <td>C27</td>\n",
              "      <td>2</td>\n",
              "      <td>70254</td>\n",
              "      <td>2020-06</td>\n",
              "      <td>NaT</td>\n",
              "      <td>2</td>\n",
              "      <td>2</td>\n",
              "      <td>411480</td>\n",
              "      <td>2</td>\n",
              "    </tr>\n",
              "  </tbody>\n",
              "</table>\n",
              "<p>17733 rows × 13 columns</p>\n",
              "</div>\n",
              "      <button class=\"colab-df-convert\" onclick=\"convertToInteractive('df-7f4a99e7-b528-43f3-b8c8-daae5935c883')\"\n",
              "              title=\"Convert this dataframe to an interactive table.\"\n",
              "              style=\"display:none;\">\n",
              "        \n",
              "  <svg xmlns=\"http://www.w3.org/2000/svg\" height=\"24px\"viewBox=\"0 0 24 24\"\n",
              "       width=\"24px\">\n",
              "    <path d=\"M0 0h24v24H0V0z\" fill=\"none\"/>\n",
              "    <path d=\"M18.56 5.44l.94 2.06.94-2.06 2.06-.94-2.06-.94-.94-2.06-.94 2.06-2.06.94zm-11 1L8.5 8.5l.94-2.06 2.06-.94-2.06-.94L8.5 2.5l-.94 2.06-2.06.94zm10 10l.94 2.06.94-2.06 2.06-.94-2.06-.94-.94-2.06-.94 2.06-2.06.94z\"/><path d=\"M17.41 7.96l-1.37-1.37c-.4-.4-.92-.59-1.43-.59-.52 0-1.04.2-1.43.59L10.3 9.45l-7.72 7.72c-.78.78-.78 2.05 0 2.83L4 21.41c.39.39.9.59 1.41.59.51 0 1.02-.2 1.41-.59l7.78-7.78 2.81-2.81c.8-.78.8-2.07 0-2.86zM5.41 20L4 18.59l7.72-7.72 1.47 1.35L5.41 20z\"/>\n",
              "  </svg>\n",
              "      </button>\n",
              "      \n",
              "  <style>\n",
              "    .colab-df-container {\n",
              "      display:flex;\n",
              "      flex-wrap:wrap;\n",
              "      gap: 12px;\n",
              "    }\n",
              "\n",
              "    .colab-df-convert {\n",
              "      background-color: #E8F0FE;\n",
              "      border: none;\n",
              "      border-radius: 50%;\n",
              "      cursor: pointer;\n",
              "      display: none;\n",
              "      fill: #1967D2;\n",
              "      height: 32px;\n",
              "      padding: 0 0 0 0;\n",
              "      width: 32px;\n",
              "    }\n",
              "\n",
              "    .colab-df-convert:hover {\n",
              "      background-color: #E2EBFA;\n",
              "      box-shadow: 0px 1px 2px rgba(60, 64, 67, 0.3), 0px 1px 3px 1px rgba(60, 64, 67, 0.15);\n",
              "      fill: #174EA6;\n",
              "    }\n",
              "\n",
              "    [theme=dark] .colab-df-convert {\n",
              "      background-color: #3B4455;\n",
              "      fill: #D2E3FC;\n",
              "    }\n",
              "\n",
              "    [theme=dark] .colab-df-convert:hover {\n",
              "      background-color: #434B5C;\n",
              "      box-shadow: 0px 1px 3px 1px rgba(0, 0, 0, 0.15);\n",
              "      filter: drop-shadow(0px 1px 2px rgba(0, 0, 0, 0.3));\n",
              "      fill: #FFFFFF;\n",
              "    }\n",
              "  </style>\n",
              "\n",
              "      <script>\n",
              "        const buttonEl =\n",
              "          document.querySelector('#df-7f4a99e7-b528-43f3-b8c8-daae5935c883 button.colab-df-convert');\n",
              "        buttonEl.style.display =\n",
              "          google.colab.kernel.accessAllowed ? 'block' : 'none';\n",
              "\n",
              "        async function convertToInteractive(key) {\n",
              "          const element = document.querySelector('#df-7f4a99e7-b528-43f3-b8c8-daae5935c883');\n",
              "          const dataTable =\n",
              "            await google.colab.kernel.invokeFunction('convertToInteractive',\n",
              "                                                     [key], {});\n",
              "          if (!dataTable) return;\n",
              "\n",
              "          const docLinkHtml = 'Like what you see? Visit the ' +\n",
              "            '<a target=\"_blank\" href=https://colab.research.google.com/notebooks/data_table.ipynb>data table notebook</a>'\n",
              "            + ' to learn more about interactive tables.';\n",
              "          element.innerHTML = '';\n",
              "          dataTable['output_type'] = 'display_data';\n",
              "          await google.colab.output.renderOutput(dataTable, element);\n",
              "          const docLink = document.createElement('div');\n",
              "          docLink.innerHTML = docLinkHtml;\n",
              "          element.appendChild(docLink);\n",
              "        }\n",
              "      </script>\n",
              "    </div>\n",
              "  </div>\n",
              "  "
            ]
          },
          "metadata": {},
          "execution_count": 23
        }
      ]
    },
    {
      "cell_type": "markdown",
      "source": [
        "We have to create new columns like Income at the time of joining and the latest income and similary for joining grade and the latest grade and also quarterly rating at the time of joining and the latest quarterly grade."
      ],
      "metadata": {
        "id": "B2e20UsE11yd"
      }
    },
    {
      "cell_type": "markdown",
      "source": [
        "##Aggregating data as per Driver_ID"
      ],
      "metadata": {
        "id": "REhfQEF0hWdg"
      }
    },
    {
      "cell_type": "code",
      "source": [
        "joining_and_latest_income=df3.groupby(['Driver_ID']).agg(Income_Joined=('Income_Sum','first'),Income_Now=('Income_Sum','last'))\n",
        "joining_and_latest_income.reset_index(inplace=True)"
      ],
      "metadata": {
        "id": "MDatcdmo2fh7"
      },
      "execution_count": null,
      "outputs": []
    },
    {
      "cell_type": "code",
      "source": [
        "# joining_and_latest_income[(joining_and_latest_income['Income_Joined']!=joining_and_latest_income['Income_Now'])]"
      ],
      "metadata": {
        "id": "bpV9tYLE4BR1"
      },
      "execution_count": null,
      "outputs": []
    },
    {
      "cell_type": "code",
      "source": [
        "joining_and_latest_Quarterly_Rating=df3.groupby(['Driver_ID']).agg(Quarterly_Rating_Joined=('Quarterly_Rating','first'),Quarterly_Rating_Now=('Quarterly_Rating','last'))\n",
        "joining_and_latest_Quarterly_Rating.reset_index(inplace=True)"
      ],
      "metadata": {
        "id": "Y_aOB1wF4xmT"
      },
      "execution_count": null,
      "outputs": []
    },
    {
      "cell_type": "code",
      "source": [
        "joining_and_latest_grade=df3.groupby(['Driver_ID']).agg(Grade_Joined=('Grade','first'),Grade_Now=('Grade','last'))\n",
        "joining_and_latest_grade.reset_index(inplace=True)"
      ],
      "metadata": {
        "id": "cZW4vnwx5F26"
      },
      "execution_count": null,
      "outputs": []
    },
    {
      "cell_type": "code",
      "source": [
        "joining_and_latest_grade"
      ],
      "metadata": {
        "colab": {
          "base_uri": "https://localhost:8080/",
          "height": 424
        },
        "id": "in-u0Q-PNA8y",
        "outputId": "ee87b75f-7613-45b6-8094-a3f5a04e34fc"
      },
      "execution_count": null,
      "outputs": [
        {
          "output_type": "execute_result",
          "data": {
            "text/plain": [
              "      Driver_ID  Grade_Joined  Grade_Now\n",
              "0             1             1          1\n",
              "1             2             2          2\n",
              "2             4             2          2\n",
              "3             5             1          1\n",
              "4             6             3          3\n",
              "...         ...           ...        ...\n",
              "2376       2784             3          3\n",
              "2377       2785             1          1\n",
              "2378       2786             2          2\n",
              "2379       2787             1          1\n",
              "2380       2788             2          2\n",
              "\n",
              "[2381 rows x 3 columns]"
            ],
            "text/html": [
              "\n",
              "  <div id=\"df-0dceaa70-8884-4661-87bd-54f63958c1ef\">\n",
              "    <div class=\"colab-df-container\">\n",
              "      <div>\n",
              "<style scoped>\n",
              "    .dataframe tbody tr th:only-of-type {\n",
              "        vertical-align: middle;\n",
              "    }\n",
              "\n",
              "    .dataframe tbody tr th {\n",
              "        vertical-align: top;\n",
              "    }\n",
              "\n",
              "    .dataframe thead th {\n",
              "        text-align: right;\n",
              "    }\n",
              "</style>\n",
              "<table border=\"1\" class=\"dataframe\">\n",
              "  <thead>\n",
              "    <tr style=\"text-align: right;\">\n",
              "      <th></th>\n",
              "      <th>Driver_ID</th>\n",
              "      <th>Grade_Joined</th>\n",
              "      <th>Grade_Now</th>\n",
              "    </tr>\n",
              "  </thead>\n",
              "  <tbody>\n",
              "    <tr>\n",
              "      <th>0</th>\n",
              "      <td>1</td>\n",
              "      <td>1</td>\n",
              "      <td>1</td>\n",
              "    </tr>\n",
              "    <tr>\n",
              "      <th>1</th>\n",
              "      <td>2</td>\n",
              "      <td>2</td>\n",
              "      <td>2</td>\n",
              "    </tr>\n",
              "    <tr>\n",
              "      <th>2</th>\n",
              "      <td>4</td>\n",
              "      <td>2</td>\n",
              "      <td>2</td>\n",
              "    </tr>\n",
              "    <tr>\n",
              "      <th>3</th>\n",
              "      <td>5</td>\n",
              "      <td>1</td>\n",
              "      <td>1</td>\n",
              "    </tr>\n",
              "    <tr>\n",
              "      <th>4</th>\n",
              "      <td>6</td>\n",
              "      <td>3</td>\n",
              "      <td>3</td>\n",
              "    </tr>\n",
              "    <tr>\n",
              "      <th>...</th>\n",
              "      <td>...</td>\n",
              "      <td>...</td>\n",
              "      <td>...</td>\n",
              "    </tr>\n",
              "    <tr>\n",
              "      <th>2376</th>\n",
              "      <td>2784</td>\n",
              "      <td>3</td>\n",
              "      <td>3</td>\n",
              "    </tr>\n",
              "    <tr>\n",
              "      <th>2377</th>\n",
              "      <td>2785</td>\n",
              "      <td>1</td>\n",
              "      <td>1</td>\n",
              "    </tr>\n",
              "    <tr>\n",
              "      <th>2378</th>\n",
              "      <td>2786</td>\n",
              "      <td>2</td>\n",
              "      <td>2</td>\n",
              "    </tr>\n",
              "    <tr>\n",
              "      <th>2379</th>\n",
              "      <td>2787</td>\n",
              "      <td>1</td>\n",
              "      <td>1</td>\n",
              "    </tr>\n",
              "    <tr>\n",
              "      <th>2380</th>\n",
              "      <td>2788</td>\n",
              "      <td>2</td>\n",
              "      <td>2</td>\n",
              "    </tr>\n",
              "  </tbody>\n",
              "</table>\n",
              "<p>2381 rows × 3 columns</p>\n",
              "</div>\n",
              "      <button class=\"colab-df-convert\" onclick=\"convertToInteractive('df-0dceaa70-8884-4661-87bd-54f63958c1ef')\"\n",
              "              title=\"Convert this dataframe to an interactive table.\"\n",
              "              style=\"display:none;\">\n",
              "        \n",
              "  <svg xmlns=\"http://www.w3.org/2000/svg\" height=\"24px\"viewBox=\"0 0 24 24\"\n",
              "       width=\"24px\">\n",
              "    <path d=\"M0 0h24v24H0V0z\" fill=\"none\"/>\n",
              "    <path d=\"M18.56 5.44l.94 2.06.94-2.06 2.06-.94-2.06-.94-.94-2.06-.94 2.06-2.06.94zm-11 1L8.5 8.5l.94-2.06 2.06-.94-2.06-.94L8.5 2.5l-.94 2.06-2.06.94zm10 10l.94 2.06.94-2.06 2.06-.94-2.06-.94-.94-2.06-.94 2.06-2.06.94z\"/><path d=\"M17.41 7.96l-1.37-1.37c-.4-.4-.92-.59-1.43-.59-.52 0-1.04.2-1.43.59L10.3 9.45l-7.72 7.72c-.78.78-.78 2.05 0 2.83L4 21.41c.39.39.9.59 1.41.59.51 0 1.02-.2 1.41-.59l7.78-7.78 2.81-2.81c.8-.78.8-2.07 0-2.86zM5.41 20L4 18.59l7.72-7.72 1.47 1.35L5.41 20z\"/>\n",
              "  </svg>\n",
              "      </button>\n",
              "      \n",
              "  <style>\n",
              "    .colab-df-container {\n",
              "      display:flex;\n",
              "      flex-wrap:wrap;\n",
              "      gap: 12px;\n",
              "    }\n",
              "\n",
              "    .colab-df-convert {\n",
              "      background-color: #E8F0FE;\n",
              "      border: none;\n",
              "      border-radius: 50%;\n",
              "      cursor: pointer;\n",
              "      display: none;\n",
              "      fill: #1967D2;\n",
              "      height: 32px;\n",
              "      padding: 0 0 0 0;\n",
              "      width: 32px;\n",
              "    }\n",
              "\n",
              "    .colab-df-convert:hover {\n",
              "      background-color: #E2EBFA;\n",
              "      box-shadow: 0px 1px 2px rgba(60, 64, 67, 0.3), 0px 1px 3px 1px rgba(60, 64, 67, 0.15);\n",
              "      fill: #174EA6;\n",
              "    }\n",
              "\n",
              "    [theme=dark] .colab-df-convert {\n",
              "      background-color: #3B4455;\n",
              "      fill: #D2E3FC;\n",
              "    }\n",
              "\n",
              "    [theme=dark] .colab-df-convert:hover {\n",
              "      background-color: #434B5C;\n",
              "      box-shadow: 0px 1px 3px 1px rgba(0, 0, 0, 0.15);\n",
              "      filter: drop-shadow(0px 1px 2px rgba(0, 0, 0, 0.3));\n",
              "      fill: #FFFFFF;\n",
              "    }\n",
              "  </style>\n",
              "\n",
              "      <script>\n",
              "        const buttonEl =\n",
              "          document.querySelector('#df-0dceaa70-8884-4661-87bd-54f63958c1ef button.colab-df-convert');\n",
              "        buttonEl.style.display =\n",
              "          google.colab.kernel.accessAllowed ? 'block' : 'none';\n",
              "\n",
              "        async function convertToInteractive(key) {\n",
              "          const element = document.querySelector('#df-0dceaa70-8884-4661-87bd-54f63958c1ef');\n",
              "          const dataTable =\n",
              "            await google.colab.kernel.invokeFunction('convertToInteractive',\n",
              "                                                     [key], {});\n",
              "          if (!dataTable) return;\n",
              "\n",
              "          const docLinkHtml = 'Like what you see? Visit the ' +\n",
              "            '<a target=\"_blank\" href=https://colab.research.google.com/notebooks/data_table.ipynb>data table notebook</a>'\n",
              "            + ' to learn more about interactive tables.';\n",
              "          element.innerHTML = '';\n",
              "          dataTable['output_type'] = 'display_data';\n",
              "          await google.colab.output.renderOutput(dataTable, element);\n",
              "          const docLink = document.createElement('div');\n",
              "          docLink.innerHTML = docLinkHtml;\n",
              "          element.appendChild(docLink);\n",
              "        }\n",
              "      </script>\n",
              "    </div>\n",
              "  </div>\n",
              "  "
            ]
          },
          "metadata": {},
          "execution_count": 28
        }
      ]
    },
    {
      "cell_type": "code",
      "source": [
        "joining_and_latest_grade[(joining_and_latest_grade['Grade_Joined'])>(joining_and_latest_grade['Grade_Now'])]"
      ],
      "metadata": {
        "colab": {
          "base_uri": "https://localhost:8080/",
          "height": 49
        },
        "id": "QVWs4WNtLLwn",
        "outputId": "eb009fdf-fe1e-48b8-8bf7-195f7dbb3d4c"
      },
      "execution_count": null,
      "outputs": [
        {
          "output_type": "execute_result",
          "data": {
            "text/plain": [
              "Empty DataFrame\n",
              "Columns: [Driver_ID, Grade_Joined, Grade_Now]\n",
              "Index: []"
            ],
            "text/html": [
              "\n",
              "  <div id=\"df-a7b4d3cb-f3b6-434f-a7a3-a772f51ecfd9\">\n",
              "    <div class=\"colab-df-container\">\n",
              "      <div>\n",
              "<style scoped>\n",
              "    .dataframe tbody tr th:only-of-type {\n",
              "        vertical-align: middle;\n",
              "    }\n",
              "\n",
              "    .dataframe tbody tr th {\n",
              "        vertical-align: top;\n",
              "    }\n",
              "\n",
              "    .dataframe thead th {\n",
              "        text-align: right;\n",
              "    }\n",
              "</style>\n",
              "<table border=\"1\" class=\"dataframe\">\n",
              "  <thead>\n",
              "    <tr style=\"text-align: right;\">\n",
              "      <th></th>\n",
              "      <th>Driver_ID</th>\n",
              "      <th>Grade_Joined</th>\n",
              "      <th>Grade_Now</th>\n",
              "    </tr>\n",
              "  </thead>\n",
              "  <tbody>\n",
              "  </tbody>\n",
              "</table>\n",
              "</div>\n",
              "      <button class=\"colab-df-convert\" onclick=\"convertToInteractive('df-a7b4d3cb-f3b6-434f-a7a3-a772f51ecfd9')\"\n",
              "              title=\"Convert this dataframe to an interactive table.\"\n",
              "              style=\"display:none;\">\n",
              "        \n",
              "  <svg xmlns=\"http://www.w3.org/2000/svg\" height=\"24px\"viewBox=\"0 0 24 24\"\n",
              "       width=\"24px\">\n",
              "    <path d=\"M0 0h24v24H0V0z\" fill=\"none\"/>\n",
              "    <path d=\"M18.56 5.44l.94 2.06.94-2.06 2.06-.94-2.06-.94-.94-2.06-.94 2.06-2.06.94zm-11 1L8.5 8.5l.94-2.06 2.06-.94-2.06-.94L8.5 2.5l-.94 2.06-2.06.94zm10 10l.94 2.06.94-2.06 2.06-.94-2.06-.94-.94-2.06-.94 2.06-2.06.94z\"/><path d=\"M17.41 7.96l-1.37-1.37c-.4-.4-.92-.59-1.43-.59-.52 0-1.04.2-1.43.59L10.3 9.45l-7.72 7.72c-.78.78-.78 2.05 0 2.83L4 21.41c.39.39.9.59 1.41.59.51 0 1.02-.2 1.41-.59l7.78-7.78 2.81-2.81c.8-.78.8-2.07 0-2.86zM5.41 20L4 18.59l7.72-7.72 1.47 1.35L5.41 20z\"/>\n",
              "  </svg>\n",
              "      </button>\n",
              "      \n",
              "  <style>\n",
              "    .colab-df-container {\n",
              "      display:flex;\n",
              "      flex-wrap:wrap;\n",
              "      gap: 12px;\n",
              "    }\n",
              "\n",
              "    .colab-df-convert {\n",
              "      background-color: #E8F0FE;\n",
              "      border: none;\n",
              "      border-radius: 50%;\n",
              "      cursor: pointer;\n",
              "      display: none;\n",
              "      fill: #1967D2;\n",
              "      height: 32px;\n",
              "      padding: 0 0 0 0;\n",
              "      width: 32px;\n",
              "    }\n",
              "\n",
              "    .colab-df-convert:hover {\n",
              "      background-color: #E2EBFA;\n",
              "      box-shadow: 0px 1px 2px rgba(60, 64, 67, 0.3), 0px 1px 3px 1px rgba(60, 64, 67, 0.15);\n",
              "      fill: #174EA6;\n",
              "    }\n",
              "\n",
              "    [theme=dark] .colab-df-convert {\n",
              "      background-color: #3B4455;\n",
              "      fill: #D2E3FC;\n",
              "    }\n",
              "\n",
              "    [theme=dark] .colab-df-convert:hover {\n",
              "      background-color: #434B5C;\n",
              "      box-shadow: 0px 1px 3px 1px rgba(0, 0, 0, 0.15);\n",
              "      filter: drop-shadow(0px 1px 2px rgba(0, 0, 0, 0.3));\n",
              "      fill: #FFFFFF;\n",
              "    }\n",
              "  </style>\n",
              "\n",
              "      <script>\n",
              "        const buttonEl =\n",
              "          document.querySelector('#df-a7b4d3cb-f3b6-434f-a7a3-a772f51ecfd9 button.colab-df-convert');\n",
              "        buttonEl.style.display =\n",
              "          google.colab.kernel.accessAllowed ? 'block' : 'none';\n",
              "\n",
              "        async function convertToInteractive(key) {\n",
              "          const element = document.querySelector('#df-a7b4d3cb-f3b6-434f-a7a3-a772f51ecfd9');\n",
              "          const dataTable =\n",
              "            await google.colab.kernel.invokeFunction('convertToInteractive',\n",
              "                                                     [key], {});\n",
              "          if (!dataTable) return;\n",
              "\n",
              "          const docLinkHtml = 'Like what you see? Visit the ' +\n",
              "            '<a target=\"_blank\" href=https://colab.research.google.com/notebooks/data_table.ipynb>data table notebook</a>'\n",
              "            + ' to learn more about interactive tables.';\n",
              "          element.innerHTML = '';\n",
              "          dataTable['output_type'] = 'display_data';\n",
              "          await google.colab.output.renderOutput(dataTable, element);\n",
              "          const docLink = document.createElement('div');\n",
              "          docLink.innerHTML = docLinkHtml;\n",
              "          element.appendChild(docLink);\n",
              "        }\n",
              "      </script>\n",
              "    </div>\n",
              "  </div>\n",
              "  "
            ]
          },
          "metadata": {},
          "execution_count": 29
        }
      ]
    },
    {
      "cell_type": "markdown",
      "source": [
        "Join the tables above with main df based on driver_id"
      ],
      "metadata": {
        "id": "3OERnAXMMER8"
      }
    },
    {
      "cell_type": "code",
      "source": [
        "joining_and_latest_income"
      ],
      "metadata": {
        "colab": {
          "base_uri": "https://localhost:8080/",
          "height": 424
        },
        "id": "VpMiAm4QOdXh",
        "outputId": "5675aef6-fe76-44ba-b86d-6a2435bee2e4"
      },
      "execution_count": null,
      "outputs": [
        {
          "output_type": "execute_result",
          "data": {
            "text/plain": [
              "      Driver_ID  Income_Joined  Income_Now\n",
              "0             1          57387       57387\n",
              "1             2          67016       67016\n",
              "2             4          65603       65603\n",
              "3             5          46368       46368\n",
              "4             6          78728       78728\n",
              "...         ...            ...         ...\n",
              "2376       2784          82815       82815\n",
              "2377       2785          12105       12105\n",
              "2378       2786          35370       35370\n",
              "2379       2787          69498       69498\n",
              "2380       2788          70254       70254\n",
              "\n",
              "[2381 rows x 3 columns]"
            ],
            "text/html": [
              "\n",
              "  <div id=\"df-2f29a5b7-7e35-4405-9ee7-35825e31b8b8\">\n",
              "    <div class=\"colab-df-container\">\n",
              "      <div>\n",
              "<style scoped>\n",
              "    .dataframe tbody tr th:only-of-type {\n",
              "        vertical-align: middle;\n",
              "    }\n",
              "\n",
              "    .dataframe tbody tr th {\n",
              "        vertical-align: top;\n",
              "    }\n",
              "\n",
              "    .dataframe thead th {\n",
              "        text-align: right;\n",
              "    }\n",
              "</style>\n",
              "<table border=\"1\" class=\"dataframe\">\n",
              "  <thead>\n",
              "    <tr style=\"text-align: right;\">\n",
              "      <th></th>\n",
              "      <th>Driver_ID</th>\n",
              "      <th>Income_Joined</th>\n",
              "      <th>Income_Now</th>\n",
              "    </tr>\n",
              "  </thead>\n",
              "  <tbody>\n",
              "    <tr>\n",
              "      <th>0</th>\n",
              "      <td>1</td>\n",
              "      <td>57387</td>\n",
              "      <td>57387</td>\n",
              "    </tr>\n",
              "    <tr>\n",
              "      <th>1</th>\n",
              "      <td>2</td>\n",
              "      <td>67016</td>\n",
              "      <td>67016</td>\n",
              "    </tr>\n",
              "    <tr>\n",
              "      <th>2</th>\n",
              "      <td>4</td>\n",
              "      <td>65603</td>\n",
              "      <td>65603</td>\n",
              "    </tr>\n",
              "    <tr>\n",
              "      <th>3</th>\n",
              "      <td>5</td>\n",
              "      <td>46368</td>\n",
              "      <td>46368</td>\n",
              "    </tr>\n",
              "    <tr>\n",
              "      <th>4</th>\n",
              "      <td>6</td>\n",
              "      <td>78728</td>\n",
              "      <td>78728</td>\n",
              "    </tr>\n",
              "    <tr>\n",
              "      <th>...</th>\n",
              "      <td>...</td>\n",
              "      <td>...</td>\n",
              "      <td>...</td>\n",
              "    </tr>\n",
              "    <tr>\n",
              "      <th>2376</th>\n",
              "      <td>2784</td>\n",
              "      <td>82815</td>\n",
              "      <td>82815</td>\n",
              "    </tr>\n",
              "    <tr>\n",
              "      <th>2377</th>\n",
              "      <td>2785</td>\n",
              "      <td>12105</td>\n",
              "      <td>12105</td>\n",
              "    </tr>\n",
              "    <tr>\n",
              "      <th>2378</th>\n",
              "      <td>2786</td>\n",
              "      <td>35370</td>\n",
              "      <td>35370</td>\n",
              "    </tr>\n",
              "    <tr>\n",
              "      <th>2379</th>\n",
              "      <td>2787</td>\n",
              "      <td>69498</td>\n",
              "      <td>69498</td>\n",
              "    </tr>\n",
              "    <tr>\n",
              "      <th>2380</th>\n",
              "      <td>2788</td>\n",
              "      <td>70254</td>\n",
              "      <td>70254</td>\n",
              "    </tr>\n",
              "  </tbody>\n",
              "</table>\n",
              "<p>2381 rows × 3 columns</p>\n",
              "</div>\n",
              "      <button class=\"colab-df-convert\" onclick=\"convertToInteractive('df-2f29a5b7-7e35-4405-9ee7-35825e31b8b8')\"\n",
              "              title=\"Convert this dataframe to an interactive table.\"\n",
              "              style=\"display:none;\">\n",
              "        \n",
              "  <svg xmlns=\"http://www.w3.org/2000/svg\" height=\"24px\"viewBox=\"0 0 24 24\"\n",
              "       width=\"24px\">\n",
              "    <path d=\"M0 0h24v24H0V0z\" fill=\"none\"/>\n",
              "    <path d=\"M18.56 5.44l.94 2.06.94-2.06 2.06-.94-2.06-.94-.94-2.06-.94 2.06-2.06.94zm-11 1L8.5 8.5l.94-2.06 2.06-.94-2.06-.94L8.5 2.5l-.94 2.06-2.06.94zm10 10l.94 2.06.94-2.06 2.06-.94-2.06-.94-.94-2.06-.94 2.06-2.06.94z\"/><path d=\"M17.41 7.96l-1.37-1.37c-.4-.4-.92-.59-1.43-.59-.52 0-1.04.2-1.43.59L10.3 9.45l-7.72 7.72c-.78.78-.78 2.05 0 2.83L4 21.41c.39.39.9.59 1.41.59.51 0 1.02-.2 1.41-.59l7.78-7.78 2.81-2.81c.8-.78.8-2.07 0-2.86zM5.41 20L4 18.59l7.72-7.72 1.47 1.35L5.41 20z\"/>\n",
              "  </svg>\n",
              "      </button>\n",
              "      \n",
              "  <style>\n",
              "    .colab-df-container {\n",
              "      display:flex;\n",
              "      flex-wrap:wrap;\n",
              "      gap: 12px;\n",
              "    }\n",
              "\n",
              "    .colab-df-convert {\n",
              "      background-color: #E8F0FE;\n",
              "      border: none;\n",
              "      border-radius: 50%;\n",
              "      cursor: pointer;\n",
              "      display: none;\n",
              "      fill: #1967D2;\n",
              "      height: 32px;\n",
              "      padding: 0 0 0 0;\n",
              "      width: 32px;\n",
              "    }\n",
              "\n",
              "    .colab-df-convert:hover {\n",
              "      background-color: #E2EBFA;\n",
              "      box-shadow: 0px 1px 2px rgba(60, 64, 67, 0.3), 0px 1px 3px 1px rgba(60, 64, 67, 0.15);\n",
              "      fill: #174EA6;\n",
              "    }\n",
              "\n",
              "    [theme=dark] .colab-df-convert {\n",
              "      background-color: #3B4455;\n",
              "      fill: #D2E3FC;\n",
              "    }\n",
              "\n",
              "    [theme=dark] .colab-df-convert:hover {\n",
              "      background-color: #434B5C;\n",
              "      box-shadow: 0px 1px 3px 1px rgba(0, 0, 0, 0.15);\n",
              "      filter: drop-shadow(0px 1px 2px rgba(0, 0, 0, 0.3));\n",
              "      fill: #FFFFFF;\n",
              "    }\n",
              "  </style>\n",
              "\n",
              "      <script>\n",
              "        const buttonEl =\n",
              "          document.querySelector('#df-2f29a5b7-7e35-4405-9ee7-35825e31b8b8 button.colab-df-convert');\n",
              "        buttonEl.style.display =\n",
              "          google.colab.kernel.accessAllowed ? 'block' : 'none';\n",
              "\n",
              "        async function convertToInteractive(key) {\n",
              "          const element = document.querySelector('#df-2f29a5b7-7e35-4405-9ee7-35825e31b8b8');\n",
              "          const dataTable =\n",
              "            await google.colab.kernel.invokeFunction('convertToInteractive',\n",
              "                                                     [key], {});\n",
              "          if (!dataTable) return;\n",
              "\n",
              "          const docLinkHtml = 'Like what you see? Visit the ' +\n",
              "            '<a target=\"_blank\" href=https://colab.research.google.com/notebooks/data_table.ipynb>data table notebook</a>'\n",
              "            + ' to learn more about interactive tables.';\n",
              "          element.innerHTML = '';\n",
              "          dataTable['output_type'] = 'display_data';\n",
              "          await google.colab.output.renderOutput(dataTable, element);\n",
              "          const docLink = document.createElement('div');\n",
              "          docLink.innerHTML = docLinkHtml;\n",
              "          element.appendChild(docLink);\n",
              "        }\n",
              "      </script>\n",
              "    </div>\n",
              "  </div>\n",
              "  "
            ]
          },
          "metadata": {},
          "execution_count": 30
        }
      ]
    },
    {
      "cell_type": "code",
      "source": [
        "joining_and_latest_income[joining_and_latest_income['Income_Joined']!=joining_and_latest_income['Income_Now']]"
      ],
      "metadata": {
        "colab": {
          "base_uri": "https://localhost:8080/",
          "height": 1000
        },
        "id": "6Vr2XO4mIAIr",
        "outputId": "a3e06d65-bd9d-4e51-8234-e693136e489d"
      },
      "execution_count": null,
      "outputs": [
        {
          "output_type": "execute_result",
          "data": {
            "text/plain": [
              "      Driver_ID  Income_Joined  Income_Now\n",
              "18           26         121529      132577\n",
              "40           54         117993      127826\n",
              "46           60          82126       89592\n",
              "80           98          57977       63774\n",
              "230         275          89124       97226\n",
              "256         307          80856       88207\n",
              "267         320          56813       63126\n",
              "312         368          46719       51911\n",
              "368         434          80469       88515\n",
              "460         537          76868       84554\n",
              "488         568          55600       60655\n",
              "500         580          51189       56877\n",
              "502         582          47682       52450\n",
              "550         638         137911      149403\n",
              "615         716          57593       63352\n",
              "672         789          65696       72265\n",
              "756         888          51539       57266\n",
              "877        1031          62213       68434\n",
              "891        1050          31915       35462\n",
              "986        1161          61247       67371\n",
              "990        1165          89431       98374\n",
              "1025       1206          65986       72584\n",
              "1064       1249          33428       37143\n",
              "1083       1274         133706      145861\n",
              "1116       1316          68885       75773\n",
              "1126       1327          33671       37413\n",
              "1507       1770          84737       92440\n",
              "1517       1783          49744       54718\n",
              "1545       1817          58322       64154\n",
              "1564       1840          34712       38183\n",
              "1576       1852          69118       76029\n",
              "1599       1877         116992      126742\n",
              "1706       2008          27756       30840\n",
              "1762       2070          75875       82773\n",
              "1773       2087          93270      102597\n",
              "1871       2198          75174       82691\n",
              "1937       2272          87441       96185\n",
              "2034       2390          46244       51383\n",
              "2050       2407          67450       74945\n",
              "2168       2543          54239       59662\n",
              "2189       2567         123962      135231\n",
              "2240       2625          48525       53377\n",
              "2293       2690          77662       85428"
            ],
            "text/html": [
              "\n",
              "  <div id=\"df-961e5934-5508-4b46-8e52-0f502a09e20c\">\n",
              "    <div class=\"colab-df-container\">\n",
              "      <div>\n",
              "<style scoped>\n",
              "    .dataframe tbody tr th:only-of-type {\n",
              "        vertical-align: middle;\n",
              "    }\n",
              "\n",
              "    .dataframe tbody tr th {\n",
              "        vertical-align: top;\n",
              "    }\n",
              "\n",
              "    .dataframe thead th {\n",
              "        text-align: right;\n",
              "    }\n",
              "</style>\n",
              "<table border=\"1\" class=\"dataframe\">\n",
              "  <thead>\n",
              "    <tr style=\"text-align: right;\">\n",
              "      <th></th>\n",
              "      <th>Driver_ID</th>\n",
              "      <th>Income_Joined</th>\n",
              "      <th>Income_Now</th>\n",
              "    </tr>\n",
              "  </thead>\n",
              "  <tbody>\n",
              "    <tr>\n",
              "      <th>18</th>\n",
              "      <td>26</td>\n",
              "      <td>121529</td>\n",
              "      <td>132577</td>\n",
              "    </tr>\n",
              "    <tr>\n",
              "      <th>40</th>\n",
              "      <td>54</td>\n",
              "      <td>117993</td>\n",
              "      <td>127826</td>\n",
              "    </tr>\n",
              "    <tr>\n",
              "      <th>46</th>\n",
              "      <td>60</td>\n",
              "      <td>82126</td>\n",
              "      <td>89592</td>\n",
              "    </tr>\n",
              "    <tr>\n",
              "      <th>80</th>\n",
              "      <td>98</td>\n",
              "      <td>57977</td>\n",
              "      <td>63774</td>\n",
              "    </tr>\n",
              "    <tr>\n",
              "      <th>230</th>\n",
              "      <td>275</td>\n",
              "      <td>89124</td>\n",
              "      <td>97226</td>\n",
              "    </tr>\n",
              "    <tr>\n",
              "      <th>256</th>\n",
              "      <td>307</td>\n",
              "      <td>80856</td>\n",
              "      <td>88207</td>\n",
              "    </tr>\n",
              "    <tr>\n",
              "      <th>267</th>\n",
              "      <td>320</td>\n",
              "      <td>56813</td>\n",
              "      <td>63126</td>\n",
              "    </tr>\n",
              "    <tr>\n",
              "      <th>312</th>\n",
              "      <td>368</td>\n",
              "      <td>46719</td>\n",
              "      <td>51911</td>\n",
              "    </tr>\n",
              "    <tr>\n",
              "      <th>368</th>\n",
              "      <td>434</td>\n",
              "      <td>80469</td>\n",
              "      <td>88515</td>\n",
              "    </tr>\n",
              "    <tr>\n",
              "      <th>460</th>\n",
              "      <td>537</td>\n",
              "      <td>76868</td>\n",
              "      <td>84554</td>\n",
              "    </tr>\n",
              "    <tr>\n",
              "      <th>488</th>\n",
              "      <td>568</td>\n",
              "      <td>55600</td>\n",
              "      <td>60655</td>\n",
              "    </tr>\n",
              "    <tr>\n",
              "      <th>500</th>\n",
              "      <td>580</td>\n",
              "      <td>51189</td>\n",
              "      <td>56877</td>\n",
              "    </tr>\n",
              "    <tr>\n",
              "      <th>502</th>\n",
              "      <td>582</td>\n",
              "      <td>47682</td>\n",
              "      <td>52450</td>\n",
              "    </tr>\n",
              "    <tr>\n",
              "      <th>550</th>\n",
              "      <td>638</td>\n",
              "      <td>137911</td>\n",
              "      <td>149403</td>\n",
              "    </tr>\n",
              "    <tr>\n",
              "      <th>615</th>\n",
              "      <td>716</td>\n",
              "      <td>57593</td>\n",
              "      <td>63352</td>\n",
              "    </tr>\n",
              "    <tr>\n",
              "      <th>672</th>\n",
              "      <td>789</td>\n",
              "      <td>65696</td>\n",
              "      <td>72265</td>\n",
              "    </tr>\n",
              "    <tr>\n",
              "      <th>756</th>\n",
              "      <td>888</td>\n",
              "      <td>51539</td>\n",
              "      <td>57266</td>\n",
              "    </tr>\n",
              "    <tr>\n",
              "      <th>877</th>\n",
              "      <td>1031</td>\n",
              "      <td>62213</td>\n",
              "      <td>68434</td>\n",
              "    </tr>\n",
              "    <tr>\n",
              "      <th>891</th>\n",
              "      <td>1050</td>\n",
              "      <td>31915</td>\n",
              "      <td>35462</td>\n",
              "    </tr>\n",
              "    <tr>\n",
              "      <th>986</th>\n",
              "      <td>1161</td>\n",
              "      <td>61247</td>\n",
              "      <td>67371</td>\n",
              "    </tr>\n",
              "    <tr>\n",
              "      <th>990</th>\n",
              "      <td>1165</td>\n",
              "      <td>89431</td>\n",
              "      <td>98374</td>\n",
              "    </tr>\n",
              "    <tr>\n",
              "      <th>1025</th>\n",
              "      <td>1206</td>\n",
              "      <td>65986</td>\n",
              "      <td>72584</td>\n",
              "    </tr>\n",
              "    <tr>\n",
              "      <th>1064</th>\n",
              "      <td>1249</td>\n",
              "      <td>33428</td>\n",
              "      <td>37143</td>\n",
              "    </tr>\n",
              "    <tr>\n",
              "      <th>1083</th>\n",
              "      <td>1274</td>\n",
              "      <td>133706</td>\n",
              "      <td>145861</td>\n",
              "    </tr>\n",
              "    <tr>\n",
              "      <th>1116</th>\n",
              "      <td>1316</td>\n",
              "      <td>68885</td>\n",
              "      <td>75773</td>\n",
              "    </tr>\n",
              "    <tr>\n",
              "      <th>1126</th>\n",
              "      <td>1327</td>\n",
              "      <td>33671</td>\n",
              "      <td>37413</td>\n",
              "    </tr>\n",
              "    <tr>\n",
              "      <th>1507</th>\n",
              "      <td>1770</td>\n",
              "      <td>84737</td>\n",
              "      <td>92440</td>\n",
              "    </tr>\n",
              "    <tr>\n",
              "      <th>1517</th>\n",
              "      <td>1783</td>\n",
              "      <td>49744</td>\n",
              "      <td>54718</td>\n",
              "    </tr>\n",
              "    <tr>\n",
              "      <th>1545</th>\n",
              "      <td>1817</td>\n",
              "      <td>58322</td>\n",
              "      <td>64154</td>\n",
              "    </tr>\n",
              "    <tr>\n",
              "      <th>1564</th>\n",
              "      <td>1840</td>\n",
              "      <td>34712</td>\n",
              "      <td>38183</td>\n",
              "    </tr>\n",
              "    <tr>\n",
              "      <th>1576</th>\n",
              "      <td>1852</td>\n",
              "      <td>69118</td>\n",
              "      <td>76029</td>\n",
              "    </tr>\n",
              "    <tr>\n",
              "      <th>1599</th>\n",
              "      <td>1877</td>\n",
              "      <td>116992</td>\n",
              "      <td>126742</td>\n",
              "    </tr>\n",
              "    <tr>\n",
              "      <th>1706</th>\n",
              "      <td>2008</td>\n",
              "      <td>27756</td>\n",
              "      <td>30840</td>\n",
              "    </tr>\n",
              "    <tr>\n",
              "      <th>1762</th>\n",
              "      <td>2070</td>\n",
              "      <td>75875</td>\n",
              "      <td>82773</td>\n",
              "    </tr>\n",
              "    <tr>\n",
              "      <th>1773</th>\n",
              "      <td>2087</td>\n",
              "      <td>93270</td>\n",
              "      <td>102597</td>\n",
              "    </tr>\n",
              "    <tr>\n",
              "      <th>1871</th>\n",
              "      <td>2198</td>\n",
              "      <td>75174</td>\n",
              "      <td>82691</td>\n",
              "    </tr>\n",
              "    <tr>\n",
              "      <th>1937</th>\n",
              "      <td>2272</td>\n",
              "      <td>87441</td>\n",
              "      <td>96185</td>\n",
              "    </tr>\n",
              "    <tr>\n",
              "      <th>2034</th>\n",
              "      <td>2390</td>\n",
              "      <td>46244</td>\n",
              "      <td>51383</td>\n",
              "    </tr>\n",
              "    <tr>\n",
              "      <th>2050</th>\n",
              "      <td>2407</td>\n",
              "      <td>67450</td>\n",
              "      <td>74945</td>\n",
              "    </tr>\n",
              "    <tr>\n",
              "      <th>2168</th>\n",
              "      <td>2543</td>\n",
              "      <td>54239</td>\n",
              "      <td>59662</td>\n",
              "    </tr>\n",
              "    <tr>\n",
              "      <th>2189</th>\n",
              "      <td>2567</td>\n",
              "      <td>123962</td>\n",
              "      <td>135231</td>\n",
              "    </tr>\n",
              "    <tr>\n",
              "      <th>2240</th>\n",
              "      <td>2625</td>\n",
              "      <td>48525</td>\n",
              "      <td>53377</td>\n",
              "    </tr>\n",
              "    <tr>\n",
              "      <th>2293</th>\n",
              "      <td>2690</td>\n",
              "      <td>77662</td>\n",
              "      <td>85428</td>\n",
              "    </tr>\n",
              "  </tbody>\n",
              "</table>\n",
              "</div>\n",
              "      <button class=\"colab-df-convert\" onclick=\"convertToInteractive('df-961e5934-5508-4b46-8e52-0f502a09e20c')\"\n",
              "              title=\"Convert this dataframe to an interactive table.\"\n",
              "              style=\"display:none;\">\n",
              "        \n",
              "  <svg xmlns=\"http://www.w3.org/2000/svg\" height=\"24px\"viewBox=\"0 0 24 24\"\n",
              "       width=\"24px\">\n",
              "    <path d=\"M0 0h24v24H0V0z\" fill=\"none\"/>\n",
              "    <path d=\"M18.56 5.44l.94 2.06.94-2.06 2.06-.94-2.06-.94-.94-2.06-.94 2.06-2.06.94zm-11 1L8.5 8.5l.94-2.06 2.06-.94-2.06-.94L8.5 2.5l-.94 2.06-2.06.94zm10 10l.94 2.06.94-2.06 2.06-.94-2.06-.94-.94-2.06-.94 2.06-2.06.94z\"/><path d=\"M17.41 7.96l-1.37-1.37c-.4-.4-.92-.59-1.43-.59-.52 0-1.04.2-1.43.59L10.3 9.45l-7.72 7.72c-.78.78-.78 2.05 0 2.83L4 21.41c.39.39.9.59 1.41.59.51 0 1.02-.2 1.41-.59l7.78-7.78 2.81-2.81c.8-.78.8-2.07 0-2.86zM5.41 20L4 18.59l7.72-7.72 1.47 1.35L5.41 20z\"/>\n",
              "  </svg>\n",
              "      </button>\n",
              "      \n",
              "  <style>\n",
              "    .colab-df-container {\n",
              "      display:flex;\n",
              "      flex-wrap:wrap;\n",
              "      gap: 12px;\n",
              "    }\n",
              "\n",
              "    .colab-df-convert {\n",
              "      background-color: #E8F0FE;\n",
              "      border: none;\n",
              "      border-radius: 50%;\n",
              "      cursor: pointer;\n",
              "      display: none;\n",
              "      fill: #1967D2;\n",
              "      height: 32px;\n",
              "      padding: 0 0 0 0;\n",
              "      width: 32px;\n",
              "    }\n",
              "\n",
              "    .colab-df-convert:hover {\n",
              "      background-color: #E2EBFA;\n",
              "      box-shadow: 0px 1px 2px rgba(60, 64, 67, 0.3), 0px 1px 3px 1px rgba(60, 64, 67, 0.15);\n",
              "      fill: #174EA6;\n",
              "    }\n",
              "\n",
              "    [theme=dark] .colab-df-convert {\n",
              "      background-color: #3B4455;\n",
              "      fill: #D2E3FC;\n",
              "    }\n",
              "\n",
              "    [theme=dark] .colab-df-convert:hover {\n",
              "      background-color: #434B5C;\n",
              "      box-shadow: 0px 1px 3px 1px rgba(0, 0, 0, 0.15);\n",
              "      filter: drop-shadow(0px 1px 2px rgba(0, 0, 0, 0.3));\n",
              "      fill: #FFFFFF;\n",
              "    }\n",
              "  </style>\n",
              "\n",
              "      <script>\n",
              "        const buttonEl =\n",
              "          document.querySelector('#df-961e5934-5508-4b46-8e52-0f502a09e20c button.colab-df-convert');\n",
              "        buttonEl.style.display =\n",
              "          google.colab.kernel.accessAllowed ? 'block' : 'none';\n",
              "\n",
              "        async function convertToInteractive(key) {\n",
              "          const element = document.querySelector('#df-961e5934-5508-4b46-8e52-0f502a09e20c');\n",
              "          const dataTable =\n",
              "            await google.colab.kernel.invokeFunction('convertToInteractive',\n",
              "                                                     [key], {});\n",
              "          if (!dataTable) return;\n",
              "\n",
              "          const docLinkHtml = 'Like what you see? Visit the ' +\n",
              "            '<a target=\"_blank\" href=https://colab.research.google.com/notebooks/data_table.ipynb>data table notebook</a>'\n",
              "            + ' to learn more about interactive tables.';\n",
              "          element.innerHTML = '';\n",
              "          dataTable['output_type'] = 'display_data';\n",
              "          await google.colab.output.renderOutput(dataTable, element);\n",
              "          const docLink = document.createElement('div');\n",
              "          docLink.innerHTML = docLinkHtml;\n",
              "          element.appendChild(docLink);\n",
              "        }\n",
              "      </script>\n",
              "    </div>\n",
              "  </div>\n",
              "  "
            ]
          },
          "metadata": {},
          "execution_count": 31
        }
      ]
    },
    {
      "cell_type": "code",
      "source": [
        "df4 = pd.merge(df3, joining_and_latest_income, on=\"Driver_ID\", how=\"left\")\n",
        "df5 = pd.merge(df4, joining_and_latest_grade,  on='Driver_ID', how='left')\n",
        "df6=  pd.merge(df5, joining_and_latest_Quarterly_Rating,  on='Driver_ID', how='left')"
      ],
      "metadata": {
        "id": "0l8Ss40XLkHo"
      },
      "execution_count": null,
      "outputs": []
    },
    {
      "cell_type": "code",
      "source": [
        "df6"
      ],
      "metadata": {
        "colab": {
          "base_uri": "https://localhost:8080/",
          "height": 661
        },
        "id": "H2Ojw2U0PDIM",
        "outputId": "b7936c7a-a126-4192-c051-507bdd595b02"
      },
      "execution_count": null,
      "outputs": [
        {
          "output_type": "execute_result",
          "data": {
            "text/plain": [
              "        MMM_YY  Driver_ID   Age  Gender City  Education_Level  Income_Sum  \\\n",
              "0      2019-02          1  28.0     0.0  C23                2       57387   \n",
              "1      2019-03          1  28.0     0.0  C23                2       57387   \n",
              "2      2020-11          2  31.0     0.0   C7                2       67016   \n",
              "3      2020-12          2  31.0     0.0   C7                2       67016   \n",
              "4      2019-12          4  43.0     0.0  C13                2       65603   \n",
              "...        ...        ...   ...     ...  ...              ...         ...   \n",
              "17728  2020-08       2788  30.0     0.0  C27                2       70254   \n",
              "17729  2020-09       2788  30.0     0.0  C27                2       70254   \n",
              "17730  2020-10       2788  30.0     0.0  C27                2       70254   \n",
              "17731  2020-11       2788  30.0     0.0  C27                2       70254   \n",
              "17732  2020-12       2788  30.0     0.0  C27                2       70254   \n",
              "\n",
              "      Date_Of_Joining Last_Working_Date  Joining_Designation  Grade  \\\n",
              "0             2018-12               NaT                    1      1   \n",
              "1             2018-12           2019-03                    1      1   \n",
              "2             2020-11               NaT                    2      2   \n",
              "3             2020-11               NaT                    2      2   \n",
              "4             2019-12               NaT                    2      2   \n",
              "...               ...               ...                  ...    ...   \n",
              "17728         2020-06               NaT                    2      2   \n",
              "17729         2020-06               NaT                    2      2   \n",
              "17730         2020-06               NaT                    2      2   \n",
              "17731         2020-06               NaT                    2      2   \n",
              "17732         2020-06               NaT                    2      2   \n",
              "\n",
              "       Total_Business_Value  Quarterly_Rating  Income_Joined  Income_Now  \\\n",
              "0                   -665480                 2          57387       57387   \n",
              "1                         0                 2          57387       57387   \n",
              "2                         0                 1          67016       67016   \n",
              "3                         0                 1          67016       67016   \n",
              "4                         0                 1          65603       65603   \n",
              "...                     ...               ...            ...         ...   \n",
              "17728                740280                 3          70254       70254   \n",
              "17729                448370                 3          70254       70254   \n",
              "17730                     0                 2          70254       70254   \n",
              "17731                200420                 2          70254       70254   \n",
              "17732                411480                 2          70254       70254   \n",
              "\n",
              "       Grade_Joined  Grade_Now  Quarterly_Rating_Joined  Quarterly_Rating_Now  \n",
              "0                 1          1                        2                     2  \n",
              "1                 1          1                        2                     2  \n",
              "2                 2          2                        1                     1  \n",
              "3                 2          2                        1                     1  \n",
              "4                 2          2                        1                     1  \n",
              "...             ...        ...                      ...                   ...  \n",
              "17728             2          2                        1                     2  \n",
              "17729             2          2                        1                     2  \n",
              "17730             2          2                        1                     2  \n",
              "17731             2          2                        1                     2  \n",
              "17732             2          2                        1                     2  \n",
              "\n",
              "[17733 rows x 19 columns]"
            ],
            "text/html": [
              "\n",
              "  <div id=\"df-861bad25-fdc2-4ec3-9958-c2eb24527c5e\">\n",
              "    <div class=\"colab-df-container\">\n",
              "      <div>\n",
              "<style scoped>\n",
              "    .dataframe tbody tr th:only-of-type {\n",
              "        vertical-align: middle;\n",
              "    }\n",
              "\n",
              "    .dataframe tbody tr th {\n",
              "        vertical-align: top;\n",
              "    }\n",
              "\n",
              "    .dataframe thead th {\n",
              "        text-align: right;\n",
              "    }\n",
              "</style>\n",
              "<table border=\"1\" class=\"dataframe\">\n",
              "  <thead>\n",
              "    <tr style=\"text-align: right;\">\n",
              "      <th></th>\n",
              "      <th>MMM_YY</th>\n",
              "      <th>Driver_ID</th>\n",
              "      <th>Age</th>\n",
              "      <th>Gender</th>\n",
              "      <th>City</th>\n",
              "      <th>Education_Level</th>\n",
              "      <th>Income_Sum</th>\n",
              "      <th>Date_Of_Joining</th>\n",
              "      <th>Last_Working_Date</th>\n",
              "      <th>Joining_Designation</th>\n",
              "      <th>Grade</th>\n",
              "      <th>Total_Business_Value</th>\n",
              "      <th>Quarterly_Rating</th>\n",
              "      <th>Income_Joined</th>\n",
              "      <th>Income_Now</th>\n",
              "      <th>Grade_Joined</th>\n",
              "      <th>Grade_Now</th>\n",
              "      <th>Quarterly_Rating_Joined</th>\n",
              "      <th>Quarterly_Rating_Now</th>\n",
              "    </tr>\n",
              "  </thead>\n",
              "  <tbody>\n",
              "    <tr>\n",
              "      <th>0</th>\n",
              "      <td>2019-02</td>\n",
              "      <td>1</td>\n",
              "      <td>28.0</td>\n",
              "      <td>0.0</td>\n",
              "      <td>C23</td>\n",
              "      <td>2</td>\n",
              "      <td>57387</td>\n",
              "      <td>2018-12</td>\n",
              "      <td>NaT</td>\n",
              "      <td>1</td>\n",
              "      <td>1</td>\n",
              "      <td>-665480</td>\n",
              "      <td>2</td>\n",
              "      <td>57387</td>\n",
              "      <td>57387</td>\n",
              "      <td>1</td>\n",
              "      <td>1</td>\n",
              "      <td>2</td>\n",
              "      <td>2</td>\n",
              "    </tr>\n",
              "    <tr>\n",
              "      <th>1</th>\n",
              "      <td>2019-03</td>\n",
              "      <td>1</td>\n",
              "      <td>28.0</td>\n",
              "      <td>0.0</td>\n",
              "      <td>C23</td>\n",
              "      <td>2</td>\n",
              "      <td>57387</td>\n",
              "      <td>2018-12</td>\n",
              "      <td>2019-03</td>\n",
              "      <td>1</td>\n",
              "      <td>1</td>\n",
              "      <td>0</td>\n",
              "      <td>2</td>\n",
              "      <td>57387</td>\n",
              "      <td>57387</td>\n",
              "      <td>1</td>\n",
              "      <td>1</td>\n",
              "      <td>2</td>\n",
              "      <td>2</td>\n",
              "    </tr>\n",
              "    <tr>\n",
              "      <th>2</th>\n",
              "      <td>2020-11</td>\n",
              "      <td>2</td>\n",
              "      <td>31.0</td>\n",
              "      <td>0.0</td>\n",
              "      <td>C7</td>\n",
              "      <td>2</td>\n",
              "      <td>67016</td>\n",
              "      <td>2020-11</td>\n",
              "      <td>NaT</td>\n",
              "      <td>2</td>\n",
              "      <td>2</td>\n",
              "      <td>0</td>\n",
              "      <td>1</td>\n",
              "      <td>67016</td>\n",
              "      <td>67016</td>\n",
              "      <td>2</td>\n",
              "      <td>2</td>\n",
              "      <td>1</td>\n",
              "      <td>1</td>\n",
              "    </tr>\n",
              "    <tr>\n",
              "      <th>3</th>\n",
              "      <td>2020-12</td>\n",
              "      <td>2</td>\n",
              "      <td>31.0</td>\n",
              "      <td>0.0</td>\n",
              "      <td>C7</td>\n",
              "      <td>2</td>\n",
              "      <td>67016</td>\n",
              "      <td>2020-11</td>\n",
              "      <td>NaT</td>\n",
              "      <td>2</td>\n",
              "      <td>2</td>\n",
              "      <td>0</td>\n",
              "      <td>1</td>\n",
              "      <td>67016</td>\n",
              "      <td>67016</td>\n",
              "      <td>2</td>\n",
              "      <td>2</td>\n",
              "      <td>1</td>\n",
              "      <td>1</td>\n",
              "    </tr>\n",
              "    <tr>\n",
              "      <th>4</th>\n",
              "      <td>2019-12</td>\n",
              "      <td>4</td>\n",
              "      <td>43.0</td>\n",
              "      <td>0.0</td>\n",
              "      <td>C13</td>\n",
              "      <td>2</td>\n",
              "      <td>65603</td>\n",
              "      <td>2019-12</td>\n",
              "      <td>NaT</td>\n",
              "      <td>2</td>\n",
              "      <td>2</td>\n",
              "      <td>0</td>\n",
              "      <td>1</td>\n",
              "      <td>65603</td>\n",
              "      <td>65603</td>\n",
              "      <td>2</td>\n",
              "      <td>2</td>\n",
              "      <td>1</td>\n",
              "      <td>1</td>\n",
              "    </tr>\n",
              "    <tr>\n",
              "      <th>...</th>\n",
              "      <td>...</td>\n",
              "      <td>...</td>\n",
              "      <td>...</td>\n",
              "      <td>...</td>\n",
              "      <td>...</td>\n",
              "      <td>...</td>\n",
              "      <td>...</td>\n",
              "      <td>...</td>\n",
              "      <td>...</td>\n",
              "      <td>...</td>\n",
              "      <td>...</td>\n",
              "      <td>...</td>\n",
              "      <td>...</td>\n",
              "      <td>...</td>\n",
              "      <td>...</td>\n",
              "      <td>...</td>\n",
              "      <td>...</td>\n",
              "      <td>...</td>\n",
              "      <td>...</td>\n",
              "    </tr>\n",
              "    <tr>\n",
              "      <th>17728</th>\n",
              "      <td>2020-08</td>\n",
              "      <td>2788</td>\n",
              "      <td>30.0</td>\n",
              "      <td>0.0</td>\n",
              "      <td>C27</td>\n",
              "      <td>2</td>\n",
              "      <td>70254</td>\n",
              "      <td>2020-06</td>\n",
              "      <td>NaT</td>\n",
              "      <td>2</td>\n",
              "      <td>2</td>\n",
              "      <td>740280</td>\n",
              "      <td>3</td>\n",
              "      <td>70254</td>\n",
              "      <td>70254</td>\n",
              "      <td>2</td>\n",
              "      <td>2</td>\n",
              "      <td>1</td>\n",
              "      <td>2</td>\n",
              "    </tr>\n",
              "    <tr>\n",
              "      <th>17729</th>\n",
              "      <td>2020-09</td>\n",
              "      <td>2788</td>\n",
              "      <td>30.0</td>\n",
              "      <td>0.0</td>\n",
              "      <td>C27</td>\n",
              "      <td>2</td>\n",
              "      <td>70254</td>\n",
              "      <td>2020-06</td>\n",
              "      <td>NaT</td>\n",
              "      <td>2</td>\n",
              "      <td>2</td>\n",
              "      <td>448370</td>\n",
              "      <td>3</td>\n",
              "      <td>70254</td>\n",
              "      <td>70254</td>\n",
              "      <td>2</td>\n",
              "      <td>2</td>\n",
              "      <td>1</td>\n",
              "      <td>2</td>\n",
              "    </tr>\n",
              "    <tr>\n",
              "      <th>17730</th>\n",
              "      <td>2020-10</td>\n",
              "      <td>2788</td>\n",
              "      <td>30.0</td>\n",
              "      <td>0.0</td>\n",
              "      <td>C27</td>\n",
              "      <td>2</td>\n",
              "      <td>70254</td>\n",
              "      <td>2020-06</td>\n",
              "      <td>NaT</td>\n",
              "      <td>2</td>\n",
              "      <td>2</td>\n",
              "      <td>0</td>\n",
              "      <td>2</td>\n",
              "      <td>70254</td>\n",
              "      <td>70254</td>\n",
              "      <td>2</td>\n",
              "      <td>2</td>\n",
              "      <td>1</td>\n",
              "      <td>2</td>\n",
              "    </tr>\n",
              "    <tr>\n",
              "      <th>17731</th>\n",
              "      <td>2020-11</td>\n",
              "      <td>2788</td>\n",
              "      <td>30.0</td>\n",
              "      <td>0.0</td>\n",
              "      <td>C27</td>\n",
              "      <td>2</td>\n",
              "      <td>70254</td>\n",
              "      <td>2020-06</td>\n",
              "      <td>NaT</td>\n",
              "      <td>2</td>\n",
              "      <td>2</td>\n",
              "      <td>200420</td>\n",
              "      <td>2</td>\n",
              "      <td>70254</td>\n",
              "      <td>70254</td>\n",
              "      <td>2</td>\n",
              "      <td>2</td>\n",
              "      <td>1</td>\n",
              "      <td>2</td>\n",
              "    </tr>\n",
              "    <tr>\n",
              "      <th>17732</th>\n",
              "      <td>2020-12</td>\n",
              "      <td>2788</td>\n",
              "      <td>30.0</td>\n",
              "      <td>0.0</td>\n",
              "      <td>C27</td>\n",
              "      <td>2</td>\n",
              "      <td>70254</td>\n",
              "      <td>2020-06</td>\n",
              "      <td>NaT</td>\n",
              "      <td>2</td>\n",
              "      <td>2</td>\n",
              "      <td>411480</td>\n",
              "      <td>2</td>\n",
              "      <td>70254</td>\n",
              "      <td>70254</td>\n",
              "      <td>2</td>\n",
              "      <td>2</td>\n",
              "      <td>1</td>\n",
              "      <td>2</td>\n",
              "    </tr>\n",
              "  </tbody>\n",
              "</table>\n",
              "<p>17733 rows × 19 columns</p>\n",
              "</div>\n",
              "      <button class=\"colab-df-convert\" onclick=\"convertToInteractive('df-861bad25-fdc2-4ec3-9958-c2eb24527c5e')\"\n",
              "              title=\"Convert this dataframe to an interactive table.\"\n",
              "              style=\"display:none;\">\n",
              "        \n",
              "  <svg xmlns=\"http://www.w3.org/2000/svg\" height=\"24px\"viewBox=\"0 0 24 24\"\n",
              "       width=\"24px\">\n",
              "    <path d=\"M0 0h24v24H0V0z\" fill=\"none\"/>\n",
              "    <path d=\"M18.56 5.44l.94 2.06.94-2.06 2.06-.94-2.06-.94-.94-2.06-.94 2.06-2.06.94zm-11 1L8.5 8.5l.94-2.06 2.06-.94-2.06-.94L8.5 2.5l-.94 2.06-2.06.94zm10 10l.94 2.06.94-2.06 2.06-.94-2.06-.94-.94-2.06-.94 2.06-2.06.94z\"/><path d=\"M17.41 7.96l-1.37-1.37c-.4-.4-.92-.59-1.43-.59-.52 0-1.04.2-1.43.59L10.3 9.45l-7.72 7.72c-.78.78-.78 2.05 0 2.83L4 21.41c.39.39.9.59 1.41.59.51 0 1.02-.2 1.41-.59l7.78-7.78 2.81-2.81c.8-.78.8-2.07 0-2.86zM5.41 20L4 18.59l7.72-7.72 1.47 1.35L5.41 20z\"/>\n",
              "  </svg>\n",
              "      </button>\n",
              "      \n",
              "  <style>\n",
              "    .colab-df-container {\n",
              "      display:flex;\n",
              "      flex-wrap:wrap;\n",
              "      gap: 12px;\n",
              "    }\n",
              "\n",
              "    .colab-df-convert {\n",
              "      background-color: #E8F0FE;\n",
              "      border: none;\n",
              "      border-radius: 50%;\n",
              "      cursor: pointer;\n",
              "      display: none;\n",
              "      fill: #1967D2;\n",
              "      height: 32px;\n",
              "      padding: 0 0 0 0;\n",
              "      width: 32px;\n",
              "    }\n",
              "\n",
              "    .colab-df-convert:hover {\n",
              "      background-color: #E2EBFA;\n",
              "      box-shadow: 0px 1px 2px rgba(60, 64, 67, 0.3), 0px 1px 3px 1px rgba(60, 64, 67, 0.15);\n",
              "      fill: #174EA6;\n",
              "    }\n",
              "\n",
              "    [theme=dark] .colab-df-convert {\n",
              "      background-color: #3B4455;\n",
              "      fill: #D2E3FC;\n",
              "    }\n",
              "\n",
              "    [theme=dark] .colab-df-convert:hover {\n",
              "      background-color: #434B5C;\n",
              "      box-shadow: 0px 1px 3px 1px rgba(0, 0, 0, 0.15);\n",
              "      filter: drop-shadow(0px 1px 2px rgba(0, 0, 0, 0.3));\n",
              "      fill: #FFFFFF;\n",
              "    }\n",
              "  </style>\n",
              "\n",
              "      <script>\n",
              "        const buttonEl =\n",
              "          document.querySelector('#df-861bad25-fdc2-4ec3-9958-c2eb24527c5e button.colab-df-convert');\n",
              "        buttonEl.style.display =\n",
              "          google.colab.kernel.accessAllowed ? 'block' : 'none';\n",
              "\n",
              "        async function convertToInteractive(key) {\n",
              "          const element = document.querySelector('#df-861bad25-fdc2-4ec3-9958-c2eb24527c5e');\n",
              "          const dataTable =\n",
              "            await google.colab.kernel.invokeFunction('convertToInteractive',\n",
              "                                                     [key], {});\n",
              "          if (!dataTable) return;\n",
              "\n",
              "          const docLinkHtml = 'Like what you see? Visit the ' +\n",
              "            '<a target=\"_blank\" href=https://colab.research.google.com/notebooks/data_table.ipynb>data table notebook</a>'\n",
              "            + ' to learn more about interactive tables.';\n",
              "          element.innerHTML = '';\n",
              "          dataTable['output_type'] = 'display_data';\n",
              "          await google.colab.output.renderOutput(dataTable, element);\n",
              "          const docLink = document.createElement('div');\n",
              "          docLink.innerHTML = docLinkHtml;\n",
              "          element.appendChild(docLink);\n",
              "        }\n",
              "      </script>\n",
              "    </div>\n",
              "  </div>\n",
              "  "
            ]
          },
          "metadata": {},
          "execution_count": 33
        }
      ]
    },
    {
      "cell_type": "markdown",
      "source": [
        "Merging of rows and aggregation of fields"
      ],
      "metadata": {
        "id": "8c8ruuf4jFJA"
      }
    },
    {
      "cell_type": "markdown",
      "source": [
        "Aggregate the values as per driver id"
      ],
      "metadata": {
        "id": "rkaNHZjWi4hn"
      }
    },
    {
      "cell_type": "code",
      "source": [
        "df6.columns"
      ],
      "metadata": {
        "colab": {
          "base_uri": "https://localhost:8080/"
        },
        "id": "M1VAblEiRHrd",
        "outputId": "69a53879-3f23-4f37-c32e-c8d3bb461f19"
      },
      "execution_count": null,
      "outputs": [
        {
          "output_type": "execute_result",
          "data": {
            "text/plain": [
              "Index(['MMM_YY', 'Driver_ID', 'Age', 'Gender', 'City', 'Education_Level',\n",
              "       'Income_Sum', 'Date_Of_Joining', 'Last_Working_Date',\n",
              "       'Joining_Designation', 'Grade', 'Total_Business_Value',\n",
              "       'Quarterly_Rating', 'Income_Joined', 'Income_Now', 'Grade_Joined',\n",
              "       'Grade_Now', 'Quarterly_Rating_Joined', 'Quarterly_Rating_Now'],\n",
              "      dtype='object')"
            ]
          },
          "metadata": {},
          "execution_count": 34
        }
      ]
    },
    {
      "cell_type": "code",
      "source": [
        "columns_to_change={'MMM_YY':'last',\n",
        "                   'Age':'last',\n",
        "                   'Gender':'first',\n",
        "                   'City':'first',\n",
        "                   'Education_Level':'first',\n",
        "                   'Income_Joined':'first',\n",
        "                   'Income_Now':'last',\n",
        "                   'Income_Sum':'sum',\n",
        "                   'Date_Of_Joining':'first',\n",
        "                   'Last_Working_Date':'last',\n",
        "                   'Joining_Designation':'first',\n",
        "                   'Grade_Joined':'first',\n",
        "                   'Grade_Now':'last',\n",
        "                   'Total_Business_Value':'sum',\n",
        "                   'Quarterly_Rating_Joined':'first',\n",
        "                   'Quarterly_Rating_Now':'last'\n",
        "                   }"
      ],
      "metadata": {
        "id": "tpOWKIBgiwqC"
      },
      "execution_count": null,
      "outputs": []
    },
    {
      "cell_type": "code",
      "source": [
        "df_new=df6.groupby(['Driver_ID'],as_index=False).agg(columns_to_change)\n",
        "# df_new=df_new.sort_values(by=['trip_uuid','od_start_time'],ascending=True).reset_index()\n",
        "df_new"
      ],
      "metadata": {
        "colab": {
          "base_uri": "https://localhost:8080/",
          "height": 661
        },
        "id": "3KHWupcJxf5L",
        "outputId": "55ca0af6-d147-40ce-ddc1-c0cac18e02d2"
      },
      "execution_count": null,
      "outputs": [
        {
          "output_type": "execute_result",
          "data": {
            "text/plain": [
              "      Driver_ID   MMM_YY   Age  Gender City  Education_Level  Income_Joined  \\\n",
              "0             1  2019-03  28.0     0.0  C23                2          57387   \n",
              "1             2  2020-12  31.0     0.0   C7                2          67016   \n",
              "2             4  2020-04  43.0     0.0  C13                2          65603   \n",
              "3             5  2019-03  29.0     0.0   C9                0          46368   \n",
              "4             6  2020-12  31.0     1.0  C11                1          78728   \n",
              "...         ...      ...   ...     ...  ...              ...            ...   \n",
              "2376       2784  2020-12  34.0     0.0  C24                0          82815   \n",
              "2377       2785  2020-10  34.0     1.0   C9                0          12105   \n",
              "2378       2786  2019-09  45.0     0.0  C19                0          35370   \n",
              "2379       2787  2019-06  28.0     1.0  C20                2          69498   \n",
              "2380       2788  2020-12  30.0     0.0  C27                2          70254   \n",
              "\n",
              "      Income_Now  Income_Sum Date_Of_Joining Last_Working_Date  \\\n",
              "0          57387      114774         2018-12           2019-03   \n",
              "1          67016      134032         2020-11               NaT   \n",
              "2          65603      328015         2019-12           2020-04   \n",
              "3          46368      139104         2019-01           2019-03   \n",
              "4          78728      393640         2020-07               NaT   \n",
              "...          ...         ...             ...               ...   \n",
              "2376       82815     1739115         2015-10               NaT   \n",
              "2377       12105       36315         2020-08           2020-10   \n",
              "2378       35370      318330         2018-07           2019-09   \n",
              "2379       69498      416988         2018-07           2019-06   \n",
              "2380       70254      491778         2020-06               NaT   \n",
              "\n",
              "      Joining_Designation  Grade_Joined  Grade_Now  Total_Business_Value  \\\n",
              "0                       1             1          1               -665480   \n",
              "1                       2             2          2                     0   \n",
              "2                       2             2          2                350000   \n",
              "3                       1             1          1                120360   \n",
              "4                       3             3          3               1265000   \n",
              "...                   ...           ...        ...                   ...   \n",
              "2376                    2             3          3              10037490   \n",
              "2377                    1             1          1                     0   \n",
              "2378                    2             2          2               2815090   \n",
              "2379                    1             1          1                977830   \n",
              "2380                    2             2          2               2298240   \n",
              "\n",
              "      Quarterly_Rating_Joined  Quarterly_Rating_Now  \n",
              "0                           2                     2  \n",
              "1                           1                     1  \n",
              "2                           1                     1  \n",
              "3                           1                     1  \n",
              "4                           1                     2  \n",
              "...                       ...                   ...  \n",
              "2376                        3                     4  \n",
              "2377                        1                     1  \n",
              "2378                        2                     1  \n",
              "2379                        2                     1  \n",
              "2380                        1                     2  \n",
              "\n",
              "[2381 rows x 17 columns]"
            ],
            "text/html": [
              "\n",
              "  <div id=\"df-fed26dff-deeb-436e-97ce-7ca5fe427201\">\n",
              "    <div class=\"colab-df-container\">\n",
              "      <div>\n",
              "<style scoped>\n",
              "    .dataframe tbody tr th:only-of-type {\n",
              "        vertical-align: middle;\n",
              "    }\n",
              "\n",
              "    .dataframe tbody tr th {\n",
              "        vertical-align: top;\n",
              "    }\n",
              "\n",
              "    .dataframe thead th {\n",
              "        text-align: right;\n",
              "    }\n",
              "</style>\n",
              "<table border=\"1\" class=\"dataframe\">\n",
              "  <thead>\n",
              "    <tr style=\"text-align: right;\">\n",
              "      <th></th>\n",
              "      <th>Driver_ID</th>\n",
              "      <th>MMM_YY</th>\n",
              "      <th>Age</th>\n",
              "      <th>Gender</th>\n",
              "      <th>City</th>\n",
              "      <th>Education_Level</th>\n",
              "      <th>Income_Joined</th>\n",
              "      <th>Income_Now</th>\n",
              "      <th>Income_Sum</th>\n",
              "      <th>Date_Of_Joining</th>\n",
              "      <th>Last_Working_Date</th>\n",
              "      <th>Joining_Designation</th>\n",
              "      <th>Grade_Joined</th>\n",
              "      <th>Grade_Now</th>\n",
              "      <th>Total_Business_Value</th>\n",
              "      <th>Quarterly_Rating_Joined</th>\n",
              "      <th>Quarterly_Rating_Now</th>\n",
              "    </tr>\n",
              "  </thead>\n",
              "  <tbody>\n",
              "    <tr>\n",
              "      <th>0</th>\n",
              "      <td>1</td>\n",
              "      <td>2019-03</td>\n",
              "      <td>28.0</td>\n",
              "      <td>0.0</td>\n",
              "      <td>C23</td>\n",
              "      <td>2</td>\n",
              "      <td>57387</td>\n",
              "      <td>57387</td>\n",
              "      <td>114774</td>\n",
              "      <td>2018-12</td>\n",
              "      <td>2019-03</td>\n",
              "      <td>1</td>\n",
              "      <td>1</td>\n",
              "      <td>1</td>\n",
              "      <td>-665480</td>\n",
              "      <td>2</td>\n",
              "      <td>2</td>\n",
              "    </tr>\n",
              "    <tr>\n",
              "      <th>1</th>\n",
              "      <td>2</td>\n",
              "      <td>2020-12</td>\n",
              "      <td>31.0</td>\n",
              "      <td>0.0</td>\n",
              "      <td>C7</td>\n",
              "      <td>2</td>\n",
              "      <td>67016</td>\n",
              "      <td>67016</td>\n",
              "      <td>134032</td>\n",
              "      <td>2020-11</td>\n",
              "      <td>NaT</td>\n",
              "      <td>2</td>\n",
              "      <td>2</td>\n",
              "      <td>2</td>\n",
              "      <td>0</td>\n",
              "      <td>1</td>\n",
              "      <td>1</td>\n",
              "    </tr>\n",
              "    <tr>\n",
              "      <th>2</th>\n",
              "      <td>4</td>\n",
              "      <td>2020-04</td>\n",
              "      <td>43.0</td>\n",
              "      <td>0.0</td>\n",
              "      <td>C13</td>\n",
              "      <td>2</td>\n",
              "      <td>65603</td>\n",
              "      <td>65603</td>\n",
              "      <td>328015</td>\n",
              "      <td>2019-12</td>\n",
              "      <td>2020-04</td>\n",
              "      <td>2</td>\n",
              "      <td>2</td>\n",
              "      <td>2</td>\n",
              "      <td>350000</td>\n",
              "      <td>1</td>\n",
              "      <td>1</td>\n",
              "    </tr>\n",
              "    <tr>\n",
              "      <th>3</th>\n",
              "      <td>5</td>\n",
              "      <td>2019-03</td>\n",
              "      <td>29.0</td>\n",
              "      <td>0.0</td>\n",
              "      <td>C9</td>\n",
              "      <td>0</td>\n",
              "      <td>46368</td>\n",
              "      <td>46368</td>\n",
              "      <td>139104</td>\n",
              "      <td>2019-01</td>\n",
              "      <td>2019-03</td>\n",
              "      <td>1</td>\n",
              "      <td>1</td>\n",
              "      <td>1</td>\n",
              "      <td>120360</td>\n",
              "      <td>1</td>\n",
              "      <td>1</td>\n",
              "    </tr>\n",
              "    <tr>\n",
              "      <th>4</th>\n",
              "      <td>6</td>\n",
              "      <td>2020-12</td>\n",
              "      <td>31.0</td>\n",
              "      <td>1.0</td>\n",
              "      <td>C11</td>\n",
              "      <td>1</td>\n",
              "      <td>78728</td>\n",
              "      <td>78728</td>\n",
              "      <td>393640</td>\n",
              "      <td>2020-07</td>\n",
              "      <td>NaT</td>\n",
              "      <td>3</td>\n",
              "      <td>3</td>\n",
              "      <td>3</td>\n",
              "      <td>1265000</td>\n",
              "      <td>1</td>\n",
              "      <td>2</td>\n",
              "    </tr>\n",
              "    <tr>\n",
              "      <th>...</th>\n",
              "      <td>...</td>\n",
              "      <td>...</td>\n",
              "      <td>...</td>\n",
              "      <td>...</td>\n",
              "      <td>...</td>\n",
              "      <td>...</td>\n",
              "      <td>...</td>\n",
              "      <td>...</td>\n",
              "      <td>...</td>\n",
              "      <td>...</td>\n",
              "      <td>...</td>\n",
              "      <td>...</td>\n",
              "      <td>...</td>\n",
              "      <td>...</td>\n",
              "      <td>...</td>\n",
              "      <td>...</td>\n",
              "      <td>...</td>\n",
              "    </tr>\n",
              "    <tr>\n",
              "      <th>2376</th>\n",
              "      <td>2784</td>\n",
              "      <td>2020-12</td>\n",
              "      <td>34.0</td>\n",
              "      <td>0.0</td>\n",
              "      <td>C24</td>\n",
              "      <td>0</td>\n",
              "      <td>82815</td>\n",
              "      <td>82815</td>\n",
              "      <td>1739115</td>\n",
              "      <td>2015-10</td>\n",
              "      <td>NaT</td>\n",
              "      <td>2</td>\n",
              "      <td>3</td>\n",
              "      <td>3</td>\n",
              "      <td>10037490</td>\n",
              "      <td>3</td>\n",
              "      <td>4</td>\n",
              "    </tr>\n",
              "    <tr>\n",
              "      <th>2377</th>\n",
              "      <td>2785</td>\n",
              "      <td>2020-10</td>\n",
              "      <td>34.0</td>\n",
              "      <td>1.0</td>\n",
              "      <td>C9</td>\n",
              "      <td>0</td>\n",
              "      <td>12105</td>\n",
              "      <td>12105</td>\n",
              "      <td>36315</td>\n",
              "      <td>2020-08</td>\n",
              "      <td>2020-10</td>\n",
              "      <td>1</td>\n",
              "      <td>1</td>\n",
              "      <td>1</td>\n",
              "      <td>0</td>\n",
              "      <td>1</td>\n",
              "      <td>1</td>\n",
              "    </tr>\n",
              "    <tr>\n",
              "      <th>2378</th>\n",
              "      <td>2786</td>\n",
              "      <td>2019-09</td>\n",
              "      <td>45.0</td>\n",
              "      <td>0.0</td>\n",
              "      <td>C19</td>\n",
              "      <td>0</td>\n",
              "      <td>35370</td>\n",
              "      <td>35370</td>\n",
              "      <td>318330</td>\n",
              "      <td>2018-07</td>\n",
              "      <td>2019-09</td>\n",
              "      <td>2</td>\n",
              "      <td>2</td>\n",
              "      <td>2</td>\n",
              "      <td>2815090</td>\n",
              "      <td>2</td>\n",
              "      <td>1</td>\n",
              "    </tr>\n",
              "    <tr>\n",
              "      <th>2379</th>\n",
              "      <td>2787</td>\n",
              "      <td>2019-06</td>\n",
              "      <td>28.0</td>\n",
              "      <td>1.0</td>\n",
              "      <td>C20</td>\n",
              "      <td>2</td>\n",
              "      <td>69498</td>\n",
              "      <td>69498</td>\n",
              "      <td>416988</td>\n",
              "      <td>2018-07</td>\n",
              "      <td>2019-06</td>\n",
              "      <td>1</td>\n",
              "      <td>1</td>\n",
              "      <td>1</td>\n",
              "      <td>977830</td>\n",
              "      <td>2</td>\n",
              "      <td>1</td>\n",
              "    </tr>\n",
              "    <tr>\n",
              "      <th>2380</th>\n",
              "      <td>2788</td>\n",
              "      <td>2020-12</td>\n",
              "      <td>30.0</td>\n",
              "      <td>0.0</td>\n",
              "      <td>C27</td>\n",
              "      <td>2</td>\n",
              "      <td>70254</td>\n",
              "      <td>70254</td>\n",
              "      <td>491778</td>\n",
              "      <td>2020-06</td>\n",
              "      <td>NaT</td>\n",
              "      <td>2</td>\n",
              "      <td>2</td>\n",
              "      <td>2</td>\n",
              "      <td>2298240</td>\n",
              "      <td>1</td>\n",
              "      <td>2</td>\n",
              "    </tr>\n",
              "  </tbody>\n",
              "</table>\n",
              "<p>2381 rows × 17 columns</p>\n",
              "</div>\n",
              "      <button class=\"colab-df-convert\" onclick=\"convertToInteractive('df-fed26dff-deeb-436e-97ce-7ca5fe427201')\"\n",
              "              title=\"Convert this dataframe to an interactive table.\"\n",
              "              style=\"display:none;\">\n",
              "        \n",
              "  <svg xmlns=\"http://www.w3.org/2000/svg\" height=\"24px\"viewBox=\"0 0 24 24\"\n",
              "       width=\"24px\">\n",
              "    <path d=\"M0 0h24v24H0V0z\" fill=\"none\"/>\n",
              "    <path d=\"M18.56 5.44l.94 2.06.94-2.06 2.06-.94-2.06-.94-.94-2.06-.94 2.06-2.06.94zm-11 1L8.5 8.5l.94-2.06 2.06-.94-2.06-.94L8.5 2.5l-.94 2.06-2.06.94zm10 10l.94 2.06.94-2.06 2.06-.94-2.06-.94-.94-2.06-.94 2.06-2.06.94z\"/><path d=\"M17.41 7.96l-1.37-1.37c-.4-.4-.92-.59-1.43-.59-.52 0-1.04.2-1.43.59L10.3 9.45l-7.72 7.72c-.78.78-.78 2.05 0 2.83L4 21.41c.39.39.9.59 1.41.59.51 0 1.02-.2 1.41-.59l7.78-7.78 2.81-2.81c.8-.78.8-2.07 0-2.86zM5.41 20L4 18.59l7.72-7.72 1.47 1.35L5.41 20z\"/>\n",
              "  </svg>\n",
              "      </button>\n",
              "      \n",
              "  <style>\n",
              "    .colab-df-container {\n",
              "      display:flex;\n",
              "      flex-wrap:wrap;\n",
              "      gap: 12px;\n",
              "    }\n",
              "\n",
              "    .colab-df-convert {\n",
              "      background-color: #E8F0FE;\n",
              "      border: none;\n",
              "      border-radius: 50%;\n",
              "      cursor: pointer;\n",
              "      display: none;\n",
              "      fill: #1967D2;\n",
              "      height: 32px;\n",
              "      padding: 0 0 0 0;\n",
              "      width: 32px;\n",
              "    }\n",
              "\n",
              "    .colab-df-convert:hover {\n",
              "      background-color: #E2EBFA;\n",
              "      box-shadow: 0px 1px 2px rgba(60, 64, 67, 0.3), 0px 1px 3px 1px rgba(60, 64, 67, 0.15);\n",
              "      fill: #174EA6;\n",
              "    }\n",
              "\n",
              "    [theme=dark] .colab-df-convert {\n",
              "      background-color: #3B4455;\n",
              "      fill: #D2E3FC;\n",
              "    }\n",
              "\n",
              "    [theme=dark] .colab-df-convert:hover {\n",
              "      background-color: #434B5C;\n",
              "      box-shadow: 0px 1px 3px 1px rgba(0, 0, 0, 0.15);\n",
              "      filter: drop-shadow(0px 1px 2px rgba(0, 0, 0, 0.3));\n",
              "      fill: #FFFFFF;\n",
              "    }\n",
              "  </style>\n",
              "\n",
              "      <script>\n",
              "        const buttonEl =\n",
              "          document.querySelector('#df-fed26dff-deeb-436e-97ce-7ca5fe427201 button.colab-df-convert');\n",
              "        buttonEl.style.display =\n",
              "          google.colab.kernel.accessAllowed ? 'block' : 'none';\n",
              "\n",
              "        async function convertToInteractive(key) {\n",
              "          const element = document.querySelector('#df-fed26dff-deeb-436e-97ce-7ca5fe427201');\n",
              "          const dataTable =\n",
              "            await google.colab.kernel.invokeFunction('convertToInteractive',\n",
              "                                                     [key], {});\n",
              "          if (!dataTable) return;\n",
              "\n",
              "          const docLinkHtml = 'Like what you see? Visit the ' +\n",
              "            '<a target=\"_blank\" href=https://colab.research.google.com/notebooks/data_table.ipynb>data table notebook</a>'\n",
              "            + ' to learn more about interactive tables.';\n",
              "          element.innerHTML = '';\n",
              "          dataTable['output_type'] = 'display_data';\n",
              "          await google.colab.output.renderOutput(dataTable, element);\n",
              "          const docLink = document.createElement('div');\n",
              "          docLink.innerHTML = docLinkHtml;\n",
              "          element.appendChild(docLink);\n",
              "        }\n",
              "      </script>\n",
              "    </div>\n",
              "  </div>\n",
              "  "
            ]
          },
          "metadata": {},
          "execution_count": 36
        }
      ]
    },
    {
      "cell_type": "code",
      "source": [
        "df_new.info()"
      ],
      "metadata": {
        "colab": {
          "base_uri": "https://localhost:8080/"
        },
        "id": "uiJkkuhBV1O5",
        "outputId": "faa016db-9b55-42c2-9201-62bcb72fe1f4"
      },
      "execution_count": null,
      "outputs": [
        {
          "output_type": "stream",
          "name": "stdout",
          "text": [
            "<class 'pandas.core.frame.DataFrame'>\n",
            "RangeIndex: 2381 entries, 0 to 2380\n",
            "Data columns (total 17 columns):\n",
            " #   Column                   Non-Null Count  Dtype    \n",
            "---  ------                   --------------  -----    \n",
            " 0   Driver_ID                2381 non-null   int64    \n",
            " 1   MMM_YY                   2381 non-null   period[M]\n",
            " 2   Age                      2381 non-null   float64  \n",
            " 3   Gender                   2381 non-null   float64  \n",
            " 4   City                     2381 non-null   category \n",
            " 5   Education_Level          2381 non-null   int64    \n",
            " 6   Income_Joined            2381 non-null   int64    \n",
            " 7   Income_Now               2381 non-null   int64    \n",
            " 8   Income_Sum               2381 non-null   int64    \n",
            " 9   Date_Of_Joining          2381 non-null   period[M]\n",
            " 10  Last_Working_Date        1612 non-null   period[M]\n",
            " 11  Joining_Designation      2381 non-null   int64    \n",
            " 12  Grade_Joined             2381 non-null   int64    \n",
            " 13  Grade_Now                2381 non-null   int64    \n",
            " 14  Total_Business_Value     2381 non-null   int64    \n",
            " 15  Quarterly_Rating_Joined  2381 non-null   int64    \n",
            " 16  Quarterly_Rating_Now     2381 non-null   int64    \n",
            "dtypes: category(1), float64(2), int64(11), period[M](3)\n",
            "memory usage: 301.3 KB\n"
          ]
        }
      ]
    },
    {
      "cell_type": "markdown",
      "source": [
        "##Feature Engineering"
      ],
      "metadata": {
        "id": "kO7AyeG4huhN"
      }
    },
    {
      "cell_type": "code",
      "source": [
        "def func(x):\n",
        "  if str(type(x))==\"<class 'pandas._libs.tslibs.period.Period'>\":\n",
        "    return 1\n",
        "  else:\n",
        "    return 0"
      ],
      "metadata": {
        "id": "muiVfKUvV8Pj"
      },
      "execution_count": null,
      "outputs": []
    },
    {
      "cell_type": "code",
      "source": [
        "df_new['Employee_Churned']=df_new['Last_Working_Date'].apply(lambda x: func(x))"
      ],
      "metadata": {
        "id": "Gplm5ApSRjN-"
      },
      "execution_count": null,
      "outputs": []
    },
    {
      "cell_type": "code",
      "source": [
        "df_new['Employee_Churned'].value_counts()"
      ],
      "metadata": {
        "colab": {
          "base_uri": "https://localhost:8080/"
        },
        "id": "uzWCexB2TT6_",
        "outputId": "09674ed4-61ff-447a-a95a-13602330a526"
      },
      "execution_count": null,
      "outputs": [
        {
          "output_type": "execute_result",
          "data": {
            "text/plain": [
              "1    1612\n",
              "0     769\n",
              "Name: Employee_Churned, dtype: int64"
            ]
          },
          "metadata": {},
          "execution_count": 40
        }
      ]
    },
    {
      "cell_type": "code",
      "source": [],
      "metadata": {
        "id": "xcpvWlapjjme"
      },
      "execution_count": null,
      "outputs": []
    },
    {
      "cell_type": "code",
      "source": [
        "def increment(x,y):\n",
        "  if x>y:\n",
        "    return 1\n",
        "  else:\n",
        "    return 0"
      ],
      "metadata": {
        "id": "4r6cS3FgjsJa"
      },
      "execution_count": null,
      "outputs": []
    },
    {
      "cell_type": "code",
      "source": [
        "df_new['Income_Increment']=df_new.apply(lambda x: increment(x['Income_Now'],x['Income_Joined']),axis=1)\n",
        "df_new['Quarterly_Increment']=df_new.apply(lambda x: increment(x['Quarterly_Rating_Now'],x['Quarterly_Rating_Joined']),axis=1)\n",
        "df_new['Grade_Increment']=df_new.apply(lambda x: increment(x['Grade_Now'],x['Grade_Joined']),axis=1)"
      ],
      "metadata": {
        "id": "k9yXAfn6hy3-"
      },
      "execution_count": null,
      "outputs": []
    },
    {
      "cell_type": "markdown",
      "source": [
        "##Statistical Summary"
      ],
      "metadata": {
        "id": "FEBiUR-Mh1XZ"
      }
    },
    {
      "cell_type": "code",
      "source": [
        "df_new.describe(include='all')"
      ],
      "metadata": {
        "id": "Yfzqnw7fTQZB",
        "colab": {
          "base_uri": "https://localhost:8080/",
          "height": 505
        },
        "outputId": "a8cf9de4-89f4-49aa-d92d-223849543389"
      },
      "execution_count": null,
      "outputs": [
        {
          "output_type": "execute_result",
          "data": {
            "text/plain": [
              "          Driver_ID   MMM_YY          Age       Gender  City  Education_Level  \\\n",
              "count   2381.000000     2381  2381.000000  2381.000000  2381       2381.00000   \n",
              "unique          NaN       24          NaN          NaN    29              NaN   \n",
              "top             NaN  2020-12          NaN          NaN   C20              NaN   \n",
              "freq            NaN      745          NaN          NaN   152              NaN   \n",
              "mean    1397.559009      NaN    33.660227     0.410332   NaN          1.00756   \n",
              "std      806.161628      NaN     5.981067     0.491997   NaN          0.81629   \n",
              "min        1.000000      NaN    21.000000     0.000000   NaN          0.00000   \n",
              "25%      695.000000      NaN    29.000000     0.000000   NaN          0.00000   \n",
              "50%     1400.000000      NaN    33.000000     0.000000   NaN          1.00000   \n",
              "75%     2100.000000      NaN    37.000000     1.000000   NaN          2.00000   \n",
              "max     2788.000000      NaN    58.000000     1.000000   NaN          2.00000   \n",
              "\n",
              "        Income_Joined     Income_Now    Income_Sum Date_Of_Joining  ...  \\\n",
              "count     2381.000000    2381.000000  2.381000e+03            2381  ...   \n",
              "unique            NaN            NaN           NaN              85  ...   \n",
              "top               NaN            NaN           NaN         2020-05  ...   \n",
              "freq              NaN            NaN           NaN             114  ...   \n",
              "mean     59209.060899   59333.370013  4.762508e+05             NaN  ...   \n",
              "std      28275.899087   28381.988149  5.102465e+05             NaN  ...   \n",
              "min      10747.000000   10747.000000  1.088300e+04             NaN  ...   \n",
              "25%      39104.000000   39104.000000  1.388980e+05             NaN  ...   \n",
              "50%      55276.000000   55315.000000  2.890860e+05             NaN  ...   \n",
              "75%      75765.000000   75986.000000  6.092730e+05             NaN  ...   \n",
              "max     188418.000000  188418.000000  3.299604e+06             NaN  ...   \n",
              "\n",
              "       Joining_Designation  Grade_Joined    Grade_Now  Total_Business_Value  \\\n",
              "count          2381.000000   2381.000000  2381.000000          2.381000e+03   \n",
              "unique                 NaN           NaN          NaN                   NaN   \n",
              "top                    NaN           NaN          NaN                   NaN   \n",
              "freq                   NaN           NaN          NaN                   NaN   \n",
              "mean              1.820244      2.078538     2.096598          2.614207e+06   \n",
              "std               0.841433      0.931321     0.941522          4.030245e+06   \n",
              "min               1.000000      1.000000     1.000000         -6.966100e+05   \n",
              "25%               1.000000      1.000000     1.000000          0.000000e+00   \n",
              "50%               2.000000      2.000000     2.000000          7.491500e+05   \n",
              "75%               2.000000      3.000000     3.000000          3.261990e+06   \n",
              "max               5.000000      5.000000     5.000000          2.090236e+07   \n",
              "\n",
              "        Quarterly_Rating_Joined  Quarterly_Rating_Now  Employee_Churned  \\\n",
              "count               2381.000000           2381.000000       2381.000000   \n",
              "unique                      NaN                   NaN               NaN   \n",
              "top                         NaN                   NaN               NaN   \n",
              "freq                        NaN                   NaN               NaN   \n",
              "mean                   1.482150              1.426711          0.677026   \n",
              "std                    0.829217              0.806606          0.467711   \n",
              "min                    1.000000              1.000000          0.000000   \n",
              "25%                    1.000000              1.000000          0.000000   \n",
              "50%                    1.000000              1.000000          1.000000   \n",
              "75%                    2.000000              2.000000          1.000000   \n",
              "max                    4.000000              4.000000          1.000000   \n",
              "\n",
              "        Income_Increment  Quarterly_Increment  Grade_Increment  \n",
              "count        2381.000000          2381.000000      2381.000000  \n",
              "unique               NaN                  NaN              NaN  \n",
              "top                  NaN                  NaN              NaN  \n",
              "freq                 NaN                  NaN              NaN  \n",
              "mean            0.018060             0.149517         0.018060  \n",
              "std             0.133195             0.356672         0.133195  \n",
              "min             0.000000             0.000000         0.000000  \n",
              "25%             0.000000             0.000000         0.000000  \n",
              "50%             0.000000             0.000000         0.000000  \n",
              "75%             0.000000             0.000000         0.000000  \n",
              "max             1.000000             1.000000         1.000000  \n",
              "\n",
              "[11 rows x 21 columns]"
            ],
            "text/html": [
              "\n",
              "  <div id=\"df-5a00501b-e726-4b29-be8a-91a500d586d9\">\n",
              "    <div class=\"colab-df-container\">\n",
              "      <div>\n",
              "<style scoped>\n",
              "    .dataframe tbody tr th:only-of-type {\n",
              "        vertical-align: middle;\n",
              "    }\n",
              "\n",
              "    .dataframe tbody tr th {\n",
              "        vertical-align: top;\n",
              "    }\n",
              "\n",
              "    .dataframe thead th {\n",
              "        text-align: right;\n",
              "    }\n",
              "</style>\n",
              "<table border=\"1\" class=\"dataframe\">\n",
              "  <thead>\n",
              "    <tr style=\"text-align: right;\">\n",
              "      <th></th>\n",
              "      <th>Driver_ID</th>\n",
              "      <th>MMM_YY</th>\n",
              "      <th>Age</th>\n",
              "      <th>Gender</th>\n",
              "      <th>City</th>\n",
              "      <th>Education_Level</th>\n",
              "      <th>Income_Joined</th>\n",
              "      <th>Income_Now</th>\n",
              "      <th>Income_Sum</th>\n",
              "      <th>Date_Of_Joining</th>\n",
              "      <th>...</th>\n",
              "      <th>Joining_Designation</th>\n",
              "      <th>Grade_Joined</th>\n",
              "      <th>Grade_Now</th>\n",
              "      <th>Total_Business_Value</th>\n",
              "      <th>Quarterly_Rating_Joined</th>\n",
              "      <th>Quarterly_Rating_Now</th>\n",
              "      <th>Employee_Churned</th>\n",
              "      <th>Income_Increment</th>\n",
              "      <th>Quarterly_Increment</th>\n",
              "      <th>Grade_Increment</th>\n",
              "    </tr>\n",
              "  </thead>\n",
              "  <tbody>\n",
              "    <tr>\n",
              "      <th>count</th>\n",
              "      <td>2381.000000</td>\n",
              "      <td>2381</td>\n",
              "      <td>2381.000000</td>\n",
              "      <td>2381.000000</td>\n",
              "      <td>2381</td>\n",
              "      <td>2381.00000</td>\n",
              "      <td>2381.000000</td>\n",
              "      <td>2381.000000</td>\n",
              "      <td>2.381000e+03</td>\n",
              "      <td>2381</td>\n",
              "      <td>...</td>\n",
              "      <td>2381.000000</td>\n",
              "      <td>2381.000000</td>\n",
              "      <td>2381.000000</td>\n",
              "      <td>2.381000e+03</td>\n",
              "      <td>2381.000000</td>\n",
              "      <td>2381.000000</td>\n",
              "      <td>2381.000000</td>\n",
              "      <td>2381.000000</td>\n",
              "      <td>2381.000000</td>\n",
              "      <td>2381.000000</td>\n",
              "    </tr>\n",
              "    <tr>\n",
              "      <th>unique</th>\n",
              "      <td>NaN</td>\n",
              "      <td>24</td>\n",
              "      <td>NaN</td>\n",
              "      <td>NaN</td>\n",
              "      <td>29</td>\n",
              "      <td>NaN</td>\n",
              "      <td>NaN</td>\n",
              "      <td>NaN</td>\n",
              "      <td>NaN</td>\n",
              "      <td>85</td>\n",
              "      <td>...</td>\n",
              "      <td>NaN</td>\n",
              "      <td>NaN</td>\n",
              "      <td>NaN</td>\n",
              "      <td>NaN</td>\n",
              "      <td>NaN</td>\n",
              "      <td>NaN</td>\n",
              "      <td>NaN</td>\n",
              "      <td>NaN</td>\n",
              "      <td>NaN</td>\n",
              "      <td>NaN</td>\n",
              "    </tr>\n",
              "    <tr>\n",
              "      <th>top</th>\n",
              "      <td>NaN</td>\n",
              "      <td>2020-12</td>\n",
              "      <td>NaN</td>\n",
              "      <td>NaN</td>\n",
              "      <td>C20</td>\n",
              "      <td>NaN</td>\n",
              "      <td>NaN</td>\n",
              "      <td>NaN</td>\n",
              "      <td>NaN</td>\n",
              "      <td>2020-05</td>\n",
              "      <td>...</td>\n",
              "      <td>NaN</td>\n",
              "      <td>NaN</td>\n",
              "      <td>NaN</td>\n",
              "      <td>NaN</td>\n",
              "      <td>NaN</td>\n",
              "      <td>NaN</td>\n",
              "      <td>NaN</td>\n",
              "      <td>NaN</td>\n",
              "      <td>NaN</td>\n",
              "      <td>NaN</td>\n",
              "    </tr>\n",
              "    <tr>\n",
              "      <th>freq</th>\n",
              "      <td>NaN</td>\n",
              "      <td>745</td>\n",
              "      <td>NaN</td>\n",
              "      <td>NaN</td>\n",
              "      <td>152</td>\n",
              "      <td>NaN</td>\n",
              "      <td>NaN</td>\n",
              "      <td>NaN</td>\n",
              "      <td>NaN</td>\n",
              "      <td>114</td>\n",
              "      <td>...</td>\n",
              "      <td>NaN</td>\n",
              "      <td>NaN</td>\n",
              "      <td>NaN</td>\n",
              "      <td>NaN</td>\n",
              "      <td>NaN</td>\n",
              "      <td>NaN</td>\n",
              "      <td>NaN</td>\n",
              "      <td>NaN</td>\n",
              "      <td>NaN</td>\n",
              "      <td>NaN</td>\n",
              "    </tr>\n",
              "    <tr>\n",
              "      <th>mean</th>\n",
              "      <td>1397.559009</td>\n",
              "      <td>NaN</td>\n",
              "      <td>33.660227</td>\n",
              "      <td>0.410332</td>\n",
              "      <td>NaN</td>\n",
              "      <td>1.00756</td>\n",
              "      <td>59209.060899</td>\n",
              "      <td>59333.370013</td>\n",
              "      <td>4.762508e+05</td>\n",
              "      <td>NaN</td>\n",
              "      <td>...</td>\n",
              "      <td>1.820244</td>\n",
              "      <td>2.078538</td>\n",
              "      <td>2.096598</td>\n",
              "      <td>2.614207e+06</td>\n",
              "      <td>1.482150</td>\n",
              "      <td>1.426711</td>\n",
              "      <td>0.677026</td>\n",
              "      <td>0.018060</td>\n",
              "      <td>0.149517</td>\n",
              "      <td>0.018060</td>\n",
              "    </tr>\n",
              "    <tr>\n",
              "      <th>std</th>\n",
              "      <td>806.161628</td>\n",
              "      <td>NaN</td>\n",
              "      <td>5.981067</td>\n",
              "      <td>0.491997</td>\n",
              "      <td>NaN</td>\n",
              "      <td>0.81629</td>\n",
              "      <td>28275.899087</td>\n",
              "      <td>28381.988149</td>\n",
              "      <td>5.102465e+05</td>\n",
              "      <td>NaN</td>\n",
              "      <td>...</td>\n",
              "      <td>0.841433</td>\n",
              "      <td>0.931321</td>\n",
              "      <td>0.941522</td>\n",
              "      <td>4.030245e+06</td>\n",
              "      <td>0.829217</td>\n",
              "      <td>0.806606</td>\n",
              "      <td>0.467711</td>\n",
              "      <td>0.133195</td>\n",
              "      <td>0.356672</td>\n",
              "      <td>0.133195</td>\n",
              "    </tr>\n",
              "    <tr>\n",
              "      <th>min</th>\n",
              "      <td>1.000000</td>\n",
              "      <td>NaN</td>\n",
              "      <td>21.000000</td>\n",
              "      <td>0.000000</td>\n",
              "      <td>NaN</td>\n",
              "      <td>0.00000</td>\n",
              "      <td>10747.000000</td>\n",
              "      <td>10747.000000</td>\n",
              "      <td>1.088300e+04</td>\n",
              "      <td>NaN</td>\n",
              "      <td>...</td>\n",
              "      <td>1.000000</td>\n",
              "      <td>1.000000</td>\n",
              "      <td>1.000000</td>\n",
              "      <td>-6.966100e+05</td>\n",
              "      <td>1.000000</td>\n",
              "      <td>1.000000</td>\n",
              "      <td>0.000000</td>\n",
              "      <td>0.000000</td>\n",
              "      <td>0.000000</td>\n",
              "      <td>0.000000</td>\n",
              "    </tr>\n",
              "    <tr>\n",
              "      <th>25%</th>\n",
              "      <td>695.000000</td>\n",
              "      <td>NaN</td>\n",
              "      <td>29.000000</td>\n",
              "      <td>0.000000</td>\n",
              "      <td>NaN</td>\n",
              "      <td>0.00000</td>\n",
              "      <td>39104.000000</td>\n",
              "      <td>39104.000000</td>\n",
              "      <td>1.388980e+05</td>\n",
              "      <td>NaN</td>\n",
              "      <td>...</td>\n",
              "      <td>1.000000</td>\n",
              "      <td>1.000000</td>\n",
              "      <td>1.000000</td>\n",
              "      <td>0.000000e+00</td>\n",
              "      <td>1.000000</td>\n",
              "      <td>1.000000</td>\n",
              "      <td>0.000000</td>\n",
              "      <td>0.000000</td>\n",
              "      <td>0.000000</td>\n",
              "      <td>0.000000</td>\n",
              "    </tr>\n",
              "    <tr>\n",
              "      <th>50%</th>\n",
              "      <td>1400.000000</td>\n",
              "      <td>NaN</td>\n",
              "      <td>33.000000</td>\n",
              "      <td>0.000000</td>\n",
              "      <td>NaN</td>\n",
              "      <td>1.00000</td>\n",
              "      <td>55276.000000</td>\n",
              "      <td>55315.000000</td>\n",
              "      <td>2.890860e+05</td>\n",
              "      <td>NaN</td>\n",
              "      <td>...</td>\n",
              "      <td>2.000000</td>\n",
              "      <td>2.000000</td>\n",
              "      <td>2.000000</td>\n",
              "      <td>7.491500e+05</td>\n",
              "      <td>1.000000</td>\n",
              "      <td>1.000000</td>\n",
              "      <td>1.000000</td>\n",
              "      <td>0.000000</td>\n",
              "      <td>0.000000</td>\n",
              "      <td>0.000000</td>\n",
              "    </tr>\n",
              "    <tr>\n",
              "      <th>75%</th>\n",
              "      <td>2100.000000</td>\n",
              "      <td>NaN</td>\n",
              "      <td>37.000000</td>\n",
              "      <td>1.000000</td>\n",
              "      <td>NaN</td>\n",
              "      <td>2.00000</td>\n",
              "      <td>75765.000000</td>\n",
              "      <td>75986.000000</td>\n",
              "      <td>6.092730e+05</td>\n",
              "      <td>NaN</td>\n",
              "      <td>...</td>\n",
              "      <td>2.000000</td>\n",
              "      <td>3.000000</td>\n",
              "      <td>3.000000</td>\n",
              "      <td>3.261990e+06</td>\n",
              "      <td>2.000000</td>\n",
              "      <td>2.000000</td>\n",
              "      <td>1.000000</td>\n",
              "      <td>0.000000</td>\n",
              "      <td>0.000000</td>\n",
              "      <td>0.000000</td>\n",
              "    </tr>\n",
              "    <tr>\n",
              "      <th>max</th>\n",
              "      <td>2788.000000</td>\n",
              "      <td>NaN</td>\n",
              "      <td>58.000000</td>\n",
              "      <td>1.000000</td>\n",
              "      <td>NaN</td>\n",
              "      <td>2.00000</td>\n",
              "      <td>188418.000000</td>\n",
              "      <td>188418.000000</td>\n",
              "      <td>3.299604e+06</td>\n",
              "      <td>NaN</td>\n",
              "      <td>...</td>\n",
              "      <td>5.000000</td>\n",
              "      <td>5.000000</td>\n",
              "      <td>5.000000</td>\n",
              "      <td>2.090236e+07</td>\n",
              "      <td>4.000000</td>\n",
              "      <td>4.000000</td>\n",
              "      <td>1.000000</td>\n",
              "      <td>1.000000</td>\n",
              "      <td>1.000000</td>\n",
              "      <td>1.000000</td>\n",
              "    </tr>\n",
              "  </tbody>\n",
              "</table>\n",
              "<p>11 rows × 21 columns</p>\n",
              "</div>\n",
              "      <button class=\"colab-df-convert\" onclick=\"convertToInteractive('df-5a00501b-e726-4b29-be8a-91a500d586d9')\"\n",
              "              title=\"Convert this dataframe to an interactive table.\"\n",
              "              style=\"display:none;\">\n",
              "        \n",
              "  <svg xmlns=\"http://www.w3.org/2000/svg\" height=\"24px\"viewBox=\"0 0 24 24\"\n",
              "       width=\"24px\">\n",
              "    <path d=\"M0 0h24v24H0V0z\" fill=\"none\"/>\n",
              "    <path d=\"M18.56 5.44l.94 2.06.94-2.06 2.06-.94-2.06-.94-.94-2.06-.94 2.06-2.06.94zm-11 1L8.5 8.5l.94-2.06 2.06-.94-2.06-.94L8.5 2.5l-.94 2.06-2.06.94zm10 10l.94 2.06.94-2.06 2.06-.94-2.06-.94-.94-2.06-.94 2.06-2.06.94z\"/><path d=\"M17.41 7.96l-1.37-1.37c-.4-.4-.92-.59-1.43-.59-.52 0-1.04.2-1.43.59L10.3 9.45l-7.72 7.72c-.78.78-.78 2.05 0 2.83L4 21.41c.39.39.9.59 1.41.59.51 0 1.02-.2 1.41-.59l7.78-7.78 2.81-2.81c.8-.78.8-2.07 0-2.86zM5.41 20L4 18.59l7.72-7.72 1.47 1.35L5.41 20z\"/>\n",
              "  </svg>\n",
              "      </button>\n",
              "      \n",
              "  <style>\n",
              "    .colab-df-container {\n",
              "      display:flex;\n",
              "      flex-wrap:wrap;\n",
              "      gap: 12px;\n",
              "    }\n",
              "\n",
              "    .colab-df-convert {\n",
              "      background-color: #E8F0FE;\n",
              "      border: none;\n",
              "      border-radius: 50%;\n",
              "      cursor: pointer;\n",
              "      display: none;\n",
              "      fill: #1967D2;\n",
              "      height: 32px;\n",
              "      padding: 0 0 0 0;\n",
              "      width: 32px;\n",
              "    }\n",
              "\n",
              "    .colab-df-convert:hover {\n",
              "      background-color: #E2EBFA;\n",
              "      box-shadow: 0px 1px 2px rgba(60, 64, 67, 0.3), 0px 1px 3px 1px rgba(60, 64, 67, 0.15);\n",
              "      fill: #174EA6;\n",
              "    }\n",
              "\n",
              "    [theme=dark] .colab-df-convert {\n",
              "      background-color: #3B4455;\n",
              "      fill: #D2E3FC;\n",
              "    }\n",
              "\n",
              "    [theme=dark] .colab-df-convert:hover {\n",
              "      background-color: #434B5C;\n",
              "      box-shadow: 0px 1px 3px 1px rgba(0, 0, 0, 0.15);\n",
              "      filter: drop-shadow(0px 1px 2px rgba(0, 0, 0, 0.3));\n",
              "      fill: #FFFFFF;\n",
              "    }\n",
              "  </style>\n",
              "\n",
              "      <script>\n",
              "        const buttonEl =\n",
              "          document.querySelector('#df-5a00501b-e726-4b29-be8a-91a500d586d9 button.colab-df-convert');\n",
              "        buttonEl.style.display =\n",
              "          google.colab.kernel.accessAllowed ? 'block' : 'none';\n",
              "\n",
              "        async function convertToInteractive(key) {\n",
              "          const element = document.querySelector('#df-5a00501b-e726-4b29-be8a-91a500d586d9');\n",
              "          const dataTable =\n",
              "            await google.colab.kernel.invokeFunction('convertToInteractive',\n",
              "                                                     [key], {});\n",
              "          if (!dataTable) return;\n",
              "\n",
              "          const docLinkHtml = 'Like what you see? Visit the ' +\n",
              "            '<a target=\"_blank\" href=https://colab.research.google.com/notebooks/data_table.ipynb>data table notebook</a>'\n",
              "            + ' to learn more about interactive tables.';\n",
              "          element.innerHTML = '';\n",
              "          dataTable['output_type'] = 'display_data';\n",
              "          await google.colab.output.renderOutput(dataTable, element);\n",
              "          const docLink = document.createElement('div');\n",
              "          docLink.innerHTML = docLinkHtml;\n",
              "          element.appendChild(docLink);\n",
              "        }\n",
              "      </script>\n",
              "    </div>\n",
              "  </div>\n",
              "  "
            ]
          },
          "metadata": {},
          "execution_count": 43
        }
      ]
    },
    {
      "cell_type": "markdown",
      "source": [
        "##Missing values"
      ],
      "metadata": {
        "id": "NY_IWxKFlLhh"
      }
    },
    {
      "cell_type": "code",
      "source": [
        "df_new.isna().sum()/df_new.shape[0]"
      ],
      "metadata": {
        "colab": {
          "base_uri": "https://localhost:8080/"
        },
        "id": "dgJcc6wScp7T",
        "outputId": "6cf73c39-fc60-47dc-fe9c-171147ac28d7"
      },
      "execution_count": null,
      "outputs": [
        {
          "output_type": "execute_result",
          "data": {
            "text/plain": [
              "Driver_ID                  0.000000\n",
              "MMM_YY                     0.000000\n",
              "Age                        0.000000\n",
              "Gender                     0.000000\n",
              "City                       0.000000\n",
              "Education_Level            0.000000\n",
              "Income_Joined              0.000000\n",
              "Income_Now                 0.000000\n",
              "Income_Sum                 0.000000\n",
              "Date_Of_Joining            0.000000\n",
              "Last_Working_Date          0.322974\n",
              "Joining_Designation        0.000000\n",
              "Grade_Joined               0.000000\n",
              "Grade_Now                  0.000000\n",
              "Total_Business_Value       0.000000\n",
              "Quarterly_Rating_Joined    0.000000\n",
              "Quarterly_Rating_Now       0.000000\n",
              "Employee_Churned           0.000000\n",
              "Income_Increment           0.000000\n",
              "Quarterly_Increment        0.000000\n",
              "Grade_Increment            0.000000\n",
              "dtype: float64"
            ]
          },
          "metadata": {},
          "execution_count": 44
        }
      ]
    },
    {
      "cell_type": "markdown",
      "source": [
        "**With last working day we have created the employee churn, so therefore it is not much useful and we can drop this column**"
      ],
      "metadata": {
        "id": "saH2GLNrlU8a"
      }
    },
    {
      "cell_type": "markdown",
      "source": [
        "##Outlier treatment"
      ],
      "metadata": {
        "id": "yRHKNhg4n0Gr"
      }
    },
    {
      "cell_type": "markdown",
      "source": [
        "**The column Total business value has median and mean are far apart so remove outliers for this column**"
      ],
      "metadata": {
        "id": "IDG2kIKRn2F1"
      }
    },
    {
      "cell_type": "code",
      "source": [
        "Q1=df_new['Total_Business_Value'].quantile(0.25)\n",
        "Q3=df_new['Total_Business_Value'].quantile(0.75)\n",
        "Q1,Q3\n",
        "IQR=Q3-Q1"
      ],
      "metadata": {
        "id": "7if-TQNVnxws"
      },
      "execution_count": null,
      "outputs": []
    },
    {
      "cell_type": "code",
      "source": [
        "IQR"
      ],
      "metadata": {
        "colab": {
          "base_uri": "https://localhost:8080/"
        },
        "id": "BcAqP7nhoox8",
        "outputId": "463ac70f-b0ae-4972-8c47-b5c04fad28f4"
      },
      "execution_count": null,
      "outputs": [
        {
          "output_type": "execute_result",
          "data": {
            "text/plain": [
              "3261990.0"
            ]
          },
          "metadata": {},
          "execution_count": 46
        }
      ]
    },
    {
      "cell_type": "code",
      "source": [
        "Q1,Q3"
      ],
      "metadata": {
        "colab": {
          "base_uri": "https://localhost:8080/"
        },
        "id": "4yDXv7ieklda",
        "outputId": "481c4be3-c9dc-4099-9d34-f1c41510c6cc"
      },
      "execution_count": null,
      "outputs": [
        {
          "output_type": "execute_result",
          "data": {
            "text/plain": [
              "(0.0, 3261990.0)"
            ]
          },
          "metadata": {},
          "execution_count": 47
        }
      ]
    },
    {
      "cell_type": "code",
      "source": [
        "Q1-1.5*IQR,Q3+1.5*IQR"
      ],
      "metadata": {
        "colab": {
          "base_uri": "https://localhost:8080/"
        },
        "id": "V7kkfpnWotco",
        "outputId": "ec1d3f6e-0de4-4085-d89a-59c2133dde8b"
      },
      "execution_count": null,
      "outputs": [
        {
          "output_type": "execute_result",
          "data": {
            "text/plain": [
              "(-4892985.0, 8154975.0)"
            ]
          },
          "metadata": {},
          "execution_count": 48
        }
      ]
    },
    {
      "cell_type": "code",
      "source": [],
      "metadata": {
        "id": "kuqHL8pkj2-Q"
      },
      "execution_count": null,
      "outputs": []
    },
    {
      "cell_type": "code",
      "source": [
        "df_new=df_new.loc[(df_new['Total_Business_Value']>(Q1-1.5*IQR)) & (df_new['Total_Business_Value']<(Q3+1.5*IQR))]"
      ],
      "metadata": {
        "id": "xQGDnFaFnxwu"
      },
      "execution_count": null,
      "outputs": []
    },
    {
      "cell_type": "code",
      "source": [
        "df_new.describe()"
      ],
      "metadata": {
        "colab": {
          "base_uri": "https://localhost:8080/",
          "height": 364
        },
        "id": "eW0lON-XofzO",
        "outputId": "72d3f37e-f2f6-4b76-e265-21af5da0c662"
      },
      "execution_count": null,
      "outputs": [
        {
          "output_type": "execute_result",
          "data": {
            "text/plain": [
              "         Driver_ID          Age       Gender  Education_Level  Income_Joined  \\\n",
              "count  2109.000000  2109.000000  2109.000000      2109.000000    2109.000000   \n",
              "mean   1396.699384    33.085349     0.409199         1.005690   56950.316264   \n",
              "std     805.052683     5.693243     0.491803         0.820726   26908.437252   \n",
              "min       1.000000    21.000000     0.000000         0.000000   10747.000000   \n",
              "25%     690.000000    29.000000     0.000000         0.000000   37944.000000   \n",
              "50%    1405.000000    33.000000     0.000000         1.000000   53355.000000   \n",
              "75%    2091.000000    37.000000     1.000000         2.000000   71977.000000   \n",
              "max    2788.000000    58.000000     1.000000         2.000000  167758.000000   \n",
              "\n",
              "          Income_Now    Income_Sum  Joining_Designation  Grade_Joined  \\\n",
              "count    2109.000000  2.109000e+03          2109.000000   2109.000000   \n",
              "mean    56975.937411  3.475790e+05             1.873400      2.015647   \n",
              "std     26936.587849  3.243800e+05             0.842761      0.888596   \n",
              "min     10747.000000  1.088300e+04             1.000000      1.000000   \n",
              "25%     37944.000000  1.276530e+05             1.000000      1.000000   \n",
              "50%     53355.000000  2.469270e+05             2.000000      2.000000   \n",
              "75%     71977.000000  4.529280e+05             2.000000      3.000000   \n",
              "max    167758.000000  2.992740e+06             5.000000      5.000000   \n",
              "\n",
              "         Grade_Now  Total_Business_Value  Quarterly_Rating_Joined  \\\n",
              "count  2109.000000          2.109000e+03              2109.000000   \n",
              "mean      2.019440          1.366593e+06                 1.344713   \n",
              "std       0.891719          1.909513e+06                 0.701852   \n",
              "min       1.000000         -6.966100e+05                 1.000000   \n",
              "25%       1.000000          0.000000e+00                 1.000000   \n",
              "50%       2.000000          4.582000e+05                 1.000000   \n",
              "75%       3.000000          1.995640e+06                 1.000000   \n",
              "max       5.000000          8.107300e+06                 4.000000   \n",
              "\n",
              "       Quarterly_Rating_Now  Employee_Churned  Income_Increment  \\\n",
              "count           2109.000000       2109.000000       2109.000000   \n",
              "mean               1.284021          0.743006          0.003793   \n",
              "std                0.655900          0.437080          0.061487   \n",
              "min                1.000000          0.000000          0.000000   \n",
              "25%                1.000000          0.000000          0.000000   \n",
              "50%                1.000000          1.000000          0.000000   \n",
              "75%                1.000000          1.000000          0.000000   \n",
              "max                4.000000          1.000000          1.000000   \n",
              "\n",
              "       Quarterly_Increment  Grade_Increment  \n",
              "count          2109.000000      2109.000000  \n",
              "mean              0.127074         0.003793  \n",
              "std               0.333135         0.061487  \n",
              "min               0.000000         0.000000  \n",
              "25%               0.000000         0.000000  \n",
              "50%               0.000000         0.000000  \n",
              "75%               0.000000         0.000000  \n",
              "max               1.000000         1.000000  "
            ],
            "text/html": [
              "\n",
              "  <div id=\"df-46f8fcd8-1d62-4361-a4aa-4bfb5779c60c\">\n",
              "    <div class=\"colab-df-container\">\n",
              "      <div>\n",
              "<style scoped>\n",
              "    .dataframe tbody tr th:only-of-type {\n",
              "        vertical-align: middle;\n",
              "    }\n",
              "\n",
              "    .dataframe tbody tr th {\n",
              "        vertical-align: top;\n",
              "    }\n",
              "\n",
              "    .dataframe thead th {\n",
              "        text-align: right;\n",
              "    }\n",
              "</style>\n",
              "<table border=\"1\" class=\"dataframe\">\n",
              "  <thead>\n",
              "    <tr style=\"text-align: right;\">\n",
              "      <th></th>\n",
              "      <th>Driver_ID</th>\n",
              "      <th>Age</th>\n",
              "      <th>Gender</th>\n",
              "      <th>Education_Level</th>\n",
              "      <th>Income_Joined</th>\n",
              "      <th>Income_Now</th>\n",
              "      <th>Income_Sum</th>\n",
              "      <th>Joining_Designation</th>\n",
              "      <th>Grade_Joined</th>\n",
              "      <th>Grade_Now</th>\n",
              "      <th>Total_Business_Value</th>\n",
              "      <th>Quarterly_Rating_Joined</th>\n",
              "      <th>Quarterly_Rating_Now</th>\n",
              "      <th>Employee_Churned</th>\n",
              "      <th>Income_Increment</th>\n",
              "      <th>Quarterly_Increment</th>\n",
              "      <th>Grade_Increment</th>\n",
              "    </tr>\n",
              "  </thead>\n",
              "  <tbody>\n",
              "    <tr>\n",
              "      <th>count</th>\n",
              "      <td>2109.000000</td>\n",
              "      <td>2109.000000</td>\n",
              "      <td>2109.000000</td>\n",
              "      <td>2109.000000</td>\n",
              "      <td>2109.000000</td>\n",
              "      <td>2109.000000</td>\n",
              "      <td>2.109000e+03</td>\n",
              "      <td>2109.000000</td>\n",
              "      <td>2109.000000</td>\n",
              "      <td>2109.000000</td>\n",
              "      <td>2.109000e+03</td>\n",
              "      <td>2109.000000</td>\n",
              "      <td>2109.000000</td>\n",
              "      <td>2109.000000</td>\n",
              "      <td>2109.000000</td>\n",
              "      <td>2109.000000</td>\n",
              "      <td>2109.000000</td>\n",
              "    </tr>\n",
              "    <tr>\n",
              "      <th>mean</th>\n",
              "      <td>1396.699384</td>\n",
              "      <td>33.085349</td>\n",
              "      <td>0.409199</td>\n",
              "      <td>1.005690</td>\n",
              "      <td>56950.316264</td>\n",
              "      <td>56975.937411</td>\n",
              "      <td>3.475790e+05</td>\n",
              "      <td>1.873400</td>\n",
              "      <td>2.015647</td>\n",
              "      <td>2.019440</td>\n",
              "      <td>1.366593e+06</td>\n",
              "      <td>1.344713</td>\n",
              "      <td>1.284021</td>\n",
              "      <td>0.743006</td>\n",
              "      <td>0.003793</td>\n",
              "      <td>0.127074</td>\n",
              "      <td>0.003793</td>\n",
              "    </tr>\n",
              "    <tr>\n",
              "      <th>std</th>\n",
              "      <td>805.052683</td>\n",
              "      <td>5.693243</td>\n",
              "      <td>0.491803</td>\n",
              "      <td>0.820726</td>\n",
              "      <td>26908.437252</td>\n",
              "      <td>26936.587849</td>\n",
              "      <td>3.243800e+05</td>\n",
              "      <td>0.842761</td>\n",
              "      <td>0.888596</td>\n",
              "      <td>0.891719</td>\n",
              "      <td>1.909513e+06</td>\n",
              "      <td>0.701852</td>\n",
              "      <td>0.655900</td>\n",
              "      <td>0.437080</td>\n",
              "      <td>0.061487</td>\n",
              "      <td>0.333135</td>\n",
              "      <td>0.061487</td>\n",
              "    </tr>\n",
              "    <tr>\n",
              "      <th>min</th>\n",
              "      <td>1.000000</td>\n",
              "      <td>21.000000</td>\n",
              "      <td>0.000000</td>\n",
              "      <td>0.000000</td>\n",
              "      <td>10747.000000</td>\n",
              "      <td>10747.000000</td>\n",
              "      <td>1.088300e+04</td>\n",
              "      <td>1.000000</td>\n",
              "      <td>1.000000</td>\n",
              "      <td>1.000000</td>\n",
              "      <td>-6.966100e+05</td>\n",
              "      <td>1.000000</td>\n",
              "      <td>1.000000</td>\n",
              "      <td>0.000000</td>\n",
              "      <td>0.000000</td>\n",
              "      <td>0.000000</td>\n",
              "      <td>0.000000</td>\n",
              "    </tr>\n",
              "    <tr>\n",
              "      <th>25%</th>\n",
              "      <td>690.000000</td>\n",
              "      <td>29.000000</td>\n",
              "      <td>0.000000</td>\n",
              "      <td>0.000000</td>\n",
              "      <td>37944.000000</td>\n",
              "      <td>37944.000000</td>\n",
              "      <td>1.276530e+05</td>\n",
              "      <td>1.000000</td>\n",
              "      <td>1.000000</td>\n",
              "      <td>1.000000</td>\n",
              "      <td>0.000000e+00</td>\n",
              "      <td>1.000000</td>\n",
              "      <td>1.000000</td>\n",
              "      <td>0.000000</td>\n",
              "      <td>0.000000</td>\n",
              "      <td>0.000000</td>\n",
              "      <td>0.000000</td>\n",
              "    </tr>\n",
              "    <tr>\n",
              "      <th>50%</th>\n",
              "      <td>1405.000000</td>\n",
              "      <td>33.000000</td>\n",
              "      <td>0.000000</td>\n",
              "      <td>1.000000</td>\n",
              "      <td>53355.000000</td>\n",
              "      <td>53355.000000</td>\n",
              "      <td>2.469270e+05</td>\n",
              "      <td>2.000000</td>\n",
              "      <td>2.000000</td>\n",
              "      <td>2.000000</td>\n",
              "      <td>4.582000e+05</td>\n",
              "      <td>1.000000</td>\n",
              "      <td>1.000000</td>\n",
              "      <td>1.000000</td>\n",
              "      <td>0.000000</td>\n",
              "      <td>0.000000</td>\n",
              "      <td>0.000000</td>\n",
              "    </tr>\n",
              "    <tr>\n",
              "      <th>75%</th>\n",
              "      <td>2091.000000</td>\n",
              "      <td>37.000000</td>\n",
              "      <td>1.000000</td>\n",
              "      <td>2.000000</td>\n",
              "      <td>71977.000000</td>\n",
              "      <td>71977.000000</td>\n",
              "      <td>4.529280e+05</td>\n",
              "      <td>2.000000</td>\n",
              "      <td>3.000000</td>\n",
              "      <td>3.000000</td>\n",
              "      <td>1.995640e+06</td>\n",
              "      <td>1.000000</td>\n",
              "      <td>1.000000</td>\n",
              "      <td>1.000000</td>\n",
              "      <td>0.000000</td>\n",
              "      <td>0.000000</td>\n",
              "      <td>0.000000</td>\n",
              "    </tr>\n",
              "    <tr>\n",
              "      <th>max</th>\n",
              "      <td>2788.000000</td>\n",
              "      <td>58.000000</td>\n",
              "      <td>1.000000</td>\n",
              "      <td>2.000000</td>\n",
              "      <td>167758.000000</td>\n",
              "      <td>167758.000000</td>\n",
              "      <td>2.992740e+06</td>\n",
              "      <td>5.000000</td>\n",
              "      <td>5.000000</td>\n",
              "      <td>5.000000</td>\n",
              "      <td>8.107300e+06</td>\n",
              "      <td>4.000000</td>\n",
              "      <td>4.000000</td>\n",
              "      <td>1.000000</td>\n",
              "      <td>1.000000</td>\n",
              "      <td>1.000000</td>\n",
              "      <td>1.000000</td>\n",
              "    </tr>\n",
              "  </tbody>\n",
              "</table>\n",
              "</div>\n",
              "      <button class=\"colab-df-convert\" onclick=\"convertToInteractive('df-46f8fcd8-1d62-4361-a4aa-4bfb5779c60c')\"\n",
              "              title=\"Convert this dataframe to an interactive table.\"\n",
              "              style=\"display:none;\">\n",
              "        \n",
              "  <svg xmlns=\"http://www.w3.org/2000/svg\" height=\"24px\"viewBox=\"0 0 24 24\"\n",
              "       width=\"24px\">\n",
              "    <path d=\"M0 0h24v24H0V0z\" fill=\"none\"/>\n",
              "    <path d=\"M18.56 5.44l.94 2.06.94-2.06 2.06-.94-2.06-.94-.94-2.06-.94 2.06-2.06.94zm-11 1L8.5 8.5l.94-2.06 2.06-.94-2.06-.94L8.5 2.5l-.94 2.06-2.06.94zm10 10l.94 2.06.94-2.06 2.06-.94-2.06-.94-.94-2.06-.94 2.06-2.06.94z\"/><path d=\"M17.41 7.96l-1.37-1.37c-.4-.4-.92-.59-1.43-.59-.52 0-1.04.2-1.43.59L10.3 9.45l-7.72 7.72c-.78.78-.78 2.05 0 2.83L4 21.41c.39.39.9.59 1.41.59.51 0 1.02-.2 1.41-.59l7.78-7.78 2.81-2.81c.8-.78.8-2.07 0-2.86zM5.41 20L4 18.59l7.72-7.72 1.47 1.35L5.41 20z\"/>\n",
              "  </svg>\n",
              "      </button>\n",
              "      \n",
              "  <style>\n",
              "    .colab-df-container {\n",
              "      display:flex;\n",
              "      flex-wrap:wrap;\n",
              "      gap: 12px;\n",
              "    }\n",
              "\n",
              "    .colab-df-convert {\n",
              "      background-color: #E8F0FE;\n",
              "      border: none;\n",
              "      border-radius: 50%;\n",
              "      cursor: pointer;\n",
              "      display: none;\n",
              "      fill: #1967D2;\n",
              "      height: 32px;\n",
              "      padding: 0 0 0 0;\n",
              "      width: 32px;\n",
              "    }\n",
              "\n",
              "    .colab-df-convert:hover {\n",
              "      background-color: #E2EBFA;\n",
              "      box-shadow: 0px 1px 2px rgba(60, 64, 67, 0.3), 0px 1px 3px 1px rgba(60, 64, 67, 0.15);\n",
              "      fill: #174EA6;\n",
              "    }\n",
              "\n",
              "    [theme=dark] .colab-df-convert {\n",
              "      background-color: #3B4455;\n",
              "      fill: #D2E3FC;\n",
              "    }\n",
              "\n",
              "    [theme=dark] .colab-df-convert:hover {\n",
              "      background-color: #434B5C;\n",
              "      box-shadow: 0px 1px 3px 1px rgba(0, 0, 0, 0.15);\n",
              "      filter: drop-shadow(0px 1px 2px rgba(0, 0, 0, 0.3));\n",
              "      fill: #FFFFFF;\n",
              "    }\n",
              "  </style>\n",
              "\n",
              "      <script>\n",
              "        const buttonEl =\n",
              "          document.querySelector('#df-46f8fcd8-1d62-4361-a4aa-4bfb5779c60c button.colab-df-convert');\n",
              "        buttonEl.style.display =\n",
              "          google.colab.kernel.accessAllowed ? 'block' : 'none';\n",
              "\n",
              "        async function convertToInteractive(key) {\n",
              "          const element = document.querySelector('#df-46f8fcd8-1d62-4361-a4aa-4bfb5779c60c');\n",
              "          const dataTable =\n",
              "            await google.colab.kernel.invokeFunction('convertToInteractive',\n",
              "                                                     [key], {});\n",
              "          if (!dataTable) return;\n",
              "\n",
              "          const docLinkHtml = 'Like what you see? Visit the ' +\n",
              "            '<a target=\"_blank\" href=https://colab.research.google.com/notebooks/data_table.ipynb>data table notebook</a>'\n",
              "            + ' to learn more about interactive tables.';\n",
              "          element.innerHTML = '';\n",
              "          dataTable['output_type'] = 'display_data';\n",
              "          await google.colab.output.renderOutput(dataTable, element);\n",
              "          const docLink = document.createElement('div');\n",
              "          docLink.innerHTML = docLinkHtml;\n",
              "          element.appendChild(docLink);\n",
              "        }\n",
              "      </script>\n",
              "    </div>\n",
              "  </div>\n",
              "  "
            ]
          },
          "metadata": {},
          "execution_count": 50
        }
      ]
    },
    {
      "cell_type": "markdown",
      "source": [
        "##Univariate analysis"
      ],
      "metadata": {
        "id": "iuXDQHUVbT-i"
      }
    },
    {
      "cell_type": "code",
      "source": [
        "df_new.info()"
      ],
      "metadata": {
        "colab": {
          "base_uri": "https://localhost:8080/"
        },
        "id": "wmllo211oh6c",
        "outputId": "89b34b3f-fbce-4db2-dc43-a95952bd60f7"
      },
      "execution_count": null,
      "outputs": [
        {
          "output_type": "stream",
          "name": "stdout",
          "text": [
            "<class 'pandas.core.frame.DataFrame'>\n",
            "Int64Index: 2109 entries, 0 to 2380\n",
            "Data columns (total 21 columns):\n",
            " #   Column                   Non-Null Count  Dtype    \n",
            "---  ------                   --------------  -----    \n",
            " 0   Driver_ID                2109 non-null   int64    \n",
            " 1   MMM_YY                   2109 non-null   period[M]\n",
            " 2   Age                      2109 non-null   float64  \n",
            " 3   Gender                   2109 non-null   float64  \n",
            " 4   City                     2109 non-null   category \n",
            " 5   Education_Level          2109 non-null   int64    \n",
            " 6   Income_Joined            2109 non-null   int64    \n",
            " 7   Income_Now               2109 non-null   int64    \n",
            " 8   Income_Sum               2109 non-null   int64    \n",
            " 9   Date_Of_Joining          2109 non-null   period[M]\n",
            " 10  Last_Working_Date        1567 non-null   period[M]\n",
            " 11  Joining_Designation      2109 non-null   int64    \n",
            " 12  Grade_Joined             2109 non-null   int64    \n",
            " 13  Grade_Now                2109 non-null   int64    \n",
            " 14  Total_Business_Value     2109 non-null   int64    \n",
            " 15  Quarterly_Rating_Joined  2109 non-null   int64    \n",
            " 16  Quarterly_Rating_Now     2109 non-null   int64    \n",
            " 17  Employee_Churned         2109 non-null   int64    \n",
            " 18  Income_Increment         2109 non-null   int64    \n",
            " 19  Quarterly_Increment      2109 non-null   int64    \n",
            " 20  Grade_Increment          2109 non-null   int64    \n",
            "dtypes: category(1), float64(2), int64(15), period[M](3)\n",
            "memory usage: 349.3 KB\n"
          ]
        }
      ]
    },
    {
      "cell_type": "code",
      "source": [
        "df_new['MMM_YY'].nunique()"
      ],
      "metadata": {
        "colab": {
          "base_uri": "https://localhost:8080/"
        },
        "id": "0g-yLsLocIrE",
        "outputId": "b57688eb-68bb-4409-f5b1-72f5d2af514e"
      },
      "execution_count": null,
      "outputs": [
        {
          "output_type": "execute_result",
          "data": {
            "text/plain": [
              "24"
            ]
          },
          "metadata": {},
          "execution_count": 52
        }
      ]
    },
    {
      "cell_type": "code",
      "source": [
        "sorted(df_new['MMM_YY'].unique())"
      ],
      "metadata": {
        "colab": {
          "base_uri": "https://localhost:8080/"
        },
        "id": "6NBA1XnXlN4Z",
        "outputId": "a1182a07-df68-4030-8880-1884c9aa518d"
      },
      "execution_count": null,
      "outputs": [
        {
          "output_type": "execute_result",
          "data": {
            "text/plain": [
              "[Period('2019-01', 'M'),\n",
              " Period('2019-02', 'M'),\n",
              " Period('2019-03', 'M'),\n",
              " Period('2019-04', 'M'),\n",
              " Period('2019-05', 'M'),\n",
              " Period('2019-06', 'M'),\n",
              " Period('2019-07', 'M'),\n",
              " Period('2019-08', 'M'),\n",
              " Period('2019-09', 'M'),\n",
              " Period('2019-10', 'M'),\n",
              " Period('2019-11', 'M'),\n",
              " Period('2019-12', 'M'),\n",
              " Period('2020-01', 'M'),\n",
              " Period('2020-02', 'M'),\n",
              " Period('2020-03', 'M'),\n",
              " Period('2020-04', 'M'),\n",
              " Period('2020-05', 'M'),\n",
              " Period('2020-06', 'M'),\n",
              " Period('2020-07', 'M'),\n",
              " Period('2020-08', 'M'),\n",
              " Period('2020-09', 'M'),\n",
              " Period('2020-10', 'M'),\n",
              " Period('2020-11', 'M'),\n",
              " Period('2020-12', 'M')]"
            ]
          },
          "metadata": {},
          "execution_count": 53
        }
      ]
    },
    {
      "cell_type": "code",
      "source": [
        "df_new['MMM_YY']=df_new['MMM_YY'].astype('category')\n",
        "df_new['Gender']=df_new['Gender'].astype('category')"
      ],
      "metadata": {
        "id": "gULVQ1-3ntUu"
      },
      "execution_count": null,
      "outputs": []
    },
    {
      "cell_type": "code",
      "source": [
        "df_new['City']=df_new['City'].astype('category')"
      ],
      "metadata": {
        "id": "O6lWDEE_pegf"
      },
      "execution_count": null,
      "outputs": []
    },
    {
      "cell_type": "code",
      "source": [
        "df_new['Education_Level'].unique()"
      ],
      "metadata": {
        "colab": {
          "base_uri": "https://localhost:8080/"
        },
        "id": "Nb8F896CqFfR",
        "outputId": "33fe7565-8650-4b38-d25d-3931f01b99b4"
      },
      "execution_count": null,
      "outputs": [
        {
          "output_type": "execute_result",
          "data": {
            "text/plain": [
              "array([2, 0, 1])"
            ]
          },
          "metadata": {},
          "execution_count": 56
        }
      ]
    },
    {
      "cell_type": "code",
      "source": [
        "df_new['Education_Level']=df_new['Education_Level'].astype('category')"
      ],
      "metadata": {
        "id": "veflP927qXyk"
      },
      "execution_count": null,
      "outputs": []
    },
    {
      "cell_type": "code",
      "source": [
        "sorted(df_new['Date_Of_Joining'].unique())"
      ],
      "metadata": {
        "colab": {
          "base_uri": "https://localhost:8080/"
        },
        "id": "M3P5ymH_qe1L",
        "outputId": "31c55805-8bfc-46ec-9302-a7ce0f20d24e"
      },
      "execution_count": null,
      "outputs": [
        {
          "output_type": "execute_result",
          "data": {
            "text/plain": [
              "[Period('2013-04', 'M'),\n",
              " Period('2013-06', 'M'),\n",
              " Period('2013-07', 'M'),\n",
              " Period('2013-08', 'M'),\n",
              " Period('2013-09', 'M'),\n",
              " Period('2013-10', 'M'),\n",
              " Period('2013-11', 'M'),\n",
              " Period('2014-05', 'M'),\n",
              " Period('2014-07', 'M'),\n",
              " Period('2014-08', 'M'),\n",
              " Period('2014-09', 'M'),\n",
              " Period('2014-10', 'M'),\n",
              " Period('2014-12', 'M'),\n",
              " Period('2015-02', 'M'),\n",
              " Period('2015-05', 'M'),\n",
              " Period('2015-06', 'M'),\n",
              " Period('2015-07', 'M'),\n",
              " Period('2015-08', 'M'),\n",
              " Period('2015-09', 'M'),\n",
              " Period('2015-10', 'M'),\n",
              " Period('2015-11', 'M'),\n",
              " Period('2015-12', 'M'),\n",
              " Period('2016-01', 'M'),\n",
              " Period('2016-02', 'M'),\n",
              " Period('2016-03', 'M'),\n",
              " Period('2016-04', 'M'),\n",
              " Period('2016-05', 'M'),\n",
              " Period('2016-06', 'M'),\n",
              " Period('2016-07', 'M'),\n",
              " Period('2016-08', 'M'),\n",
              " Period('2016-09', 'M'),\n",
              " Period('2016-10', 'M'),\n",
              " Period('2016-11', 'M'),\n",
              " Period('2016-12', 'M'),\n",
              " Period('2017-01', 'M'),\n",
              " Period('2017-02', 'M'),\n",
              " Period('2017-03', 'M'),\n",
              " Period('2017-05', 'M'),\n",
              " Period('2017-06', 'M'),\n",
              " Period('2017-07', 'M'),\n",
              " Period('2017-08', 'M'),\n",
              " Period('2017-09', 'M'),\n",
              " Period('2017-10', 'M'),\n",
              " Period('2017-11', 'M'),\n",
              " Period('2017-12', 'M'),\n",
              " Period('2018-01', 'M'),\n",
              " Period('2018-02', 'M'),\n",
              " Period('2018-03', 'M'),\n",
              " Period('2018-05', 'M'),\n",
              " Period('2018-06', 'M'),\n",
              " Period('2018-07', 'M'),\n",
              " Period('2018-08', 'M'),\n",
              " Period('2018-09', 'M'),\n",
              " Period('2018-10', 'M'),\n",
              " Period('2018-11', 'M'),\n",
              " Period('2018-12', 'M'),\n",
              " Period('2019-01', 'M'),\n",
              " Period('2019-02', 'M'),\n",
              " Period('2019-03', 'M'),\n",
              " Period('2019-04', 'M'),\n",
              " Period('2019-05', 'M'),\n",
              " Period('2019-06', 'M'),\n",
              " Period('2019-07', 'M'),\n",
              " Period('2019-08', 'M'),\n",
              " Period('2019-09', 'M'),\n",
              " Period('2019-10', 'M'),\n",
              " Period('2019-11', 'M'),\n",
              " Period('2019-12', 'M'),\n",
              " Period('2020-01', 'M'),\n",
              " Period('2020-02', 'M'),\n",
              " Period('2020-03', 'M'),\n",
              " Period('2020-04', 'M'),\n",
              " Period('2020-05', 'M'),\n",
              " Period('2020-06', 'M'),\n",
              " Period('2020-07', 'M'),\n",
              " Period('2020-08', 'M'),\n",
              " Period('2020-09', 'M'),\n",
              " Period('2020-10', 'M'),\n",
              " Period('2020-11', 'M'),\n",
              " Period('2020-12', 'M')]"
            ]
          },
          "metadata": {},
          "execution_count": 58
        }
      ]
    },
    {
      "cell_type": "markdown",
      "source": [
        "There were total of 80 joining dates and with this we can calcualate the experience of employees by subtracting from last reporting month (MMM_YY)"
      ],
      "metadata": {
        "id": "K_11KMkQrE8M"
      }
    },
    {
      "cell_type": "code",
      "source": [
        "x='2013-04'\n",
        "x=pd.to_datetime(x)"
      ],
      "metadata": {
        "id": "ovHS6Zc3r8Zq"
      },
      "execution_count": null,
      "outputs": []
    },
    {
      "cell_type": "code",
      "source": [
        "x"
      ],
      "metadata": {
        "colab": {
          "base_uri": "https://localhost:8080/"
        },
        "id": "2yywyajntP56",
        "outputId": "d584d30f-b952-4ed7-fc8d-1a6e81a9452b"
      },
      "execution_count": null,
      "outputs": [
        {
          "output_type": "execute_result",
          "data": {
            "text/plain": [
              "Timestamp('2013-04-01 00:00:00')"
            ]
          },
          "metadata": {},
          "execution_count": 60
        }
      ]
    },
    {
      "cell_type": "code",
      "source": [
        "def experience(x,y):\n",
        "  x=pd.to_datetime(str(x))\n",
        "  y=pd.to_datetime(str(y))\n",
        "  return (x-y)/ np.timedelta64(1, 'Y')"
      ],
      "metadata": {
        "id": "vHcgl83wry7l"
      },
      "execution_count": null,
      "outputs": []
    },
    {
      "cell_type": "code",
      "source": [
        "df_new['Experience']=df_new.apply(lambda x: experience(x['MMM_YY'],x['Date_Of_Joining']),axis=1)"
      ],
      "metadata": {
        "id": "WpCp17X6qpYh"
      },
      "execution_count": null,
      "outputs": []
    },
    {
      "cell_type": "code",
      "source": [
        "df_new['Experience'].describe()     # in years"
      ],
      "metadata": {
        "colab": {
          "base_uri": "https://localhost:8080/"
        },
        "id": "DpFh-XRAuie1",
        "outputId": "5abb4f37-d190-4ebd-fdb4-1a8ecdc33fc5"
      },
      "execution_count": null,
      "outputs": [
        {
          "output_type": "execute_result",
          "data": {
            "text/plain": [
              "count    2109.000000\n",
              "mean        0.822090\n",
              "std         1.096652\n",
              "min         0.000000\n",
              "25%         0.249150\n",
              "50%         0.418900\n",
              "75%         0.917199\n",
              "max         7.501865\n",
              "Name: Experience, dtype: float64"
            ]
          },
          "metadata": {},
          "execution_count": 63
        }
      ]
    },
    {
      "cell_type": "code",
      "source": [
        "df_new[df_new['Joining_Designation']!=df_new['Grade_Joined']][['Driver_ID','Joining_Designation','Grade_Joined']]"
      ],
      "metadata": {
        "colab": {
          "base_uri": "https://localhost:8080/",
          "height": 424
        },
        "id": "n2oRkTKG-gqh",
        "outputId": "21f2bdfc-55da-457d-cbf6-33efd6b1b224"
      },
      "execution_count": null,
      "outputs": [
        {
          "output_type": "execute_result",
          "data": {
            "text/plain": [
              "      Driver_ID  Joining_Designation  Grade_Joined\n",
              "16           24                    1             2\n",
              "36           49                    1             2\n",
              "65           81                    1             2\n",
              "87          106                    1             3\n",
              "92          111                    2             3\n",
              "...         ...                  ...           ...\n",
              "2333       2731                    1             2\n",
              "2334       2732                    1             3\n",
              "2351       2753                    1             5\n",
              "2364       2768                    1             2\n",
              "2367       2772                    1             2\n",
              "\n",
              "[204 rows x 3 columns]"
            ],
            "text/html": [
              "\n",
              "  <div id=\"df-3e2319ef-1aec-4029-a126-2bd1fde0e5ac\">\n",
              "    <div class=\"colab-df-container\">\n",
              "      <div>\n",
              "<style scoped>\n",
              "    .dataframe tbody tr th:only-of-type {\n",
              "        vertical-align: middle;\n",
              "    }\n",
              "\n",
              "    .dataframe tbody tr th {\n",
              "        vertical-align: top;\n",
              "    }\n",
              "\n",
              "    .dataframe thead th {\n",
              "        text-align: right;\n",
              "    }\n",
              "</style>\n",
              "<table border=\"1\" class=\"dataframe\">\n",
              "  <thead>\n",
              "    <tr style=\"text-align: right;\">\n",
              "      <th></th>\n",
              "      <th>Driver_ID</th>\n",
              "      <th>Joining_Designation</th>\n",
              "      <th>Grade_Joined</th>\n",
              "    </tr>\n",
              "  </thead>\n",
              "  <tbody>\n",
              "    <tr>\n",
              "      <th>16</th>\n",
              "      <td>24</td>\n",
              "      <td>1</td>\n",
              "      <td>2</td>\n",
              "    </tr>\n",
              "    <tr>\n",
              "      <th>36</th>\n",
              "      <td>49</td>\n",
              "      <td>1</td>\n",
              "      <td>2</td>\n",
              "    </tr>\n",
              "    <tr>\n",
              "      <th>65</th>\n",
              "      <td>81</td>\n",
              "      <td>1</td>\n",
              "      <td>2</td>\n",
              "    </tr>\n",
              "    <tr>\n",
              "      <th>87</th>\n",
              "      <td>106</td>\n",
              "      <td>1</td>\n",
              "      <td>3</td>\n",
              "    </tr>\n",
              "    <tr>\n",
              "      <th>92</th>\n",
              "      <td>111</td>\n",
              "      <td>2</td>\n",
              "      <td>3</td>\n",
              "    </tr>\n",
              "    <tr>\n",
              "      <th>...</th>\n",
              "      <td>...</td>\n",
              "      <td>...</td>\n",
              "      <td>...</td>\n",
              "    </tr>\n",
              "    <tr>\n",
              "      <th>2333</th>\n",
              "      <td>2731</td>\n",
              "      <td>1</td>\n",
              "      <td>2</td>\n",
              "    </tr>\n",
              "    <tr>\n",
              "      <th>2334</th>\n",
              "      <td>2732</td>\n",
              "      <td>1</td>\n",
              "      <td>3</td>\n",
              "    </tr>\n",
              "    <tr>\n",
              "      <th>2351</th>\n",
              "      <td>2753</td>\n",
              "      <td>1</td>\n",
              "      <td>5</td>\n",
              "    </tr>\n",
              "    <tr>\n",
              "      <th>2364</th>\n",
              "      <td>2768</td>\n",
              "      <td>1</td>\n",
              "      <td>2</td>\n",
              "    </tr>\n",
              "    <tr>\n",
              "      <th>2367</th>\n",
              "      <td>2772</td>\n",
              "      <td>1</td>\n",
              "      <td>2</td>\n",
              "    </tr>\n",
              "  </tbody>\n",
              "</table>\n",
              "<p>204 rows × 3 columns</p>\n",
              "</div>\n",
              "      <button class=\"colab-df-convert\" onclick=\"convertToInteractive('df-3e2319ef-1aec-4029-a126-2bd1fde0e5ac')\"\n",
              "              title=\"Convert this dataframe to an interactive table.\"\n",
              "              style=\"display:none;\">\n",
              "        \n",
              "  <svg xmlns=\"http://www.w3.org/2000/svg\" height=\"24px\"viewBox=\"0 0 24 24\"\n",
              "       width=\"24px\">\n",
              "    <path d=\"M0 0h24v24H0V0z\" fill=\"none\"/>\n",
              "    <path d=\"M18.56 5.44l.94 2.06.94-2.06 2.06-.94-2.06-.94-.94-2.06-.94 2.06-2.06.94zm-11 1L8.5 8.5l.94-2.06 2.06-.94-2.06-.94L8.5 2.5l-.94 2.06-2.06.94zm10 10l.94 2.06.94-2.06 2.06-.94-2.06-.94-.94-2.06-.94 2.06-2.06.94z\"/><path d=\"M17.41 7.96l-1.37-1.37c-.4-.4-.92-.59-1.43-.59-.52 0-1.04.2-1.43.59L10.3 9.45l-7.72 7.72c-.78.78-.78 2.05 0 2.83L4 21.41c.39.39.9.59 1.41.59.51 0 1.02-.2 1.41-.59l7.78-7.78 2.81-2.81c.8-.78.8-2.07 0-2.86zM5.41 20L4 18.59l7.72-7.72 1.47 1.35L5.41 20z\"/>\n",
              "  </svg>\n",
              "      </button>\n",
              "      \n",
              "  <style>\n",
              "    .colab-df-container {\n",
              "      display:flex;\n",
              "      flex-wrap:wrap;\n",
              "      gap: 12px;\n",
              "    }\n",
              "\n",
              "    .colab-df-convert {\n",
              "      background-color: #E8F0FE;\n",
              "      border: none;\n",
              "      border-radius: 50%;\n",
              "      cursor: pointer;\n",
              "      display: none;\n",
              "      fill: #1967D2;\n",
              "      height: 32px;\n",
              "      padding: 0 0 0 0;\n",
              "      width: 32px;\n",
              "    }\n",
              "\n",
              "    .colab-df-convert:hover {\n",
              "      background-color: #E2EBFA;\n",
              "      box-shadow: 0px 1px 2px rgba(60, 64, 67, 0.3), 0px 1px 3px 1px rgba(60, 64, 67, 0.15);\n",
              "      fill: #174EA6;\n",
              "    }\n",
              "\n",
              "    [theme=dark] .colab-df-convert {\n",
              "      background-color: #3B4455;\n",
              "      fill: #D2E3FC;\n",
              "    }\n",
              "\n",
              "    [theme=dark] .colab-df-convert:hover {\n",
              "      background-color: #434B5C;\n",
              "      box-shadow: 0px 1px 3px 1px rgba(0, 0, 0, 0.15);\n",
              "      filter: drop-shadow(0px 1px 2px rgba(0, 0, 0, 0.3));\n",
              "      fill: #FFFFFF;\n",
              "    }\n",
              "  </style>\n",
              "\n",
              "      <script>\n",
              "        const buttonEl =\n",
              "          document.querySelector('#df-3e2319ef-1aec-4029-a126-2bd1fde0e5ac button.colab-df-convert');\n",
              "        buttonEl.style.display =\n",
              "          google.colab.kernel.accessAllowed ? 'block' : 'none';\n",
              "\n",
              "        async function convertToInteractive(key) {\n",
              "          const element = document.querySelector('#df-3e2319ef-1aec-4029-a126-2bd1fde0e5ac');\n",
              "          const dataTable =\n",
              "            await google.colab.kernel.invokeFunction('convertToInteractive',\n",
              "                                                     [key], {});\n",
              "          if (!dataTable) return;\n",
              "\n",
              "          const docLinkHtml = 'Like what you see? Visit the ' +\n",
              "            '<a target=\"_blank\" href=https://colab.research.google.com/notebooks/data_table.ipynb>data table notebook</a>'\n",
              "            + ' to learn more about interactive tables.';\n",
              "          element.innerHTML = '';\n",
              "          dataTable['output_type'] = 'display_data';\n",
              "          await google.colab.output.renderOutput(dataTable, element);\n",
              "          const docLink = document.createElement('div');\n",
              "          docLink.innerHTML = docLinkHtml;\n",
              "          element.appendChild(docLink);\n",
              "        }\n",
              "      </script>\n",
              "    </div>\n",
              "  </div>\n",
              "  "
            ]
          },
          "metadata": {},
          "execution_count": 64
        }
      ]
    },
    {
      "cell_type": "markdown",
      "source": [
        "**IMP NOTE: As the Grade joined has the first value of the data selected during 2019 and 2020. But some of the joinings might be during before 2019. so drop the Grade_Joined and use the joining Designation to know the jump in the grade or not.**"
      ],
      "metadata": {
        "id": "CClkLYoSA3nj"
      }
    },
    {
      "cell_type": "code",
      "source": [
        "df_new['Grade_Increment']=df_new.apply(lambda x: increment(x['Joining_Designation'],x['Grade_Joined']),axis=1)"
      ],
      "metadata": {
        "id": "Vz2B89hYAKMU"
      },
      "execution_count": null,
      "outputs": []
    },
    {
      "cell_type": "code",
      "source": [
        "df_new.info()"
      ],
      "metadata": {
        "colab": {
          "base_uri": "https://localhost:8080/"
        },
        "id": "aZMS-0eFEIHk",
        "outputId": "50c5bf18-588d-44b5-de48-48e0312bb7de"
      },
      "execution_count": null,
      "outputs": [
        {
          "output_type": "stream",
          "name": "stdout",
          "text": [
            "<class 'pandas.core.frame.DataFrame'>\n",
            "Int64Index: 2109 entries, 0 to 2380\n",
            "Data columns (total 22 columns):\n",
            " #   Column                   Non-Null Count  Dtype    \n",
            "---  ------                   --------------  -----    \n",
            " 0   Driver_ID                2109 non-null   int64    \n",
            " 1   MMM_YY                   2109 non-null   category \n",
            " 2   Age                      2109 non-null   float64  \n",
            " 3   Gender                   2109 non-null   category \n",
            " 4   City                     2109 non-null   category \n",
            " 5   Education_Level          2109 non-null   category \n",
            " 6   Income_Joined            2109 non-null   int64    \n",
            " 7   Income_Now               2109 non-null   int64    \n",
            " 8   Income_Sum               2109 non-null   int64    \n",
            " 9   Date_Of_Joining          2109 non-null   period[M]\n",
            " 10  Last_Working_Date        1567 non-null   period[M]\n",
            " 11  Joining_Designation      2109 non-null   int64    \n",
            " 12  Grade_Joined             2109 non-null   int64    \n",
            " 13  Grade_Now                2109 non-null   int64    \n",
            " 14  Total_Business_Value     2109 non-null   int64    \n",
            " 15  Quarterly_Rating_Joined  2109 non-null   int64    \n",
            " 16  Quarterly_Rating_Now     2109 non-null   int64    \n",
            " 17  Employee_Churned         2109 non-null   int64    \n",
            " 18  Income_Increment         2109 non-null   int64    \n",
            " 19  Quarterly_Increment      2109 non-null   int64    \n",
            " 20  Grade_Increment          2109 non-null   int64    \n",
            " 21  Experience               2109 non-null   float64  \n",
            "dtypes: category(4), float64(2), int64(14), period[M](2)\n",
            "memory usage: 323.5 KB\n"
          ]
        }
      ]
    },
    {
      "cell_type": "code",
      "source": [
        "df_new['Joining_Designation']=df_new['Joining_Designation'].astype('category')\n",
        "df_new['Grade_Now']=df_new['Grade_Now'].astype('category')\n",
        "df_new['Quarterly_Rating_Joined']=df_new['Quarterly_Rating_Joined'].astype('category')\n",
        "df_new['Quarterly_Rating_Now']=df_new['Quarterly_Rating_Now'].astype('category')\n",
        "# df_new['Employee_Churned']=df_new['Employee_Churned'].astype('category')\n",
        "df_new['Income_Increment']=df_new['Income_Increment'].astype('category')\n",
        "df_new['Quarterly_Increment']=df_new['Quarterly_Increment'].astype('category')\n",
        "df_new['Grade_Increment']=df_new['Grade_Increment'].astype('category')"
      ],
      "metadata": {
        "id": "AVUtV8LSB52b"
      },
      "execution_count": null,
      "outputs": []
    },
    {
      "cell_type": "code",
      "source": [
        "df_new.info()"
      ],
      "metadata": {
        "colab": {
          "base_uri": "https://localhost:8080/"
        },
        "id": "OuRXa0tiG3D0",
        "outputId": "6c27fc0b-0cd6-4cb4-8983-d614b061349b"
      },
      "execution_count": null,
      "outputs": [
        {
          "output_type": "stream",
          "name": "stdout",
          "text": [
            "<class 'pandas.core.frame.DataFrame'>\n",
            "Int64Index: 2109 entries, 0 to 2380\n",
            "Data columns (total 22 columns):\n",
            " #   Column                   Non-Null Count  Dtype    \n",
            "---  ------                   --------------  -----    \n",
            " 0   Driver_ID                2109 non-null   int64    \n",
            " 1   MMM_YY                   2109 non-null   category \n",
            " 2   Age                      2109 non-null   float64  \n",
            " 3   Gender                   2109 non-null   category \n",
            " 4   City                     2109 non-null   category \n",
            " 5   Education_Level          2109 non-null   category \n",
            " 6   Income_Joined            2109 non-null   int64    \n",
            " 7   Income_Now               2109 non-null   int64    \n",
            " 8   Income_Sum               2109 non-null   int64    \n",
            " 9   Date_Of_Joining          2109 non-null   period[M]\n",
            " 10  Last_Working_Date        1567 non-null   period[M]\n",
            " 11  Joining_Designation      2109 non-null   category \n",
            " 12  Grade_Joined             2109 non-null   int64    \n",
            " 13  Grade_Now                2109 non-null   category \n",
            " 14  Total_Business_Value     2109 non-null   int64    \n",
            " 15  Quarterly_Rating_Joined  2109 non-null   category \n",
            " 16  Quarterly_Rating_Now     2109 non-null   category \n",
            " 17  Employee_Churned         2109 non-null   int64    \n",
            " 18  Income_Increment         2109 non-null   category \n",
            " 19  Quarterly_Increment      2109 non-null   category \n",
            " 20  Grade_Increment          2109 non-null   category \n",
            " 21  Experience               2109 non-null   float64  \n",
            "dtypes: category(11), float64(2), int64(7), period[M](2)\n",
            "memory usage: 223.8 KB\n"
          ]
        }
      ]
    },
    {
      "cell_type": "markdown",
      "source": [
        "##drop the columns"
      ],
      "metadata": {
        "id": "kUTe3ZSeHQNP"
      }
    },
    {
      "cell_type": "code",
      "source": [
        "drop_columns=['Driver_ID','Date_Of_Joining','Last_Working_Date','Grade_Joined']\n",
        "df_new.drop(columns=drop_columns,axis=1,inplace=True)"
      ],
      "metadata": {
        "id": "JK5TggTFG9wF"
      },
      "execution_count": null,
      "outputs": []
    },
    {
      "cell_type": "code",
      "source": [
        "df_new.info()"
      ],
      "metadata": {
        "colab": {
          "base_uri": "https://localhost:8080/"
        },
        "id": "b01oSHdOIAiw",
        "outputId": "423553c7-d8a0-4b8d-9a64-a8cc2a014cbe"
      },
      "execution_count": null,
      "outputs": [
        {
          "output_type": "stream",
          "name": "stdout",
          "text": [
            "<class 'pandas.core.frame.DataFrame'>\n",
            "Int64Index: 2109 entries, 0 to 2380\n",
            "Data columns (total 18 columns):\n",
            " #   Column                   Non-Null Count  Dtype   \n",
            "---  ------                   --------------  -----   \n",
            " 0   MMM_YY                   2109 non-null   category\n",
            " 1   Age                      2109 non-null   float64 \n",
            " 2   Gender                   2109 non-null   category\n",
            " 3   City                     2109 non-null   category\n",
            " 4   Education_Level          2109 non-null   category\n",
            " 5   Income_Joined            2109 non-null   int64   \n",
            " 6   Income_Now               2109 non-null   int64   \n",
            " 7   Income_Sum               2109 non-null   int64   \n",
            " 8   Joining_Designation      2109 non-null   category\n",
            " 9   Grade_Now                2109 non-null   category\n",
            " 10  Total_Business_Value     2109 non-null   int64   \n",
            " 11  Quarterly_Rating_Joined  2109 non-null   category\n",
            " 12  Quarterly_Rating_Now     2109 non-null   category\n",
            " 13  Employee_Churned         2109 non-null   int64   \n",
            " 14  Income_Increment         2109 non-null   category\n",
            " 15  Quarterly_Increment      2109 non-null   category\n",
            " 16  Grade_Increment          2109 non-null   category\n",
            " 17  Experience               2109 non-null   float64 \n",
            "dtypes: category(11), float64(2), int64(5)\n",
            "memory usage: 157.9 KB\n"
          ]
        }
      ]
    },
    {
      "cell_type": "code",
      "source": [
        "categorical_columns=df_new.select_dtypes(include='category').columns\n",
        "numerical_columns=df_new.select_dtypes(include='number').columns"
      ],
      "metadata": {
        "id": "wjDl15vKIFCo"
      },
      "execution_count": null,
      "outputs": []
    },
    {
      "cell_type": "code",
      "source": [
        "categorical_columns"
      ],
      "metadata": {
        "colab": {
          "base_uri": "https://localhost:8080/"
        },
        "id": "Lr7k0SzQIMnq",
        "outputId": "cf124528-a452-4efc-d211-923f63e8638b"
      },
      "execution_count": null,
      "outputs": [
        {
          "output_type": "execute_result",
          "data": {
            "text/plain": [
              "Index(['MMM_YY', 'Gender', 'City', 'Education_Level', 'Joining_Designation',\n",
              "       'Grade_Now', 'Quarterly_Rating_Joined', 'Quarterly_Rating_Now',\n",
              "       'Income_Increment', 'Quarterly_Increment', 'Grade_Increment'],\n",
              "      dtype='object')"
            ]
          },
          "metadata": {},
          "execution_count": 72
        }
      ]
    },
    {
      "cell_type": "code",
      "source": [
        "for i in categorical_columns:\n",
        "  if df_new[i].nunique()<30:\n",
        "    plt.figure(figsize=(7,5))\n",
        "    sns.countplot(x=i,data=df_new)\n",
        "    plt.xticks(rotation=60)\n",
        "    # plt.ylabel(i)\n",
        "    plt.show()"
      ],
      "metadata": {
        "colab": {
          "base_uri": "https://localhost:8080/",
          "height": 1000
        },
        "id": "U5RnqXEz05pt",
        "outputId": "cbace821-af64-41b0-e9e8-ed1dd9582c51"
      },
      "execution_count": null,
      "outputs": [
        {
          "output_type": "display_data",
          "data": {
            "text/plain": [
              "<Figure size 504x360 with 1 Axes>"
            ],
            "image/png": "[encoded data removed]"
          },
          "metadata": {
            "needs_background": "light"
          }
        },
        {
          "output_type": "display_data",
          "data": {
            "text/plain": [
              "<Figure size 504x360 with 1 Axes>"
            ],
            "image/png": "[encoded data removed]"
          },
          "metadata": {
            "needs_background": "light"
          }
        },
        {
          "output_type": "display_data",
          "data": {
            "text/plain": [
              "<Figure size 504x360 with 1 Axes>"
            ],
            "image/png": "[encoded data removed]"
          },
          "metadata": {
            "needs_background": "light"
          }
        },
        {
          "output_type": "display_data",
          "data": {
            "text/plain": [
              "<Figure size 504x360 with 1 Axes>"
            ],
            "image/png": "[encoded data removed]"
          },
          "metadata": {
            "needs_background": "light"
          }
        },
        {
          "output_type": "display_data",
          "data": {
            "text/plain": [
              "<Figure size 504x360 with 1 Axes>"
            ],
            "image/png": "[encoded data removed]"
          },
          "metadata": {
            "needs_background": "light"
          }
        },
        {
          "output_type": "display_data",
          "data": {
            "text/plain": [
              "<Figure size 504x360 with 1 Axes>"
            ],
            "image/png": "[encoded data removed]"
          },
          "metadata": {
            "needs_background": "light"
          }
        },
        {
          "output_type": "display_data",
          "data": {
            "text/plain": [
              "<Figure size 504x360 with 1 Axes>"
            ],
            "image/png": "[encoded data removed]"
          },
          "metadata": {
            "needs_background": "light"
          }
        },
        {
          "output_type": "display_data",
          "data": {
            "text/plain": [
              "<Figure size 504x360 with 1 Axes>"
            ],
            "image/png": "[encoded data removed]"
          },
          "metadata": {
            "needs_background": "light"
          }
        },
        {
          "output_type": "display_data",
          "data": {
            "text/plain": [
              "<Figure size 504x360 with 1 Axes>"
            ],
            "image/png": "[encoded data removed]"
          },
          "metadata": {
            "needs_background": "light"
          }
        },
        {
          "output_type": "display_data",
          "data": {
            "text/plain": [
              "<Figure size 504x360 with 1 Axes>"
            ],
            "image/png": "[encoded data removed]"
          },
          "metadata": {
            "needs_background": "light"
          }
        },
        {
          "output_type": "display_data",
          "data": {
            "text/plain": [
              "<Figure size 504x360 with 1 Axes>"
            ],
            "image/png": "[encoded data removed]"
          },
          "metadata": {
            "needs_background": "light"
          }
        }
      ]
    },
    {
      "cell_type": "code",
      "source": [
        "for i in categorical_columns:\n",
        "  if df_new[i].nunique()<30:\n",
        "    print(f'{i}: {df_new[i].value_counts(normalize=True)}')\n",
        "    print('______')"
      ],
      "metadata": {
        "colab": {
          "base_uri": "https://localhost:8080/"
        },
        "id": "5j60uSr41e6i",
        "outputId": "e10eac5f-7508-44de-bab1-43a274a5e23a"
      },
      "execution_count": null,
      "outputs": [
        {
          "output_type": "stream",
          "name": "stdout",
          "text": [
            "MMM_YY: 2020-12    0.264580\n",
            "2019-05    0.047890\n",
            "2019-09    0.042674\n",
            "2019-01    0.039829\n",
            "2020-07    0.039355\n",
            "2020-11    0.037459\n",
            "2020-02    0.036510\n",
            "2019-03    0.035562\n",
            "2019-02    0.035562\n",
            "2019-12    0.033665\n",
            "2020-01    0.032243\n",
            "2019-11    0.030346\n",
            "2020-08    0.030346\n",
            "2019-10    0.029872\n",
            "2020-05    0.029872\n",
            "2020-06    0.028924\n",
            "2020-10    0.028450\n",
            "2020-03    0.028450\n",
            "2020-09    0.027975\n",
            "2019-07    0.027501\n",
            "2019-06    0.026079\n",
            "2019-04    0.022760\n",
            "2019-08    0.022285\n",
            "2020-04    0.021811\n",
            "Name: MMM_YY, dtype: float64\n",
            "______\n",
            "Gender: 0.0    0.590801\n",
            "1.0    0.409199\n",
            "Name: Gender, dtype: float64\n",
            "______\n",
            "City: C20    0.066382\n",
            "C15    0.042200\n",
            "C26    0.037933\n",
            "C29    0.037459\n",
            "C8     0.035562\n",
            "C3     0.035562\n",
            "C27    0.035088\n",
            "C10    0.035088\n",
            "C16    0.034614\n",
            "C12    0.033665\n",
            "C6     0.033665\n",
            "C23    0.033665\n",
            "C28    0.033191\n",
            "C1     0.033191\n",
            "C14    0.033191\n",
            "C4     0.032717\n",
            "C5     0.032717\n",
            "C22    0.032717\n",
            "C21    0.032717\n",
            "C2     0.032717\n",
            "C9     0.032717\n",
            "C7     0.032243\n",
            "C17    0.031769\n",
            "C25    0.031294\n",
            "C24    0.030820\n",
            "C19    0.029872\n",
            "C18    0.029398\n",
            "C13    0.029398\n",
            "C11    0.028450\n",
            "Name: City, dtype: float64\n",
            "______\n",
            "Education_Level: 2    0.339497\n",
            "0    0.333807\n",
            "1    0.326695\n",
            "Name: Education_Level, dtype: float64\n",
            "______\n",
            "Joining_Designation: 1    0.398293\n",
            "2    0.353722\n",
            "3    0.228544\n",
            "4    0.015173\n",
            "5    0.004267\n",
            "Name: Joining_Designation, dtype: float64\n",
            "______\n",
            "Grade_Now: 2    0.368895\n",
            "1    0.330488\n",
            "3    0.259365\n",
            "4    0.033191\n",
            "5    0.008061\n",
            "Name: Grade_Now, dtype: float64\n",
            "______\n",
            "Quarterly_Rating_Joined: 1    0.764343\n",
            "2    0.150782\n",
            "3    0.060692\n",
            "4    0.024182\n",
            "Name: Quarterly_Rating_Joined, dtype: float64\n",
            "______\n",
            "Quarterly_Rating_Now: 1    0.805595\n",
            "2    0.128497\n",
            "3    0.042200\n",
            "4    0.023708\n",
            "Name: Quarterly_Rating_Now, dtype: float64\n",
            "______\n",
            "Income_Increment: 0    0.996207\n",
            "1    0.003793\n",
            "Name: Income_Increment, dtype: float64\n",
            "______\n",
            "Quarterly_Increment: 0    0.872926\n",
            "1    0.127074\n",
            "Name: Quarterly_Increment, dtype: float64\n",
            "______\n",
            "Grade_Increment: 0    1.0\n",
            "Name: Grade_Increment, dtype: float64\n",
            "______\n"
          ]
        }
      ]
    },
    {
      "cell_type": "markdown",
      "source": [
        "Observations and insights\n",
        "\n",
        "1. The Male Gender is more compared to Female Gender.\n",
        "2. More of the drivers are from City C20.\n",
        "3. No.of drivers is almost same for each of the education level.\n",
        "4. Joining designation with grade 1 is more\n",
        "5. Grade increment is none as we observe only 0.\n",
        "6. Quarterly increment is almost none and only few drivers have increment.\n",
        "7. Employee churned is more."
      ],
      "metadata": {
        "id": "P_4lnW_vCTl2"
      }
    },
    {
      "cell_type": "code",
      "source": [
        "numerical_columns"
      ],
      "metadata": {
        "colab": {
          "base_uri": "https://localhost:8080/"
        },
        "id": "05RsPsKF_WwS",
        "outputId": "f1334e3b-a004-4094-a989-88d6ce1b38af"
      },
      "execution_count": null,
      "outputs": [
        {
          "output_type": "execute_result",
          "data": {
            "text/plain": [
              "Index(['Age', 'Income_Joined', 'Income_Now', 'Income_Sum',\n",
              "       'Total_Business_Value', 'Employee_Churned', 'Experience'],\n",
              "      dtype='object')"
            ]
          },
          "metadata": {},
          "execution_count": 75
        }
      ]
    },
    {
      "cell_type": "code",
      "source": [
        "for i in numerical_columns:\n",
        "  plt.figure(figsize=(7,5))\n",
        "  sns.displot(x=i,data=df_new)\n",
        "  plt.show()"
      ],
      "metadata": {
        "colab": {
          "base_uri": "https://localhost:8080/",
          "height": 1000
        },
        "id": "DBAjsVdJFUg6",
        "outputId": "97c0a145-c2dd-4730-a4e3-27407885ce2c"
      },
      "execution_count": null,
      "outputs": [
        {
          "output_type": "display_data",
          "data": {
            "text/plain": [
              "<Figure size 504x360 with 0 Axes>"
            ]
          },
          "metadata": {}
        },
        {
          "output_type": "display_data",
          "data": {
            "text/plain": [
              "<Figure size 360x360 with 1 Axes>"
            ],
            "image/png": "[encoded data removed]"
          },
          "metadata": {
            "needs_background": "light"
          }
        },
        {
          "output_type": "display_data",
          "data": {
            "text/plain": [
              "<Figure size 504x360 with 0 Axes>"
            ]
          },
          "metadata": {}
        },
        {
          "output_type": "display_data",
          "data": {
            "text/plain": [
              "<Figure size 360x360 with 1 Axes>"
            ],
            "image/png": "[encoded data removed]"
          },
          "metadata": {
            "needs_background": "light"
          }
        },
        {
          "output_type": "display_data",
          "data": {
            "text/plain": [
              "<Figure size 504x360 with 0 Axes>"
            ]
          },
          "metadata": {}
        },
        {
          "output_type": "display_data",
          "data": {
            "text/plain": [
              "<Figure size 360x360 with 1 Axes>"
            ],
            "image/png": "[encoded data removed]"
          },
          "metadata": {
            "needs_background": "light"
          }
        },
        {
          "output_type": "display_data",
          "data": {
            "text/plain": [
              "<Figure size 504x360 with 0 Axes>"
            ]
          },
          "metadata": {}
        },
        {
          "output_type": "display_data",
          "data": {
            "text/plain": [
              "<Figure size 360x360 with 1 Axes>"
            ],
            "image/png": "[encoded data removed]"
          },
          "metadata": {
            "needs_background": "light"
          }
        },
        {
          "output_type": "display_data",
          "data": {
            "text/plain": [
              "<Figure size 504x360 with 0 Axes>"
            ]
          },
          "metadata": {}
        },
        {
          "output_type": "display_data",
          "data": {
            "text/plain": [
              "<Figure size 360x360 with 1 Axes>"
            ],
            "image/png": "[encoded data removed]"
          },
          "metadata": {
            "needs_background": "light"
          }
        },
        {
          "output_type": "display_data",
          "data": {
            "text/plain": [
              "<Figure size 504x360 with 0 Axes>"
            ]
          },
          "metadata": {}
        },
        {
          "output_type": "display_data",
          "data": {
            "text/plain": [
              "<Figure size 360x360 with 1 Axes>"
            ],
            "image/png": "[encoded data removed]"
          },
          "metadata": {
            "needs_background": "light"
          }
        },
        {
          "output_type": "display_data",
          "data": {
            "text/plain": [
              "<Figure size 504x360 with 0 Axes>"
            ]
          },
          "metadata": {}
        },
        {
          "output_type": "display_data",
          "data": {
            "text/plain": [
              "<Figure size 360x360 with 1 Axes>"
            ],
            "image/png": "[encoded data removed]"
          },
          "metadata": {
            "needs_background": "light"
          }
        }
      ]
    },
    {
      "cell_type": "markdown",
      "source": [
        "Observations and Insights\n",
        "\n",
        "1. Age is almost following normal distribution\n",
        "2. Income when joined, Income now and Income sum is following right skewed distribution.\n",
        "3. Total Business value of 0 is more.\n",
        "4. Experience is also following right skewed."
      ],
      "metadata": {
        "id": "bi20F6KlFoBS"
      }
    },
    {
      "cell_type": "markdown",
      "source": [
        "##Bivariate Analysis"
      ],
      "metadata": {
        "id": "vDmcn36IJ8SP"
      }
    },
    {
      "cell_type": "code",
      "source": [
        "for i in categorical_columns:\n",
        "  if i!='Employee_Churned' and df_new[i].nunique()<30:\n",
        "    pd.crosstab(df_new[i],df_new['Employee_Churned']).plot(kind='bar')\n",
        "    plt.show()"
      ],
      "metadata": {
        "colab": {
          "base_uri": "https://localhost:8080/",
          "height": 1000
        },
        "id": "phxUa9eaFauh",
        "outputId": "0f8e47af-427e-4bc7-a60a-774ebc379535"
      },
      "execution_count": null,
      "outputs": [
        {
          "output_type": "display_data",
          "data": {
            "text/plain": [
              "<Figure size 432x288 with 1 Axes>"
            ],
            "image/png": "[encoded data removed]"
          },
          "metadata": {
            "needs_background": "light"
          }
        },
        {
          "output_type": "display_data",
          "data": {
            "text/plain": [
              "<Figure size 432x288 with 1 Axes>"
            ],
            "image/png": "[encoded data removed]"
          },
          "metadata": {
            "needs_background": "light"
          }
        },
        {
          "output_type": "display_data",
          "data": {
            "text/plain": [
              "<Figure size 432x288 with 1 Axes>"
            ],
            "image/png": "[encoded data removed]"
          },
          "metadata": {
            "needs_background": "light"
          }
        },
        {
          "output_type": "display_data",
          "data": {
            "text/plain": [
              "<Figure size 432x288 with 1 Axes>"
            ],
            "image/png": "[encoded data removed]"
          },
          "metadata": {
            "needs_background": "light"
          }
        },
        {
          "output_type": "display_data",
          "data": {
            "text/plain": [
              "<Figure size 432x288 with 1 Axes>"
            ],
            "image/png": "[encoded data removed]"
          },
          "metadata": {
            "needs_background": "light"
          }
        },
        {
          "output_type": "display_data",
          "data": {
            "text/plain": [
              "<Figure size 432x288 with 1 Axes>"
            ],
            "image/png": "[encoded data removed]"
          },
          "metadata": {
            "needs_background": "light"
          }
        },
        {
          "output_type": "display_data",
          "data": {
            "text/plain": [
              "<Figure size 432x288 with 1 Axes>"
            ],
            "image/png": "[encoded data removed]"
          },
          "metadata": {
            "needs_background": "light"
          }
        },
        {
          "output_type": "display_data",
          "data": {
            "text/plain": [
              "<Figure size 432x288 with 1 Axes>"
            ],
            "image/png": "[encoded data removed]"
          },
          "metadata": {
            "needs_background": "light"
          }
        },
        {
          "output_type": "display_data",
          "data": {
            "text/plain": [
              "<Figure size 432x288 with 1 Axes>"
            ],
            "image/png": "[encoded data removed]"
          },
          "metadata": {
            "needs_background": "light"
          }
        },
        {
          "output_type": "display_data",
          "data": {
            "text/plain": [
              "<Figure size 432x288 with 1 Axes>"
            ],
            "image/png": "[encoded data removed]"
          },
          "metadata": {
            "needs_background": "light"
          }
        },
        {
          "output_type": "display_data",
          "data": {
            "text/plain": [
              "<Figure size 432x288 with 1 Axes>"
            ],
            "image/png": "[encoded data removed]"
          },
          "metadata": {
            "needs_background": "light"
          }
        }
      ]
    },
    {
      "cell_type": "code",
      "source": [
        "df_new[['Income_Increment','Employee_Churned']].value_counts()"
      ],
      "metadata": {
        "colab": {
          "base_uri": "https://localhost:8080/"
        },
        "id": "qhc2x15sC6eF",
        "outputId": "6b17cbf8-812d-49a3-8db6-7485b67f434a"
      },
      "execution_count": null,
      "outputs": [
        {
          "output_type": "execute_result",
          "data": {
            "text/plain": [
              "Income_Increment  Employee_Churned\n",
              "0                 1                   1565\n",
              "                  0                    536\n",
              "1                 0                      6\n",
              "                  1                      2\n",
              "dtype: int64"
            ]
          },
          "metadata": {},
          "execution_count": 78
        }
      ]
    },
    {
      "cell_type": "markdown",
      "source": [
        "As the Income increment numbers are small we can remove the column in analysis."
      ],
      "metadata": {
        "id": "T5YCud1lFM9P"
      }
    },
    {
      "cell_type": "code",
      "source": [
        "df_new.drop(columns=['MMM_YY','Income_Increment','Grade_Increment'],axis=1,inplace=True)"
      ],
      "metadata": {
        "id": "9pvLaSThDmtK"
      },
      "execution_count": null,
      "outputs": []
    },
    {
      "cell_type": "markdown",
      "source": [
        "Observations and Insights\n",
        "\n",
        "1. churned ratio is almost same for both the genders\n",
        "2. Churned ratio is same for all the education level.\n",
        "3. Whoever joined in grade 1 and currently under grade 1, are the ones who leaving the company.\n",
        "4. Whoever not received quarterly increment, their churn chances are more."
      ],
      "metadata": {
        "id": "k03AdL6XL9lL"
      }
    },
    {
      "cell_type": "code",
      "source": [
        "for i in numerical_columns:\n",
        "    sns.boxplot(y=i,x='Employee_Churned',data=df_new)    \n",
        "    plt.show()"
      ],
      "metadata": {
        "colab": {
          "base_uri": "https://localhost:8080/",
          "height": 1000
        },
        "id": "pLwBU0tBKoHD",
        "outputId": "aa95cea8-514d-4ea1-df05-5e85852de673"
      },
      "execution_count": null,
      "outputs": [
        {
          "output_type": "display_data",
          "data": {
            "text/plain": [
              "<Figure size 432x288 with 1 Axes>"
            ],
            "image/png": "[encoded data removed]"
          },
          "metadata": {
            "needs_background": "light"
          }
        },
        {
          "output_type": "display_data",
          "data": {
            "text/plain": [
              "<Figure size 432x288 with 1 Axes>"
            ],
            "image/png": "[encoded data removed]"
          },
          "metadata": {
            "needs_background": "light"
          }
        },
        {
          "output_type": "display_data",
          "data": {
            "text/plain": [
              "<Figure size 432x288 with 1 Axes>"
            ],
            "image/png": "[encoded data removed]"
          },
          "metadata": {
            "needs_background": "light"
          }
        },
        {
          "output_type": "display_data",
          "data": {
            "text/plain": [
              "<Figure size 432x288 with 1 Axes>"
            ],
            "image/png": "[encoded data removed]"
          },
          "metadata": {
            "needs_background": "light"
          }
        },
        {
          "output_type": "display_data",
          "data": {
            "text/plain": [
              "<Figure size 432x288 with 1 Axes>"
            ],
            "image/png": "[encoded data removed]"
          },
          "metadata": {
            "needs_background": "light"
          }
        },
        {
          "output_type": "display_data",
          "data": {
            "text/plain": [
              "<Figure size 432x288 with 1 Axes>"
            ],
            "image/png": "[encoded data removed]"
          },
          "metadata": {
            "needs_background": "light"
          }
        },
        {
          "output_type": "display_data",
          "data": {
            "text/plain": [
              "<Figure size 432x288 with 1 Axes>"
            ],
            "image/png": "[encoded data removed]"
          },
          "metadata": {
            "needs_background": "light"
          }
        }
      ]
    },
    {
      "cell_type": "markdown",
      "source": [
        "Observations and Insights\n",
        "\n",
        "1. The age of employees who churned and who are staying are same.\n",
        "2. The income at the time of joining is less for the employees who churned than the employees staying.\n",
        "3. Total business value for the employees who churned is less than the employees who are staying\n",
        "4. Experience of employees who churned have more than the employees who are staying."
      ],
      "metadata": {
        "id": "P0z5N02wQAnB"
      }
    },
    {
      "cell_type": "code",
      "source": [
        "df_new.columns"
      ],
      "metadata": {
        "id": "8P2-pDs0PgGg",
        "colab": {
          "base_uri": "https://localhost:8080/"
        },
        "outputId": "06e07db7-8a17-43b5-8d51-fb3d10ddc403"
      },
      "execution_count": null,
      "outputs": [
        {
          "output_type": "execute_result",
          "data": {
            "text/plain": [
              "Index(['Age', 'Gender', 'City', 'Education_Level', 'Income_Joined',\n",
              "       'Income_Now', 'Income_Sum', 'Joining_Designation', 'Grade_Now',\n",
              "       'Total_Business_Value', 'Quarterly_Rating_Joined',\n",
              "       'Quarterly_Rating_Now', 'Employee_Churned', 'Quarterly_Increment',\n",
              "       'Experience'],\n",
              "      dtype='object')"
            ]
          },
          "metadata": {},
          "execution_count": 81
        }
      ]
    },
    {
      "cell_type": "code",
      "source": [
        "sns.heatmap(df_new.corr(),annot=True)"
      ],
      "metadata": {
        "colab": {
          "base_uri": "https://localhost:8080/",
          "height": 381
        },
        "id": "QUVL2uKrGEOs",
        "outputId": "db2ca992-382f-4898-e490-3db4929bfbe6"
      },
      "execution_count": null,
      "outputs": [
        {
          "output_type": "execute_result",
          "data": {
            "text/plain": [
              "<matplotlib.axes._subplots.AxesSubplot at 0x7f6a33ea79a0>"
            ]
          },
          "metadata": {},
          "execution_count": 82
        },
        {
          "output_type": "display_data",
          "data": {
            "text/plain": [
              "<Figure size 432x288 with 2 Axes>"
            ],
            "image/png": "[encoded data removed]"
          },
          "metadata": {
            "needs_background": "light"
          }
        }
      ]
    },
    {
      "cell_type": "code",
      "source": [
        "# df_new.drop(columns=['Income_Sum','Age'],axis=1,inplace=True)"
      ],
      "metadata": {
        "id": "6DS9kyGmTW5b"
      },
      "execution_count": null,
      "outputs": []
    },
    {
      "cell_type": "code",
      "source": [
        "df_new.drop(columns=['Income_Now','Income_Sum','Age'],axis=1,inplace=True)"
      ],
      "metadata": {
        "id": "EByl-Z1_Hqu1"
      },
      "execution_count": null,
      "outputs": []
    },
    {
      "cell_type": "markdown",
      "source": [
        "#Data Preprocessing"
      ],
      "metadata": {
        "id": "i7G7ecIMKtfT"
      }
    },
    {
      "cell_type": "code",
      "source": [
        "df_new.isna().sum()/df_new.shape[0]"
      ],
      "metadata": {
        "colab": {
          "base_uri": "https://localhost:8080/"
        },
        "id": "tx1zA3M0KrzV",
        "outputId": "e5ea70e9-abea-4252-94c6-8f9348f1e90d"
      },
      "execution_count": null,
      "outputs": [
        {
          "output_type": "execute_result",
          "data": {
            "text/plain": [
              "Gender                     0.0\n",
              "City                       0.0\n",
              "Education_Level            0.0\n",
              "Income_Joined              0.0\n",
              "Joining_Designation        0.0\n",
              "Grade_Now                  0.0\n",
              "Total_Business_Value       0.0\n",
              "Quarterly_Rating_Joined    0.0\n",
              "Quarterly_Rating_Now       0.0\n",
              "Employee_Churned           0.0\n",
              "Quarterly_Increment        0.0\n",
              "Experience                 0.0\n",
              "dtype: float64"
            ]
          },
          "metadata": {},
          "execution_count": 85
        }
      ]
    },
    {
      "cell_type": "code",
      "source": [
        "df_new[df_new.duplicated()]"
      ],
      "metadata": {
        "colab": {
          "base_uri": "https://localhost:8080/",
          "height": 113
        },
        "id": "sovyAjmbK4mU",
        "outputId": "2b72e890-7caa-474b-b0d1-1fd9bbc6cabd"
      },
      "execution_count": null,
      "outputs": [
        {
          "output_type": "execute_result",
          "data": {
            "text/plain": [
              "Empty DataFrame\n",
              "Columns: [Gender, City, Education_Level, Income_Joined, Joining_Designation, Grade_Now, Total_Business_Value, Quarterly_Rating_Joined, Quarterly_Rating_Now, Employee_Churned, Quarterly_Increment, Experience]\n",
              "Index: []"
            ],
            "text/html": [
              "\n",
              "  <div id=\"df-d3915f1b-29ae-4ac4-8fdd-076f17a8acc6\">\n",
              "    <div class=\"colab-df-container\">\n",
              "      <div>\n",
              "<style scoped>\n",
              "    .dataframe tbody tr th:only-of-type {\n",
              "        vertical-align: middle;\n",
              "    }\n",
              "\n",
              "    .dataframe tbody tr th {\n",
              "        vertical-align: top;\n",
              "    }\n",
              "\n",
              "    .dataframe thead th {\n",
              "        text-align: right;\n",
              "    }\n",
              "</style>\n",
              "<table border=\"1\" class=\"dataframe\">\n",
              "  <thead>\n",
              "    <tr style=\"text-align: right;\">\n",
              "      <th></th>\n",
              "      <th>Gender</th>\n",
              "      <th>City</th>\n",
              "      <th>Education_Level</th>\n",
              "      <th>Income_Joined</th>\n",
              "      <th>Joining_Designation</th>\n",
              "      <th>Grade_Now</th>\n",
              "      <th>Total_Business_Value</th>\n",
              "      <th>Quarterly_Rating_Joined</th>\n",
              "      <th>Quarterly_Rating_Now</th>\n",
              "      <th>Employee_Churned</th>\n",
              "      <th>Quarterly_Increment</th>\n",
              "      <th>Experience</th>\n",
              "    </tr>\n",
              "  </thead>\n",
              "  <tbody>\n",
              "  </tbody>\n",
              "</table>\n",
              "</div>\n",
              "      <button class=\"colab-df-convert\" onclick=\"convertToInteractive('df-d3915f1b-29ae-4ac4-8fdd-076f17a8acc6')\"\n",
              "              title=\"Convert this dataframe to an interactive table.\"\n",
              "              style=\"display:none;\">\n",
              "        \n",
              "  <svg xmlns=\"http://www.w3.org/2000/svg\" height=\"24px\"viewBox=\"0 0 24 24\"\n",
              "       width=\"24px\">\n",
              "    <path d=\"M0 0h24v24H0V0z\" fill=\"none\"/>\n",
              "    <path d=\"M18.56 5.44l.94 2.06.94-2.06 2.06-.94-2.06-.94-.94-2.06-.94 2.06-2.06.94zm-11 1L8.5 8.5l.94-2.06 2.06-.94-2.06-.94L8.5 2.5l-.94 2.06-2.06.94zm10 10l.94 2.06.94-2.06 2.06-.94-2.06-.94-.94-2.06-.94 2.06-2.06.94z\"/><path d=\"M17.41 7.96l-1.37-1.37c-.4-.4-.92-.59-1.43-.59-.52 0-1.04.2-1.43.59L10.3 9.45l-7.72 7.72c-.78.78-.78 2.05 0 2.83L4 21.41c.39.39.9.59 1.41.59.51 0 1.02-.2 1.41-.59l7.78-7.78 2.81-2.81c.8-.78.8-2.07 0-2.86zM5.41 20L4 18.59l7.72-7.72 1.47 1.35L5.41 20z\"/>\n",
              "  </svg>\n",
              "      </button>\n",
              "      \n",
              "  <style>\n",
              "    .colab-df-container {\n",
              "      display:flex;\n",
              "      flex-wrap:wrap;\n",
              "      gap: 12px;\n",
              "    }\n",
              "\n",
              "    .colab-df-convert {\n",
              "      background-color: #E8F0FE;\n",
              "      border: none;\n",
              "      border-radius: 50%;\n",
              "      cursor: pointer;\n",
              "      display: none;\n",
              "      fill: #1967D2;\n",
              "      height: 32px;\n",
              "      padding: 0 0 0 0;\n",
              "      width: 32px;\n",
              "    }\n",
              "\n",
              "    .colab-df-convert:hover {\n",
              "      background-color: #E2EBFA;\n",
              "      box-shadow: 0px 1px 2px rgba(60, 64, 67, 0.3), 0px 1px 3px 1px rgba(60, 64, 67, 0.15);\n",
              "      fill: #174EA6;\n",
              "    }\n",
              "\n",
              "    [theme=dark] .colab-df-convert {\n",
              "      background-color: #3B4455;\n",
              "      fill: #D2E3FC;\n",
              "    }\n",
              "\n",
              "    [theme=dark] .colab-df-convert:hover {\n",
              "      background-color: #434B5C;\n",
              "      box-shadow: 0px 1px 3px 1px rgba(0, 0, 0, 0.15);\n",
              "      filter: drop-shadow(0px 1px 2px rgba(0, 0, 0, 0.3));\n",
              "      fill: #FFFFFF;\n",
              "    }\n",
              "  </style>\n",
              "\n",
              "      <script>\n",
              "        const buttonEl =\n",
              "          document.querySelector('#df-d3915f1b-29ae-4ac4-8fdd-076f17a8acc6 button.colab-df-convert');\n",
              "        buttonEl.style.display =\n",
              "          google.colab.kernel.accessAllowed ? 'block' : 'none';\n",
              "\n",
              "        async function convertToInteractive(key) {\n",
              "          const element = document.querySelector('#df-d3915f1b-29ae-4ac4-8fdd-076f17a8acc6');\n",
              "          const dataTable =\n",
              "            await google.colab.kernel.invokeFunction('convertToInteractive',\n",
              "                                                     [key], {});\n",
              "          if (!dataTable) return;\n",
              "\n",
              "          const docLinkHtml = 'Like what you see? Visit the ' +\n",
              "            '<a target=\"_blank\" href=https://colab.research.google.com/notebooks/data_table.ipynb>data table notebook</a>'\n",
              "            + ' to learn more about interactive tables.';\n",
              "          element.innerHTML = '';\n",
              "          dataTable['output_type'] = 'display_data';\n",
              "          await google.colab.output.renderOutput(dataTable, element);\n",
              "          const docLink = document.createElement('div');\n",
              "          docLink.innerHTML = docLinkHtml;\n",
              "          element.appendChild(docLink);\n",
              "        }\n",
              "      </script>\n",
              "    </div>\n",
              "  </div>\n",
              "  "
            ]
          },
          "metadata": {},
          "execution_count": 86
        }
      ]
    },
    {
      "cell_type": "code",
      "source": [
        "categorical_columns=df_new.select_dtypes('category').columns\n",
        "numerical_columns=df_new.select_dtypes('float64').columns"
      ],
      "metadata": {
        "id": "_7PZXV6-NEyD"
      },
      "execution_count": null,
      "outputs": []
    },
    {
      "cell_type": "code",
      "source": [
        "df_new.info()"
      ],
      "metadata": {
        "colab": {
          "base_uri": "https://localhost:8080/"
        },
        "id": "MUcSvaEaVAgi",
        "outputId": "c3c3b164-4cdf-4818-c13c-1885af8ff4b8"
      },
      "execution_count": null,
      "outputs": [
        {
          "output_type": "stream",
          "name": "stdout",
          "text": [
            "<class 'pandas.core.frame.DataFrame'>\n",
            "Int64Index: 2109 entries, 0 to 2380\n",
            "Data columns (total 12 columns):\n",
            " #   Column                   Non-Null Count  Dtype   \n",
            "---  ------                   --------------  -----   \n",
            " 0   Gender                   2109 non-null   category\n",
            " 1   City                     2109 non-null   category\n",
            " 2   Education_Level          2109 non-null   category\n",
            " 3   Income_Joined            2109 non-null   int64   \n",
            " 4   Joining_Designation      2109 non-null   category\n",
            " 5   Grade_Now                2109 non-null   category\n",
            " 6   Total_Business_Value     2109 non-null   int64   \n",
            " 7   Quarterly_Rating_Joined  2109 non-null   category\n",
            " 8   Quarterly_Rating_Now     2109 non-null   category\n",
            " 9   Employee_Churned         2109 non-null   int64   \n",
            " 10  Quarterly_Increment      2109 non-null   category\n",
            " 11  Experience               2109 non-null   float64 \n",
            "dtypes: category(8), float64(1), int64(3)\n",
            "memory usage: 165.9 KB\n"
          ]
        }
      ]
    },
    {
      "cell_type": "code",
      "source": [
        "df_new['Income_Joined']=df_new['Income_Joined'].astype('float64')\n",
        "df_new['Total_Business_Value']=df_new['Total_Business_Value'].astype('float64')\n",
        "df_new['Employee_Churned']=df_new['Employee_Churned'].astype('float64')"
      ],
      "metadata": {
        "id": "RZTuy5MNVHmC"
      },
      "execution_count": null,
      "outputs": []
    },
    {
      "cell_type": "code",
      "source": [
        "categorical_columns,numerical_columns"
      ],
      "metadata": {
        "colab": {
          "base_uri": "https://localhost:8080/"
        },
        "id": "f9pb_vECMpgI",
        "outputId": "95bd9a13-6067-4da0-b16a-0613586aac8b"
      },
      "execution_count": null,
      "outputs": [
        {
          "output_type": "execute_result",
          "data": {
            "text/plain": [
              "(Index(['Gender', 'City', 'Education_Level', 'Joining_Designation', 'Grade_Now',\n",
              "        'Quarterly_Rating_Joined', 'Quarterly_Rating_Now',\n",
              "        'Quarterly_Increment'],\n",
              "       dtype='object'), Index(['Experience'], dtype='object'))"
            ]
          },
          "metadata": {},
          "execution_count": 90
        }
      ]
    },
    {
      "cell_type": "code",
      "source": [
        "for i in categorical_columns:\n",
        "  print(f'{i}: {df_new[i].nunique()}')"
      ],
      "metadata": {
        "colab": {
          "base_uri": "https://localhost:8080/"
        },
        "id": "juarEzIiMtBA",
        "outputId": "37720a57-8b7c-4c9c-a39c-4fc731ce500c"
      },
      "execution_count": null,
      "outputs": [
        {
          "output_type": "stream",
          "name": "stdout",
          "text": [
            "Gender: 2\n",
            "City: 29\n",
            "Education_Level: 3\n",
            "Joining_Designation: 5\n",
            "Grade_Now: 5\n",
            "Quarterly_Rating_Joined: 4\n",
            "Quarterly_Rating_Now: 4\n",
            "Quarterly_Increment: 2\n"
          ]
        }
      ]
    },
    {
      "cell_type": "markdown",
      "source": [
        "for city we can use target encoding and the rest we use one hot encoding"
      ],
      "metadata": {
        "id": "r1NYNnPbRJ_m"
      }
    },
    {
      "cell_type": "markdown",
      "source": [
        "##Target Encoding"
      ],
      "metadata": {
        "id": "6YBbvCMtbsbU"
      }
    },
    {
      "cell_type": "code",
      "source": [
        "from category_encoders import TargetEncoder\n",
        "encoder=TargetEncoder()"
      ],
      "metadata": {
        "id": "fPdIdV9QRCQr"
      },
      "execution_count": null,
      "outputs": []
    },
    {
      "cell_type": "code",
      "source": [
        "target_encoders_cols=['City']"
      ],
      "metadata": {
        "id": "Hk-lvR57RVdi"
      },
      "execution_count": null,
      "outputs": []
    },
    {
      "cell_type": "code",
      "source": [
        "for i in target_encoders_cols:\n",
        "  df_new[i+'_target_encoded']=encoder.fit_transform(df_new[i],df_new['Employee_Churned'])"
      ],
      "metadata": {
        "id": "D8KAiRgkRa2O"
      },
      "execution_count": null,
      "outputs": []
    },
    {
      "cell_type": "code",
      "source": [
        "df_new=df_new.drop(target_encoders_cols,axis=1)"
      ],
      "metadata": {
        "id": "zk7Y_lj4dhYO"
      },
      "execution_count": null,
      "outputs": []
    },
    {
      "cell_type": "code",
      "source": [
        "df_new.head(3)"
      ],
      "metadata": {
        "colab": {
          "base_uri": "https://localhost:8080/",
          "height": 207
        },
        "id": "fPDPIIn-Rgee",
        "outputId": "308590fe-9bf2-44b1-89c4-3e1234a08768"
      },
      "execution_count": null,
      "outputs": [
        {
          "output_type": "execute_result",
          "data": {
            "text/plain": [
              "  Gender Education_Level  Income_Joined Joining_Designation Grade_Now  \\\n",
              "0    0.0               2        57387.0                   1         1   \n",
              "1    0.0               2        67016.0                   2         2   \n",
              "2    0.0               2        65603.0                   2         2   \n",
              "\n",
              "   Total_Business_Value Quarterly_Rating_Joined Quarterly_Rating_Now  \\\n",
              "0             -665480.0                       2                    2   \n",
              "1                   0.0                       1                    1   \n",
              "2              350000.0                       1                    1   \n",
              "\n",
              "   Employee_Churned Quarterly_Increment  Experience  City_target_encoded  \n",
              "0               1.0                   0    0.246412             0.802817  \n",
              "1               0.0                   0    0.082137             0.720588  \n",
              "2               1.0                   0    0.334025             0.903226  "
            ],
            "text/html": [
              "\n",
              "  <div id=\"df-2528d3ce-f484-498e-94c9-5974dab44cda\">\n",
              "    <div class=\"colab-df-container\">\n",
              "      <div>\n",
              "<style scoped>\n",
              "    .dataframe tbody tr th:only-of-type {\n",
              "        vertical-align: middle;\n",
              "    }\n",
              "\n",
              "    .dataframe tbody tr th {\n",
              "        vertical-align: top;\n",
              "    }\n",
              "\n",
              "    .dataframe thead th {\n",
              "        text-align: right;\n",
              "    }\n",
              "</style>\n",
              "<table border=\"1\" class=\"dataframe\">\n",
              "  <thead>\n",
              "    <tr style=\"text-align: right;\">\n",
              "      <th></th>\n",
              "      <th>Gender</th>\n",
              "      <th>Education_Level</th>\n",
              "      <th>Income_Joined</th>\n",
              "      <th>Joining_Designation</th>\n",
              "      <th>Grade_Now</th>\n",
              "      <th>Total_Business_Value</th>\n",
              "      <th>Quarterly_Rating_Joined</th>\n",
              "      <th>Quarterly_Rating_Now</th>\n",
              "      <th>Employee_Churned</th>\n",
              "      <th>Quarterly_Increment</th>\n",
              "      <th>Experience</th>\n",
              "      <th>City_target_encoded</th>\n",
              "    </tr>\n",
              "  </thead>\n",
              "  <tbody>\n",
              "    <tr>\n",
              "      <th>0</th>\n",
              "      <td>0.0</td>\n",
              "      <td>2</td>\n",
              "      <td>57387.0</td>\n",
              "      <td>1</td>\n",
              "      <td>1</td>\n",
              "      <td>-665480.0</td>\n",
              "      <td>2</td>\n",
              "      <td>2</td>\n",
              "      <td>1.0</td>\n",
              "      <td>0</td>\n",
              "      <td>0.246412</td>\n",
              "      <td>0.802817</td>\n",
              "    </tr>\n",
              "    <tr>\n",
              "      <th>1</th>\n",
              "      <td>0.0</td>\n",
              "      <td>2</td>\n",
              "      <td>67016.0</td>\n",
              "      <td>2</td>\n",
              "      <td>2</td>\n",
              "      <td>0.0</td>\n",
              "      <td>1</td>\n",
              "      <td>1</td>\n",
              "      <td>0.0</td>\n",
              "      <td>0</td>\n",
              "      <td>0.082137</td>\n",
              "      <td>0.720588</td>\n",
              "    </tr>\n",
              "    <tr>\n",
              "      <th>2</th>\n",
              "      <td>0.0</td>\n",
              "      <td>2</td>\n",
              "      <td>65603.0</td>\n",
              "      <td>2</td>\n",
              "      <td>2</td>\n",
              "      <td>350000.0</td>\n",
              "      <td>1</td>\n",
              "      <td>1</td>\n",
              "      <td>1.0</td>\n",
              "      <td>0</td>\n",
              "      <td>0.334025</td>\n",
              "      <td>0.903226</td>\n",
              "    </tr>\n",
              "  </tbody>\n",
              "</table>\n",
              "</div>\n",
              "      <button class=\"colab-df-convert\" onclick=\"convertToInteractive('df-2528d3ce-f484-498e-94c9-5974dab44cda')\"\n",
              "              title=\"Convert this dataframe to an interactive table.\"\n",
              "              style=\"display:none;\">\n",
              "        \n",
              "  <svg xmlns=\"http://www.w3.org/2000/svg\" height=\"24px\"viewBox=\"0 0 24 24\"\n",
              "       width=\"24px\">\n",
              "    <path d=\"M0 0h24v24H0V0z\" fill=\"none\"/>\n",
              "    <path d=\"M18.56 5.44l.94 2.06.94-2.06 2.06-.94-2.06-.94-.94-2.06-.94 2.06-2.06.94zm-11 1L8.5 8.5l.94-2.06 2.06-.94-2.06-.94L8.5 2.5l-.94 2.06-2.06.94zm10 10l.94 2.06.94-2.06 2.06-.94-2.06-.94-.94-2.06-.94 2.06-2.06.94z\"/><path d=\"M17.41 7.96l-1.37-1.37c-.4-.4-.92-.59-1.43-.59-.52 0-1.04.2-1.43.59L10.3 9.45l-7.72 7.72c-.78.78-.78 2.05 0 2.83L4 21.41c.39.39.9.59 1.41.59.51 0 1.02-.2 1.41-.59l7.78-7.78 2.81-2.81c.8-.78.8-2.07 0-2.86zM5.41 20L4 18.59l7.72-7.72 1.47 1.35L5.41 20z\"/>\n",
              "  </svg>\n",
              "      </button>\n",
              "      \n",
              "  <style>\n",
              "    .colab-df-container {\n",
              "      display:flex;\n",
              "      flex-wrap:wrap;\n",
              "      gap: 12px;\n",
              "    }\n",
              "\n",
              "    .colab-df-convert {\n",
              "      background-color: #E8F0FE;\n",
              "      border: none;\n",
              "      border-radius: 50%;\n",
              "      cursor: pointer;\n",
              "      display: none;\n",
              "      fill: #1967D2;\n",
              "      height: 32px;\n",
              "      padding: 0 0 0 0;\n",
              "      width: 32px;\n",
              "    }\n",
              "\n",
              "    .colab-df-convert:hover {\n",
              "      background-color: #E2EBFA;\n",
              "      box-shadow: 0px 1px 2px rgba(60, 64, 67, 0.3), 0px 1px 3px 1px rgba(60, 64, 67, 0.15);\n",
              "      fill: #174EA6;\n",
              "    }\n",
              "\n",
              "    [theme=dark] .colab-df-convert {\n",
              "      background-color: #3B4455;\n",
              "      fill: #D2E3FC;\n",
              "    }\n",
              "\n",
              "    [theme=dark] .colab-df-convert:hover {\n",
              "      background-color: #434B5C;\n",
              "      box-shadow: 0px 1px 3px 1px rgba(0, 0, 0, 0.15);\n",
              "      filter: drop-shadow(0px 1px 2px rgba(0, 0, 0, 0.3));\n",
              "      fill: #FFFFFF;\n",
              "    }\n",
              "  </style>\n",
              "\n",
              "      <script>\n",
              "        const buttonEl =\n",
              "          document.querySelector('#df-2528d3ce-f484-498e-94c9-5974dab44cda button.colab-df-convert');\n",
              "        buttonEl.style.display =\n",
              "          google.colab.kernel.accessAllowed ? 'block' : 'none';\n",
              "\n",
              "        async function convertToInteractive(key) {\n",
              "          const element = document.querySelector('#df-2528d3ce-f484-498e-94c9-5974dab44cda');\n",
              "          const dataTable =\n",
              "            await google.colab.kernel.invokeFunction('convertToInteractive',\n",
              "                                                     [key], {});\n",
              "          if (!dataTable) return;\n",
              "\n",
              "          const docLinkHtml = 'Like what you see? Visit the ' +\n",
              "            '<a target=\"_blank\" href=https://colab.research.google.com/notebooks/data_table.ipynb>data table notebook</a>'\n",
              "            + ' to learn more about interactive tables.';\n",
              "          element.innerHTML = '';\n",
              "          dataTable['output_type'] = 'display_data';\n",
              "          await google.colab.output.renderOutput(dataTable, element);\n",
              "          const docLink = document.createElement('div');\n",
              "          docLink.innerHTML = docLinkHtml;\n",
              "          element.appendChild(docLink);\n",
              "        }\n",
              "      </script>\n",
              "    </div>\n",
              "  </div>\n",
              "  "
            ]
          },
          "metadata": {},
          "execution_count": 96
        }
      ]
    },
    {
      "cell_type": "markdown",
      "source": [
        "##Label Encoding"
      ],
      "metadata": {
        "id": "yDWu-j7Nbuiv"
      }
    },
    {
      "cell_type": "code",
      "source": [
        "label_encoders_cols=['Gender','Quarterly_Increment']"
      ],
      "metadata": {
        "id": "Avg5scvnU1zS"
      },
      "execution_count": null,
      "outputs": []
    },
    {
      "cell_type": "code",
      "source": [
        "from sklearn.preprocessing import LabelEncoder\n",
        "le=LabelEncoder()"
      ],
      "metadata": {
        "id": "STdI-0SqUq68"
      },
      "execution_count": null,
      "outputs": []
    },
    {
      "cell_type": "code",
      "source": [
        "for i in label_encoders_cols:\n",
        "  df_new[i+'_label_encoded']=le.fit_transform(df_new[i])"
      ],
      "metadata": {
        "id": "5eOQozDkU1WY"
      },
      "execution_count": null,
      "outputs": []
    },
    {
      "cell_type": "code",
      "source": [
        "df_new=df_new.drop(label_encoders_cols,axis=1)"
      ],
      "metadata": {
        "id": "yT0AyuELXLBP"
      },
      "execution_count": null,
      "outputs": []
    },
    {
      "cell_type": "code",
      "source": [
        "df_new[[i+'_label_encoded' for i in label_encoders_cols]]"
      ],
      "metadata": {
        "colab": {
          "base_uri": "https://localhost:8080/",
          "height": 424
        },
        "id": "cYUL-DIyXSwg",
        "outputId": "5e822d5d-b21a-4763-ab38-9d3b69b70544"
      },
      "execution_count": null,
      "outputs": [
        {
          "output_type": "execute_result",
          "data": {
            "text/plain": [
              "      Gender_label_encoded  Quarterly_Increment_label_encoded\n",
              "0                        0                                  0\n",
              "1                        0                                  0\n",
              "2                        0                                  0\n",
              "3                        0                                  0\n",
              "4                        1                                  1\n",
              "...                    ...                                ...\n",
              "2375                     0                                  0\n",
              "2377                     1                                  0\n",
              "2378                     0                                  0\n",
              "2379                     1                                  0\n",
              "2380                     0                                  1\n",
              "\n",
              "[2109 rows x 2 columns]"
            ],
            "text/html": [
              "\n",
              "  <div id=\"df-9665106e-3a9f-4c94-87eb-cc9914c29526\">\n",
              "    <div class=\"colab-df-container\">\n",
              "      <div>\n",
              "<style scoped>\n",
              "    .dataframe tbody tr th:only-of-type {\n",
              "        vertical-align: middle;\n",
              "    }\n",
              "\n",
              "    .dataframe tbody tr th {\n",
              "        vertical-align: top;\n",
              "    }\n",
              "\n",
              "    .dataframe thead th {\n",
              "        text-align: right;\n",
              "    }\n",
              "</style>\n",
              "<table border=\"1\" class=\"dataframe\">\n",
              "  <thead>\n",
              "    <tr style=\"text-align: right;\">\n",
              "      <th></th>\n",
              "      <th>Gender_label_encoded</th>\n",
              "      <th>Quarterly_Increment_label_encoded</th>\n",
              "    </tr>\n",
              "  </thead>\n",
              "  <tbody>\n",
              "    <tr>\n",
              "      <th>0</th>\n",
              "      <td>0</td>\n",
              "      <td>0</td>\n",
              "    </tr>\n",
              "    <tr>\n",
              "      <th>1</th>\n",
              "      <td>0</td>\n",
              "      <td>0</td>\n",
              "    </tr>\n",
              "    <tr>\n",
              "      <th>2</th>\n",
              "      <td>0</td>\n",
              "      <td>0</td>\n",
              "    </tr>\n",
              "    <tr>\n",
              "      <th>3</th>\n",
              "      <td>0</td>\n",
              "      <td>0</td>\n",
              "    </tr>\n",
              "    <tr>\n",
              "      <th>4</th>\n",
              "      <td>1</td>\n",
              "      <td>1</td>\n",
              "    </tr>\n",
              "    <tr>\n",
              "      <th>...</th>\n",
              "      <td>...</td>\n",
              "      <td>...</td>\n",
              "    </tr>\n",
              "    <tr>\n",
              "      <th>2375</th>\n",
              "      <td>0</td>\n",
              "      <td>0</td>\n",
              "    </tr>\n",
              "    <tr>\n",
              "      <th>2377</th>\n",
              "      <td>1</td>\n",
              "      <td>0</td>\n",
              "    </tr>\n",
              "    <tr>\n",
              "      <th>2378</th>\n",
              "      <td>0</td>\n",
              "      <td>0</td>\n",
              "    </tr>\n",
              "    <tr>\n",
              "      <th>2379</th>\n",
              "      <td>1</td>\n",
              "      <td>0</td>\n",
              "    </tr>\n",
              "    <tr>\n",
              "      <th>2380</th>\n",
              "      <td>0</td>\n",
              "      <td>1</td>\n",
              "    </tr>\n",
              "  </tbody>\n",
              "</table>\n",
              "<p>2109 rows × 2 columns</p>\n",
              "</div>\n",
              "      <button class=\"colab-df-convert\" onclick=\"convertToInteractive('df-9665106e-3a9f-4c94-87eb-cc9914c29526')\"\n",
              "              title=\"Convert this dataframe to an interactive table.\"\n",
              "              style=\"display:none;\">\n",
              "        \n",
              "  <svg xmlns=\"http://www.w3.org/2000/svg\" height=\"24px\"viewBox=\"0 0 24 24\"\n",
              "       width=\"24px\">\n",
              "    <path d=\"M0 0h24v24H0V0z\" fill=\"none\"/>\n",
              "    <path d=\"M18.56 5.44l.94 2.06.94-2.06 2.06-.94-2.06-.94-.94-2.06-.94 2.06-2.06.94zm-11 1L8.5 8.5l.94-2.06 2.06-.94-2.06-.94L8.5 2.5l-.94 2.06-2.06.94zm10 10l.94 2.06.94-2.06 2.06-.94-2.06-.94-.94-2.06-.94 2.06-2.06.94z\"/><path d=\"M17.41 7.96l-1.37-1.37c-.4-.4-.92-.59-1.43-.59-.52 0-1.04.2-1.43.59L10.3 9.45l-7.72 7.72c-.78.78-.78 2.05 0 2.83L4 21.41c.39.39.9.59 1.41.59.51 0 1.02-.2 1.41-.59l7.78-7.78 2.81-2.81c.8-.78.8-2.07 0-2.86zM5.41 20L4 18.59l7.72-7.72 1.47 1.35L5.41 20z\"/>\n",
              "  </svg>\n",
              "      </button>\n",
              "      \n",
              "  <style>\n",
              "    .colab-df-container {\n",
              "      display:flex;\n",
              "      flex-wrap:wrap;\n",
              "      gap: 12px;\n",
              "    }\n",
              "\n",
              "    .colab-df-convert {\n",
              "      background-color: #E8F0FE;\n",
              "      border: none;\n",
              "      border-radius: 50%;\n",
              "      cursor: pointer;\n",
              "      display: none;\n",
              "      fill: #1967D2;\n",
              "      height: 32px;\n",
              "      padding: 0 0 0 0;\n",
              "      width: 32px;\n",
              "    }\n",
              "\n",
              "    .colab-df-convert:hover {\n",
              "      background-color: #E2EBFA;\n",
              "      box-shadow: 0px 1px 2px rgba(60, 64, 67, 0.3), 0px 1px 3px 1px rgba(60, 64, 67, 0.15);\n",
              "      fill: #174EA6;\n",
              "    }\n",
              "\n",
              "    [theme=dark] .colab-df-convert {\n",
              "      background-color: #3B4455;\n",
              "      fill: #D2E3FC;\n",
              "    }\n",
              "\n",
              "    [theme=dark] .colab-df-convert:hover {\n",
              "      background-color: #434B5C;\n",
              "      box-shadow: 0px 1px 3px 1px rgba(0, 0, 0, 0.15);\n",
              "      filter: drop-shadow(0px 1px 2px rgba(0, 0, 0, 0.3));\n",
              "      fill: #FFFFFF;\n",
              "    }\n",
              "  </style>\n",
              "\n",
              "      <script>\n",
              "        const buttonEl =\n",
              "          document.querySelector('#df-9665106e-3a9f-4c94-87eb-cc9914c29526 button.colab-df-convert');\n",
              "        buttonEl.style.display =\n",
              "          google.colab.kernel.accessAllowed ? 'block' : 'none';\n",
              "\n",
              "        async function convertToInteractive(key) {\n",
              "          const element = document.querySelector('#df-9665106e-3a9f-4c94-87eb-cc9914c29526');\n",
              "          const dataTable =\n",
              "            await google.colab.kernel.invokeFunction('convertToInteractive',\n",
              "                                                     [key], {});\n",
              "          if (!dataTable) return;\n",
              "\n",
              "          const docLinkHtml = 'Like what you see? Visit the ' +\n",
              "            '<a target=\"_blank\" href=https://colab.research.google.com/notebooks/data_table.ipynb>data table notebook</a>'\n",
              "            + ' to learn more about interactive tables.';\n",
              "          element.innerHTML = '';\n",
              "          dataTable['output_type'] = 'display_data';\n",
              "          await google.colab.output.renderOutput(dataTable, element);\n",
              "          const docLink = document.createElement('div');\n",
              "          docLink.innerHTML = docLinkHtml;\n",
              "          element.appendChild(docLink);\n",
              "        }\n",
              "      </script>\n",
              "    </div>\n",
              "  </div>\n",
              "  "
            ]
          },
          "metadata": {},
          "execution_count": 101
        }
      ]
    },
    {
      "cell_type": "code",
      "source": [
        "label_encoders_cols,target_encoders_cols"
      ],
      "metadata": {
        "colab": {
          "base_uri": "https://localhost:8080/"
        },
        "id": "tsaihDuzXXj1",
        "outputId": "01d1dc64-bcc9-4de1-b6e4-3e6ab550c5d5"
      },
      "execution_count": null,
      "outputs": [
        {
          "output_type": "execute_result",
          "data": {
            "text/plain": [
              "(['Gender', 'Quarterly_Increment'], ['City'])"
            ]
          },
          "metadata": {},
          "execution_count": 102
        }
      ]
    },
    {
      "cell_type": "markdown",
      "source": [
        "##Ordinal Encoding"
      ],
      "metadata": {
        "id": "tTICqHhGbxxr"
      }
    },
    {
      "cell_type": "code",
      "source": [
        "from sklearn.preprocessing import OrdinalEncoder"
      ],
      "metadata": {
        "id": "gsmuoxJ1XhvX"
      },
      "execution_count": null,
      "outputs": []
    },
    {
      "cell_type": "code",
      "source": [
        "ordinal_columns=['Education_Level', 'Joining_Designation', 'Grade_Now',\n",
        "       'Quarterly_Rating_Joined', 'Quarterly_Rating_Now',]\n",
        "ordinal_columns"
      ],
      "metadata": {
        "colab": {
          "base_uri": "https://localhost:8080/"
        },
        "id": "yng9KZqHYNRV",
        "outputId": "6703877b-f7cb-4a48-d356-b7acd33148bf"
      },
      "execution_count": null,
      "outputs": [
        {
          "output_type": "execute_result",
          "data": {
            "text/plain": [
              "['Education_Level',\n",
              " 'Joining_Designation',\n",
              " 'Grade_Now',\n",
              " 'Quarterly_Rating_Joined',\n",
              " 'Quarterly_Rating_Now']"
            ]
          },
          "metadata": {},
          "execution_count": 104
        }
      ]
    },
    {
      "cell_type": "code",
      "source": [
        "def feature_engineering(df,ordinal_columns):\n",
        "  ordinal_encoding_columns=ordinal_columns\n",
        "  for col in ordinal_encoding_columns:\n",
        "    from sklearn.preprocessing import OrdinalEncoder\n",
        "    enc = OrdinalEncoder()\n",
        "    df[[col]]=enc.fit_transform(df[[col]])\n",
        "    # df=pd.concat([df,pd.get_dummies(df[col],prefix=col).iloc[:,1:]],axis=1)\n",
        "    # df = pd.concat([df, pd.get_dummies(df[column]).iloc[: , 1:]], axis=1)\n",
        "  # df.drop(columns=ordinal_encoding_columns,inplace=True)\n",
        "  return df"
      ],
      "metadata": {
        "id": "xE9owcy1YBRT"
      },
      "execution_count": null,
      "outputs": []
    },
    {
      "cell_type": "code",
      "source": [
        "for i in ordinal_columns:\n",
        "  # print([i])\n",
        "  df_new=feature_engineering(df_new,[i])\n",
        "  # df.head()"
      ],
      "metadata": {
        "id": "RvoStXr-YiAL"
      },
      "execution_count": null,
      "outputs": []
    },
    {
      "cell_type": "code",
      "source": [
        "for i in ordinal_columns:\n",
        "  print(f'{i}:{df_new[i].unique()}')"
      ],
      "metadata": {
        "colab": {
          "base_uri": "https://localhost:8080/"
        },
        "id": "3-11t3ugZIb2",
        "outputId": "9d10f6fb-5cc0-4fc7-f3e6-fcb1e58ef5fa"
      },
      "execution_count": null,
      "outputs": [
        {
          "output_type": "stream",
          "name": "stdout",
          "text": [
            "Education_Level:[2. 0. 1.]\n",
            "Joining_Designation:[0. 1. 2. 3. 4.]\n",
            "Grade_Now:[0. 1. 2. 3. 4.]\n",
            "Quarterly_Rating_Joined:[1. 0. 3. 2.]\n",
            "Quarterly_Rating_Now:[1. 0. 2. 3.]\n"
          ]
        }
      ]
    },
    {
      "cell_type": "code",
      "source": [
        "df_new"
      ],
      "metadata": {
        "colab": {
          "base_uri": "https://localhost:8080/",
          "height": 488
        },
        "id": "Mf8yOn1VYpbY",
        "outputId": "21421e25-4892-40ef-f145-aff34193cce1"
      },
      "execution_count": null,
      "outputs": [
        {
          "output_type": "execute_result",
          "data": {
            "text/plain": [
              "      Education_Level  Income_Joined  Joining_Designation  Grade_Now  \\\n",
              "0                 2.0        57387.0                  0.0        0.0   \n",
              "1                 2.0        67016.0                  1.0        1.0   \n",
              "2                 2.0        65603.0                  1.0        1.0   \n",
              "3                 0.0        46368.0                  0.0        0.0   \n",
              "4                 1.0        78728.0                  2.0        2.0   \n",
              "...               ...            ...                  ...        ...   \n",
              "2375              1.0        29582.0                  0.0        0.0   \n",
              "2377              0.0        12105.0                  0.0        0.0   \n",
              "2378              0.0        35370.0                  1.0        1.0   \n",
              "2379              2.0        69498.0                  0.0        0.0   \n",
              "2380              2.0        70254.0                  1.0        1.0   \n",
              "\n",
              "      Total_Business_Value  Quarterly_Rating_Joined  Quarterly_Rating_Now  \\\n",
              "0                -665480.0                      1.0                   1.0   \n",
              "1                      0.0                      0.0                   0.0   \n",
              "2                 350000.0                      0.0                   0.0   \n",
              "3                 120360.0                      0.0                   0.0   \n",
              "4                1265000.0                      0.0                   1.0   \n",
              "...                    ...                      ...                   ...   \n",
              "2375                   0.0                      0.0                   0.0   \n",
              "2377                   0.0                      0.0                   0.0   \n",
              "2378             2815090.0                      1.0                   0.0   \n",
              "2379              977830.0                      1.0                   0.0   \n",
              "2380             2298240.0                      0.0                   1.0   \n",
              "\n",
              "      Employee_Churned  Experience  City_target_encoded  Gender_label_encoded  \\\n",
              "0                  1.0    0.246412             0.802817                     0   \n",
              "1                  0.0    0.082137             0.720588                     0   \n",
              "2                  1.0    0.334025             0.903226                     0   \n",
              "3                  1.0    0.161537             0.753623                     0   \n",
              "4                  0.0    0.418900             0.750000                     1   \n",
              "...                ...         ...                  ...                   ...   \n",
              "2375               1.0    0.251887             0.619048                     0   \n",
              "2377               1.0    0.167012             0.753623                     1   \n",
              "2378               1.0    1.169086             0.619048                     0   \n",
              "2379               1.0    0.917199             0.771429                     1   \n",
              "2380               0.0    0.501037             0.770270                     0   \n",
              "\n",
              "      Quarterly_Increment_label_encoded  \n",
              "0                                     0  \n",
              "1                                     0  \n",
              "2                                     0  \n",
              "3                                     0  \n",
              "4                                     1  \n",
              "...                                 ...  \n",
              "2375                                  0  \n",
              "2377                                  0  \n",
              "2378                                  0  \n",
              "2379                                  0  \n",
              "2380                                  1  \n",
              "\n",
              "[2109 rows x 12 columns]"
            ],
            "text/html": [
              "\n",
              "  <div id=\"df-3ee0c7ff-e164-4701-afbd-cd826093b1b2\">\n",
              "    <div class=\"colab-df-container\">\n",
              "      <div>\n",
              "<style scoped>\n",
              "    .dataframe tbody tr th:only-of-type {\n",
              "        vertical-align: middle;\n",
              "    }\n",
              "\n",
              "    .dataframe tbody tr th {\n",
              "        vertical-align: top;\n",
              "    }\n",
              "\n",
              "    .dataframe thead th {\n",
              "        text-align: right;\n",
              "    }\n",
              "</style>\n",
              "<table border=\"1\" class=\"dataframe\">\n",
              "  <thead>\n",
              "    <tr style=\"text-align: right;\">\n",
              "      <th></th>\n",
              "      <th>Education_Level</th>\n",
              "      <th>Income_Joined</th>\n",
              "      <th>Joining_Designation</th>\n",
              "      <th>Grade_Now</th>\n",
              "      <th>Total_Business_Value</th>\n",
              "      <th>Quarterly_Rating_Joined</th>\n",
              "      <th>Quarterly_Rating_Now</th>\n",
              "      <th>Employee_Churned</th>\n",
              "      <th>Experience</th>\n",
              "      <th>City_target_encoded</th>\n",
              "      <th>Gender_label_encoded</th>\n",
              "      <th>Quarterly_Increment_label_encoded</th>\n",
              "    </tr>\n",
              "  </thead>\n",
              "  <tbody>\n",
              "    <tr>\n",
              "      <th>0</th>\n",
              "      <td>2.0</td>\n",
              "      <td>57387.0</td>\n",
              "      <td>0.0</td>\n",
              "      <td>0.0</td>\n",
              "      <td>-665480.0</td>\n",
              "      <td>1.0</td>\n",
              "      <td>1.0</td>\n",
              "      <td>1.0</td>\n",
              "      <td>0.246412</td>\n",
              "      <td>0.802817</td>\n",
              "      <td>0</td>\n",
              "      <td>0</td>\n",
              "    </tr>\n",
              "    <tr>\n",
              "      <th>1</th>\n",
              "      <td>2.0</td>\n",
              "      <td>67016.0</td>\n",
              "      <td>1.0</td>\n",
              "      <td>1.0</td>\n",
              "      <td>0.0</td>\n",
              "      <td>0.0</td>\n",
              "      <td>0.0</td>\n",
              "      <td>0.0</td>\n",
              "      <td>0.082137</td>\n",
              "      <td>0.720588</td>\n",
              "      <td>0</td>\n",
              "      <td>0</td>\n",
              "    </tr>\n",
              "    <tr>\n",
              "      <th>2</th>\n",
              "      <td>2.0</td>\n",
              "      <td>65603.0</td>\n",
              "      <td>1.0</td>\n",
              "      <td>1.0</td>\n",
              "      <td>350000.0</td>\n",
              "      <td>0.0</td>\n",
              "      <td>0.0</td>\n",
              "      <td>1.0</td>\n",
              "      <td>0.334025</td>\n",
              "      <td>0.903226</td>\n",
              "      <td>0</td>\n",
              "      <td>0</td>\n",
              "    </tr>\n",
              "    <tr>\n",
              "      <th>3</th>\n",
              "      <td>0.0</td>\n",
              "      <td>46368.0</td>\n",
              "      <td>0.0</td>\n",
              "      <td>0.0</td>\n",
              "      <td>120360.0</td>\n",
              "      <td>0.0</td>\n",
              "      <td>0.0</td>\n",
              "      <td>1.0</td>\n",
              "      <td>0.161537</td>\n",
              "      <td>0.753623</td>\n",
              "      <td>0</td>\n",
              "      <td>0</td>\n",
              "    </tr>\n",
              "    <tr>\n",
              "      <th>4</th>\n",
              "      <td>1.0</td>\n",
              "      <td>78728.0</td>\n",
              "      <td>2.0</td>\n",
              "      <td>2.0</td>\n",
              "      <td>1265000.0</td>\n",
              "      <td>0.0</td>\n",
              "      <td>1.0</td>\n",
              "      <td>0.0</td>\n",
              "      <td>0.418900</td>\n",
              "      <td>0.750000</td>\n",
              "      <td>1</td>\n",
              "      <td>1</td>\n",
              "    </tr>\n",
              "    <tr>\n",
              "      <th>...</th>\n",
              "      <td>...</td>\n",
              "      <td>...</td>\n",
              "      <td>...</td>\n",
              "      <td>...</td>\n",
              "      <td>...</td>\n",
              "      <td>...</td>\n",
              "      <td>...</td>\n",
              "      <td>...</td>\n",
              "      <td>...</td>\n",
              "      <td>...</td>\n",
              "      <td>...</td>\n",
              "      <td>...</td>\n",
              "    </tr>\n",
              "    <tr>\n",
              "      <th>2375</th>\n",
              "      <td>1.0</td>\n",
              "      <td>29582.0</td>\n",
              "      <td>0.0</td>\n",
              "      <td>0.0</td>\n",
              "      <td>0.0</td>\n",
              "      <td>0.0</td>\n",
              "      <td>0.0</td>\n",
              "      <td>1.0</td>\n",
              "      <td>0.251887</td>\n",
              "      <td>0.619048</td>\n",
              "      <td>0</td>\n",
              "      <td>0</td>\n",
              "    </tr>\n",
              "    <tr>\n",
              "      <th>2377</th>\n",
              "      <td>0.0</td>\n",
              "      <td>12105.0</td>\n",
              "      <td>0.0</td>\n",
              "      <td>0.0</td>\n",
              "      <td>0.0</td>\n",
              "      <td>0.0</td>\n",
              "      <td>0.0</td>\n",
              "      <td>1.0</td>\n",
              "      <td>0.167012</td>\n",
              "      <td>0.753623</td>\n",
              "      <td>1</td>\n",
              "      <td>0</td>\n",
              "    </tr>\n",
              "    <tr>\n",
              "      <th>2378</th>\n",
              "      <td>0.0</td>\n",
              "      <td>35370.0</td>\n",
              "      <td>1.0</td>\n",
              "      <td>1.0</td>\n",
              "      <td>2815090.0</td>\n",
              "      <td>1.0</td>\n",
              "      <td>0.0</td>\n",
              "      <td>1.0</td>\n",
              "      <td>1.169086</td>\n",
              "      <td>0.619048</td>\n",
              "      <td>0</td>\n",
              "      <td>0</td>\n",
              "    </tr>\n",
              "    <tr>\n",
              "      <th>2379</th>\n",
              "      <td>2.0</td>\n",
              "      <td>69498.0</td>\n",
              "      <td>0.0</td>\n",
              "      <td>0.0</td>\n",
              "      <td>977830.0</td>\n",
              "      <td>1.0</td>\n",
              "      <td>0.0</td>\n",
              "      <td>1.0</td>\n",
              "      <td>0.917199</td>\n",
              "      <td>0.771429</td>\n",
              "      <td>1</td>\n",
              "      <td>0</td>\n",
              "    </tr>\n",
              "    <tr>\n",
              "      <th>2380</th>\n",
              "      <td>2.0</td>\n",
              "      <td>70254.0</td>\n",
              "      <td>1.0</td>\n",
              "      <td>1.0</td>\n",
              "      <td>2298240.0</td>\n",
              "      <td>0.0</td>\n",
              "      <td>1.0</td>\n",
              "      <td>0.0</td>\n",
              "      <td>0.501037</td>\n",
              "      <td>0.770270</td>\n",
              "      <td>0</td>\n",
              "      <td>1</td>\n",
              "    </tr>\n",
              "  </tbody>\n",
              "</table>\n",
              "<p>2109 rows × 12 columns</p>\n",
              "</div>\n",
              "      <button class=\"colab-df-convert\" onclick=\"convertToInteractive('df-3ee0c7ff-e164-4701-afbd-cd826093b1b2')\"\n",
              "              title=\"Convert this dataframe to an interactive table.\"\n",
              "              style=\"display:none;\">\n",
              "        \n",
              "  <svg xmlns=\"http://www.w3.org/2000/svg\" height=\"24px\"viewBox=\"0 0 24 24\"\n",
              "       width=\"24px\">\n",
              "    <path d=\"M0 0h24v24H0V0z\" fill=\"none\"/>\n",
              "    <path d=\"M18.56 5.44l.94 2.06.94-2.06 2.06-.94-2.06-.94-.94-2.06-.94 2.06-2.06.94zm-11 1L8.5 8.5l.94-2.06 2.06-.94-2.06-.94L8.5 2.5l-.94 2.06-2.06.94zm10 10l.94 2.06.94-2.06 2.06-.94-2.06-.94-.94-2.06-.94 2.06-2.06.94z\"/><path d=\"M17.41 7.96l-1.37-1.37c-.4-.4-.92-.59-1.43-.59-.52 0-1.04.2-1.43.59L10.3 9.45l-7.72 7.72c-.78.78-.78 2.05 0 2.83L4 21.41c.39.39.9.59 1.41.59.51 0 1.02-.2 1.41-.59l7.78-7.78 2.81-2.81c.8-.78.8-2.07 0-2.86zM5.41 20L4 18.59l7.72-7.72 1.47 1.35L5.41 20z\"/>\n",
              "  </svg>\n",
              "      </button>\n",
              "      \n",
              "  <style>\n",
              "    .colab-df-container {\n",
              "      display:flex;\n",
              "      flex-wrap:wrap;\n",
              "      gap: 12px;\n",
              "    }\n",
              "\n",
              "    .colab-df-convert {\n",
              "      background-color: #E8F0FE;\n",
              "      border: none;\n",
              "      border-radius: 50%;\n",
              "      cursor: pointer;\n",
              "      display: none;\n",
              "      fill: #1967D2;\n",
              "      height: 32px;\n",
              "      padding: 0 0 0 0;\n",
              "      width: 32px;\n",
              "    }\n",
              "\n",
              "    .colab-df-convert:hover {\n",
              "      background-color: #E2EBFA;\n",
              "      box-shadow: 0px 1px 2px rgba(60, 64, 67, 0.3), 0px 1px 3px 1px rgba(60, 64, 67, 0.15);\n",
              "      fill: #174EA6;\n",
              "    }\n",
              "\n",
              "    [theme=dark] .colab-df-convert {\n",
              "      background-color: #3B4455;\n",
              "      fill: #D2E3FC;\n",
              "    }\n",
              "\n",
              "    [theme=dark] .colab-df-convert:hover {\n",
              "      background-color: #434B5C;\n",
              "      box-shadow: 0px 1px 3px 1px rgba(0, 0, 0, 0.15);\n",
              "      filter: drop-shadow(0px 1px 2px rgba(0, 0, 0, 0.3));\n",
              "      fill: #FFFFFF;\n",
              "    }\n",
              "  </style>\n",
              "\n",
              "      <script>\n",
              "        const buttonEl =\n",
              "          document.querySelector('#df-3ee0c7ff-e164-4701-afbd-cd826093b1b2 button.colab-df-convert');\n",
              "        buttonEl.style.display =\n",
              "          google.colab.kernel.accessAllowed ? 'block' : 'none';\n",
              "\n",
              "        async function convertToInteractive(key) {\n",
              "          const element = document.querySelector('#df-3ee0c7ff-e164-4701-afbd-cd826093b1b2');\n",
              "          const dataTable =\n",
              "            await google.colab.kernel.invokeFunction('convertToInteractive',\n",
              "                                                     [key], {});\n",
              "          if (!dataTable) return;\n",
              "\n",
              "          const docLinkHtml = 'Like what you see? Visit the ' +\n",
              "            '<a target=\"_blank\" href=https://colab.research.google.com/notebooks/data_table.ipynb>data table notebook</a>'\n",
              "            + ' to learn more about interactive tables.';\n",
              "          element.innerHTML = '';\n",
              "          dataTable['output_type'] = 'display_data';\n",
              "          await google.colab.output.renderOutput(dataTable, element);\n",
              "          const docLink = document.createElement('div');\n",
              "          docLink.innerHTML = docLinkHtml;\n",
              "          element.appendChild(docLink);\n",
              "        }\n",
              "      </script>\n",
              "    </div>\n",
              "  </div>\n",
              "  "
            ]
          },
          "metadata": {},
          "execution_count": 108
        }
      ]
    },
    {
      "cell_type": "markdown",
      "source": [
        "##X&Y Separation"
      ],
      "metadata": {
        "id": "9grRH2K-bnbZ"
      }
    },
    {
      "cell_type": "code",
      "source": [
        "X = df_new[df_new.columns.drop('Employee_Churned')]\n",
        "Y = df_new[\"Employee_Churned\"]"
      ],
      "metadata": {
        "id": "o3zVqkilcpSr"
      },
      "execution_count": null,
      "outputs": []
    },
    {
      "cell_type": "code",
      "source": [
        "from sklearn.model_selection import train_test_split\n",
        "X_train, X_test, Y_train, Y_test = train_test_split(X, Y, test_size=0.2, random_state=1)"
      ],
      "metadata": {
        "id": "mLW-_6ZLY6CX"
      },
      "execution_count": null,
      "outputs": []
    },
    {
      "cell_type": "code",
      "source": [
        "X_train,Y_train"
      ],
      "metadata": {
        "colab": {
          "base_uri": "https://localhost:8080/"
        },
        "id": "nEaGa9c-c5mZ",
        "outputId": "f42d65f5-b311-4277-8618-c8948813344c"
      },
      "execution_count": null,
      "outputs": [
        {
          "output_type": "execute_result",
          "data": {
            "text/plain": [
              "(      Education_Level  Income_Joined  Joining_Designation  Grade_Now  \\\n",
              " 66                1.0        89013.0                  2.0        2.0   \n",
              " 300               0.0        60555.0                  0.0        0.0   \n",
              " 2057              1.0        17648.0                  0.0        0.0   \n",
              " 435               0.0        68751.0                  0.0        0.0   \n",
              " 1593              0.0        42573.0                  1.0        1.0   \n",
              " ...               ...            ...                  ...        ...   \n",
              " 1093              2.0        55419.0                  1.0        1.0   \n",
              " 1028              1.0        62599.0                  2.0        2.0   \n",
              " 1240              1.0        48050.0                  2.0        2.0   \n",
              " 264               1.0        59936.0                  1.0        1.0   \n",
              " 1201              2.0        29181.0                  0.0        0.0   \n",
              " \n",
              "       Total_Business_Value  Quarterly_Rating_Joined  Quarterly_Rating_Now  \\\n",
              " 66                     0.0                      0.0                   0.0   \n",
              " 300                    0.0                      0.0                   0.0   \n",
              " 2057                   0.0                      0.0                   0.0   \n",
              " 435                    0.0                      0.0                   0.0   \n",
              " 1593             2458110.0                      2.0                   1.0   \n",
              " ...                    ...                      ...                   ...   \n",
              " 1093             2404630.0                      1.0                   0.0   \n",
              " 1028                   0.0                      0.0                   0.0   \n",
              " 1240                   0.0                      0.0                   0.0   \n",
              " 264              5195840.0                      0.0                   0.0   \n",
              " 1201             2325440.0                      2.0                   0.0   \n",
              " \n",
              "       Experience  City_target_encoded  Gender_label_encoded  \\\n",
              " 66      0.334025             0.784615                     1   \n",
              " 300     0.328549             0.750000                     1   \n",
              " 2057    0.251887             0.775281                     0   \n",
              " 435     0.249150             0.620253                     1   \n",
              " 1593    0.418900             0.681159                     0   \n",
              " ...          ...                  ...                   ...   \n",
              " 1093    0.917199             0.746479                     0   \n",
              " 1028    0.082137             0.681159                     0   \n",
              " 1240    0.251887             0.746479                     0   \n",
              " 264     1.169086             0.681159                     0   \n",
              " 1201    1.418236             0.620253                     0   \n",
              " \n",
              "       Quarterly_Increment_label_encoded  \n",
              " 66                                    0  \n",
              " 300                                   0  \n",
              " 2057                                  0  \n",
              " 435                                   0  \n",
              " 1593                                  0  \n",
              " ...                                 ...  \n",
              " 1093                                  0  \n",
              " 1028                                  0  \n",
              " 1240                                  0  \n",
              " 264                                   0  \n",
              " 1201                                  0  \n",
              " \n",
              " [1687 rows x 11 columns], 66      1.0\n",
              " 300     1.0\n",
              " 2057    1.0\n",
              " 435     0.0\n",
              " 1593    0.0\n",
              "        ... \n",
              " 1093    1.0\n",
              " 1028    0.0\n",
              " 1240    1.0\n",
              " 264     1.0\n",
              " 1201    1.0\n",
              " Name: Employee_Churned, Length: 1687, dtype: float64)"
            ]
          },
          "metadata": {},
          "execution_count": 111
        }
      ]
    },
    {
      "cell_type": "code",
      "source": [
        "X_test,Y_test"
      ],
      "metadata": {
        "colab": {
          "base_uri": "https://localhost:8080/"
        },
        "id": "Y_NatOxVc-0L",
        "outputId": "73748bd2-4e7c-428d-d7df-18d36fb0135d"
      },
      "execution_count": null,
      "outputs": [
        {
          "output_type": "execute_result",
          "data": {
            "text/plain": [
              "(      Education_Level  Income_Joined  Joining_Designation  Grade_Now  \\\n",
              " 1130              1.0        17493.0                  0.0        0.0   \n",
              " 1594              0.0        63739.0                  2.0        2.0   \n",
              " 1855              0.0        11889.0                  0.0        0.0   \n",
              " 956               0.0        71977.0                  2.0        2.0   \n",
              " 1905              0.0        21935.0                  0.0        0.0   \n",
              " ...               ...            ...                  ...        ...   \n",
              " 1310              0.0        48956.0                  0.0        0.0   \n",
              " 412               1.0       132558.0                  2.0        2.0   \n",
              " 12                1.0        31631.0                  0.0        0.0   \n",
              " 1227              1.0        48540.0                  1.0        1.0   \n",
              " 2060              2.0        73899.0                  1.0        1.0   \n",
              " \n",
              "       Total_Business_Value  Quarterly_Rating_Joined  Quarterly_Rating_Now  \\\n",
              " 1130              478360.0                      0.0                   0.0   \n",
              " 1594                   0.0                      0.0                   0.0   \n",
              " 1855              873850.0                      1.0                   0.0   \n",
              " 956               977970.0                      1.0                   1.0   \n",
              " 1905              622550.0                      0.0                   0.0   \n",
              " ...                    ...                      ...                   ...   \n",
              " 1310              825600.0                      0.0                   1.0   \n",
              " 412              2792430.0                      0.0                   2.0   \n",
              " 12                     0.0                      0.0                   0.0   \n",
              " 1227              551680.0                      0.0                   0.0   \n",
              " 2060             2423110.0                      1.0                   0.0   \n",
              " \n",
              "       Experience  City_target_encoded  Gender_label_encoded  \\\n",
              " 1130    0.747449             0.720588                     1   \n",
              " 1594    0.418900             0.746479                     1   \n",
              " 1855    0.747449             0.710145                     0   \n",
              " 956     0.249150             0.661290                     1   \n",
              " 1905    0.832324             0.797297                     1   \n",
              " ...          ...                  ...                   ...   \n",
              " 1310    0.336763             0.724638                     0   \n",
              " 412     0.585912             0.643836                     1   \n",
              " 12      0.328549             0.805970                     1   \n",
              " 1227    0.580436             0.750000                     1   \n",
              " 2060    1.169086             0.800000                     0   \n",
              " \n",
              "       Quarterly_Increment_label_encoded  \n",
              " 1130                                  0  \n",
              " 1594                                  0  \n",
              " 1855                                  0  \n",
              " 956                                   0  \n",
              " 1905                                  0  \n",
              " ...                                 ...  \n",
              " 1310                                  1  \n",
              " 412                                   1  \n",
              " 12                                    0  \n",
              " 1227                                  0  \n",
              " 2060                                  0  \n",
              " \n",
              " [422 rows x 11 columns], 1130    1.0\n",
              " 1594    1.0\n",
              " 1855    1.0\n",
              " 956     0.0\n",
              " 1905    1.0\n",
              "        ... \n",
              " 1310    1.0\n",
              " 412     0.0\n",
              " 12      1.0\n",
              " 1227    1.0\n",
              " 2060    0.0\n",
              " Name: Employee_Churned, Length: 422, dtype: float64)"
            ]
          },
          "metadata": {},
          "execution_count": 112
        }
      ]
    },
    {
      "cell_type": "markdown",
      "source": [
        "##Standardization"
      ],
      "metadata": {
        "id": "SdehitkHen-Q"
      }
    },
    {
      "cell_type": "code",
      "source": [
        "from sklearn.preprocessing import StandardScaler\n",
        "\n",
        "scaler = StandardScaler()\n",
        "scaler.fit(X_train)\n",
        "X_train_standardized = scaler.transform(X_train)\n",
        "X_test_standardized = scaler.transform(X_test)"
      ],
      "metadata": {
        "id": "B6teMehIdDvV"
      },
      "execution_count": null,
      "outputs": []
    },
    {
      "cell_type": "code",
      "source": [
        "Y_train.value_counts()"
      ],
      "metadata": {
        "colab": {
          "base_uri": "https://localhost:8080/"
        },
        "id": "4dIYEGZ_eHHE",
        "outputId": "446568c2-c501-49e9-d95f-8bbd4c7d7f4a"
      },
      "execution_count": null,
      "outputs": [
        {
          "output_type": "execute_result",
          "data": {
            "text/plain": [
              "1.0    1257\n",
              "0.0     430\n",
              "Name: Employee_Churned, dtype: int64"
            ]
          },
          "metadata": {},
          "execution_count": 114
        }
      ]
    },
    {
      "cell_type": "markdown",
      "source": [
        "##SMOTE"
      ],
      "metadata": {
        "id": "aR83sxJneMqr"
      }
    },
    {
      "cell_type": "code",
      "source": [
        "from imblearn.over_sampling import SMOTE\n",
        "from collections import Counter\n",
        "\n",
        "smt = SMOTE()\n",
        "X_sm, y_sm = smt.fit_resample(X_train, Y_train)\n",
        "\n",
        "print('Resampled dataset shape {}'.format(Counter(y_sm)))"
      ],
      "metadata": {
        "colab": {
          "base_uri": "https://localhost:8080/"
        },
        "id": "o7rgebiFdYy8",
        "outputId": "668b3f68-b600-45e4-8e8d-4a643841bf63"
      },
      "execution_count": null,
      "outputs": [
        {
          "output_type": "stream",
          "name": "stdout",
          "text": [
            "Resampled dataset shape Counter({1.0: 1257, 0.0: 1257})\n"
          ]
        }
      ]
    },
    {
      "cell_type": "markdown",
      "source": [
        "#Model Building"
      ],
      "metadata": {
        "id": "UANuwTI1fGDe"
      }
    },
    {
      "cell_type": "markdown",
      "source": [
        "##Bagging"
      ],
      "metadata": {
        "id": "TrvQLbG-YNJl"
      }
    },
    {
      "cell_type": "code",
      "source": [
        "from sklearn.ensemble import RandomForestClassifier\n",
        "from sklearn.model_selection import KFold, cross_validate\n",
        "\n",
        "tree_clf = RandomForestClassifier(random_state=7, max_depth=4, n_estimators=100)\n",
        "kfold = KFold(n_splits=5)\n",
        "cv_acc_results = cross_validate(tree_clf, X_sm, y_sm, cv = kfold, scoring = 'accuracy', return_train_score = True)\n",
        "\n",
        "print(f\"K-Fold Accuracy Mean: Train: {cv_acc_results['train_score'].mean()*100} Validation: {cv_acc_results['test_score'].mean()*100}\")\n",
        "print(f\"K-Fold Accuracy Std: Train: {cv_acc_results['train_score'].std()*100} Validation: {cv_acc_results['test_score'].std()*100}\")"
      ],
      "metadata": {
        "id": "uO1hRpUMeEpF",
        "colab": {
          "base_uri": "https://localhost:8080/"
        },
        "outputId": "cd72b87c-dfcd-4036-cb0d-3604482c7233"
      },
      "execution_count": null,
      "outputs": [
        {
          "output_type": "stream",
          "name": "stdout",
          "text": [
            "K-Fold Accuracy Mean: Train: 85.57103920485046 Validation: 78.11917340578046\n",
            "K-Fold Accuracy Std: Train: 1.3785569157998276 Validation: 4.774276458308261\n"
          ]
        }
      ]
    },
    {
      "cell_type": "code",
      "source": [
        "# Feature importance\n",
        "import numpy as np \n",
        "import matplotlib.pyplot as plt\n",
        "\n",
        "clf = RandomForestClassifier(random_state=7, max_depth=4, n_estimators=100)\n",
        "clf.fit(X_sm, y_sm)\n",
        "importances = clf.feature_importances_\n",
        "indices = np.argsort(importances)[::-1] # Sort feature importances in descending order\n",
        "names = [X_sm.columns[i] for i in indices] # Rearrange feature names so they match the sorted feature importances\n",
        "plt.figure(figsize=(15, 7)) # Create plot\n",
        "plt.title(\"Feature Importance\") # Create plot title\n",
        "plt.bar(range(X_sm.shape[1]), importances[indices]) # Add bars\n",
        "plt.xticks(range(X_sm.shape[1]), names, rotation=90) # Add feature names as x-axis labels\n",
        "plt.show() # Show plot"
      ],
      "metadata": {
        "colab": {
          "base_uri": "https://localhost:8080/",
          "height": 615
        },
        "id": "yJCv4Q94Tu8N",
        "outputId": "92790ab4-7467-4523-fdc1-651c2a5dab9b"
      },
      "execution_count": null,
      "outputs": [
        {
          "output_type": "display_data",
          "data": {
            "text/plain": [
              "<Figure size 1080x504 with 1 Axes>"
            ],
            "image/png": "[encoded data removed]"
          },
          "metadata": {
            "needs_background": "light"
          }
        }
      ]
    },
    {
      "cell_type": "code",
      "source": [
        "from sklearn.metrics import f1_score"
      ],
      "metadata": {
        "id": "Bloyeqm0fRm6"
      },
      "execution_count": null,
      "outputs": []
    },
    {
      "cell_type": "code",
      "source": [
        "test_y_pred = clf.predict(X_test)\n",
        "test_score = f1_score(Y_test, test_y_pred)"
      ],
      "metadata": {
        "id": "iEyXjO7_p-nk"
      },
      "execution_count": null,
      "outputs": []
    },
    {
      "cell_type": "code",
      "source": [
        "test_score"
      ],
      "metadata": {
        "colab": {
          "base_uri": "https://localhost:8080/"
        },
        "id": "jup-N95wtRUi",
        "outputId": "7340661d-71aa-4bb1-beee-1cb0bb418f7c"
      },
      "execution_count": null,
      "outputs": [
        {
          "output_type": "execute_result",
          "data": {
            "text/plain": [
              "0.8636363636363638"
            ]
          },
          "metadata": {},
          "execution_count": 121
        }
      ]
    },
    {
      "cell_type": "code",
      "source": [
        "from sklearn.metrics import confusion_matrix, classification_report\n",
        "\n",
        "conf_mat = confusion_matrix(Y_test, clf.predict(X_test))\n",
        "print(conf_mat)"
      ],
      "metadata": {
        "colab": {
          "base_uri": "https://localhost:8080/"
        },
        "id": "9GyjnZhCtUli",
        "outputId": "99071448-1a59-48e7-e164-d45f6b30a3ad"
      },
      "execution_count": null,
      "outputs": [
        {
          "output_type": "stream",
          "name": "stdout",
          "text": [
            "[[ 72  40]\n",
            " [ 44 266]]\n"
          ]
        }
      ]
    },
    {
      "cell_type": "code",
      "source": [
        "from sklearn.metrics import confusion_matrix, accuracy_score, precision_score, recall_score , f1_score, plot_confusion_matrix,classification_report"
      ],
      "metadata": {
        "id": "w5-DQ-2bthjR"
      },
      "execution_count": null,
      "outputs": []
    },
    {
      "cell_type": "code",
      "source": [
        "#Plotting the confusion matrix\n",
        "plt.figure(figsize=(8,8))\n",
        "plot_confusion_matrix(clf,X_test,Y_test)\n",
        "#sns.heatmap(cm_df, annot=True,cmap='coolwarm')\n",
        "plt.title('Confusion Matrix')\n",
        "plt.ylabel('Actal Values')\n",
        "plt.xlabel('Predicted Values')\n",
        "plt.show()"
      ],
      "metadata": {
        "colab": {
          "base_uri": "https://localhost:8080/",
          "height": 312
        },
        "id": "agzMqzfYtkDF",
        "outputId": "2643aa94-0410-4c0f-aa26-c825c5ca8256"
      },
      "execution_count": null,
      "outputs": [
        {
          "output_type": "display_data",
          "data": {
            "text/plain": [
              "<Figure size 576x576 with 0 Axes>"
            ]
          },
          "metadata": {}
        },
        {
          "output_type": "display_data",
          "data": {
            "text/plain": [
              "<Figure size 432x288 with 2 Axes>"
            ],
            "image/png": "[encoded data removed]"
          },
          "metadata": {
            "needs_background": "light"
          }
        }
      ]
    },
    {
      "cell_type": "code",
      "source": [
        "f1_score(Y_test,clf.predict(X_test))"
      ],
      "metadata": {
        "colab": {
          "base_uri": "https://localhost:8080/"
        },
        "id": "XF2CjQaWyFOA",
        "outputId": "154c7f85-0bc0-4302-a027-27a925b1fee2"
      },
      "execution_count": null,
      "outputs": [
        {
          "output_type": "execute_result",
          "data": {
            "text/plain": [
              "0.8636363636363638"
            ]
          },
          "metadata": {},
          "execution_count": 125
        }
      ]
    },
    {
      "cell_type": "code",
      "source": [
        "accuracy_score(Y_test,clf.predict(X_test))"
      ],
      "metadata": {
        "colab": {
          "base_uri": "https://localhost:8080/"
        },
        "id": "D6xkX9_n9z3H",
        "outputId": "c243e135-4849-420f-fc3c-1ccaf79474d5"
      },
      "execution_count": null,
      "outputs": [
        {
          "output_type": "execute_result",
          "data": {
            "text/plain": [
              "0.8009478672985783"
            ]
          },
          "metadata": {},
          "execution_count": 126
        }
      ]
    },
    {
      "cell_type": "code",
      "source": [
        "recall_score(Y_test,clf.predict(X_test))"
      ],
      "metadata": {
        "colab": {
          "base_uri": "https://localhost:8080/"
        },
        "id": "CnXvIRss9-wm",
        "outputId": "d6d0d65d-ca65-4f7f-b4ff-1f5d093ad584"
      },
      "execution_count": null,
      "outputs": [
        {
          "output_type": "execute_result",
          "data": {
            "text/plain": [
              "0.8580645161290322"
            ]
          },
          "metadata": {},
          "execution_count": 127
        }
      ]
    },
    {
      "cell_type": "code",
      "source": [
        "precision_score(Y_test,clf.predict(X_test))"
      ],
      "metadata": {
        "colab": {
          "base_uri": "https://localhost:8080/"
        },
        "id": "E09uNTRY-ILF",
        "outputId": "e94edf5c-c9e6-4345-880a-60ad1a0d4802"
      },
      "execution_count": null,
      "outputs": [
        {
          "output_type": "execute_result",
          "data": {
            "text/plain": [
              "0.869281045751634"
            ]
          },
          "metadata": {},
          "execution_count": 128
        }
      ]
    },
    {
      "cell_type": "markdown",
      "source": [
        "##ROC AUC curve"
      ],
      "metadata": {
        "id": "9lDBB62B2d2a"
      }
    },
    {
      "cell_type": "code",
      "source": [
        "(Y_test==clf.predict(X_test)).sum()/Y_test.shape[0]"
      ],
      "metadata": {
        "colab": {
          "base_uri": "https://localhost:8080/"
        },
        "id": "nTcK9VBprLnK",
        "outputId": "b7c309e6-add5-4c0c-ed43-d970420bdc88"
      },
      "execution_count": null,
      "outputs": [
        {
          "output_type": "execute_result",
          "data": {
            "text/plain": [
              "0.8009478672985783"
            ]
          },
          "metadata": {},
          "execution_count": 129
        }
      ]
    },
    {
      "cell_type": "code",
      "source": [
        "Y_test_pred=clf.predict(X_test)"
      ],
      "metadata": {
        "id": "szHgIHuZ6S5_"
      },
      "execution_count": null,
      "outputs": []
    },
    {
      "cell_type": "code",
      "source": [
        "Y_proba=clf.predict_proba(X_test)[:,1]"
      ],
      "metadata": {
        "id": "lL8Kr8DV4lFT"
      },
      "execution_count": null,
      "outputs": []
    },
    {
      "cell_type": "code",
      "source": [
        "from sklearn.metrics import roc_curve, roc_auc_score\n",
        "from matplotlib import pyplot as plt"
      ],
      "metadata": {
        "id": "27x73f5i-qF7"
      },
      "execution_count": null,
      "outputs": []
    },
    {
      "cell_type": "code",
      "source": [
        "fpr, tpr, thr = roc_curve(Y_test_pred, Y_proba)"
      ],
      "metadata": {
        "id": "fkjN56jH-9SO"
      },
      "execution_count": null,
      "outputs": []
    },
    {
      "cell_type": "code",
      "source": [
        "plt.plot(fpr,tpr)\n",
        "plt.title('ROC curve')\n",
        "plt.xlabel('FPR')\n",
        "plt.ylabel('TPR')\n",
        "plt.show()"
      ],
      "metadata": {
        "colab": {
          "base_uri": "https://localhost:8080/",
          "height": 295
        },
        "id": "yI-IVTwy_GqL",
        "outputId": "17a2eb3c-b344-4678-e295-067f36bb7510"
      },
      "execution_count": null,
      "outputs": [
        {
          "output_type": "display_data",
          "data": {
            "text/plain": [
              "<Figure size 432x288 with 1 Axes>"
            ],
            "image/png": "[encoded data removed]"
          },
          "metadata": {
            "needs_background": "light"
          }
        }
      ]
    },
    {
      "cell_type": "code",
      "source": [
        "fpr,tpr,thr"
      ],
      "metadata": {
        "colab": {
          "base_uri": "https://localhost:8080/"
        },
        "id": "rG6p0BIm-kOW",
        "outputId": "8d00b368-c5a2-44a7-ef95-c4133510b356"
      },
      "execution_count": null,
      "outputs": [
        {
          "output_type": "execute_result",
          "data": {
            "text/plain": [
              "(array([0.        , 0.        , 0.        , 0.        , 0.        ,\n",
              "        0.        , 0.        , 0.17241379, 0.18965517, 0.82758621,\n",
              "        0.84482759, 1.        ]),\n",
              " array([0.        , 0.00326797, 0.80392157, 0.81045752, 0.97385621,\n",
              "        0.98039216, 1.        , 1.        , 1.        , 1.        ,\n",
              "        1.        , 1.        ]),\n",
              " array([1.91754375, 0.91754375, 0.6203064 , 0.61945025, 0.51793879,\n",
              "        0.51789189, 0.50257939, 0.4338885 , 0.43062783, 0.17966237,\n",
              "        0.17809183, 0.13696308]))"
            ]
          },
          "metadata": {},
          "execution_count": 135
        }
      ]
    },
    {
      "cell_type": "code",
      "source": [
        "roc_auc_score(Y_test_pred, Y_proba)"
      ],
      "metadata": {
        "colab": {
          "base_uri": "https://localhost:8080/"
        },
        "id": "UPGdVpCC7Swd",
        "outputId": "28969511-dbb2-4b89-bc3d-36f4939f97f6"
      },
      "execution_count": null,
      "outputs": [
        {
          "output_type": "execute_result",
          "data": {
            "text/plain": [
              "1.0"
            ]
          },
          "metadata": {},
          "execution_count": 136
        }
      ]
    },
    {
      "cell_type": "markdown",
      "source": [
        "##PR AUC Curve"
      ],
      "metadata": {
        "id": "hkYuKqkr9JdF"
      }
    },
    {
      "cell_type": "code",
      "source": [
        "from sklearn.metrics import precision_recall_curve\n",
        "from sklearn.metrics import auc"
      ],
      "metadata": {
        "id": "Ofo_5VgUAFtN"
      },
      "execution_count": null,
      "outputs": []
    },
    {
      "cell_type": "code",
      "source": [
        "precision, recall, thr = precision_recall_curve(Y_test_pred, Y_proba)"
      ],
      "metadata": {
        "id": "8-RJNrvVAJ-g"
      },
      "execution_count": null,
      "outputs": []
    },
    {
      "cell_type": "code",
      "source": [
        "plt.plot(recall, precision)\n",
        "plt.xlabel('Recall')\n",
        "plt.ylabel('Precision')\n",
        "plt.title('PR curve')\n",
        "plt.show()"
      ],
      "metadata": {
        "colab": {
          "base_uri": "https://localhost:8080/",
          "height": 295
        },
        "id": "xJ_6Wtc9ARXj",
        "outputId": "2c3cff5d-6898-49ce-ba95-28d0b1541451"
      },
      "execution_count": null,
      "outputs": [
        {
          "output_type": "display_data",
          "data": {
            "text/plain": [
              "<Figure size 432x288 with 1 Axes>"
            ],
            "image/png": "[encoded data removed]"
          },
          "metadata": {
            "needs_background": "light"
          }
        }
      ]
    },
    {
      "cell_type": "code",
      "source": [
        "auc(recall, precision)"
      ],
      "metadata": {
        "colab": {
          "base_uri": "https://localhost:8080/"
        },
        "id": "bwwB2tYI8b8x",
        "outputId": "f0ab9c31-4c51-4092-be30-7c063b50653e"
      },
      "execution_count": null,
      "outputs": [
        {
          "output_type": "execute_result",
          "data": {
            "text/plain": [
              "1.0"
            ]
          },
          "metadata": {},
          "execution_count": 140
        }
      ]
    },
    {
      "cell_type": "code",
      "source": [
        "precision,recall,thr"
      ],
      "metadata": {
        "colab": {
          "base_uri": "https://localhost:8080/"
        },
        "id": "SUAzle5f_d9W",
        "outputId": "dd687561-9680-49ef-b8eb-88d994b25aaa"
      },
      "execution_count": null,
      "outputs": [
        {
          "output_type": "execute_result",
          "data": {
            "text/plain": [
              "(array([1., 1., 1., 1., 1., 1., 1., 1., 1., 1., 1., 1., 1., 1., 1., 1., 1.,\n",
              "        1., 1., 1., 1., 1., 1., 1., 1., 1., 1., 1., 1., 1., 1., 1., 1., 1.,\n",
              "        1., 1., 1., 1., 1., 1., 1., 1., 1., 1., 1., 1., 1., 1., 1., 1., 1.,\n",
              "        1., 1., 1., 1., 1., 1., 1., 1., 1., 1., 1., 1., 1., 1., 1., 1., 1.,\n",
              "        1., 1., 1., 1., 1., 1., 1., 1., 1., 1., 1., 1., 1., 1., 1., 1., 1.,\n",
              "        1., 1., 1., 1., 1., 1., 1., 1., 1., 1., 1., 1., 1., 1., 1., 1., 1.,\n",
              "        1., 1., 1., 1., 1., 1., 1., 1., 1., 1., 1., 1., 1., 1., 1., 1., 1.,\n",
              "        1., 1., 1., 1., 1., 1., 1., 1., 1., 1., 1., 1., 1., 1., 1., 1., 1.,\n",
              "        1., 1., 1., 1., 1., 1., 1., 1., 1., 1., 1., 1., 1., 1., 1., 1., 1.,\n",
              "        1., 1., 1., 1., 1., 1., 1., 1., 1., 1., 1., 1., 1., 1., 1., 1., 1.,\n",
              "        1., 1., 1., 1., 1., 1., 1., 1., 1., 1., 1., 1., 1., 1., 1., 1., 1.,\n",
              "        1., 1., 1., 1., 1., 1., 1., 1., 1., 1., 1., 1., 1., 1., 1., 1., 1.,\n",
              "        1., 1., 1., 1., 1., 1., 1., 1., 1., 1., 1., 1., 1., 1., 1., 1., 1.,\n",
              "        1., 1., 1., 1., 1., 1., 1., 1., 1., 1., 1., 1., 1., 1., 1., 1., 1.,\n",
              "        1., 1., 1., 1., 1., 1., 1., 1., 1., 1., 1., 1., 1., 1., 1., 1., 1.,\n",
              "        1., 1., 1., 1., 1., 1., 1., 1., 1., 1., 1., 1., 1., 1., 1., 1., 1.,\n",
              "        1., 1., 1., 1., 1., 1., 1., 1., 1., 1., 1., 1., 1., 1., 1., 1., 1.,\n",
              "        1., 1., 1., 1., 1., 1., 1., 1., 1., 1., 1., 1., 1., 1., 1., 1.]),\n",
              " array([1.        , 0.99673203, 0.99346405, 0.99019608, 0.9869281 ,\n",
              "        0.98366013, 0.98039216, 0.97385621, 0.97058824, 0.96732026,\n",
              "        0.96405229, 0.96078431, 0.95751634, 0.95424837, 0.95098039,\n",
              "        0.94771242, 0.94444444, 0.94117647, 0.9379085 , 0.93464052,\n",
              "        0.93137255, 0.92810458, 0.9248366 , 0.92156863, 0.91830065,\n",
              "        0.91503268, 0.91176471, 0.90849673, 0.90522876, 0.90196078,\n",
              "        0.89869281, 0.89542484, 0.89215686, 0.88888889, 0.88562092,\n",
              "        0.88235294, 0.87908497, 0.87581699, 0.87254902, 0.86928105,\n",
              "        0.86601307, 0.8627451 , 0.85947712, 0.85620915, 0.85294118,\n",
              "        0.8496732 , 0.84640523, 0.84313725, 0.83986928, 0.83660131,\n",
              "        0.83333333, 0.83006536, 0.82679739, 0.82352941, 0.82026144,\n",
              "        0.81699346, 0.81372549, 0.81045752, 0.80392157, 0.80065359,\n",
              "        0.79738562, 0.79411765, 0.79084967, 0.7875817 , 0.78431373,\n",
              "        0.78104575, 0.77777778, 0.7745098 , 0.77124183, 0.76797386,\n",
              "        0.76470588, 0.76143791, 0.75816993, 0.75490196, 0.75163399,\n",
              "        0.74836601, 0.74509804, 0.74183007, 0.73856209, 0.73529412,\n",
              "        0.73202614, 0.72875817, 0.7254902 , 0.72222222, 0.71895425,\n",
              "        0.71568627, 0.7124183 , 0.70915033, 0.70588235, 0.70261438,\n",
              "        0.69934641, 0.69607843, 0.69281046, 0.68954248, 0.68627451,\n",
              "        0.68300654, 0.67973856, 0.67647059, 0.67320261, 0.66993464,\n",
              "        0.66666667, 0.66339869, 0.66013072, 0.65686275, 0.65359477,\n",
              "        0.6503268 , 0.64705882, 0.64379085, 0.64052288, 0.6372549 ,\n",
              "        0.63398693, 0.63071895, 0.62745098, 0.62418301, 0.62091503,\n",
              "        0.61764706, 0.61437908, 0.61111111, 0.60784314, 0.60457516,\n",
              "        0.60130719, 0.59803922, 0.59477124, 0.59150327, 0.58823529,\n",
              "        0.58496732, 0.58169935, 0.57843137, 0.5751634 , 0.57189542,\n",
              "        0.56862745, 0.56535948, 0.5620915 , 0.55882353, 0.55555556,\n",
              "        0.55228758, 0.54901961, 0.54575163, 0.54248366, 0.53921569,\n",
              "        0.53594771, 0.53267974, 0.52941176, 0.52614379, 0.52287582,\n",
              "        0.51960784, 0.51633987, 0.5130719 , 0.50980392, 0.50653595,\n",
              "        0.50326797, 0.5       , 0.49673203, 0.49346405, 0.49019608,\n",
              "        0.4869281 , 0.48366013, 0.48039216, 0.47712418, 0.47385621,\n",
              "        0.47058824, 0.46732026, 0.46405229, 0.46078431, 0.45751634,\n",
              "        0.45424837, 0.45098039, 0.44771242, 0.44444444, 0.44117647,\n",
              "        0.4379085 , 0.43464052, 0.43137255, 0.42810458, 0.4248366 ,\n",
              "        0.42156863, 0.41830065, 0.41503268, 0.41176471, 0.40849673,\n",
              "        0.40522876, 0.40196078, 0.39869281, 0.39542484, 0.39215686,\n",
              "        0.38888889, 0.38562092, 0.38235294, 0.37908497, 0.37581699,\n",
              "        0.37254902, 0.36928105, 0.36601307, 0.3627451 , 0.35947712,\n",
              "        0.35620915, 0.35294118, 0.3496732 , 0.34640523, 0.34313725,\n",
              "        0.33986928, 0.33660131, 0.33333333, 0.33006536, 0.32679739,\n",
              "        0.32352941, 0.32026144, 0.31699346, 0.31372549, 0.31045752,\n",
              "        0.30718954, 0.30392157, 0.30065359, 0.29738562, 0.29411765,\n",
              "        0.29084967, 0.2875817 , 0.28431373, 0.28104575, 0.27777778,\n",
              "        0.2745098 , 0.27124183, 0.26797386, 0.26470588, 0.26143791,\n",
              "        0.25816993, 0.25490196, 0.25163399, 0.24836601, 0.24509804,\n",
              "        0.24183007, 0.23856209, 0.23529412, 0.23202614, 0.22875817,\n",
              "        0.2254902 , 0.22222222, 0.21895425, 0.21568627, 0.2124183 ,\n",
              "        0.20915033, 0.20588235, 0.20261438, 0.19934641, 0.19607843,\n",
              "        0.19281046, 0.18954248, 0.18627451, 0.18300654, 0.17973856,\n",
              "        0.17647059, 0.17320261, 0.16993464, 0.16666667, 0.16339869,\n",
              "        0.16013072, 0.15686275, 0.15359477, 0.1503268 , 0.14705882,\n",
              "        0.14379085, 0.14052288, 0.1372549 , 0.13398693, 0.13071895,\n",
              "        0.12745098, 0.12418301, 0.12091503, 0.11764706, 0.11437908,\n",
              "        0.11111111, 0.10784314, 0.10457516, 0.10130719, 0.09803922,\n",
              "        0.09477124, 0.09150327, 0.08823529, 0.08496732, 0.08169935,\n",
              "        0.07843137, 0.0751634 , 0.07189542, 0.06862745, 0.06535948,\n",
              "        0.0620915 , 0.05882353, 0.05555556, 0.05228758, 0.04901961,\n",
              "        0.04575163, 0.04248366, 0.03921569, 0.03594771, 0.03267974,\n",
              "        0.02941176, 0.02614379, 0.02287582, 0.01960784, 0.01633987,\n",
              "        0.0130719 , 0.00980392, 0.00653595, 0.00326797, 0.        ]),\n",
              " array([0.50257939, 0.50718392, 0.50767648, 0.51196096, 0.51439585,\n",
              "        0.51694566, 0.51789189, 0.51793879, 0.51814522, 0.51844339,\n",
              "        0.51989818, 0.52057243, 0.52318814, 0.52460779, 0.53398158,\n",
              "        0.5343326 , 0.53984463, 0.54004914, 0.54183079, 0.54409277,\n",
              "        0.54539594, 0.54747039, 0.54890093, 0.55023551, 0.5504645 ,\n",
              "        0.55380274, 0.55405771, 0.55490412, 0.5553654 , 0.55560671,\n",
              "        0.55572297, 0.55690346, 0.55795682, 0.55996219, 0.5607863 ,\n",
              "        0.56298484, 0.56835302, 0.57045167, 0.57091619, 0.5727953 ,\n",
              "        0.57520241, 0.57548063, 0.58084705, 0.58147454, 0.58402184,\n",
              "        0.58885756, 0.59490974, 0.59519244, 0.60670472, 0.60736015,\n",
              "        0.609306  , 0.61143056, 0.61472723, 0.61766007, 0.61776318,\n",
              "        0.61806358, 0.61898974, 0.61945025, 0.6203064 , 0.62315163,\n",
              "        0.62346732, 0.62430674, 0.62689092, 0.62847406, 0.62873671,\n",
              "        0.62929449, 0.62936091, 0.63096055, 0.63237925, 0.63608145,\n",
              "        0.63657965, 0.6369888 , 0.63721374, 0.6381648 , 0.6382923 ,\n",
              "        0.6386241 , 0.64604235, 0.64789514, 0.64856088, 0.65082056,\n",
              "        0.65248972, 0.65271786, 0.65339899, 0.65392603, 0.66286803,\n",
              "        0.66381684, 0.66605202, 0.6664717 , 0.66701403, 0.66803592,\n",
              "        0.6692146 , 0.66965869, 0.66981105, 0.66998142, 0.6709787 ,\n",
              "        0.67105543, 0.67173189, 0.67401208, 0.67453811, 0.67459448,\n",
              "        0.67526155, 0.67559917, 0.67567381, 0.67574867, 0.67638297,\n",
              "        0.67726214, 0.67981994, 0.6813911 , 0.6817902 , 0.68301337,\n",
              "        0.68450251, 0.68614453, 0.68953155, 0.69031035, 0.69063165,\n",
              "        0.69115939, 0.69249906, 0.69439184, 0.6956356 , 0.6960393 ,\n",
              "        0.69649696, 0.70029831, 0.70094195, 0.70203   , 0.70222978,\n",
              "        0.70249268, 0.70260974, 0.70530188, 0.70542573, 0.70590807,\n",
              "        0.70681681, 0.70862375, 0.70976602, 0.71144299, 0.71184058,\n",
              "        0.71404602, 0.71448993, 0.71481302, 0.71613277, 0.71825312,\n",
              "        0.72024502, 0.72221193, 0.7234804 , 0.72579997, 0.72885506,\n",
              "        0.73047113, 0.73270857, 0.7332644 , 0.73441941, 0.73498746,\n",
              "        0.73778632, 0.7379287 , 0.73801439, 0.73827666, 0.739565  ,\n",
              "        0.73966447, 0.74416288, 0.74461746, 0.74538976, 0.74671281,\n",
              "        0.74683854, 0.7512694 , 0.75255249, 0.75398124, 0.75448625,\n",
              "        0.76132626, 0.76205191, 0.76421156, 0.76491736, 0.7674723 ,\n",
              "        0.76951216, 0.77056455, 0.7718446 , 0.77376788, 0.77442536,\n",
              "        0.77523053, 0.77580544, 0.77624717, 0.77771093, 0.78109413,\n",
              "        0.7815669 , 0.78242385, 0.78267811, 0.78290979, 0.78770436,\n",
              "        0.78783439, 0.78833031, 0.78888297, 0.79052082, 0.79057587,\n",
              "        0.79192063, 0.79223213, 0.79335917, 0.79691962, 0.79710888,\n",
              "        0.79721658, 0.79758312, 0.79895303, 0.79943375, 0.80016883,\n",
              "        0.80094316, 0.80166421, 0.8020211 , 0.80215783, 0.80327347,\n",
              "        0.80471542, 0.80516808, 0.80555511, 0.80590688, 0.80626938,\n",
              "        0.80643819, 0.80671996, 0.81007433, 0.81063697, 0.8108188 ,\n",
              "        0.81090676, 0.81153048, 0.81190773, 0.81300917, 0.81388618,\n",
              "        0.81531496, 0.81537333, 0.81560874, 0.81733615, 0.81783808,\n",
              "        0.8195775 , 0.81969888, 0.81999559, 0.82016487, 0.82024226,\n",
              "        0.82044139, 0.82238398, 0.82348352, 0.82399609, 0.82491585,\n",
              "        0.82634032, 0.82751072, 0.828265  , 0.83118719, 0.83137984,\n",
              "        0.83146906, 0.83282144, 0.83286524, 0.83338084, 0.83348822,\n",
              "        0.83363171, 0.83776917, 0.83884034, 0.83982957, 0.84005369,\n",
              "        0.84061864, 0.84146605, 0.84183031, 0.84247285, 0.84251471,\n",
              "        0.84255959, 0.84400579, 0.84442003, 0.84629174, 0.84630884,\n",
              "        0.84647926, 0.84783912, 0.84818426, 0.8482416 , 0.85114233,\n",
              "        0.85205687, 0.85279253, 0.85484914, 0.85527552, 0.85667985,\n",
              "        0.86024529, 0.86036925, 0.86049045, 0.86261635, 0.86318662,\n",
              "        0.86501741, 0.86741647, 0.86936825, 0.87167141, 0.87362569,\n",
              "        0.87380798, 0.87412775, 0.87512257, 0.87542075, 0.87577225,\n",
              "        0.87974623, 0.88140948, 0.88602499, 0.88791702, 0.89086433,\n",
              "        0.89099796, 0.89119216, 0.89122759, 0.89430842, 0.89617577,\n",
              "        0.89652409, 0.89688713, 0.89767108, 0.89802668, 0.90740048,\n",
              "        0.91057946, 0.9126407 , 0.91563092, 0.91754375]))"
            ]
          },
          "metadata": {},
          "execution_count": 141
        }
      ]
    },
    {
      "cell_type": "code",
      "source": [
        "np.argmax(recall)"
      ],
      "metadata": {
        "colab": {
          "base_uri": "https://localhost:8080/"
        },
        "id": "4TJ2du7gMvJ3",
        "outputId": "b9d05f24-d303-4a55-c73d-286f4bac041d"
      },
      "execution_count": null,
      "outputs": [
        {
          "output_type": "execute_result",
          "data": {
            "text/plain": [
              "0"
            ]
          },
          "metadata": {},
          "execution_count": 142
        }
      ]
    },
    {
      "cell_type": "code",
      "source": [
        "Y_proba"
      ],
      "metadata": {
        "colab": {
          "base_uri": "https://localhost:8080/"
        },
        "id": "X_FYFO2X84cN",
        "outputId": "e6b4e2cc-5016-4e30-9d97-cbbb677e1388"
      },
      "execution_count": null,
      "outputs": [
        {
          "output_type": "execute_result",
          "data": {
            "text/plain": [
              "array([0.83338084, 0.54183079, 0.87380798, 0.22149147, 0.86049045,\n",
              "       0.51694566, 0.32531111, 0.9126407 , 0.19689499, 0.49682326,\n",
              "       0.76132626, 0.62936091, 0.43712968, 0.78290979, 0.64856088,\n",
              "       0.78770436, 0.60670472, 0.39054206, 0.54747039, 0.62847406,\n",
              "       0.2218457 , 0.1743632 , 0.42216005, 0.78267811, 0.2366353 ,\n",
              "       0.82024226, 0.61776318, 0.80626938, 0.89119216, 0.63237925,\n",
              "       0.64604235, 0.83146906, 0.82044139, 0.29131938, 0.51814522,\n",
              "       0.63657965, 0.81153048, 0.68450251, 0.58084705, 0.25062962,\n",
              "       0.81733615, 0.49400435, 0.75448625, 0.5343326 , 0.39179297,\n",
              "       0.51789189, 0.17966237, 0.27270208, 0.67401208, 0.76421156,\n",
              "       0.57045167, 0.82399609, 0.30494529, 0.22123926, 0.26938904,\n",
              "       0.70542573, 0.14148686, 0.52460779, 0.74538976, 0.77580544,\n",
              "       0.4493854 , 0.51196096, 0.23445304, 0.5727953 , 0.41829527,\n",
              "       0.83348822, 0.87577225, 0.86936825, 0.89617577, 0.37685516,\n",
              "       0.71144299, 0.70590807, 0.86501741, 0.87974623, 0.78109413,\n",
              "       0.81531496, 0.44243508, 0.57520241, 0.55996219, 0.59490974,\n",
              "       0.79943375, 0.87362569, 0.49978188, 0.79758312, 0.44831852,\n",
              "       0.65082056, 0.62873671, 0.38893476, 0.67559917, 0.16392901,\n",
              "       0.33394684, 0.78888297, 0.61945025, 0.26213118, 0.61143056,\n",
              "       0.13983479, 0.50718392, 0.70530188, 0.22663739, 0.70203   ,\n",
              "       0.71184058, 0.73778632, 0.64789514, 0.340907  , 0.20151486,\n",
              "       0.7512694 , 0.65248972, 0.58147454, 0.39566205, 0.6664717 ,\n",
              "       0.42096092, 0.57091619, 0.81190773, 0.88791702, 0.37533947,\n",
              "       0.79721658, 0.79895303, 0.6381648 , 0.25453892, 0.6813911 ,\n",
              "       0.5553654 , 0.63721374, 0.76205191, 0.50767648, 0.22873499,\n",
              "       0.51789189, 0.609306  , 0.73827666, 0.90740048, 0.58885756,\n",
              "       0.73801439, 0.51793879, 0.4338885 , 0.80516808, 0.56835302,\n",
              "       0.84783912, 0.81783808, 0.37381488, 0.89802668, 0.41517623,\n",
              "       0.45785155, 0.55572297, 0.28012035, 0.79223213, 0.6386241 ,\n",
              "       0.8020211 , 0.36848232, 0.365495  , 0.86318662, 0.84647926,\n",
              "       0.36869549, 0.80327347, 0.71404602, 0.6382923 , 0.79057587,\n",
              "       0.69249906, 0.85667985, 0.74671281, 0.89086433, 0.35084827,\n",
              "       0.89099796, 0.33611555, 0.80166421, 0.84251471, 0.85527552,\n",
              "       0.6369888 , 0.34458206, 0.69649696, 0.70094195, 0.84442003,\n",
              "       0.75255249, 0.67638297, 0.21588293, 0.65392603, 0.65271786,\n",
              "       0.78242385, 0.6956356 , 0.66286803, 0.51989818, 0.82751072,\n",
              "       0.75398124, 0.70222978, 0.70029831, 0.37088654, 0.17596938,\n",
              "       0.66981105, 0.28491875, 0.32497594, 0.15647607, 0.4668395 ,\n",
              "       0.72024502, 0.67526155, 0.7332644 , 0.73498746, 0.54409277,\n",
              "       0.81300917, 0.91057946, 0.79052082, 0.6692146 , 0.54539594,\n",
              "       0.43429596, 0.61806358, 0.70260974, 0.73966447, 0.8482416 ,\n",
              "       0.21155963, 0.65339899, 0.48396563, 0.24545997, 0.51439585,\n",
              "       0.83982957, 0.74683854, 0.54004914, 0.67105543, 0.28587357,\n",
              "       0.80643819, 0.82016487, 0.86036925, 0.62430674, 0.70976602,\n",
              "       0.52057243, 0.79710888, 0.87167141, 0.8108188 , 0.43062783,\n",
              "       0.80094316, 0.76951216, 0.39893809, 0.77376788, 0.8195775 ,\n",
              "       0.77771093, 0.72221193, 0.26006782, 0.57548063, 0.17809183,\n",
              "       0.52318814, 0.80016883, 0.36224235, 0.88602499, 0.60736015,\n",
              "       0.40598199, 0.62689092, 0.67173189, 0.7234804 , 0.43062783,\n",
              "       0.16077145, 0.39985438, 0.78833031, 0.22293803, 0.7379287 ,\n",
              "       0.19120684, 0.85114233, 0.6709787 , 0.66701403, 0.31394293,\n",
              "       0.20371368, 0.53984463, 0.61766007, 0.71481302, 0.71825312,\n",
              "       0.84247285, 0.82634032, 0.63096055, 0.81560874, 0.84400579,\n",
              "       0.77624717, 0.84005369, 0.72579997, 0.85279253, 0.86261635,\n",
              "       0.81388618, 0.91563092, 0.83776917, 0.61898974, 0.34731366,\n",
              "       0.86741647, 0.68614453, 0.87512257, 0.71448993, 0.69031035,\n",
              "       0.70681681, 0.77442536, 0.85205687, 0.23209224, 0.49796711,\n",
              "       0.51844339, 0.81537333, 0.62346732, 0.49628883, 0.66381684,\n",
              "       0.47283544, 0.3935902 , 0.82348352, 0.80590688, 0.88140948,\n",
              "       0.34963506, 0.78783439, 0.83884034, 0.6960393 , 0.287752  ,\n",
              "       0.15165253, 0.89688713, 0.28489195, 0.69115939, 0.15311251,\n",
              "       0.42681719, 0.67567381, 0.7718446 , 0.68953155, 0.67574867,\n",
              "       0.70249268, 0.13817824, 0.86024529, 0.20725329, 0.80555511,\n",
              "       0.30203422, 0.67459448, 0.84061864, 0.55560671, 0.66965869,\n",
              "       0.79192063, 0.1898747 , 0.1380585 , 0.54890093, 0.17809183,\n",
              "       0.48774747, 0.79691962, 0.17740918, 0.84146605, 0.1637299 ,\n",
              "       0.87412775, 0.15744761, 0.38025847, 0.50257939, 0.81999559,\n",
              "       0.83137984, 0.84183031, 0.89652409, 0.37196282, 0.72885506,\n",
              "       0.18174529, 0.84818426, 0.74416288, 0.85484914, 0.91754375,\n",
              "       0.74461746, 0.25509912, 0.58402184, 0.83118719, 0.77056455,\n",
              "       0.73047113, 0.76491736, 0.61472723, 0.55023551, 0.31060457,\n",
              "       0.81007433, 0.69063165, 0.66605202, 0.7674723 , 0.67726214,\n",
              "       0.5504645 , 0.87542075, 0.81090676, 0.63608145, 0.5607863 ,\n",
              "       0.89122759, 0.82238398, 0.55380274, 0.18425857, 0.55405771,\n",
              "       0.77523053, 0.56298484, 0.2804902 , 0.68301337, 0.67981994,\n",
              "       0.66998142, 0.13696308, 0.73441941, 0.62315163, 0.71613277,\n",
              "       0.59519244, 0.66803592, 0.61945025, 0.49710313, 0.84630884,\n",
              "       0.55490412, 0.22752402, 0.15054962, 0.6817902 , 0.83286524,\n",
              "       0.82491585, 0.80215783, 0.828265  , 0.7815669 , 0.84255959,\n",
              "       0.55690346, 0.739565  , 0.24573962, 0.53398158, 0.84629174,\n",
              "       0.67453811, 0.81969888, 0.62929449, 0.70862375, 0.79335917,\n",
              "       0.55795682, 0.83282144, 0.6203064 , 0.15216448, 0.80471542,\n",
              "       0.89767108, 0.44793232, 0.69439184, 0.89430842, 0.43805012,\n",
              "       0.81063697, 0.45110542, 0.31478571, 0.16764109, 0.83363171,\n",
              "       0.73270857, 0.80671996])"
            ]
          },
          "metadata": {},
          "execution_count": 143
        }
      ]
    },
    {
      "cell_type": "code",
      "source": [
        "new_Y_pred=np.array([1 if i>=0.30 else 0 for i in Y_proba])\n",
        "new_Y_pred"
      ],
      "metadata": {
        "colab": {
          "base_uri": "https://localhost:8080/"
        },
        "id": "27ehuZQ9INd0",
        "outputId": "507237ab-7831-4038-ddfe-3f85de82ce10"
      },
      "execution_count": null,
      "outputs": [
        {
          "output_type": "execute_result",
          "data": {
            "text/plain": [
              "array([1, 1, 1, 0, 1, 1, 1, 1, 0, 1, 1, 1, 1, 1, 1, 1, 1, 1, 1, 1, 0, 0,\n",
              "       1, 1, 0, 1, 1, 1, 1, 1, 1, 1, 1, 0, 1, 1, 1, 1, 1, 0, 1, 1, 1, 1,\n",
              "       1, 1, 0, 0, 1, 1, 1, 1, 1, 0, 0, 1, 0, 1, 1, 1, 1, 1, 0, 1, 1, 1,\n",
              "       1, 1, 1, 1, 1, 1, 1, 1, 1, 1, 1, 1, 1, 1, 1, 1, 1, 1, 1, 1, 1, 1,\n",
              "       1, 0, 1, 1, 1, 0, 1, 0, 1, 1, 0, 1, 1, 1, 1, 1, 0, 1, 1, 1, 1, 1,\n",
              "       1, 1, 1, 1, 1, 1, 1, 1, 0, 1, 1, 1, 1, 1, 0, 1, 1, 1, 1, 1, 1, 1,\n",
              "       1, 1, 1, 1, 1, 1, 1, 1, 1, 1, 0, 1, 1, 1, 1, 1, 1, 1, 1, 1, 1, 1,\n",
              "       1, 1, 1, 1, 1, 1, 1, 1, 1, 1, 1, 1, 1, 1, 1, 1, 1, 1, 0, 1, 1, 1,\n",
              "       1, 1, 1, 1, 1, 1, 1, 1, 0, 1, 0, 1, 0, 1, 1, 1, 1, 1, 1, 1, 1, 1,\n",
              "       1, 1, 1, 1, 1, 1, 1, 0, 1, 1, 0, 1, 1, 1, 1, 1, 0, 1, 1, 1, 1, 1,\n",
              "       1, 1, 1, 1, 1, 1, 1, 1, 1, 1, 1, 1, 0, 1, 0, 1, 1, 1, 1, 1, 1, 1,\n",
              "       1, 1, 1, 0, 1, 1, 0, 1, 0, 1, 1, 1, 1, 0, 1, 1, 1, 1, 1, 1, 1, 1,\n",
              "       1, 1, 1, 1, 1, 1, 1, 1, 1, 1, 1, 1, 1, 1, 1, 1, 1, 1, 1, 0, 1, 1,\n",
              "       1, 1, 1, 1, 1, 1, 1, 1, 1, 1, 1, 1, 1, 0, 0, 1, 0, 1, 0, 1, 1, 1,\n",
              "       1, 1, 1, 0, 1, 0, 1, 1, 1, 1, 1, 1, 1, 0, 0, 1, 0, 1, 1, 0, 1, 0,\n",
              "       1, 0, 1, 1, 1, 1, 1, 1, 1, 1, 0, 1, 1, 1, 1, 1, 0, 1, 1, 1, 1, 1,\n",
              "       1, 1, 1, 1, 1, 1, 1, 1, 1, 1, 1, 1, 1, 1, 1, 1, 0, 1, 1, 1, 0, 1,\n",
              "       1, 1, 0, 1, 1, 1, 1, 1, 1, 1, 1, 1, 0, 0, 1, 1, 1, 1, 1, 1, 1, 1,\n",
              "       1, 0, 1, 1, 1, 1, 1, 1, 1, 1, 1, 1, 0, 1, 1, 1, 1, 1, 1, 1, 1, 1,\n",
              "       0, 1, 1, 1])"
            ]
          },
          "metadata": {},
          "execution_count": 144
        }
      ]
    },
    {
      "cell_type": "code",
      "source": [
        "(Y_test==new_Y_pred).sum()/Y_test.shape[0]"
      ],
      "metadata": {
        "colab": {
          "base_uri": "https://localhost:8080/"
        },
        "id": "EDLw4hFXJE8P",
        "outputId": "971e403e-7206-4ffd-a060-a0fc72413e8c"
      },
      "execution_count": null,
      "outputs": [
        {
          "output_type": "execute_result",
          "data": {
            "text/plain": [
              "0.8080568720379147"
            ]
          },
          "metadata": {},
          "execution_count": 145
        }
      ]
    },
    {
      "cell_type": "code",
      "source": [
        "f1_score(Y_test,new_Y_pred)"
      ],
      "metadata": {
        "colab": {
          "base_uri": "https://localhost:8080/"
        },
        "id": "N7MguVtJIjye",
        "outputId": "c8f3045c-175f-49fc-ed75-34077d5ecd3b"
      },
      "execution_count": null,
      "outputs": [
        {
          "output_type": "execute_result",
          "data": {
            "text/plain": [
              "0.88"
            ]
          },
          "metadata": {},
          "execution_count": 146
        }
      ]
    },
    {
      "cell_type": "code",
      "source": [
        "precision_score(Y_test,new_Y_pred)"
      ],
      "metadata": {
        "colab": {
          "base_uri": "https://localhost:8080/"
        },
        "id": "Iwqlgg3lZ5pT",
        "outputId": "31c56f34-c027-4ab1-e766-4476fd392335"
      },
      "execution_count": null,
      "outputs": [
        {
          "output_type": "execute_result",
          "data": {
            "text/plain": [
              "0.8136986301369863"
            ]
          },
          "metadata": {},
          "execution_count": 147
        }
      ]
    },
    {
      "cell_type": "code",
      "source": [
        "recall_score(Y_test,new_Y_pred)"
      ],
      "metadata": {
        "colab": {
          "base_uri": "https://localhost:8080/"
        },
        "id": "BClBIYa4mUSw",
        "outputId": "a552a583-2505-4295-dae6-e60b53ce080f"
      },
      "execution_count": null,
      "outputs": [
        {
          "output_type": "execute_result",
          "data": {
            "text/plain": [
              "0.9580645161290322"
            ]
          },
          "metadata": {},
          "execution_count": 148
        }
      ]
    },
    {
      "cell_type": "markdown",
      "source": [
        "**So by randomly I took threshold value as 0.30 so that the precison, recall are at optimal levels and maximizing the f1 score and accuracy**"
      ],
      "metadata": {
        "id": "VdFdxN-nIfl5"
      }
    },
    {
      "cell_type": "markdown",
      "source": [
        "##Boosting"
      ],
      "metadata": {
        "id": "di6vUXKEep_n"
      }
    },
    {
      "cell_type": "code",
      "source": [
        "from sklearn.ensemble import GradientBoostingClassifier\n",
        "\n",
        "\n",
        "tree_clf = GradientBoostingClassifier(random_state=7, max_depth = 4, n_estimators= 50, learning_rate = 0.1 )\n",
        "cv_acc_results = cross_validate(tree_clf, X_sm, y_sm, cv = 3, scoring = 'accuracy', return_train_score = True)\n",
        "\n",
        "print(f\"K-Fold Accuracy Mean: Train: {cv_acc_results['train_score'].mean().round(3)*100} Validation: {cv_acc_results['test_score'].mean().round(3)*100}\")\n"
      ],
      "metadata": {
        "colab": {
          "base_uri": "https://localhost:8080/"
        },
        "id": "BuyURgCoX4g6",
        "outputId": "b38aa7c0-1cfa-4c50-d1de-67fe6f3ccaaa"
      },
      "execution_count": null,
      "outputs": [
        {
          "output_type": "stream",
          "name": "stdout",
          "text": [
            "K-Fold Accuracy Mean: Train: 93.7 Validation: 84.39999999999999\n"
          ]
        }
      ]
    },
    {
      "cell_type": "code",
      "source": [
        "import numpy as np \n",
        "import matplotlib.pyplot as plt\n",
        "\n",
        "tree_clf = GradientBoostingClassifier(random_state=7, max_depth = 4, n_estimators= 50, learning_rate = 0.1)\n",
        "tree_clf.fit(X_sm, y_sm)\n",
        "importances = tree_clf.feature_importances_\n",
        "indices = np.argsort(importances)[::-1] # Sort feature importances in descending order\n",
        "names = [X_sm.columns[i] for i in indices] # Rearrange feature names so they match the sorted feature importances\n",
        "plt.figure(figsize=(15, 7)) # Create plot\n",
        "plt.title(\"Feature Importance\") # Create plot title\n",
        "plt.bar(range(X_sm.shape[1]), importances[indices]) # Add bars\n",
        "plt.xticks(range(X_sm.shape[1]), names, rotation=90) # Add feature names as x-axis labels\n",
        "plt.show() "
      ],
      "metadata": {
        "colab": {
          "base_uri": "https://localhost:8080/",
          "height": 615
        },
        "id": "CN9x40GEo2Ea",
        "outputId": "f28f6e05-6e15-4eb8-ad06-06b8cc041356"
      },
      "execution_count": null,
      "outputs": [
        {
          "output_type": "display_data",
          "data": {
            "text/plain": [
              "<Figure size 1080x504 with 1 Axes>"
            ],
            "image/png": "[encoded data removed]"
          },
          "metadata": {
            "needs_background": "light"
          }
        }
      ]
    },
    {
      "cell_type": "code",
      "source": [
        "from sklearn.metrics import f1_score"
      ],
      "metadata": {
        "id": "oMcBmmOja5x9"
      },
      "execution_count": null,
      "outputs": []
    },
    {
      "cell_type": "code",
      "source": [
        "test_y_pred = tree_clf.predict(X_test)\n",
        "test_score = f1_score(Y_test, test_y_pred)"
      ],
      "metadata": {
        "id": "RtYkUem7a5x-"
      },
      "execution_count": null,
      "outputs": []
    },
    {
      "cell_type": "code",
      "source": [
        "test_score"
      ],
      "metadata": {
        "colab": {
          "base_uri": "https://localhost:8080/"
        },
        "outputId": "870b19a7-d7bf-4a3f-d654-be5fdc3bb269",
        "id": "Cnq-ctTHa5x_"
      },
      "execution_count": null,
      "outputs": [
        {
          "output_type": "execute_result",
          "data": {
            "text/plain": [
              "0.8913385826771654"
            ]
          },
          "metadata": {},
          "execution_count": 154
        }
      ]
    },
    {
      "cell_type": "code",
      "source": [
        "from sklearn.metrics import confusion_matrix, classification_report\n",
        "\n",
        "conf_mat = confusion_matrix(Y_test, tree_clf.predict(X_test))\n",
        "print(conf_mat)"
      ],
      "metadata": {
        "colab": {
          "base_uri": "https://localhost:8080/"
        },
        "outputId": "44fc6091-33b1-402d-99b9-7d4838af389b",
        "id": "zz3T4P-pa5yA"
      },
      "execution_count": null,
      "outputs": [
        {
          "output_type": "stream",
          "name": "stdout",
          "text": [
            "[[ 70  42]\n",
            " [ 27 283]]\n"
          ]
        }
      ]
    },
    {
      "cell_type": "code",
      "source": [
        "from sklearn.metrics import confusion_matrix, accuracy_score, precision_score, recall_score , f1_score, plot_confusion_matrix,classification_report"
      ],
      "metadata": {
        "id": "NH91PV4va5yB"
      },
      "execution_count": null,
      "outputs": []
    },
    {
      "cell_type": "code",
      "source": [
        "#Plotting the confusion matrix\n",
        "plt.figure(figsize=(8,8))\n",
        "plot_confusion_matrix(tree_clf,X_test,Y_test)\n",
        "#sns.heatmap(cm_df, annot=True,cmap='coolwarm')\n",
        "plt.title('Confusion Matrix')\n",
        "plt.ylabel('Actal Values')\n",
        "plt.xlabel('Predicted Values')\n",
        "plt.show()"
      ],
      "metadata": {
        "colab": {
          "base_uri": "https://localhost:8080/",
          "height": 312
        },
        "outputId": "159e50dd-8587-4c62-c3a0-888c0486ee94",
        "id": "JYM0fEzsa5yB"
      },
      "execution_count": null,
      "outputs": [
        {
          "output_type": "display_data",
          "data": {
            "text/plain": [
              "<Figure size 576x576 with 0 Axes>"
            ]
          },
          "metadata": {}
        },
        {
          "output_type": "display_data",
          "data": {
            "text/plain": [
              "<Figure size 432x288 with 2 Axes>"
            ],
            "image/png": "[encoded data removed]"
          },
          "metadata": {
            "needs_background": "light"
          }
        }
      ]
    },
    {
      "cell_type": "code",
      "source": [
        "f1_score(Y_test,tree_clf.predict(X_test))"
      ],
      "metadata": {
        "colab": {
          "base_uri": "https://localhost:8080/"
        },
        "outputId": "557cdfef-5867-4b04-b1bc-fba43d1db55d",
        "id": "EGwIYeIha5yC"
      },
      "execution_count": null,
      "outputs": [
        {
          "output_type": "execute_result",
          "data": {
            "text/plain": [
              "0.8913385826771654"
            ]
          },
          "metadata": {},
          "execution_count": 159
        }
      ]
    },
    {
      "cell_type": "code",
      "source": [
        "accuracy_score(Y_test,tree_clf.predict(X_test))"
      ],
      "metadata": {
        "colab": {
          "base_uri": "https://localhost:8080/"
        },
        "outputId": "300ce2fa-4a48-4b56-981d-b05f9e1f3463",
        "id": "F-SYNwt0a5yD"
      },
      "execution_count": null,
      "outputs": [
        {
          "output_type": "execute_result",
          "data": {
            "text/plain": [
              "0.8364928909952607"
            ]
          },
          "metadata": {},
          "execution_count": 160
        }
      ]
    },
    {
      "cell_type": "code",
      "source": [
        "recall_score(Y_test,tree_clf.predict(X_test))"
      ],
      "metadata": {
        "colab": {
          "base_uri": "https://localhost:8080/"
        },
        "outputId": "d4d51f97-b3d3-4bf5-b14a-2024f80225a7",
        "id": "6bkIpgkea5yE"
      },
      "execution_count": null,
      "outputs": [
        {
          "output_type": "execute_result",
          "data": {
            "text/plain": [
              "0.9129032258064517"
            ]
          },
          "metadata": {},
          "execution_count": 161
        }
      ]
    },
    {
      "cell_type": "code",
      "source": [
        "precision_score(Y_test,tree_clf.predict(X_test))"
      ],
      "metadata": {
        "colab": {
          "base_uri": "https://localhost:8080/"
        },
        "outputId": "d26d57b7-8ba7-4fdd-b5ce-bc461da41736",
        "id": "2HMdcyaua5yF"
      },
      "execution_count": null,
      "outputs": [
        {
          "output_type": "execute_result",
          "data": {
            "text/plain": [
              "0.8707692307692307"
            ]
          },
          "metadata": {},
          "execution_count": 162
        }
      ]
    },
    {
      "cell_type": "code",
      "source": [],
      "metadata": {
        "id": "6y5nVy9KNUcD"
      },
      "execution_count": null,
      "outputs": []
    },
    {
      "cell_type": "markdown",
      "source": [
        "##ROC AUC curve"
      ],
      "metadata": {
        "id": "Za-5HGkQrC6f"
      }
    },
    {
      "cell_type": "code",
      "source": [
        "(Y_test==tree_clf.predict(X_test)).sum()/Y_test.shape[0]"
      ],
      "metadata": {
        "colab": {
          "base_uri": "https://localhost:8080/"
        },
        "outputId": "bf9d030a-a283-4b75-ccf3-092d1a148548",
        "id": "JHa72ZcWrC6g"
      },
      "execution_count": null,
      "outputs": [
        {
          "output_type": "execute_result",
          "data": {
            "text/plain": [
              "0.8364928909952607"
            ]
          },
          "metadata": {},
          "execution_count": 163
        }
      ]
    },
    {
      "cell_type": "code",
      "source": [
        "Y_test_pred=tree_clf.predict(X_test)"
      ],
      "metadata": {
        "id": "yr7HZtXzrC6h"
      },
      "execution_count": null,
      "outputs": []
    },
    {
      "cell_type": "code",
      "source": [
        "Y_proba=tree_clf.predict_proba(X_test)[:,1]"
      ],
      "metadata": {
        "id": "PQlm6ctirC6h"
      },
      "execution_count": null,
      "outputs": []
    },
    {
      "cell_type": "code",
      "source": [
        "from sklearn.metrics import roc_curve, roc_auc_score\n",
        "from matplotlib import pyplot as plt"
      ],
      "metadata": {
        "id": "--EFRahgrC6i"
      },
      "execution_count": null,
      "outputs": []
    },
    {
      "cell_type": "code",
      "source": [
        "fpr, tpr, thr = roc_curve(Y_test_pred, Y_proba)"
      ],
      "metadata": {
        "id": "7lEQVOJOrC6j"
      },
      "execution_count": null,
      "outputs": []
    },
    {
      "cell_type": "code",
      "source": [
        "plt.plot(fpr,tpr)\n",
        "plt.title('ROC curve')\n",
        "plt.xlabel('FPR')\n",
        "plt.ylabel('TPR')\n",
        "plt.show()"
      ],
      "metadata": {
        "colab": {
          "base_uri": "https://localhost:8080/",
          "height": 295
        },
        "outputId": "13acc1d7-a488-4376-f627-bd0fa77d6f2e",
        "id": "oEDVn2HKrC6j"
      },
      "execution_count": null,
      "outputs": [
        {
          "output_type": "display_data",
          "data": {
            "text/plain": [
              "<Figure size 432x288 with 1 Axes>"
            ],
            "image/png": "[encoded data removed]"
          },
          "metadata": {
            "needs_background": "light"
          }
        }
      ]
    },
    {
      "cell_type": "code",
      "source": [
        "fpr,tpr,thr"
      ],
      "metadata": {
        "colab": {
          "base_uri": "https://localhost:8080/"
        },
        "outputId": "528dcb8e-37be-4a21-caf8-898f99916858",
        "id": "ydjYimMjrC6k"
      },
      "execution_count": null,
      "outputs": [
        {
          "output_type": "execute_result",
          "data": {
            "text/plain": [
              "(array([0.        , 0.        , 0.        , 0.        , 0.        ,\n",
              "        0.        , 0.        , 0.        , 0.        , 0.        ,\n",
              "        0.        , 0.        , 0.        , 0.        , 0.        ,\n",
              "        0.        , 0.        , 0.        , 0.        , 0.        ,\n",
              "        0.        , 0.35051546, 0.37113402, 1.        ]),\n",
              " array([0.        , 0.00307692, 0.15076923, 0.15692308, 0.30769231,\n",
              "        0.31384615, 0.44      , 0.44615385, 0.49846154, 0.50461538,\n",
              "        0.71384615, 0.72      , 0.72307692, 0.72923077, 0.79384615,\n",
              "        0.8       , 0.82461538, 0.83076923, 0.88923077, 0.89538462,\n",
              "        1.        , 1.        , 1.        , 1.        ]),\n",
              " array([1.97867631, 0.97867631, 0.95019014, 0.94956817, 0.92844959,\n",
              "        0.92738317, 0.9122612 , 0.91074701, 0.89350706, 0.89179899,\n",
              "        0.80742025, 0.80498741, 0.80331167, 0.8032563 , 0.75953507,\n",
              "        0.7558449 , 0.74597084, 0.74501084, 0.67382399, 0.66959334,\n",
              "        0.50015468, 0.30603147, 0.30008626, 0.05842985]))"
            ]
          },
          "metadata": {},
          "execution_count": 171
        }
      ]
    },
    {
      "cell_type": "code",
      "source": [
        "roc_auc_score(Y_test_pred, Y_proba)"
      ],
      "metadata": {
        "colab": {
          "base_uri": "https://localhost:8080/"
        },
        "outputId": "9889a9c3-e07d-4ff9-bcb5-658388379f06",
        "id": "Dq8B_wyIrC6k"
      },
      "execution_count": null,
      "outputs": [
        {
          "output_type": "execute_result",
          "data": {
            "text/plain": [
              "1.0"
            ]
          },
          "metadata": {},
          "execution_count": 172
        }
      ]
    },
    {
      "cell_type": "markdown",
      "source": [
        "##PR AUC Curve"
      ],
      "metadata": {
        "id": "2S3dGotUrC6l"
      }
    },
    {
      "cell_type": "code",
      "source": [
        "from sklearn.metrics import precision_recall_curve\n",
        "from sklearn.metrics import auc"
      ],
      "metadata": {
        "id": "FZC-P3-MrC6l"
      },
      "execution_count": null,
      "outputs": []
    },
    {
      "cell_type": "code",
      "source": [
        "precision, recall, thr = precision_recall_curve(Y_test_pred, Y_proba)"
      ],
      "metadata": {
        "id": "Kw6NcJg6rC6m"
      },
      "execution_count": null,
      "outputs": []
    },
    {
      "cell_type": "code",
      "source": [
        "plt.plot(recall, precision)\n",
        "plt.xlabel('Recall')\n",
        "plt.ylabel('Precision')\n",
        "plt.title('PR curve')\n",
        "plt.show()"
      ],
      "metadata": {
        "colab": {
          "base_uri": "https://localhost:8080/",
          "height": 295
        },
        "outputId": "d69d8ba4-40d1-40cf-fe4b-d64a0d76bf79",
        "id": "PyNpVYF7rC6m"
      },
      "execution_count": null,
      "outputs": [
        {
          "output_type": "display_data",
          "data": {
            "text/plain": [
              "<Figure size 432x288 with 1 Axes>"
            ],
            "image/png": "[encoded data removed]"
          },
          "metadata": {
            "needs_background": "light"
          }
        }
      ]
    },
    {
      "cell_type": "code",
      "source": [
        "auc(recall, precision)"
      ],
      "metadata": {
        "colab": {
          "base_uri": "https://localhost:8080/"
        },
        "outputId": "a8afd52a-140f-480c-fdc6-b925fe79a2ca",
        "id": "Lb-hBWLarC6n"
      },
      "execution_count": null,
      "outputs": [
        {
          "output_type": "execute_result",
          "data": {
            "text/plain": [
              "1.0"
            ]
          },
          "metadata": {},
          "execution_count": 176
        }
      ]
    },
    {
      "cell_type": "code",
      "source": [
        "precision,recall,thr"
      ],
      "metadata": {
        "colab": {
          "base_uri": "https://localhost:8080/"
        },
        "outputId": "cc6a8a75-718d-44c7-890d-afd099a71230",
        "id": "uxyOOo7mrC6o"
      },
      "execution_count": null,
      "outputs": [
        {
          "output_type": "execute_result",
          "data": {
            "text/plain": [
              "(array([1., 1., 1., 1., 1., 1., 1., 1., 1., 1., 1., 1., 1., 1., 1., 1., 1.,\n",
              "        1., 1., 1., 1., 1., 1., 1., 1., 1., 1., 1., 1., 1., 1., 1., 1., 1.,\n",
              "        1., 1., 1., 1., 1., 1., 1., 1., 1., 1., 1., 1., 1., 1., 1., 1., 1.,\n",
              "        1., 1., 1., 1., 1., 1., 1., 1., 1., 1., 1., 1., 1., 1., 1., 1., 1.,\n",
              "        1., 1., 1., 1., 1., 1., 1., 1., 1., 1., 1., 1., 1., 1., 1., 1., 1.,\n",
              "        1., 1., 1., 1., 1., 1., 1., 1., 1., 1., 1., 1., 1., 1., 1., 1., 1.,\n",
              "        1., 1., 1., 1., 1., 1., 1., 1., 1., 1., 1., 1., 1., 1., 1., 1., 1.,\n",
              "        1., 1., 1., 1., 1., 1., 1., 1., 1., 1., 1., 1., 1., 1., 1., 1., 1.,\n",
              "        1., 1., 1., 1., 1., 1., 1., 1., 1., 1., 1., 1., 1., 1., 1., 1., 1.,\n",
              "        1., 1., 1., 1., 1., 1., 1., 1., 1., 1., 1., 1., 1., 1., 1., 1., 1.,\n",
              "        1., 1., 1., 1., 1., 1., 1., 1., 1., 1., 1., 1., 1., 1., 1., 1., 1.,\n",
              "        1., 1., 1., 1., 1., 1., 1., 1., 1., 1., 1., 1., 1., 1., 1., 1., 1.,\n",
              "        1., 1., 1., 1., 1., 1., 1., 1., 1., 1., 1., 1., 1., 1., 1., 1., 1.,\n",
              "        1., 1., 1., 1., 1., 1., 1., 1., 1., 1., 1., 1., 1., 1., 1., 1., 1.,\n",
              "        1., 1., 1., 1., 1., 1., 1., 1., 1., 1., 1., 1., 1., 1., 1., 1., 1.,\n",
              "        1., 1., 1., 1., 1., 1., 1., 1., 1., 1., 1., 1., 1., 1., 1., 1., 1.,\n",
              "        1., 1., 1., 1., 1., 1., 1., 1., 1., 1., 1., 1., 1., 1., 1., 1., 1.,\n",
              "        1., 1., 1., 1., 1., 1., 1., 1., 1., 1., 1., 1., 1., 1., 1., 1., 1.,\n",
              "        1., 1., 1., 1., 1., 1., 1., 1., 1., 1., 1.]),\n",
              " array([1.        , 0.99692308, 0.99384615, 0.99076923, 0.98769231,\n",
              "        0.98461538, 0.98153846, 0.97846154, 0.97538462, 0.97230769,\n",
              "        0.96923077, 0.96615385, 0.96307692, 0.96      , 0.95692308,\n",
              "        0.95384615, 0.95076923, 0.94769231, 0.94461538, 0.94153846,\n",
              "        0.93846154, 0.93538462, 0.93230769, 0.92923077, 0.92615385,\n",
              "        0.92307692, 0.92      , 0.91692308, 0.91384615, 0.91076923,\n",
              "        0.90769231, 0.90461538, 0.90153846, 0.89846154, 0.89538462,\n",
              "        0.88923077, 0.88615385, 0.88307692, 0.88      , 0.87692308,\n",
              "        0.87384615, 0.87076923, 0.86769231, 0.86461538, 0.86153846,\n",
              "        0.85846154, 0.85538462, 0.85230769, 0.84923077, 0.84615385,\n",
              "        0.84307692, 0.84      , 0.83692308, 0.83384615, 0.83076923,\n",
              "        0.82461538, 0.82153846, 0.81846154, 0.81538462, 0.81230769,\n",
              "        0.80923077, 0.80615385, 0.80307692, 0.8       , 0.79384615,\n",
              "        0.79076923, 0.78769231, 0.78461538, 0.78153846, 0.77846154,\n",
              "        0.77538462, 0.77230769, 0.76923077, 0.76615385, 0.76307692,\n",
              "        0.76      , 0.75692308, 0.75384615, 0.75076923, 0.74769231,\n",
              "        0.74461538, 0.74153846, 0.73846154, 0.73538462, 0.73230769,\n",
              "        0.72923077, 0.72307692, 0.72      , 0.71384615, 0.71076923,\n",
              "        0.70769231, 0.70461538, 0.70153846, 0.69846154, 0.69538462,\n",
              "        0.69230769, 0.68923077, 0.68615385, 0.68307692, 0.68      ,\n",
              "        0.67692308, 0.67384615, 0.67076923, 0.66769231, 0.66461538,\n",
              "        0.66153846, 0.65846154, 0.65538462, 0.65230769, 0.64923077,\n",
              "        0.64615385, 0.64307692, 0.64      , 0.63692308, 0.63384615,\n",
              "        0.63076923, 0.62769231, 0.62461538, 0.62153846, 0.61846154,\n",
              "        0.61538462, 0.61230769, 0.60923077, 0.60615385, 0.60307692,\n",
              "        0.6       , 0.59692308, 0.59384615, 0.59076923, 0.58769231,\n",
              "        0.58461538, 0.58153846, 0.57846154, 0.57538462, 0.57230769,\n",
              "        0.56923077, 0.56615385, 0.56307692, 0.56      , 0.55692308,\n",
              "        0.55384615, 0.55076923, 0.54769231, 0.54461538, 0.54153846,\n",
              "        0.53846154, 0.53538462, 0.53230769, 0.52923077, 0.52615385,\n",
              "        0.52307692, 0.52      , 0.51692308, 0.51384615, 0.51076923,\n",
              "        0.50769231, 0.50461538, 0.49846154, 0.49538462, 0.49230769,\n",
              "        0.48923077, 0.48615385, 0.48307692, 0.48      , 0.47692308,\n",
              "        0.47384615, 0.47076923, 0.46769231, 0.46461538, 0.46153846,\n",
              "        0.45846154, 0.45538462, 0.45230769, 0.44923077, 0.44615385,\n",
              "        0.44      , 0.43692308, 0.43384615, 0.43076923, 0.42769231,\n",
              "        0.42461538, 0.42153846, 0.41846154, 0.41538462, 0.41230769,\n",
              "        0.40923077, 0.40615385, 0.40307692, 0.4       , 0.39692308,\n",
              "        0.39384615, 0.39076923, 0.38769231, 0.38461538, 0.38153846,\n",
              "        0.37846154, 0.37538462, 0.37230769, 0.36923077, 0.36615385,\n",
              "        0.36307692, 0.36      , 0.35692308, 0.35384615, 0.35076923,\n",
              "        0.34769231, 0.34461538, 0.34153846, 0.33846154, 0.33538462,\n",
              "        0.33230769, 0.32923077, 0.32615385, 0.32307692, 0.32      ,\n",
              "        0.31692308, 0.31384615, 0.30769231, 0.30461538, 0.30153846,\n",
              "        0.29846154, 0.29538462, 0.29230769, 0.28923077, 0.28615385,\n",
              "        0.28307692, 0.28      , 0.27692308, 0.27384615, 0.27076923,\n",
              "        0.26769231, 0.26461538, 0.26153846, 0.25846154, 0.25538462,\n",
              "        0.25230769, 0.24923077, 0.24615385, 0.24307692, 0.24      ,\n",
              "        0.23692308, 0.23384615, 0.23076923, 0.22769231, 0.22461538,\n",
              "        0.22153846, 0.21846154, 0.21538462, 0.21230769, 0.20923077,\n",
              "        0.20615385, 0.20307692, 0.2       , 0.19692308, 0.19384615,\n",
              "        0.19076923, 0.18769231, 0.18461538, 0.18153846, 0.17846154,\n",
              "        0.17538462, 0.17230769, 0.16923077, 0.16615385, 0.16307692,\n",
              "        0.16      , 0.15692308, 0.15076923, 0.14769231, 0.14461538,\n",
              "        0.14153846, 0.13846154, 0.13538462, 0.13230769, 0.12923077,\n",
              "        0.12615385, 0.12307692, 0.12      , 0.11692308, 0.11384615,\n",
              "        0.11076923, 0.10769231, 0.10461538, 0.10153846, 0.09846154,\n",
              "        0.09538462, 0.09230769, 0.08923077, 0.08615385, 0.08307692,\n",
              "        0.08      , 0.07692308, 0.07384615, 0.07076923, 0.06769231,\n",
              "        0.06461538, 0.06153846, 0.05846154, 0.05538462, 0.05230769,\n",
              "        0.04923077, 0.04615385, 0.04307692, 0.04      , 0.03692308,\n",
              "        0.03384615, 0.03076923, 0.02769231, 0.02461538, 0.02153846,\n",
              "        0.01846154, 0.01538462, 0.01230769, 0.00923077, 0.00615385,\n",
              "        0.00307692, 0.        ]),\n",
              " array([0.50015468, 0.50846284, 0.51082607, 0.54677439, 0.55013723,\n",
              "        0.55320111, 0.56202295, 0.56868642, 0.57121811, 0.5746622 ,\n",
              "        0.57655815, 0.57717752, 0.5785735 , 0.58517293, 0.58856578,\n",
              "        0.59274456, 0.6005843 , 0.60594278, 0.61165195, 0.61369874,\n",
              "        0.61572607, 0.61842297, 0.62197611, 0.62320779, 0.63202273,\n",
              "        0.63208552, 0.6326352 , 0.63507963, 0.6443523 , 0.65490675,\n",
              "        0.66105776, 0.66322651, 0.66610351, 0.66901661, 0.66959334,\n",
              "        0.67382399, 0.68789167, 0.69087532, 0.69201838, 0.69395763,\n",
              "        0.69735137, 0.69888897, 0.705665  , 0.70967757, 0.71065531,\n",
              "        0.71430921, 0.72886873, 0.73277565, 0.73430521, 0.73444974,\n",
              "        0.73595018, 0.73916195, 0.74482387, 0.74491278, 0.74501084,\n",
              "        0.74597084, 0.74724648, 0.74731132, 0.75152095, 0.75274215,\n",
              "        0.75286133, 0.75355323, 0.75410984, 0.7558449 , 0.75953507,\n",
              "        0.76203943, 0.76242232, 0.77254399, 0.77488345, 0.77647144,\n",
              "        0.77861346, 0.78343249, 0.78438621, 0.78453642, 0.78932557,\n",
              "        0.79016702, 0.79230596, 0.79549923, 0.7963326 , 0.79659416,\n",
              "        0.79756987, 0.80185202, 0.80223053, 0.80246163, 0.80313636,\n",
              "        0.8032563 , 0.80331167, 0.80498741, 0.80742025, 0.81117391,\n",
              "        0.81154004, 0.81160035, 0.81364439, 0.81392805, 0.81765456,\n",
              "        0.8181893 , 0.82353505, 0.82457183, 0.82496989, 0.82783477,\n",
              "        0.83217405, 0.83308726, 0.83519196, 0.83535832, 0.83541707,\n",
              "        0.83598261, 0.83817794, 0.83887651, 0.84034843, 0.8439931 ,\n",
              "        0.84455308, 0.84477363, 0.84587559, 0.84598042, 0.84602444,\n",
              "        0.84975077, 0.85181764, 0.85275802, 0.85334407, 0.85377975,\n",
              "        0.85411517, 0.85504493, 0.85592386, 0.85658981, 0.85742491,\n",
              "        0.85839261, 0.8597664 , 0.86142692, 0.86361834, 0.86543739,\n",
              "        0.86826982, 0.86936797, 0.87020471, 0.87045752, 0.87185179,\n",
              "        0.87380786, 0.87409854, 0.87425302, 0.87532169, 0.87770466,\n",
              "        0.87843904, 0.87940488, 0.87986878, 0.88019278, 0.88305684,\n",
              "        0.88309093, 0.88470618, 0.88547104, 0.88629876, 0.88675264,\n",
              "        0.88759078, 0.8879459 , 0.88913636, 0.88961591, 0.89020064,\n",
              "        0.89098681, 0.89179899, 0.89350706, 0.8952108 , 0.89591431,\n",
              "        0.89635033, 0.89658663, 0.89852212, 0.89872955, 0.90057599,\n",
              "        0.90072523, 0.90209571, 0.90211949, 0.90568162, 0.90578783,\n",
              "        0.90593434, 0.90694795, 0.90790145, 0.90878772, 0.91074701,\n",
              "        0.9122612 , 0.9123492 , 0.91255625, 0.91268873, 0.9129246 ,\n",
              "        0.91348592, 0.91431162, 0.91459532, 0.91476603, 0.91486353,\n",
              "        0.91544775, 0.91610877, 0.91623969, 0.91647509, 0.91663341,\n",
              "        0.91694666, 0.91716975, 0.91720923, 0.91847869, 0.91944831,\n",
              "        0.91977108, 0.91991943, 0.92001672, 0.92084239, 0.92086896,\n",
              "        0.92109321, 0.92301901, 0.92324342, 0.92325252, 0.92326388,\n",
              "        0.92340413, 0.92382454, 0.9242967 , 0.92436322, 0.92477492,\n",
              "        0.92478099, 0.92501955, 0.92523576, 0.92545904, 0.92609975,\n",
              "        0.92702382, 0.92738317, 0.92844959, 0.92868872, 0.92874326,\n",
              "        0.9294399 , 0.92946121, 0.92991526, 0.93036394, 0.93110974,\n",
              "        0.93122264, 0.93135668, 0.93157212, 0.93234732, 0.9336074 ,\n",
              "        0.93471463, 0.93537082, 0.93588423, 0.93621621, 0.93627437,\n",
              "        0.93648746, 0.93716962, 0.937694  , 0.93803078, 0.93829146,\n",
              "        0.93928474, 0.93951286, 0.93977697, 0.94101154, 0.94144364,\n",
              "        0.94170862, 0.9420394 , 0.9425467 , 0.94326322, 0.94349902,\n",
              "        0.94360962, 0.94361729, 0.94369224, 0.94379239, 0.944046  ,\n",
              "        0.94500083, 0.94547423, 0.94644057, 0.94689458, 0.94708933,\n",
              "        0.94729338, 0.94740866, 0.94800262, 0.94866881, 0.94887329,\n",
              "        0.94910937, 0.94956817, 0.95019014, 0.95073173, 0.95088047,\n",
              "        0.95160475, 0.95161213, 0.95192097, 0.9524708 , 0.95269254,\n",
              "        0.95322678, 0.95489933, 0.95519706, 0.95553066, 0.9563398 ,\n",
              "        0.95733398, 0.95800446, 0.95813845, 0.95909594, 0.95934174,\n",
              "        0.96188743, 0.96328622, 0.96345913, 0.96356782, 0.96438783,\n",
              "        0.96467995, 0.96498562, 0.96534186, 0.96563178, 0.96563833,\n",
              "        0.96580829, 0.96587413, 0.96649255, 0.96706637, 0.96734627,\n",
              "        0.96814307, 0.96931912, 0.96956238, 0.97075988, 0.97151821,\n",
              "        0.9716805 , 0.97198464, 0.97267919, 0.97333493, 0.97406968,\n",
              "        0.97625051, 0.97674439, 0.97682804, 0.97693391, 0.97773456,\n",
              "        0.97867631]))"
            ]
          },
          "metadata": {},
          "execution_count": 177
        }
      ]
    },
    {
      "cell_type": "code",
      "source": [
        "np.argmax(recall)"
      ],
      "metadata": {
        "colab": {
          "base_uri": "https://localhost:8080/"
        },
        "outputId": "82330281-ac6d-47c1-9309-71b7766886f7",
        "id": "_9_MU5-TrC6o"
      },
      "execution_count": null,
      "outputs": [
        {
          "output_type": "execute_result",
          "data": {
            "text/plain": [
              "0"
            ]
          },
          "metadata": {},
          "execution_count": 178
        }
      ]
    },
    {
      "cell_type": "code",
      "source": [
        "Y_proba"
      ],
      "metadata": {
        "colab": {
          "base_uri": "https://localhost:8080/"
        },
        "outputId": "f260724d-815f-478e-a96f-40ce9d58c86c",
        "id": "9Gn0gzErrC6p"
      },
      "execution_count": null,
      "outputs": [
        {
          "output_type": "execute_result",
          "data": {
            "text/plain": [
              "array([0.94887329, 0.82353505, 0.944046  , 0.10849723, 0.92868872,\n",
              "       0.80498741, 0.23772956, 0.97267919, 0.28331349, 0.81364439,\n",
              "       0.81765456, 0.88305684, 0.61572607, 0.92301901, 0.85742491,\n",
              "       0.92478099, 0.5746622 , 0.83817794, 0.50015468, 0.81392805,\n",
              "       0.093061  , 0.3827253 , 0.69395763, 0.91431162, 0.31641405,\n",
              "       0.9420394 , 0.89635033, 0.93951286, 0.95553066, 0.76203943,\n",
              "       0.77488345, 0.8597664 , 0.96328622, 0.40657381, 0.61369874,\n",
              "       0.77254399, 0.92326388, 0.83519196, 0.69201838, 0.11190472,\n",
              "       0.92523576, 0.81117391, 0.80246163, 0.80498741, 0.55013723,\n",
              "       0.8032563 , 0.19233372, 0.39159986, 0.91074701, 0.87986878,\n",
              "       0.70967757, 0.94910937, 0.12617627, 0.31894267, 0.06457818,\n",
              "       0.78932557, 0.08304679, 0.80331167, 0.73277565, 0.89591431,\n",
              "       0.51082607, 0.63208552, 0.28581506, 0.79756987, 0.61842297,\n",
              "       0.9122612 , 0.93621621, 0.87409854, 0.96534186, 0.19022437,\n",
              "       0.92084239, 0.90209571, 0.97867631, 0.96956238, 0.89179899,\n",
              "       0.95192097, 0.26419699, 0.82783477, 0.84602444, 0.89350706,\n",
              "       0.91610877, 0.95519706, 0.71065531, 0.91663341, 0.57717752,\n",
              "       0.82457183, 0.74501084, 0.83217405, 0.6326352 , 0.05842985,\n",
              "       0.71430921, 0.92477492, 0.7558449 , 0.07974291, 0.8439931 ,\n",
              "       0.08335316, 0.62197611, 0.85839261, 0.19686118, 0.40037546,\n",
              "       0.9294399 , 0.92086896, 0.9242967 , 0.12331178, 0.24729023,\n",
              "       0.94326322, 0.87940488, 0.3791884 , 0.1951201 , 0.86826982,\n",
              "       0.1818236 , 0.66105776, 0.96498562, 0.94379239, 0.37482413,\n",
              "       0.94361729, 0.9336074 , 0.73595018, 0.36751826, 0.83887651,\n",
              "       0.73430521, 0.42038186, 0.88759078, 0.67382399, 0.20287182,\n",
              "       0.8032563 , 0.69735137, 0.85411517, 0.97333493, 0.78453642,\n",
              "       0.87020471, 0.7963326 , 0.17955351, 0.94800262, 0.84034843,\n",
              "       0.94101154, 0.95019014, 0.41774759, 0.96814307, 0.61165195,\n",
              "       0.66610351, 0.73916195, 0.0794774 , 0.9129246 , 0.87532169,\n",
              "       0.92738317, 0.3778314 , 0.33115668, 0.95073173, 0.94349902,\n",
              "       0.33674458, 0.93110974, 0.86543739, 0.87843904, 0.90694795,\n",
              "       0.92545904, 0.91348592, 0.93588423, 0.91255625, 0.17660598,\n",
              "       0.95909594, 0.25014687, 0.91694666, 0.84598042, 0.85377975,\n",
              "       0.46165206, 0.50846284, 0.9123492 , 0.86936797, 0.92874326,\n",
              "       0.94866881, 0.90211949, 0.28921037, 0.85592386, 0.75410984,\n",
              "       0.94170862, 0.90057599, 0.75355323, 0.55320111, 0.97625051,\n",
              "       0.48363461, 0.87380786, 0.90578783, 0.56202295, 0.24348782,\n",
              "       0.89020064, 0.19796934, 0.11176572, 0.22470347, 0.54677439,\n",
              "       0.93977697, 0.96649255, 0.85334407, 0.75274215, 0.83541707,\n",
              "       0.88629876, 0.96587413, 0.91991943, 0.79016702, 0.8181893 ,\n",
              "       0.79230596, 0.34768533, 0.85504493, 0.91544775, 0.95934174,\n",
              "       0.33208136, 0.44216845, 0.56868642, 0.08854536, 0.84587559,\n",
              "       0.92325252, 0.89852212, 0.85658981, 0.86142692, 0.5785735 ,\n",
              "       0.93803078, 0.93627437, 0.96188743, 0.91623969, 0.88547104,\n",
              "       0.80223053, 0.93122264, 0.91486353, 0.94729338, 0.63507963,\n",
              "       0.94956817, 0.93716962, 0.66959334, 0.88675264, 0.94708933,\n",
              "       0.83598261, 0.93234732, 0.0612763 , 0.81160035, 0.30008626,\n",
              "       0.84455308, 0.93928474, 0.28379341, 0.96706637, 0.77861346,\n",
              "       0.12604768, 0.73444974, 0.81154004, 0.85181764, 0.59274456,\n",
              "       0.19626715, 0.66959334, 0.93135668, 0.42490104, 0.4632221 ,\n",
              "       0.30603147, 0.94644057, 0.97406968, 0.87425302, 0.2418623 ,\n",
              "       0.30907306, 0.78343249, 0.74724648, 0.89098681, 0.92324342,\n",
              "       0.92436322, 0.97151821, 0.84975077, 0.96345913, 0.92001672,\n",
              "       0.89179899, 0.96563178, 0.92109321, 0.96438783, 0.95161213,\n",
              "       0.9524708 , 0.97075988, 0.90593434, 0.74482387, 0.20020089,\n",
              "       0.95489933, 0.92609975, 0.96931912, 0.69087532, 0.91476603,\n",
              "       0.91977108, 0.78438621, 0.9716805 , 0.07036887, 0.74731132,\n",
              "       0.65490675, 0.9425467 , 0.74491278, 0.57121811, 0.76242232,\n",
              "       0.4834959 , 0.66322651, 0.93157212, 0.94956817, 0.97198464,\n",
              "       0.13454674, 0.93829146, 0.96563833, 0.88019278, 0.28132979,\n",
              "       0.12928081, 0.94369224, 0.32017731, 0.82496989, 0.19009543,\n",
              "       0.36675708, 0.91720923, 0.85275802, 0.75152095, 0.83535832,\n",
              "       0.83308726, 0.11968615, 0.97674439, 0.12769115, 0.92991526,\n",
              "       0.49768522, 0.91074701, 0.95813845, 0.66901661, 0.88913636,\n",
              "       0.92382454, 0.15497419, 0.09324106, 0.45729323, 0.30008626,\n",
              "       0.46112953, 0.92738317, 0.08834543, 0.96580829, 0.11565118,\n",
              "       0.937694  , 0.31532404, 0.4458522 , 0.6005843 , 0.92340413,\n",
              "       0.8952108 , 0.84477363, 0.9563398 , 0.39691827, 0.88470618,\n",
              "       0.28426968, 0.95160475, 0.93471463, 0.87770466, 0.97693391,\n",
              "       0.92702382, 0.25758961, 0.75286133, 0.96734627, 0.92844959,\n",
              "       0.86361834, 0.91268873, 0.75953507, 0.88309093, 0.442683  ,\n",
              "       0.93648746, 0.91647509, 0.94740866, 0.90790145, 0.79549923,\n",
              "       0.62320779, 0.97773456, 0.95269254, 0.80742025, 0.6443523 ,\n",
              "       0.94689458, 0.94500083, 0.87185179, 0.26721931, 0.58856578,\n",
              "       0.89658663, 0.68789167, 0.1244071 , 0.91847869, 0.90568162,\n",
              "       0.80185202, 0.09431612, 0.88961591, 0.74501084, 0.97682804,\n",
              "       0.74597084, 0.8879459 , 0.7558449 , 0.58517293, 0.92946121,\n",
              "       0.77647144, 0.27753805, 0.22897322, 0.91716975, 0.95733398,\n",
              "       0.95088047, 0.93036394, 0.95322678, 0.92501955, 0.69888897,\n",
              "       0.72886873, 0.80313636, 0.27663485, 0.79659416, 0.93537082,\n",
              "       0.57655815, 0.96356782, 0.705665  , 0.63202273, 0.90878772,\n",
              "       0.3886663 , 0.96467995, 0.91944831, 0.07594499, 0.94547423,\n",
              "       0.95800446, 0.169832  , 0.87045752, 0.91459532, 0.18361445,\n",
              "       0.94360962, 0.60594278, 0.29965817, 0.10229762, 0.94144364,\n",
              "       0.89872955, 0.90072523])"
            ]
          },
          "metadata": {},
          "execution_count": 179
        }
      ]
    },
    {
      "cell_type": "code",
      "source": [
        "new_Y_pred=np.array([1 if i>=.5 else 0 for i in Y_proba])\n",
        "new_Y_pred"
      ],
      "metadata": {
        "colab": {
          "base_uri": "https://localhost:8080/"
        },
        "outputId": "157ae3e3-a882-4af7-d137-253ed878345b",
        "id": "CrlVL3TBrC6q"
      },
      "execution_count": null,
      "outputs": [
        {
          "output_type": "execute_result",
          "data": {
            "text/plain": [
              "array([1, 1, 1, 0, 1, 1, 0, 1, 0, 1, 1, 1, 1, 1, 1, 1, 1, 1, 1, 1, 0, 0,\n",
              "       1, 1, 0, 1, 1, 1, 1, 1, 1, 1, 1, 0, 1, 1, 1, 1, 1, 0, 1, 1, 1, 1,\n",
              "       1, 1, 0, 0, 1, 1, 1, 1, 0, 0, 0, 1, 0, 1, 1, 1, 1, 1, 0, 1, 1, 1,\n",
              "       1, 1, 1, 0, 1, 1, 1, 1, 1, 1, 0, 1, 1, 1, 1, 1, 1, 1, 1, 1, 1, 1,\n",
              "       1, 0, 1, 1, 1, 0, 1, 0, 1, 1, 0, 0, 1, 1, 1, 0, 0, 1, 1, 0, 0, 1,\n",
              "       0, 1, 1, 1, 0, 1, 1, 1, 0, 1, 1, 0, 1, 1, 0, 1, 1, 1, 1, 1, 1, 1,\n",
              "       0, 1, 1, 1, 1, 0, 1, 1, 1, 1, 0, 1, 1, 1, 0, 0, 1, 1, 0, 1, 1, 1,\n",
              "       1, 1, 1, 1, 1, 0, 1, 0, 1, 1, 1, 0, 1, 1, 1, 1, 1, 1, 0, 1, 1, 1,\n",
              "       1, 1, 1, 1, 0, 1, 1, 1, 0, 1, 0, 0, 0, 1, 1, 1, 1, 1, 1, 1, 1, 1,\n",
              "       1, 1, 1, 0, 1, 1, 1, 0, 0, 1, 0, 1, 1, 1, 1, 1, 1, 1, 1, 1, 1, 1,\n",
              "       1, 1, 1, 1, 1, 1, 1, 1, 1, 1, 1, 1, 0, 1, 0, 1, 1, 0, 1, 1, 0, 1,\n",
              "       1, 1, 1, 0, 1, 1, 0, 0, 0, 1, 1, 1, 0, 0, 1, 1, 1, 1, 1, 1, 1, 1,\n",
              "       1, 1, 1, 1, 1, 1, 1, 1, 1, 1, 0, 1, 1, 1, 1, 1, 1, 1, 1, 0, 1, 1,\n",
              "       1, 1, 1, 1, 0, 1, 1, 1, 1, 0, 1, 1, 1, 0, 0, 1, 0, 1, 0, 0, 1, 1,\n",
              "       1, 1, 1, 0, 1, 0, 1, 0, 1, 1, 1, 1, 1, 0, 0, 0, 0, 0, 1, 0, 1, 0,\n",
              "       1, 0, 0, 1, 1, 1, 1, 1, 0, 1, 0, 1, 1, 1, 1, 1, 0, 1, 1, 1, 1, 1,\n",
              "       1, 1, 0, 1, 1, 1, 1, 1, 1, 1, 1, 1, 1, 1, 1, 1, 0, 1, 1, 1, 0, 1,\n",
              "       1, 1, 0, 1, 1, 1, 1, 1, 1, 1, 1, 1, 0, 0, 1, 1, 1, 1, 1, 1, 1, 1,\n",
              "       1, 0, 1, 1, 1, 1, 1, 1, 1, 0, 1, 1, 0, 1, 1, 0, 1, 1, 0, 1, 1, 0,\n",
              "       0, 1, 1, 1])"
            ]
          },
          "metadata": {},
          "execution_count": 241
        }
      ]
    },
    {
      "cell_type": "code",
      "source": [
        "(Y_test==new_Y_pred).sum()/Y_test.shape[0]"
      ],
      "metadata": {
        "colab": {
          "base_uri": "https://localhost:8080/"
        },
        "outputId": "285a41da-1343-4c17-b73d-9cdaac2fffa4",
        "id": "Uvr0Q-usrC6r"
      },
      "execution_count": null,
      "outputs": [
        {
          "output_type": "execute_result",
          "data": {
            "text/plain": [
              "0.8364928909952607"
            ]
          },
          "metadata": {},
          "execution_count": 242
        }
      ]
    },
    {
      "cell_type": "code",
      "source": [
        "f1_score(Y_test,new_Y_pred)"
      ],
      "metadata": {
        "colab": {
          "base_uri": "https://localhost:8080/"
        },
        "outputId": "eea60561-3ecf-4380-c1c9-cead4677a2d9",
        "id": "dYUpNVIOrC6s"
      },
      "execution_count": null,
      "outputs": [
        {
          "output_type": "execute_result",
          "data": {
            "text/plain": [
              "0.8913385826771654"
            ]
          },
          "metadata": {},
          "execution_count": 243
        }
      ]
    },
    {
      "cell_type": "code",
      "source": [
        "precision_score(Y_test,new_Y_pred)"
      ],
      "metadata": {
        "colab": {
          "base_uri": "https://localhost:8080/"
        },
        "outputId": "965bc42b-b201-4a02-afd0-6cf7edf722d1",
        "id": "NVxdDrmxrC6t"
      },
      "execution_count": null,
      "outputs": [
        {
          "output_type": "execute_result",
          "data": {
            "text/plain": [
              "0.8707692307692307"
            ]
          },
          "metadata": {},
          "execution_count": 244
        }
      ]
    },
    {
      "cell_type": "code",
      "source": [
        "recall_score(Y_test,new_Y_pred)"
      ],
      "metadata": {
        "colab": {
          "base_uri": "https://localhost:8080/"
        },
        "outputId": "4a1cf058-71b2-42bf-a742-84e74b64aed1",
        "id": "tC12uMJDrC6t"
      },
      "execution_count": null,
      "outputs": [
        {
          "output_type": "execute_result",
          "data": {
            "text/plain": [
              "0.9129032258064517"
            ]
          },
          "metadata": {},
          "execution_count": 245
        }
      ]
    },
    {
      "cell_type": "markdown",
      "source": [
        "**So by randomly I took threshold value as 0.5 so that the precison, recall are at optimal levels and maximizing the f1 score and accuracy**"
      ],
      "metadata": {
        "id": "ysUQzYnJrC6u"
      }
    },
    {
      "cell_type": "markdown",
      "source": [
        "#Insights and Recommendations"
      ],
      "metadata": {
        "id": "FV_uhEk3vBQ7"
      }
    },
    {
      "cell_type": "markdown",
      "source": [
        "Insights and Recommendations\n",
        "\n",
        "1. Recall is high and almost we are identifying the persons who are leaving\n",
        "2. Precision has come slightly low value which indicates need to fine tuned with some other hyperparameters or changing threshold.\n",
        "3. Boosting algorithm has better performance compared to Bagging\n",
        "4. Among all the features like Quarterly rating now, designation joined, Experience have high effect on attrition rate.\n",
        "5. The f1_score is highest for the threshold value at 0.5 in Boosting algorithm considering the precision also to be high.\n",
        "6. Whoever joined in grade 1 and currently under grade 1, are the ones who leaving the company.\n",
        "7. Whoever not received quarterly increment, their churn chances are more.\n",
        "\n",
        "\n",
        "1. In order to reduce false positives (not to predict staying persons as leaving, threshold has to be increased further)\n",
        "2. No.of rides and duration or working  hours will be helpful as it collectively gives information the earnings per ride."
      ],
      "metadata": {
        "id": "Ult2xtTVtzWc"
      }
    },
    {
      "cell_type": "code",
      "source": [],
      "metadata": {
        "id": "kz5vDf7AcbG_"
      },
      "execution_count": null,
      "outputs": []
    }
  ]
}